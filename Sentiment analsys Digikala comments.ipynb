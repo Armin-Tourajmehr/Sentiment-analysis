{
  "cells": [
    {
      "cell_type": "markdown",
      "metadata": {
        "id": "36VZpgXnI73o"
      },
      "source": [
        "# **Import libraries**"
      ]
    },
    {
      "cell_type": "markdown",
      "source": [
        "**Install some libaries**"
      ],
      "metadata": {
        "id": "UKAnMXAJ1Wbh"
      }
    },
    {
      "cell_type": "code",
      "source": [
        "! pip install arabic-reshaper\n",
        "! pip install python-bidi"
      ],
      "metadata": {
        "colab": {
          "base_uri": "https://localhost:8080/"
        },
        "outputId": "82787d6f-7280-4d56-b36a-c9f8795d5add",
        "id": "3aDKiZ36z9ez"
      },
      "execution_count": null,
      "outputs": [
        {
          "output_type": "stream",
          "name": "stdout",
          "text": [
            "Requirement already satisfied: arabic-reshaper in /usr/local/lib/python3.10/dist-packages (3.0.0)\n",
            "Requirement already satisfied: python-bidi in /usr/local/lib/python3.10/dist-packages (0.6.3)\n"
          ]
        }
      ]
    },
    {
      "cell_type": "code",
      "execution_count": null,
      "metadata": {
        "colab": {
          "base_uri": "https://localhost:8080/",
          "height": 984
        },
        "collapsed": true,
        "id": "hYU9K2PQykKp",
        "outputId": "3603cdb7-7ff4-4f0f-cbf6-cef24271931d"
      },
      "outputs": [
        {
          "output_type": "stream",
          "name": "stdout",
          "text": [
            "Collecting hazm\n",
            "  Downloading hazm-0.10.0-py3-none-any.whl.metadata (11 kB)\n",
            "Collecting fasttext-wheel<0.10.0,>=0.9.2 (from hazm)\n",
            "  Downloading fasttext_wheel-0.9.2-cp310-cp310-manylinux_2_17_x86_64.manylinux2014_x86_64.whl.metadata (16 kB)\n",
            "Collecting flashtext<3.0,>=2.7 (from hazm)\n",
            "  Downloading flashtext-2.7.tar.gz (14 kB)\n",
            "  Preparing metadata (setup.py) ... \u001b[?25l\u001b[?25hdone\n",
            "Requirement already satisfied: gensim<5.0.0,>=4.3.1 in /usr/local/lib/python3.10/dist-packages (from hazm) (4.3.3)\n",
            "Requirement already satisfied: nltk<4.0.0,>=3.8.1 in /usr/local/lib/python3.10/dist-packages (from hazm) (3.9.1)\n",
            "Collecting numpy==1.24.3 (from hazm)\n",
            "  Downloading numpy-1.24.3-cp310-cp310-manylinux_2_17_x86_64.manylinux2014_x86_64.whl.metadata (5.6 kB)\n",
            "Collecting python-crfsuite<0.10.0,>=0.9.9 (from hazm)\n",
            "  Downloading python_crfsuite-0.9.11-cp310-cp310-manylinux_2_17_x86_64.manylinux2014_x86_64.whl.metadata (4.3 kB)\n",
            "Requirement already satisfied: scikit-learn<2.0.0,>=1.2.2 in /usr/local/lib/python3.10/dist-packages (from hazm) (1.5.2)\n",
            "Collecting pybind11>=2.2 (from fasttext-wheel<0.10.0,>=0.9.2->hazm)\n",
            "  Downloading pybind11-2.13.6-py3-none-any.whl.metadata (9.5 kB)\n",
            "Requirement already satisfied: setuptools>=0.7.0 in /usr/local/lib/python3.10/dist-packages (from fasttext-wheel<0.10.0,>=0.9.2->hazm) (75.1.0)\n",
            "Requirement already satisfied: scipy<1.14.0,>=1.7.0 in /usr/local/lib/python3.10/dist-packages (from gensim<5.0.0,>=4.3.1->hazm) (1.13.1)\n",
            "Requirement already satisfied: smart-open>=1.8.1 in /usr/local/lib/python3.10/dist-packages (from gensim<5.0.0,>=4.3.1->hazm) (7.0.5)\n",
            "Requirement already satisfied: click in /usr/local/lib/python3.10/dist-packages (from nltk<4.0.0,>=3.8.1->hazm) (8.1.7)\n",
            "Requirement already satisfied: joblib in /usr/local/lib/python3.10/dist-packages (from nltk<4.0.0,>=3.8.1->hazm) (1.4.2)\n",
            "Requirement already satisfied: regex>=2021.8.3 in /usr/local/lib/python3.10/dist-packages (from nltk<4.0.0,>=3.8.1->hazm) (2024.9.11)\n",
            "Requirement already satisfied: tqdm in /usr/local/lib/python3.10/dist-packages (from nltk<4.0.0,>=3.8.1->hazm) (4.66.6)\n",
            "Requirement already satisfied: threadpoolctl>=3.1.0 in /usr/local/lib/python3.10/dist-packages (from scikit-learn<2.0.0,>=1.2.2->hazm) (3.5.0)\n",
            "Requirement already satisfied: wrapt in /usr/local/lib/python3.10/dist-packages (from smart-open>=1.8.1->gensim<5.0.0,>=4.3.1->hazm) (1.16.0)\n",
            "Downloading hazm-0.10.0-py3-none-any.whl (892 kB)\n",
            "\u001b[2K   \u001b[90m━━━━━━━━━━━━━━━━━━━━━━━━━━━━━━━━━━━━━━━━\u001b[0m \u001b[32m892.6/892.6 kB\u001b[0m \u001b[31m11.4 MB/s\u001b[0m eta \u001b[36m0:00:00\u001b[0m\n",
            "\u001b[?25hDownloading numpy-1.24.3-cp310-cp310-manylinux_2_17_x86_64.manylinux2014_x86_64.whl (17.3 MB)\n",
            "\u001b[2K   \u001b[90m━━━━━━━━━━━━━━━━━━━━━━━━━━━━━━━━━━━━━━━━\u001b[0m \u001b[32m17.3/17.3 MB\u001b[0m \u001b[31m85.0 MB/s\u001b[0m eta \u001b[36m0:00:00\u001b[0m\n",
            "\u001b[?25hDownloading fasttext_wheel-0.9.2-cp310-cp310-manylinux_2_17_x86_64.manylinux2014_x86_64.whl (4.4 MB)\n",
            "\u001b[2K   \u001b[90m━━━━━━━━━━━━━━━━━━━━━━━━━━━━━━━━━━━━━━━━\u001b[0m \u001b[32m4.4/4.4 MB\u001b[0m \u001b[31m79.3 MB/s\u001b[0m eta \u001b[36m0:00:00\u001b[0m\n",
            "\u001b[?25hDownloading python_crfsuite-0.9.11-cp310-cp310-manylinux_2_17_x86_64.manylinux2014_x86_64.whl (1.2 MB)\n",
            "\u001b[2K   \u001b[90m━━━━━━━━━━━━━━━━━━━━━━━━━━━━━━━━━━━━━━━━\u001b[0m \u001b[32m1.2/1.2 MB\u001b[0m \u001b[31m53.1 MB/s\u001b[0m eta \u001b[36m0:00:00\u001b[0m\n",
            "\u001b[?25hDownloading pybind11-2.13.6-py3-none-any.whl (243 kB)\n",
            "\u001b[2K   \u001b[90m━━━━━━━━━━━━━━━━━━━━━━━━━━━━━━━━━━━━━━━━\u001b[0m \u001b[32m243.3/243.3 kB\u001b[0m \u001b[31m16.9 MB/s\u001b[0m eta \u001b[36m0:00:00\u001b[0m\n",
            "\u001b[?25hBuilding wheels for collected packages: flashtext\n",
            "  Building wheel for flashtext (setup.py) ... \u001b[?25l\u001b[?25hdone\n",
            "  Created wheel for flashtext: filename=flashtext-2.7-py2.py3-none-any.whl size=9298 sha256=ad07d1ae6e977a516203c724c3ab7ba6faa802c274618160f53b5784b59de3db\n",
            "  Stored in directory: /root/.cache/pip/wheels/bc/be/39/c37ad168eb2ff644c9685f52554440372129450f0b8ed203dd\n",
            "Successfully built flashtext\n",
            "Installing collected packages: flashtext, python-crfsuite, pybind11, numpy, fasttext-wheel, hazm\n",
            "  Attempting uninstall: numpy\n",
            "    Found existing installation: numpy 1.26.4\n",
            "    Uninstalling numpy-1.26.4:\n",
            "      Successfully uninstalled numpy-1.26.4\n",
            "\u001b[31mERROR: pip's dependency resolver does not currently take into account all the packages that are installed. This behaviour is the source of the following dependency conflicts.\n",
            "albucore 0.0.19 requires numpy>=1.24.4, but you have numpy 1.24.3 which is incompatible.\n",
            "albumentations 1.4.20 requires numpy>=1.24.4, but you have numpy 1.24.3 which is incompatible.\u001b[0m\u001b[31m\n",
            "\u001b[0mSuccessfully installed fasttext-wheel-0.9.2 flashtext-2.7 hazm-0.10.0 numpy-1.24.3 pybind11-2.13.6 python-crfsuite-0.9.11\n"
          ]
        },
        {
          "output_type": "display_data",
          "data": {
            "application/vnd.colab-display-data+json": {
              "pip_warning": {
                "packages": [
                  "numpy"
                ]
              },
              "id": "fce62db25255423e8e9c022b636197bd"
            }
          },
          "metadata": {}
        }
      ],
      "source": [
        "# Install Hazm\n",
        "! pip install hazm"
      ]
    },
    {
      "cell_type": "code",
      "execution_count": null,
      "metadata": {
        "colab": {
          "base_uri": "https://localhost:8080/"
        },
        "id": "8dYKt7tHrYJc",
        "outputId": "a09b326f-b811-441f-bb59-d44a4ec2d883"
      },
      "outputs": [
        {
          "output_type": "stream",
          "name": "stdout",
          "text": [
            "Collecting huggingface\n",
            "  Downloading huggingface-0.0.1-py3-none-any.whl.metadata (2.9 kB)\n",
            "Downloading huggingface-0.0.1-py3-none-any.whl (2.5 kB)\n",
            "Installing collected packages: huggingface\n",
            "Successfully installed huggingface-0.0.1\n"
          ]
        }
      ],
      "source": [
        "! pip install huggingface"
      ]
    },
    {
      "cell_type": "markdown",
      "source": [
        "<font color='skyblie' size='4px'>**Kaggle**</font> **should be downloaded**"
      ],
      "metadata": {
        "id": "banvXdQIwnPe"
      }
    },
    {
      "cell_type": "code",
      "execution_count": null,
      "metadata": {
        "colab": {
          "base_uri": "https://localhost:8080/"
        },
        "id": "4vTQHFHGrleu",
        "outputId": "5b4dcd21-ff37-4fae-8c1f-afe4d27717c1"
      },
      "outputs": [
        {
          "name": "stdout",
          "output_type": "stream",
          "text": [
            "Requirement already satisfied: kaggle in /usr/local/lib/python3.10/dist-packages (1.6.17)\n",
            "Requirement already satisfied: six>=1.10 in /usr/local/lib/python3.10/dist-packages (from kaggle) (1.16.0)\n",
            "Requirement already satisfied: certifi>=2023.7.22 in /usr/local/lib/python3.10/dist-packages (from kaggle) (2024.8.30)\n",
            "Requirement already satisfied: python-dateutil in /usr/local/lib/python3.10/dist-packages (from kaggle) (2.8.2)\n",
            "Requirement already satisfied: requests in /usr/local/lib/python3.10/dist-packages (from kaggle) (2.32.3)\n",
            "Requirement already satisfied: tqdm in /usr/local/lib/python3.10/dist-packages (from kaggle) (4.66.6)\n",
            "Requirement already satisfied: python-slugify in /usr/local/lib/python3.10/dist-packages (from kaggle) (8.0.4)\n",
            "Requirement already satisfied: urllib3 in /usr/local/lib/python3.10/dist-packages (from kaggle) (2.2.3)\n",
            "Requirement already satisfied: bleach in /usr/local/lib/python3.10/dist-packages (from kaggle) (6.2.0)\n",
            "Requirement already satisfied: webencodings in /usr/local/lib/python3.10/dist-packages (from bleach->kaggle) (0.5.1)\n",
            "Requirement already satisfied: text-unidecode>=1.3 in /usr/local/lib/python3.10/dist-packages (from python-slugify->kaggle) (1.3)\n",
            "Requirement already satisfied: charset-normalizer<4,>=2 in /usr/local/lib/python3.10/dist-packages (from requests->kaggle) (3.4.0)\n",
            "Requirement already satisfied: idna<4,>=2.5 in /usr/local/lib/python3.10/dist-packages (from requests->kaggle) (3.10)\n"
          ]
        }
      ],
      "source": [
        "# ! pip install kaggle"
      ]
    },
    {
      "cell_type": "code",
      "execution_count": null,
      "metadata": {
        "id": "1KbXkZW3rC9b"
      },
      "outputs": [],
      "source": [
        "import pandas as pd\n",
        "import numpy as np\n",
        "import matplotlib.pyplot as plt\n",
        "import seaborn as sns\n",
        "import plotly.express as px\n",
        "import re\n",
        "import warnings\n",
        "warnings.filterwarnings('ignore')\n",
        "import torch\n",
        "from bidi.algorithm import get_display\n",
        "from arabic_reshaper import reshape\n",
        "from sklearn.feature_extraction.text import TfidfVectorizer, CountVectorizer\n",
        "from sklearn.model_selection import train_test_split\n",
        "from sklearn.metrics import classification_report, confusion_matrix\n",
        "from sklearn.linear_model import LogisticRegression\n",
        "from sklearn.ensemble import RandomForestClassifier\n",
        "from sklearn.naive_bayes import MultinomialNB\n",
        "from gensim.models import FastText, Word2Vec\n",
        "from sklearn.preprocessing import MinMaxScaler\n",
        "from xgboost import XGBClassifier\n",
        "from hazm import *\n",
        "import huggingface\n",
        "from collections import Counter\n",
        "import torch\n",
        "from torch.utils.data import Dataset, DataLoader\n",
        "from torch.nn.utils.rnn import pad_sequence\n",
        "import torch.nn as nn\n",
        "from huggingface_hub import hf_hub_download\n",
        "import fasttext\n",
        "from tqdm import tqdm\n",
        "from sklearn.metrics import accuracy_score, classification_report, confusion_matrix\n",
        "from sklearn.preprocessing import LabelEncoder\n",
        "from transformers import get_linear_schedule_with_warmup\n",
        "from transformers import BertConfig, BertTokenizer, BertModel, AdamW"
      ]
    },
    {
      "cell_type": "markdown",
      "source": [
        "**Kaggle.json must be donwloaded**"
      ],
      "metadata": {
        "id": "9H2tpCr_xFHZ"
      }
    },
    {
      "cell_type": "code",
      "execution_count": null,
      "metadata": {
        "colab": {
          "base_uri": "https://localhost:8080/",
          "height": 90
        },
        "id": "bjb82oqDrvDM",
        "outputId": "91356925-23e5-498c-a020-d849a2329dea"
      },
      "outputs": [
        {
          "output_type": "display_data",
          "data": {
            "text/plain": [
              "<IPython.core.display.HTML object>"
            ],
            "text/html": [
              "\n",
              "     <input type=\"file\" id=\"files-8f224368-f094-4268-9bec-0544b89a7b86\" name=\"files[]\" multiple disabled\n",
              "        style=\"border:none\" />\n",
              "     <output id=\"result-8f224368-f094-4268-9bec-0544b89a7b86\">\n",
              "      Upload widget is only available when the cell has been executed in the\n",
              "      current browser session. Please rerun this cell to enable.\n",
              "      </output>\n",
              "      <script>// Copyright 2017 Google LLC\n",
              "//\n",
              "// Licensed under the Apache License, Version 2.0 (the \"License\");\n",
              "// you may not use this file except in compliance with the License.\n",
              "// You may obtain a copy of the License at\n",
              "//\n",
              "//      http://www.apache.org/licenses/LICENSE-2.0\n",
              "//\n",
              "// Unless required by applicable law or agreed to in writing, software\n",
              "// distributed under the License is distributed on an \"AS IS\" BASIS,\n",
              "// WITHOUT WARRANTIES OR CONDITIONS OF ANY KIND, either express or implied.\n",
              "// See the License for the specific language governing permissions and\n",
              "// limitations under the License.\n",
              "\n",
              "/**\n",
              " * @fileoverview Helpers for google.colab Python module.\n",
              " */\n",
              "(function(scope) {\n",
              "function span(text, styleAttributes = {}) {\n",
              "  const element = document.createElement('span');\n",
              "  element.textContent = text;\n",
              "  for (const key of Object.keys(styleAttributes)) {\n",
              "    element.style[key] = styleAttributes[key];\n",
              "  }\n",
              "  return element;\n",
              "}\n",
              "\n",
              "// Max number of bytes which will be uploaded at a time.\n",
              "const MAX_PAYLOAD_SIZE = 100 * 1024;\n",
              "\n",
              "function _uploadFiles(inputId, outputId) {\n",
              "  const steps = uploadFilesStep(inputId, outputId);\n",
              "  const outputElement = document.getElementById(outputId);\n",
              "  // Cache steps on the outputElement to make it available for the next call\n",
              "  // to uploadFilesContinue from Python.\n",
              "  outputElement.steps = steps;\n",
              "\n",
              "  return _uploadFilesContinue(outputId);\n",
              "}\n",
              "\n",
              "// This is roughly an async generator (not supported in the browser yet),\n",
              "// where there are multiple asynchronous steps and the Python side is going\n",
              "// to poll for completion of each step.\n",
              "// This uses a Promise to block the python side on completion of each step,\n",
              "// then passes the result of the previous step as the input to the next step.\n",
              "function _uploadFilesContinue(outputId) {\n",
              "  const outputElement = document.getElementById(outputId);\n",
              "  const steps = outputElement.steps;\n",
              "\n",
              "  const next = steps.next(outputElement.lastPromiseValue);\n",
              "  return Promise.resolve(next.value.promise).then((value) => {\n",
              "    // Cache the last promise value to make it available to the next\n",
              "    // step of the generator.\n",
              "    outputElement.lastPromiseValue = value;\n",
              "    return next.value.response;\n",
              "  });\n",
              "}\n",
              "\n",
              "/**\n",
              " * Generator function which is called between each async step of the upload\n",
              " * process.\n",
              " * @param {string} inputId Element ID of the input file picker element.\n",
              " * @param {string} outputId Element ID of the output display.\n",
              " * @return {!Iterable<!Object>} Iterable of next steps.\n",
              " */\n",
              "function* uploadFilesStep(inputId, outputId) {\n",
              "  const inputElement = document.getElementById(inputId);\n",
              "  inputElement.disabled = false;\n",
              "\n",
              "  const outputElement = document.getElementById(outputId);\n",
              "  outputElement.innerHTML = '';\n",
              "\n",
              "  const pickedPromise = new Promise((resolve) => {\n",
              "    inputElement.addEventListener('change', (e) => {\n",
              "      resolve(e.target.files);\n",
              "    });\n",
              "  });\n",
              "\n",
              "  const cancel = document.createElement('button');\n",
              "  inputElement.parentElement.appendChild(cancel);\n",
              "  cancel.textContent = 'Cancel upload';\n",
              "  const cancelPromise = new Promise((resolve) => {\n",
              "    cancel.onclick = () => {\n",
              "      resolve(null);\n",
              "    };\n",
              "  });\n",
              "\n",
              "  // Wait for the user to pick the files.\n",
              "  const files = yield {\n",
              "    promise: Promise.race([pickedPromise, cancelPromise]),\n",
              "    response: {\n",
              "      action: 'starting',\n",
              "    }\n",
              "  };\n",
              "\n",
              "  cancel.remove();\n",
              "\n",
              "  // Disable the input element since further picks are not allowed.\n",
              "  inputElement.disabled = true;\n",
              "\n",
              "  if (!files) {\n",
              "    return {\n",
              "      response: {\n",
              "        action: 'complete',\n",
              "      }\n",
              "    };\n",
              "  }\n",
              "\n",
              "  for (const file of files) {\n",
              "    const li = document.createElement('li');\n",
              "    li.append(span(file.name, {fontWeight: 'bold'}));\n",
              "    li.append(span(\n",
              "        `(${file.type || 'n/a'}) - ${file.size} bytes, ` +\n",
              "        `last modified: ${\n",
              "            file.lastModifiedDate ? file.lastModifiedDate.toLocaleDateString() :\n",
              "                                    'n/a'} - `));\n",
              "    const percent = span('0% done');\n",
              "    li.appendChild(percent);\n",
              "\n",
              "    outputElement.appendChild(li);\n",
              "\n",
              "    const fileDataPromise = new Promise((resolve) => {\n",
              "      const reader = new FileReader();\n",
              "      reader.onload = (e) => {\n",
              "        resolve(e.target.result);\n",
              "      };\n",
              "      reader.readAsArrayBuffer(file);\n",
              "    });\n",
              "    // Wait for the data to be ready.\n",
              "    let fileData = yield {\n",
              "      promise: fileDataPromise,\n",
              "      response: {\n",
              "        action: 'continue',\n",
              "      }\n",
              "    };\n",
              "\n",
              "    // Use a chunked sending to avoid message size limits. See b/62115660.\n",
              "    let position = 0;\n",
              "    do {\n",
              "      const length = Math.min(fileData.byteLength - position, MAX_PAYLOAD_SIZE);\n",
              "      const chunk = new Uint8Array(fileData, position, length);\n",
              "      position += length;\n",
              "\n",
              "      const base64 = btoa(String.fromCharCode.apply(null, chunk));\n",
              "      yield {\n",
              "        response: {\n",
              "          action: 'append',\n",
              "          file: file.name,\n",
              "          data: base64,\n",
              "        },\n",
              "      };\n",
              "\n",
              "      let percentDone = fileData.byteLength === 0 ?\n",
              "          100 :\n",
              "          Math.round((position / fileData.byteLength) * 100);\n",
              "      percent.textContent = `${percentDone}% done`;\n",
              "\n",
              "    } while (position < fileData.byteLength);\n",
              "  }\n",
              "\n",
              "  // All done.\n",
              "  yield {\n",
              "    response: {\n",
              "      action: 'complete',\n",
              "    }\n",
              "  };\n",
              "}\n",
              "\n",
              "scope.google = scope.google || {};\n",
              "scope.google.colab = scope.google.colab || {};\n",
              "scope.google.colab._files = {\n",
              "  _uploadFiles,\n",
              "  _uploadFilesContinue,\n",
              "};\n",
              "})(self);\n",
              "</script> "
            ]
          },
          "metadata": {}
        },
        {
          "output_type": "stream",
          "name": "stdout",
          "text": [
            "Saving kaggle.json to kaggle.json\n"
          ]
        },
        {
          "output_type": "execute_result",
          "data": {
            "text/plain": [
              "{'kaggle.json': b'{\"username\":\"armintorajmehr\",\"key\":\"2716589d699ff031ac2d20a143588b10\"}'}"
            ]
          },
          "metadata": {},
          "execution_count": 3
        }
      ],
      "source": [
        "from google.colab import files\n",
        "files.upload()"
      ]
    },
    {
      "cell_type": "code",
      "execution_count": null,
      "metadata": {
        "id": "HDRpsXwor8zE"
      },
      "outputs": [],
      "source": [
        "!mkdir -p ~/.kaggle\n",
        "!cp kaggle.json ~/.kaggle/\n",
        "!chmod 600 ~/.kaggle/kaggle.json"
      ]
    },
    {
      "cell_type": "code",
      "execution_count": null,
      "metadata": {
        "colab": {
          "base_uri": "https://localhost:8080/"
        },
        "id": "fPQCzYcytCLQ",
        "outputId": "ef9c04cc-659c-48bd-cedc-896115e1aec3"
      },
      "outputs": [
        {
          "output_type": "stream",
          "name": "stdout",
          "text": [
            "Dataset URL: https://www.kaggle.com/datasets/radeai/digikala-comments-and-products\n",
            "License(s): DbCL-1.0\n",
            "Downloading digikala-comments-and-products.zip to /content\n",
            " 94% 303M/324M [00:02<00:00, 169MB/s]\n",
            "100% 324M/324M [00:02<00:00, 147MB/s]\n"
          ]
        }
      ],
      "source": [
        "!kaggle datasets download -d radeai/digikala-comments-and-products"
      ]
    },
    {
      "cell_type": "code",
      "execution_count": null,
      "metadata": {
        "colab": {
          "base_uri": "https://localhost:8080/"
        },
        "id": "P0rYIBsRtJx7",
        "outputId": "caa4a5e5-7fe1-44a2-f0e5-7854706ec1d6"
      },
      "outputs": [
        {
          "output_type": "stream",
          "name": "stdout",
          "text": [
            "Archive:  digikala-comments-and-products.zip\n",
            "  inflating: digikala-comments.csv   \n",
            "  inflating: digikala-products.csv   \n"
          ]
        }
      ],
      "source": [
        "! unzip digikala-comments-and-products.zip"
      ]
    },
    {
      "cell_type": "code",
      "execution_count": null,
      "metadata": {
        "id": "Exq6ltE0tRTM"
      },
      "outputs": [],
      "source": [
        "# Read csv data\n",
        "data = pd.read_csv('digikala-comments.csv')\n",
        "# data2 = pd.read_csv('digikala-products.csv')\n"
      ]
    },
    {
      "cell_type": "code",
      "execution_count": null,
      "metadata": {
        "id": "zZhub6wwtXy6"
      },
      "outputs": [],
      "source": [
        "# Creat a DataFrame\n",
        "comment_df = pd.DataFrame(data)\n",
        "# product_df = pd.DataFrame(data2)"
      ]
    },
    {
      "cell_type": "markdown",
      "metadata": {
        "id": "94x-mPiGSTcM"
      },
      "source": [
        "# **Exploratory Data Analysis**"
      ]
    },
    {
      "cell_type": "markdown",
      "source": [
        "**Step 1**:\n",
        "- <font color='blue'>**Check the type of each column.**</font>\n",
        "- <font color='blue'>**Explore which type's column or columns need to be converted.**</font>\n"
      ],
      "metadata": {
        "id": "gqiuBPHXyEQm"
      }
    },
    {
      "cell_type": "code",
      "execution_count": null,
      "metadata": {
        "colab": {
          "base_uri": "https://localhost:8080/"
        },
        "id": "r3LCPWNdv8C4",
        "outputId": "c92f7359-162d-4549-cfb5-e50236bfcdac"
      },
      "outputs": [
        {
          "name": "stdout",
          "output_type": "stream",
          "text": [
            "<class 'pandas.core.frame.DataFrame'>\n",
            "RangeIndex: 6156289 entries, 0 to 6156288\n",
            "Data columns (total 15 columns):\n",
            " #   Column                 Dtype  \n",
            "---  ------                 -----  \n",
            " 0   id                     int64  \n",
            " 1   title                  object \n",
            " 2   body                   object \n",
            " 3   created_at             object \n",
            " 4   rate                   float64\n",
            " 5   recommendation_status  object \n",
            " 6   is_buyer               bool   \n",
            " 7   product_id             int64  \n",
            " 8   advantages             object \n",
            " 9   disadvantages          object \n",
            " 10  likes                  int64  \n",
            " 11  dislikes               int64  \n",
            " 12  seller_title           object \n",
            " 13  seller_code            object \n",
            " 14  true_to_size_rate      object \n",
            "dtypes: bool(1), float64(1), int64(4), object(9)\n",
            "memory usage: 663.4+ MB\n"
          ]
        }
      ],
      "source": [
        "# Check info\n",
        "comment_df.info()"
      ]
    },
    {
      "cell_type": "markdown",
      "source": [
        "Body column needs to converted to <font color='blue'>**string.**</font>\n",
        "\n",
        "**Why?**\n",
        "- **To get the length of texts I want later**\n",
        "\n",
        "\n"
      ],
      "metadata": {
        "id": "CrQqAj5Py4BX"
      }
    },
    {
      "cell_type": "code",
      "execution_count": null,
      "metadata": {
        "id": "aooGIB5VwATj"
      },
      "outputs": [],
      "source": [
        "# Change type of body to str\n",
        "comment_df['body'] = comment_df['body'].astype(str)"
      ]
    },
    {
      "cell_type": "markdown",
      "source": [
        "Out of curiosity, We want to check in which year we had the highest sales.\n",
        "\n",
        "First we need to separate the month and year from the **created_at** column."
      ],
      "metadata": {
        "id": "zr-wqgINzfyO"
      }
    },
    {
      "cell_type": "code",
      "source": [
        "comment_df['month'] = comment_df['created_at'].str.split(' ').str[1]\n",
        "comment_df['year'] = comment_df['created_at'].str.split(' ').str[2]"
      ],
      "metadata": {
        "id": "1OSTq0b5VTw_"
      },
      "execution_count": null,
      "outputs": []
    },
    {
      "cell_type": "code",
      "source": [
        "comment_df.head()"
      ],
      "metadata": {
        "colab": {
          "base_uri": "https://localhost:8080/",
          "height": 206
        },
        "id": "wHApj2DtXYeU",
        "outputId": "45aedf5a-49b0-4480-9b4f-695e6ea23d00"
      },
      "execution_count": null,
      "outputs": [
        {
          "output_type": "execute_result",
          "data": {
            "text/plain": [
              "         id                                               body  rate  \\\n",
              "0  53672599                                    به درد نمیخوره    1.0   \n",
              "1   9897229  می‌تونست به عنوان یه کالای فرهنگی بهتر بسته بن...   0.0   \n",
              "2  38074516  بسته بندیش خوب بود\\r\\n کاربرد و کیفیتشم خیلی خ...   0.0   \n",
              "3  18628562  به نظرم خوبه فقط یکم ظریفه. از رنگش خوشم اومد ...   0.0   \n",
              "4  53301258  معمولیه اگه واسه خونه رنگ کردن شخصی میخواین او...   3.0   \n",
              "\n",
              "  recommendation_status  is_buyer  product_id  likes  dislikes   month  year  \n",
              "0       not_recommended      True      252058      0         0  شهریور  1402  \n",
              "1           recommended      True      252058      1         0     تیر  1399  \n",
              "2           recommended      True     3331597      0         0   مرداد  1401  \n",
              "3           recommended      True     3331329      0         0   اسفند  1399  \n",
              "4           recommended      True     3255700      0         0  شهریور  1402  "
            ],
            "text/html": [
              "\n",
              "  <div id=\"df-31b14b8b-9446-4cec-a615-aca9751cbc4e\" class=\"colab-df-container\">\n",
              "    <div>\n",
              "<style scoped>\n",
              "    .dataframe tbody tr th:only-of-type {\n",
              "        vertical-align: middle;\n",
              "    }\n",
              "\n",
              "    .dataframe tbody tr th {\n",
              "        vertical-align: top;\n",
              "    }\n",
              "\n",
              "    .dataframe thead th {\n",
              "        text-align: right;\n",
              "    }\n",
              "</style>\n",
              "<table border=\"1\" class=\"dataframe\">\n",
              "  <thead>\n",
              "    <tr style=\"text-align: right;\">\n",
              "      <th></th>\n",
              "      <th>id</th>\n",
              "      <th>body</th>\n",
              "      <th>rate</th>\n",
              "      <th>recommendation_status</th>\n",
              "      <th>is_buyer</th>\n",
              "      <th>product_id</th>\n",
              "      <th>likes</th>\n",
              "      <th>dislikes</th>\n",
              "      <th>month</th>\n",
              "      <th>year</th>\n",
              "    </tr>\n",
              "  </thead>\n",
              "  <tbody>\n",
              "    <tr>\n",
              "      <th>0</th>\n",
              "      <td>53672599</td>\n",
              "      <td>به درد نمیخوره</td>\n",
              "      <td>1.0</td>\n",
              "      <td>not_recommended</td>\n",
              "      <td>True</td>\n",
              "      <td>252058</td>\n",
              "      <td>0</td>\n",
              "      <td>0</td>\n",
              "      <td>شهریور</td>\n",
              "      <td>1402</td>\n",
              "    </tr>\n",
              "    <tr>\n",
              "      <th>1</th>\n",
              "      <td>9897229</td>\n",
              "      <td>می‌تونست به عنوان یه کالای فرهنگی بهتر بسته بن...</td>\n",
              "      <td>0.0</td>\n",
              "      <td>recommended</td>\n",
              "      <td>True</td>\n",
              "      <td>252058</td>\n",
              "      <td>1</td>\n",
              "      <td>0</td>\n",
              "      <td>تیر</td>\n",
              "      <td>1399</td>\n",
              "    </tr>\n",
              "    <tr>\n",
              "      <th>2</th>\n",
              "      <td>38074516</td>\n",
              "      <td>بسته بندیش خوب بود\\r\\n کاربرد و کیفیتشم خیلی خ...</td>\n",
              "      <td>0.0</td>\n",
              "      <td>recommended</td>\n",
              "      <td>True</td>\n",
              "      <td>3331597</td>\n",
              "      <td>0</td>\n",
              "      <td>0</td>\n",
              "      <td>مرداد</td>\n",
              "      <td>1401</td>\n",
              "    </tr>\n",
              "    <tr>\n",
              "      <th>3</th>\n",
              "      <td>18628562</td>\n",
              "      <td>به نظرم خوبه فقط یکم ظریفه. از رنگش خوشم اومد ...</td>\n",
              "      <td>0.0</td>\n",
              "      <td>recommended</td>\n",
              "      <td>True</td>\n",
              "      <td>3331329</td>\n",
              "      <td>0</td>\n",
              "      <td>0</td>\n",
              "      <td>اسفند</td>\n",
              "      <td>1399</td>\n",
              "    </tr>\n",
              "    <tr>\n",
              "      <th>4</th>\n",
              "      <td>53301258</td>\n",
              "      <td>معمولیه اگه واسه خونه رنگ کردن شخصی میخواین او...</td>\n",
              "      <td>3.0</td>\n",
              "      <td>recommended</td>\n",
              "      <td>True</td>\n",
              "      <td>3255700</td>\n",
              "      <td>0</td>\n",
              "      <td>0</td>\n",
              "      <td>شهریور</td>\n",
              "      <td>1402</td>\n",
              "    </tr>\n",
              "  </tbody>\n",
              "</table>\n",
              "</div>\n",
              "    <div class=\"colab-df-buttons\">\n",
              "\n",
              "  <div class=\"colab-df-container\">\n",
              "    <button class=\"colab-df-convert\" onclick=\"convertToInteractive('df-31b14b8b-9446-4cec-a615-aca9751cbc4e')\"\n",
              "            title=\"Convert this dataframe to an interactive table.\"\n",
              "            style=\"display:none;\">\n",
              "\n",
              "  <svg xmlns=\"http://www.w3.org/2000/svg\" height=\"24px\" viewBox=\"0 -960 960 960\">\n",
              "    <path d=\"M120-120v-720h720v720H120Zm60-500h600v-160H180v160Zm220 220h160v-160H400v160Zm0 220h160v-160H400v160ZM180-400h160v-160H180v160Zm440 0h160v-160H620v160ZM180-180h160v-160H180v160Zm440 0h160v-160H620v160Z\"/>\n",
              "  </svg>\n",
              "    </button>\n",
              "\n",
              "  <style>\n",
              "    .colab-df-container {\n",
              "      display:flex;\n",
              "      gap: 12px;\n",
              "    }\n",
              "\n",
              "    .colab-df-convert {\n",
              "      background-color: #E8F0FE;\n",
              "      border: none;\n",
              "      border-radius: 50%;\n",
              "      cursor: pointer;\n",
              "      display: none;\n",
              "      fill: #1967D2;\n",
              "      height: 32px;\n",
              "      padding: 0 0 0 0;\n",
              "      width: 32px;\n",
              "    }\n",
              "\n",
              "    .colab-df-convert:hover {\n",
              "      background-color: #E2EBFA;\n",
              "      box-shadow: 0px 1px 2px rgba(60, 64, 67, 0.3), 0px 1px 3px 1px rgba(60, 64, 67, 0.15);\n",
              "      fill: #174EA6;\n",
              "    }\n",
              "\n",
              "    .colab-df-buttons div {\n",
              "      margin-bottom: 4px;\n",
              "    }\n",
              "\n",
              "    [theme=dark] .colab-df-convert {\n",
              "      background-color: #3B4455;\n",
              "      fill: #D2E3FC;\n",
              "    }\n",
              "\n",
              "    [theme=dark] .colab-df-convert:hover {\n",
              "      background-color: #434B5C;\n",
              "      box-shadow: 0px 1px 3px 1px rgba(0, 0, 0, 0.15);\n",
              "      filter: drop-shadow(0px 1px 2px rgba(0, 0, 0, 0.3));\n",
              "      fill: #FFFFFF;\n",
              "    }\n",
              "  </style>\n",
              "\n",
              "    <script>\n",
              "      const buttonEl =\n",
              "        document.querySelector('#df-31b14b8b-9446-4cec-a615-aca9751cbc4e button.colab-df-convert');\n",
              "      buttonEl.style.display =\n",
              "        google.colab.kernel.accessAllowed ? 'block' : 'none';\n",
              "\n",
              "      async function convertToInteractive(key) {\n",
              "        const element = document.querySelector('#df-31b14b8b-9446-4cec-a615-aca9751cbc4e');\n",
              "        const dataTable =\n",
              "          await google.colab.kernel.invokeFunction('convertToInteractive',\n",
              "                                                    [key], {});\n",
              "        if (!dataTable) return;\n",
              "\n",
              "        const docLinkHtml = 'Like what you see? Visit the ' +\n",
              "          '<a target=\"_blank\" href=https://colab.research.google.com/notebooks/data_table.ipynb>data table notebook</a>'\n",
              "          + ' to learn more about interactive tables.';\n",
              "        element.innerHTML = '';\n",
              "        dataTable['output_type'] = 'display_data';\n",
              "        await google.colab.output.renderOutput(dataTable, element);\n",
              "        const docLink = document.createElement('div');\n",
              "        docLink.innerHTML = docLinkHtml;\n",
              "        element.appendChild(docLink);\n",
              "      }\n",
              "    </script>\n",
              "  </div>\n",
              "\n",
              "\n",
              "<div id=\"df-1be05752-24ad-4ee7-a440-9cda46bed156\">\n",
              "  <button class=\"colab-df-quickchart\" onclick=\"quickchart('df-1be05752-24ad-4ee7-a440-9cda46bed156')\"\n",
              "            title=\"Suggest charts\"\n",
              "            style=\"display:none;\">\n",
              "\n",
              "<svg xmlns=\"http://www.w3.org/2000/svg\" height=\"24px\"viewBox=\"0 0 24 24\"\n",
              "     width=\"24px\">\n",
              "    <g>\n",
              "        <path d=\"M19 3H5c-1.1 0-2 .9-2 2v14c0 1.1.9 2 2 2h14c1.1 0 2-.9 2-2V5c0-1.1-.9-2-2-2zM9 17H7v-7h2v7zm4 0h-2V7h2v10zm4 0h-2v-4h2v4z\"/>\n",
              "    </g>\n",
              "</svg>\n",
              "  </button>\n",
              "\n",
              "<style>\n",
              "  .colab-df-quickchart {\n",
              "      --bg-color: #E8F0FE;\n",
              "      --fill-color: #1967D2;\n",
              "      --hover-bg-color: #E2EBFA;\n",
              "      --hover-fill-color: #174EA6;\n",
              "      --disabled-fill-color: #AAA;\n",
              "      --disabled-bg-color: #DDD;\n",
              "  }\n",
              "\n",
              "  [theme=dark] .colab-df-quickchart {\n",
              "      --bg-color: #3B4455;\n",
              "      --fill-color: #D2E3FC;\n",
              "      --hover-bg-color: #434B5C;\n",
              "      --hover-fill-color: #FFFFFF;\n",
              "      --disabled-bg-color: #3B4455;\n",
              "      --disabled-fill-color: #666;\n",
              "  }\n",
              "\n",
              "  .colab-df-quickchart {\n",
              "    background-color: var(--bg-color);\n",
              "    border: none;\n",
              "    border-radius: 50%;\n",
              "    cursor: pointer;\n",
              "    display: none;\n",
              "    fill: var(--fill-color);\n",
              "    height: 32px;\n",
              "    padding: 0;\n",
              "    width: 32px;\n",
              "  }\n",
              "\n",
              "  .colab-df-quickchart:hover {\n",
              "    background-color: var(--hover-bg-color);\n",
              "    box-shadow: 0 1px 2px rgba(60, 64, 67, 0.3), 0 1px 3px 1px rgba(60, 64, 67, 0.15);\n",
              "    fill: var(--button-hover-fill-color);\n",
              "  }\n",
              "\n",
              "  .colab-df-quickchart-complete:disabled,\n",
              "  .colab-df-quickchart-complete:disabled:hover {\n",
              "    background-color: var(--disabled-bg-color);\n",
              "    fill: var(--disabled-fill-color);\n",
              "    box-shadow: none;\n",
              "  }\n",
              "\n",
              "  .colab-df-spinner {\n",
              "    border: 2px solid var(--fill-color);\n",
              "    border-color: transparent;\n",
              "    border-bottom-color: var(--fill-color);\n",
              "    animation:\n",
              "      spin 1s steps(1) infinite;\n",
              "  }\n",
              "\n",
              "  @keyframes spin {\n",
              "    0% {\n",
              "      border-color: transparent;\n",
              "      border-bottom-color: var(--fill-color);\n",
              "      border-left-color: var(--fill-color);\n",
              "    }\n",
              "    20% {\n",
              "      border-color: transparent;\n",
              "      border-left-color: var(--fill-color);\n",
              "      border-top-color: var(--fill-color);\n",
              "    }\n",
              "    30% {\n",
              "      border-color: transparent;\n",
              "      border-left-color: var(--fill-color);\n",
              "      border-top-color: var(--fill-color);\n",
              "      border-right-color: var(--fill-color);\n",
              "    }\n",
              "    40% {\n",
              "      border-color: transparent;\n",
              "      border-right-color: var(--fill-color);\n",
              "      border-top-color: var(--fill-color);\n",
              "    }\n",
              "    60% {\n",
              "      border-color: transparent;\n",
              "      border-right-color: var(--fill-color);\n",
              "    }\n",
              "    80% {\n",
              "      border-color: transparent;\n",
              "      border-right-color: var(--fill-color);\n",
              "      border-bottom-color: var(--fill-color);\n",
              "    }\n",
              "    90% {\n",
              "      border-color: transparent;\n",
              "      border-bottom-color: var(--fill-color);\n",
              "    }\n",
              "  }\n",
              "</style>\n",
              "\n",
              "  <script>\n",
              "    async function quickchart(key) {\n",
              "      const quickchartButtonEl =\n",
              "        document.querySelector('#' + key + ' button');\n",
              "      quickchartButtonEl.disabled = true;  // To prevent multiple clicks.\n",
              "      quickchartButtonEl.classList.add('colab-df-spinner');\n",
              "      try {\n",
              "        const charts = await google.colab.kernel.invokeFunction(\n",
              "            'suggestCharts', [key], {});\n",
              "      } catch (error) {\n",
              "        console.error('Error during call to suggestCharts:', error);\n",
              "      }\n",
              "      quickchartButtonEl.classList.remove('colab-df-spinner');\n",
              "      quickchartButtonEl.classList.add('colab-df-quickchart-complete');\n",
              "    }\n",
              "    (() => {\n",
              "      let quickchartButtonEl =\n",
              "        document.querySelector('#df-1be05752-24ad-4ee7-a440-9cda46bed156 button');\n",
              "      quickchartButtonEl.style.display =\n",
              "        google.colab.kernel.accessAllowed ? 'block' : 'none';\n",
              "    })();\n",
              "  </script>\n",
              "</div>\n",
              "\n",
              "    </div>\n",
              "  </div>\n"
            ],
            "application/vnd.google.colaboratory.intrinsic+json": {
              "type": "dataframe",
              "variable_name": "comment_df"
            }
          },
          "metadata": {},
          "execution_count": 27
        }
      ]
    },
    {
      "cell_type": "markdown",
      "source": [
        "Excellent!!🙂"
      ],
      "metadata": {
        "id": "Qi3uMUoT0N8E"
      }
    },
    {
      "cell_type": "markdown",
      "source": [
        "We just analyze data on people who bought the product."
      ],
      "metadata": {
        "id": "35ZRiiy00SuO"
      }
    },
    {
      "cell_type": "code",
      "source": [
        "# People who bought the product\n",
        "total_sell_year = pd.DataFrame(comment_df[comment_df['is_buyer'] == True].groupby('year')['month'].count())\n",
        "total_sell_year"
      ],
      "metadata": {
        "id": "ZtPL4gUHX7Ae"
      },
      "execution_count": null,
      "outputs": []
    },
    {
      "cell_type": "code",
      "source": [
        "plt.figure(figsize=(10,5))\n",
        "sns.barplot(x=total_sell_year.index,y=total_sell_year['month'])"
      ],
      "metadata": {
        "colab": {
          "base_uri": "https://localhost:8080/",
          "height": 497
        },
        "id": "qggW39hmYTB-",
        "outputId": "f7c88214-f51a-4b34-817b-9ddd17e7f384"
      },
      "execution_count": null,
      "outputs": [
        {
          "output_type": "execute_result",
          "data": {
            "text/plain": [
              "<Axes: xlabel='year', ylabel='month'>"
            ]
          },
          "metadata": {},
          "execution_count": 29
        },
        {
          "output_type": "display_data",
          "data": {
            "text/plain": [
              "<Figure size 1000x500 with 1 Axes>"
            ],
            "image/png": "[encoded data removed]"
          },
          "metadata": {}
        }
      ]
    },
    {
      "cell_type": "markdown",
      "source": [
        "As can be seen, The largest number of products were sold in <font color='blue'>**1402**.</font>"
      ],
      "metadata": {
        "id": "etb3NCIP0gs3"
      }
    },
    {
      "cell_type": "markdown",
      "source": [
        "Now we are going to check which month is sold product the most."
      ],
      "metadata": {
        "id": "hoBOEIv702zT"
      }
    },
    {
      "cell_type": "code",
      "source": [
        "# Group by year and month\n",
        "# How many prodcuts were sold per month in 1402\n",
        "total_sell_year_month = pd.DataFrame(comment_df[comment_df['is_buyer'] == True].groupby(['year','month'])['id'].count())"
      ],
      "metadata": {
        "id": "IVZar4aUZIAV"
      },
      "execution_count": null,
      "outputs": []
    },
    {
      "cell_type": "code",
      "source": [
        "total_sell_year_month.reset_index('year',inplace=True)"
      ],
      "metadata": {
        "id": "kxcZJsfgaqMJ"
      },
      "execution_count": null,
      "outputs": []
    },
    {
      "cell_type": "code",
      "source": [
        "# Filter data for 1402 year\n",
        "filter_1402 = total_sell_year_month[total_sell_year_month['year'] == '1402']\n",
        "filter_1402"
      ],
      "metadata": {
        "colab": {
          "base_uri": "https://localhost:8080/",
          "height": 300
        },
        "id": "bCtACf0va59g",
        "outputId": "e8323c14-de08-4e66-fcf8-f061dba4f8d3"
      },
      "execution_count": null,
      "outputs": [
        {
          "output_type": "execute_result",
          "data": {
            "text/plain": [
              "          year      id\n",
              "month                 \n",
              "اردیبهشت  1402  222320\n",
              "تیر       1402  293232\n",
              "خرداد     1402  291197\n",
              "شهریور    1402  305241\n",
              "فروردین   1402  223834\n",
              "مرداد     1402  261729\n",
              "مهر       1402  209950"
            ],
            "text/html": [
              "\n",
              "  <div id=\"df-22592867-ea02-4cdb-9b7e-8aef53a0df71\" class=\"colab-df-container\">\n",
              "    <div>\n",
              "<style scoped>\n",
              "    .dataframe tbody tr th:only-of-type {\n",
              "        vertical-align: middle;\n",
              "    }\n",
              "\n",
              "    .dataframe tbody tr th {\n",
              "        vertical-align: top;\n",
              "    }\n",
              "\n",
              "    .dataframe thead th {\n",
              "        text-align: right;\n",
              "    }\n",
              "</style>\n",
              "<table border=\"1\" class=\"dataframe\">\n",
              "  <thead>\n",
              "    <tr style=\"text-align: right;\">\n",
              "      <th></th>\n",
              "      <th>year</th>\n",
              "      <th>id</th>\n",
              "    </tr>\n",
              "    <tr>\n",
              "      <th>month</th>\n",
              "      <th></th>\n",
              "      <th></th>\n",
              "    </tr>\n",
              "  </thead>\n",
              "  <tbody>\n",
              "    <tr>\n",
              "      <th>اردیبهشت</th>\n",
              "      <td>1402</td>\n",
              "      <td>222320</td>\n",
              "    </tr>\n",
              "    <tr>\n",
              "      <th>تیر</th>\n",
              "      <td>1402</td>\n",
              "      <td>293232</td>\n",
              "    </tr>\n",
              "    <tr>\n",
              "      <th>خرداد</th>\n",
              "      <td>1402</td>\n",
              "      <td>291197</td>\n",
              "    </tr>\n",
              "    <tr>\n",
              "      <th>شهریور</th>\n",
              "      <td>1402</td>\n",
              "      <td>305241</td>\n",
              "    </tr>\n",
              "    <tr>\n",
              "      <th>فروردین</th>\n",
              "      <td>1402</td>\n",
              "      <td>223834</td>\n",
              "    </tr>\n",
              "    <tr>\n",
              "      <th>مرداد</th>\n",
              "      <td>1402</td>\n",
              "      <td>261729</td>\n",
              "    </tr>\n",
              "    <tr>\n",
              "      <th>مهر</th>\n",
              "      <td>1402</td>\n",
              "      <td>209950</td>\n",
              "    </tr>\n",
              "  </tbody>\n",
              "</table>\n",
              "</div>\n",
              "    <div class=\"colab-df-buttons\">\n",
              "\n",
              "  <div class=\"colab-df-container\">\n",
              "    <button class=\"colab-df-convert\" onclick=\"convertToInteractive('df-22592867-ea02-4cdb-9b7e-8aef53a0df71')\"\n",
              "            title=\"Convert this dataframe to an interactive table.\"\n",
              "            style=\"display:none;\">\n",
              "\n",
              "  <svg xmlns=\"http://www.w3.org/2000/svg\" height=\"24px\" viewBox=\"0 -960 960 960\">\n",
              "    <path d=\"M120-120v-720h720v720H120Zm60-500h600v-160H180v160Zm220 220h160v-160H400v160Zm0 220h160v-160H400v160ZM180-400h160v-160H180v160Zm440 0h160v-160H620v160ZM180-180h160v-160H180v160Zm440 0h160v-160H620v160Z\"/>\n",
              "  </svg>\n",
              "    </button>\n",
              "\n",
              "  <style>\n",
              "    .colab-df-container {\n",
              "      display:flex;\n",
              "      gap: 12px;\n",
              "    }\n",
              "\n",
              "    .colab-df-convert {\n",
              "      background-color: #E8F0FE;\n",
              "      border: none;\n",
              "      border-radius: 50%;\n",
              "      cursor: pointer;\n",
              "      display: none;\n",
              "      fill: #1967D2;\n",
              "      height: 32px;\n",
              "      padding: 0 0 0 0;\n",
              "      width: 32px;\n",
              "    }\n",
              "\n",
              "    .colab-df-convert:hover {\n",
              "      background-color: #E2EBFA;\n",
              "      box-shadow: 0px 1px 2px rgba(60, 64, 67, 0.3), 0px 1px 3px 1px rgba(60, 64, 67, 0.15);\n",
              "      fill: #174EA6;\n",
              "    }\n",
              "\n",
              "    .colab-df-buttons div {\n",
              "      margin-bottom: 4px;\n",
              "    }\n",
              "\n",
              "    [theme=dark] .colab-df-convert {\n",
              "      background-color: #3B4455;\n",
              "      fill: #D2E3FC;\n",
              "    }\n",
              "\n",
              "    [theme=dark] .colab-df-convert:hover {\n",
              "      background-color: #434B5C;\n",
              "      box-shadow: 0px 1px 3px 1px rgba(0, 0, 0, 0.15);\n",
              "      filter: drop-shadow(0px 1px 2px rgba(0, 0, 0, 0.3));\n",
              "      fill: #FFFFFF;\n",
              "    }\n",
              "  </style>\n",
              "\n",
              "    <script>\n",
              "      const buttonEl =\n",
              "        document.querySelector('#df-22592867-ea02-4cdb-9b7e-8aef53a0df71 button.colab-df-convert');\n",
              "      buttonEl.style.display =\n",
              "        google.colab.kernel.accessAllowed ? 'block' : 'none';\n",
              "\n",
              "      async function convertToInteractive(key) {\n",
              "        const element = document.querySelector('#df-22592867-ea02-4cdb-9b7e-8aef53a0df71');\n",
              "        const dataTable =\n",
              "          await google.colab.kernel.invokeFunction('convertToInteractive',\n",
              "                                                    [key], {});\n",
              "        if (!dataTable) return;\n",
              "\n",
              "        const docLinkHtml = 'Like what you see? Visit the ' +\n",
              "          '<a target=\"_blank\" href=https://colab.research.google.com/notebooks/data_table.ipynb>data table notebook</a>'\n",
              "          + ' to learn more about interactive tables.';\n",
              "        element.innerHTML = '';\n",
              "        dataTable['output_type'] = 'display_data';\n",
              "        await google.colab.output.renderOutput(dataTable, element);\n",
              "        const docLink = document.createElement('div');\n",
              "        docLink.innerHTML = docLinkHtml;\n",
              "        element.appendChild(docLink);\n",
              "      }\n",
              "    </script>\n",
              "  </div>\n",
              "\n",
              "\n",
              "<div id=\"df-d2769ccb-6ac6-4e76-8ff6-d83a30030d8e\">\n",
              "  <button class=\"colab-df-quickchart\" onclick=\"quickchart('df-d2769ccb-6ac6-4e76-8ff6-d83a30030d8e')\"\n",
              "            title=\"Suggest charts\"\n",
              "            style=\"display:none;\">\n",
              "\n",
              "<svg xmlns=\"http://www.w3.org/2000/svg\" height=\"24px\"viewBox=\"0 0 24 24\"\n",
              "     width=\"24px\">\n",
              "    <g>\n",
              "        <path d=\"M19 3H5c-1.1 0-2 .9-2 2v14c0 1.1.9 2 2 2h14c1.1 0 2-.9 2-2V5c0-1.1-.9-2-2-2zM9 17H7v-7h2v7zm4 0h-2V7h2v10zm4 0h-2v-4h2v4z\"/>\n",
              "    </g>\n",
              "</svg>\n",
              "  </button>\n",
              "\n",
              "<style>\n",
              "  .colab-df-quickchart {\n",
              "      --bg-color: #E8F0FE;\n",
              "      --fill-color: #1967D2;\n",
              "      --hover-bg-color: #E2EBFA;\n",
              "      --hover-fill-color: #174EA6;\n",
              "      --disabled-fill-color: #AAA;\n",
              "      --disabled-bg-color: #DDD;\n",
              "  }\n",
              "\n",
              "  [theme=dark] .colab-df-quickchart {\n",
              "      --bg-color: #3B4455;\n",
              "      --fill-color: #D2E3FC;\n",
              "      --hover-bg-color: #434B5C;\n",
              "      --hover-fill-color: #FFFFFF;\n",
              "      --disabled-bg-color: #3B4455;\n",
              "      --disabled-fill-color: #666;\n",
              "  }\n",
              "\n",
              "  .colab-df-quickchart {\n",
              "    background-color: var(--bg-color);\n",
              "    border: none;\n",
              "    border-radius: 50%;\n",
              "    cursor: pointer;\n",
              "    display: none;\n",
              "    fill: var(--fill-color);\n",
              "    height: 32px;\n",
              "    padding: 0;\n",
              "    width: 32px;\n",
              "  }\n",
              "\n",
              "  .colab-df-quickchart:hover {\n",
              "    background-color: var(--hover-bg-color);\n",
              "    box-shadow: 0 1px 2px rgba(60, 64, 67, 0.3), 0 1px 3px 1px rgba(60, 64, 67, 0.15);\n",
              "    fill: var(--button-hover-fill-color);\n",
              "  }\n",
              "\n",
              "  .colab-df-quickchart-complete:disabled,\n",
              "  .colab-df-quickchart-complete:disabled:hover {\n",
              "    background-color: var(--disabled-bg-color);\n",
              "    fill: var(--disabled-fill-color);\n",
              "    box-shadow: none;\n",
              "  }\n",
              "\n",
              "  .colab-df-spinner {\n",
              "    border: 2px solid var(--fill-color);\n",
              "    border-color: transparent;\n",
              "    border-bottom-color: var(--fill-color);\n",
              "    animation:\n",
              "      spin 1s steps(1) infinite;\n",
              "  }\n",
              "\n",
              "  @keyframes spin {\n",
              "    0% {\n",
              "      border-color: transparent;\n",
              "      border-bottom-color: var(--fill-color);\n",
              "      border-left-color: var(--fill-color);\n",
              "    }\n",
              "    20% {\n",
              "      border-color: transparent;\n",
              "      border-left-color: var(--fill-color);\n",
              "      border-top-color: var(--fill-color);\n",
              "    }\n",
              "    30% {\n",
              "      border-color: transparent;\n",
              "      border-left-color: var(--fill-color);\n",
              "      border-top-color: var(--fill-color);\n",
              "      border-right-color: var(--fill-color);\n",
              "    }\n",
              "    40% {\n",
              "      border-color: transparent;\n",
              "      border-right-color: var(--fill-color);\n",
              "      border-top-color: var(--fill-color);\n",
              "    }\n",
              "    60% {\n",
              "      border-color: transparent;\n",
              "      border-right-color: var(--fill-color);\n",
              "    }\n",
              "    80% {\n",
              "      border-color: transparent;\n",
              "      border-right-color: var(--fill-color);\n",
              "      border-bottom-color: var(--fill-color);\n",
              "    }\n",
              "    90% {\n",
              "      border-color: transparent;\n",
              "      border-bottom-color: var(--fill-color);\n",
              "    }\n",
              "  }\n",
              "</style>\n",
              "\n",
              "  <script>\n",
              "    async function quickchart(key) {\n",
              "      const quickchartButtonEl =\n",
              "        document.querySelector('#' + key + ' button');\n",
              "      quickchartButtonEl.disabled = true;  // To prevent multiple clicks.\n",
              "      quickchartButtonEl.classList.add('colab-df-spinner');\n",
              "      try {\n",
              "        const charts = await google.colab.kernel.invokeFunction(\n",
              "            'suggestCharts', [key], {});\n",
              "      } catch (error) {\n",
              "        console.error('Error during call to suggestCharts:', error);\n",
              "      }\n",
              "      quickchartButtonEl.classList.remove('colab-df-spinner');\n",
              "      quickchartButtonEl.classList.add('colab-df-quickchart-complete');\n",
              "    }\n",
              "    (() => {\n",
              "      let quickchartButtonEl =\n",
              "        document.querySelector('#df-d2769ccb-6ac6-4e76-8ff6-d83a30030d8e button');\n",
              "      quickchartButtonEl.style.display =\n",
              "        google.colab.kernel.accessAllowed ? 'block' : 'none';\n",
              "    })();\n",
              "  </script>\n",
              "</div>\n",
              "\n",
              "  <div id=\"id_ebe00021-59d3-4e95-a2af-98e011e89bdc\">\n",
              "    <style>\n",
              "      .colab-df-generate {\n",
              "        background-color: #E8F0FE;\n",
              "        border: none;\n",
              "        border-radius: 50%;\n",
              "        cursor: pointer;\n",
              "        display: none;\n",
              "        fill: #1967D2;\n",
              "        height: 32px;\n",
              "        padding: 0 0 0 0;\n",
              "        width: 32px;\n",
              "      }\n",
              "\n",
              "      .colab-df-generate:hover {\n",
              "        background-color: #E2EBFA;\n",
              "        box-shadow: 0px 1px 2px rgba(60, 64, 67, 0.3), 0px 1px 3px 1px rgba(60, 64, 67, 0.15);\n",
              "        fill: #174EA6;\n",
              "      }\n",
              "\n",
              "      [theme=dark] .colab-df-generate {\n",
              "        background-color: #3B4455;\n",
              "        fill: #D2E3FC;\n",
              "      }\n",
              "\n",
              "      [theme=dark] .colab-df-generate:hover {\n",
              "        background-color: #434B5C;\n",
              "        box-shadow: 0px 1px 3px 1px rgba(0, 0, 0, 0.15);\n",
              "        filter: drop-shadow(0px 1px 2px rgba(0, 0, 0, 0.3));\n",
              "        fill: #FFFFFF;\n",
              "      }\n",
              "    </style>\n",
              "    <button class=\"colab-df-generate\" onclick=\"generateWithVariable('filter_1402')\"\n",
              "            title=\"Generate code using this dataframe.\"\n",
              "            style=\"display:none;\">\n",
              "\n",
              "  <svg xmlns=\"http://www.w3.org/2000/svg\" height=\"24px\"viewBox=\"0 0 24 24\"\n",
              "       width=\"24px\">\n",
              "    <path d=\"M7,19H8.4L18.45,9,17,7.55,7,17.6ZM5,21V16.75L18.45,3.32a2,2,0,0,1,2.83,0l1.4,1.43a1.91,1.91,0,0,1,.58,1.4,1.91,1.91,0,0,1-.58,1.4L9.25,21ZM18.45,9,17,7.55Zm-12,3A5.31,5.31,0,0,0,4.9,8.1,5.31,5.31,0,0,0,1,6.5,5.31,5.31,0,0,0,4.9,4.9,5.31,5.31,0,0,0,6.5,1,5.31,5.31,0,0,0,8.1,4.9,5.31,5.31,0,0,0,12,6.5,5.46,5.46,0,0,0,6.5,12Z\"/>\n",
              "  </svg>\n",
              "    </button>\n",
              "    <script>\n",
              "      (() => {\n",
              "      const buttonEl =\n",
              "        document.querySelector('#id_ebe00021-59d3-4e95-a2af-98e011e89bdc button.colab-df-generate');\n",
              "      buttonEl.style.display =\n",
              "        google.colab.kernel.accessAllowed ? 'block' : 'none';\n",
              "\n",
              "      buttonEl.onclick = () => {\n",
              "        google.colab.notebook.generateWithVariable('filter_1402');\n",
              "      }\n",
              "      })();\n",
              "    </script>\n",
              "  </div>\n",
              "\n",
              "    </div>\n",
              "  </div>\n"
            ],
            "application/vnd.google.colaboratory.intrinsic+json": {
              "type": "dataframe",
              "variable_name": "filter_1402",
              "summary": "{\n  \"name\": \"filter_1402\",\n  \"rows\": 7,\n  \"fields\": [\n    {\n      \"column\": \"month\",\n      \"properties\": {\n        \"dtype\": \"string\",\n        \"num_unique_values\": 7,\n        \"samples\": [\n          \"\\u0627\\u0631\\u062f\\u06cc\\u0628\\u0647\\u0634\\u062a\",\n          \"\\u062a\\u06cc\\u0631\",\n          \"\\u0645\\u0631\\u062f\\u0627\\u062f\"\n        ],\n        \"semantic_type\": \"\",\n        \"description\": \"\"\n      }\n    },\n    {\n      \"column\": \"year\",\n      \"properties\": {\n        \"dtype\": \"category\",\n        \"num_unique_values\": 1,\n        \"samples\": [\n          \"1402\"\n        ],\n        \"semantic_type\": \"\",\n        \"description\": \"\"\n      }\n    },\n    {\n      \"column\": \"id\",\n      \"properties\": {\n        \"dtype\": \"number\",\n        \"std\": 39449,\n        \"min\": 209950,\n        \"max\": 305241,\n        \"num_unique_values\": 7,\n        \"samples\": [\n          222320\n        ],\n        \"semantic_type\": \"\",\n        \"description\": \"\"\n      }\n    }\n  ]\n}"
            }
          },
          "metadata": {},
          "execution_count": 44
        }
      ]
    },
    {
      "cell_type": "code",
      "source": [
        "month_name = filter_1402.index.to_list()\n",
        "persian_labels = [get_display(reshape(label)) for label in month_name]"
      ],
      "metadata": {
        "id": "WV3XhCVweE4i"
      },
      "execution_count": null,
      "outputs": []
    },
    {
      "cell_type": "code",
      "source": [
        "sns.barplot(x=persian_labels,y=filter_1402['id'])\n",
        "plt.title('Number of Sale in 1402')\n",
        "plt.xlabel('Month')\n",
        "plt.ylabel('Number of Sale')\n",
        "plt.show()"
      ],
      "metadata": {
        "colab": {
          "base_uri": "https://localhost:8080/",
          "height": 472
        },
        "id": "YzMI2dJMakwu",
        "outputId": "6e9a93b2-3e77-447d-ac0f-086c4b4fc336"
      },
      "execution_count": null,
      "outputs": [
        {
          "output_type": "display_data",
          "data": {
            "text/plain": [
              "<Figure size 640x480 with 1 Axes>"
            ],
            "image/png": "[encoded data removed]"
          },
          "metadata": {}
        }
      ]
    },
    {
      "cell_type": "markdown",
      "source": [
        "The distribution of the graph is almost **uniform**, but as the data is only for the first six months of the year."
      ],
      "metadata": {
        "id": "KeADiSfX1juN"
      }
    },
    {
      "cell_type": "code",
      "source": [
        "comment_df['month'] = comment_df['created_at'].str.split(' ').str[1]\n",
        "comment_df['year'] = comment_df['created_at'].str.split(' ').str[2]"
      ],
      "metadata": {
        "id": "H3tEAiRo1qy1"
      },
      "execution_count": null,
      "outputs": []
    },
    {
      "cell_type": "code",
      "source": [
        "comment_df.head()"
      ],
      "metadata": {
        "colab": {
          "base_uri": "https://localhost:8080/",
          "height": 206
        },
        "outputId": "45aedf5a-49b0-4480-9b4f-695e6ea23d00",
        "id": "4TacQnV71qy2"
      },
      "execution_count": null,
      "outputs": [
        {
          "output_type": "execute_result",
          "data": {
            "text/plain": [
              "         id                                               body  rate  \\\n",
              "0  53672599                                    به درد نمیخوره    1.0   \n",
              "1   9897229  می‌تونست به عنوان یه کالای فرهنگی بهتر بسته بن...   0.0   \n",
              "2  38074516  بسته بندیش خوب بود\\r\\n کاربرد و کیفیتشم خیلی خ...   0.0   \n",
              "3  18628562  به نظرم خوبه فقط یکم ظریفه. از رنگش خوشم اومد ...   0.0   \n",
              "4  53301258  معمولیه اگه واسه خونه رنگ کردن شخصی میخواین او...   3.0   \n",
              "\n",
              "  recommendation_status  is_buyer  product_id  likes  dislikes   month  year  \n",
              "0       not_recommended      True      252058      0         0  شهریور  1402  \n",
              "1           recommended      True      252058      1         0     تیر  1399  \n",
              "2           recommended      True     3331597      0         0   مرداد  1401  \n",
              "3           recommended      True     3331329      0         0   اسفند  1399  \n",
              "4           recommended      True     3255700      0         0  شهریور  1402  "
            ],
            "text/html": [
              "\n",
              "  <div id=\"df-31b14b8b-9446-4cec-a615-aca9751cbc4e\" class=\"colab-df-container\">\n",
              "    <div>\n",
              "<style scoped>\n",
              "    .dataframe tbody tr th:only-of-type {\n",
              "        vertical-align: middle;\n",
              "    }\n",
              "\n",
              "    .dataframe tbody tr th {\n",
              "        vertical-align: top;\n",
              "    }\n",
              "\n",
              "    .dataframe thead th {\n",
              "        text-align: right;\n",
              "    }\n",
              "</style>\n",
              "<table border=\"1\" class=\"dataframe\">\n",
              "  <thead>\n",
              "    <tr style=\"text-align: right;\">\n",
              "      <th></th>\n",
              "      <th>id</th>\n",
              "      <th>body</th>\n",
              "      <th>rate</th>\n",
              "      <th>recommendation_status</th>\n",
              "      <th>is_buyer</th>\n",
              "      <th>product_id</th>\n",
              "      <th>likes</th>\n",
              "      <th>dislikes</th>\n",
              "      <th>month</th>\n",
              "      <th>year</th>\n",
              "    </tr>\n",
              "  </thead>\n",
              "  <tbody>\n",
              "    <tr>\n",
              "      <th>0</th>\n",
              "      <td>53672599</td>\n",
              "      <td>به درد نمیخوره</td>\n",
              "      <td>1.0</td>\n",
              "      <td>not_recommended</td>\n",
              "      <td>True</td>\n",
              "      <td>252058</td>\n",
              "      <td>0</td>\n",
              "      <td>0</td>\n",
              "      <td>شهریور</td>\n",
              "      <td>1402</td>\n",
              "    </tr>\n",
              "    <tr>\n",
              "      <th>1</th>\n",
              "      <td>9897229</td>\n",
              "      <td>می‌تونست به عنوان یه کالای فرهنگی بهتر بسته بن...</td>\n",
              "      <td>0.0</td>\n",
              "      <td>recommended</td>\n",
              "      <td>True</td>\n",
              "      <td>252058</td>\n",
              "      <td>1</td>\n",
              "      <td>0</td>\n",
              "      <td>تیر</td>\n",
              "      <td>1399</td>\n",
              "    </tr>\n",
              "    <tr>\n",
              "      <th>2</th>\n",
              "      <td>38074516</td>\n",
              "      <td>بسته بندیش خوب بود\\r\\n کاربرد و کیفیتشم خیلی خ...</td>\n",
              "      <td>0.0</td>\n",
              "      <td>recommended</td>\n",
              "      <td>True</td>\n",
              "      <td>3331597</td>\n",
              "      <td>0</td>\n",
              "      <td>0</td>\n",
              "      <td>مرداد</td>\n",
              "      <td>1401</td>\n",
              "    </tr>\n",
              "    <tr>\n",
              "      <th>3</th>\n",
              "      <td>18628562</td>\n",
              "      <td>به نظرم خوبه فقط یکم ظریفه. از رنگش خوشم اومد ...</td>\n",
              "      <td>0.0</td>\n",
              "      <td>recommended</td>\n",
              "      <td>True</td>\n",
              "      <td>3331329</td>\n",
              "      <td>0</td>\n",
              "      <td>0</td>\n",
              "      <td>اسفند</td>\n",
              "      <td>1399</td>\n",
              "    </tr>\n",
              "    <tr>\n",
              "      <th>4</th>\n",
              "      <td>53301258</td>\n",
              "      <td>معمولیه اگه واسه خونه رنگ کردن شخصی میخواین او...</td>\n",
              "      <td>3.0</td>\n",
              "      <td>recommended</td>\n",
              "      <td>True</td>\n",
              "      <td>3255700</td>\n",
              "      <td>0</td>\n",
              "      <td>0</td>\n",
              "      <td>شهریور</td>\n",
              "      <td>1402</td>\n",
              "    </tr>\n",
              "  </tbody>\n",
              "</table>\n",
              "</div>\n",
              "    <div class=\"colab-df-buttons\">\n",
              "\n",
              "  <div class=\"colab-df-container\">\n",
              "    <button class=\"colab-df-convert\" onclick=\"convertToInteractive('df-31b14b8b-9446-4cec-a615-aca9751cbc4e')\"\n",
              "            title=\"Convert this dataframe to an interactive table.\"\n",
              "            style=\"display:none;\">\n",
              "\n",
              "  <svg xmlns=\"http://www.w3.org/2000/svg\" height=\"24px\" viewBox=\"0 -960 960 960\">\n",
              "    <path d=\"M120-120v-720h720v720H120Zm60-500h600v-160H180v160Zm220 220h160v-160H400v160Zm0 220h160v-160H400v160ZM180-400h160v-160H180v160Zm440 0h160v-160H620v160ZM180-180h160v-160H180v160Zm440 0h160v-160H620v160Z\"/>\n",
              "  </svg>\n",
              "    </button>\n",
              "\n",
              "  <style>\n",
              "    .colab-df-container {\n",
              "      display:flex;\n",
              "      gap: 12px;\n",
              "    }\n",
              "\n",
              "    .colab-df-convert {\n",
              "      background-color: #E8F0FE;\n",
              "      border: none;\n",
              "      border-radius: 50%;\n",
              "      cursor: pointer;\n",
              "      display: none;\n",
              "      fill: #1967D2;\n",
              "      height: 32px;\n",
              "      padding: 0 0 0 0;\n",
              "      width: 32px;\n",
              "    }\n",
              "\n",
              "    .colab-df-convert:hover {\n",
              "      background-color: #E2EBFA;\n",
              "      box-shadow: 0px 1px 2px rgba(60, 64, 67, 0.3), 0px 1px 3px 1px rgba(60, 64, 67, 0.15);\n",
              "      fill: #174EA6;\n",
              "    }\n",
              "\n",
              "    .colab-df-buttons div {\n",
              "      margin-bottom: 4px;\n",
              "    }\n",
              "\n",
              "    [theme=dark] .colab-df-convert {\n",
              "      background-color: #3B4455;\n",
              "      fill: #D2E3FC;\n",
              "    }\n",
              "\n",
              "    [theme=dark] .colab-df-convert:hover {\n",
              "      background-color: #434B5C;\n",
              "      box-shadow: 0px 1px 3px 1px rgba(0, 0, 0, 0.15);\n",
              "      filter: drop-shadow(0px 1px 2px rgba(0, 0, 0, 0.3));\n",
              "      fill: #FFFFFF;\n",
              "    }\n",
              "  </style>\n",
              "\n",
              "    <script>\n",
              "      const buttonEl =\n",
              "        document.querySelector('#df-31b14b8b-9446-4cec-a615-aca9751cbc4e button.colab-df-convert');\n",
              "      buttonEl.style.display =\n",
              "        google.colab.kernel.accessAllowed ? 'block' : 'none';\n",
              "\n",
              "      async function convertToInteractive(key) {\n",
              "        const element = document.querySelector('#df-31b14b8b-9446-4cec-a615-aca9751cbc4e');\n",
              "        const dataTable =\n",
              "          await google.colab.kernel.invokeFunction('convertToInteractive',\n",
              "                                                    [key], {});\n",
              "        if (!dataTable) return;\n",
              "\n",
              "        const docLinkHtml = 'Like what you see? Visit the ' +\n",
              "          '<a target=\"_blank\" href=https://colab.research.google.com/notebooks/data_table.ipynb>data table notebook</a>'\n",
              "          + ' to learn more about interactive tables.';\n",
              "        element.innerHTML = '';\n",
              "        dataTable['output_type'] = 'display_data';\n",
              "        await google.colab.output.renderOutput(dataTable, element);\n",
              "        const docLink = document.createElement('div');\n",
              "        docLink.innerHTML = docLinkHtml;\n",
              "        element.appendChild(docLink);\n",
              "      }\n",
              "    </script>\n",
              "  </div>\n",
              "\n",
              "\n",
              "<div id=\"df-1be05752-24ad-4ee7-a440-9cda46bed156\">\n",
              "  <button class=\"colab-df-quickchart\" onclick=\"quickchart('df-1be05752-24ad-4ee7-a440-9cda46bed156')\"\n",
              "            title=\"Suggest charts\"\n",
              "            style=\"display:none;\">\n",
              "\n",
              "<svg xmlns=\"http://www.w3.org/2000/svg\" height=\"24px\"viewBox=\"0 0 24 24\"\n",
              "     width=\"24px\">\n",
              "    <g>\n",
              "        <path d=\"M19 3H5c-1.1 0-2 .9-2 2v14c0 1.1.9 2 2 2h14c1.1 0 2-.9 2-2V5c0-1.1-.9-2-2-2zM9 17H7v-7h2v7zm4 0h-2V7h2v10zm4 0h-2v-4h2v4z\"/>\n",
              "    </g>\n",
              "</svg>\n",
              "  </button>\n",
              "\n",
              "<style>\n",
              "  .colab-df-quickchart {\n",
              "      --bg-color: #E8F0FE;\n",
              "      --fill-color: #1967D2;\n",
              "      --hover-bg-color: #E2EBFA;\n",
              "      --hover-fill-color: #174EA6;\n",
              "      --disabled-fill-color: #AAA;\n",
              "      --disabled-bg-color: #DDD;\n",
              "  }\n",
              "\n",
              "  [theme=dark] .colab-df-quickchart {\n",
              "      --bg-color: #3B4455;\n",
              "      --fill-color: #D2E3FC;\n",
              "      --hover-bg-color: #434B5C;\n",
              "      --hover-fill-color: #FFFFFF;\n",
              "      --disabled-bg-color: #3B4455;\n",
              "      --disabled-fill-color: #666;\n",
              "  }\n",
              "\n",
              "  .colab-df-quickchart {\n",
              "    background-color: var(--bg-color);\n",
              "    border: none;\n",
              "    border-radius: 50%;\n",
              "    cursor: pointer;\n",
              "    display: none;\n",
              "    fill: var(--fill-color);\n",
              "    height: 32px;\n",
              "    padding: 0;\n",
              "    width: 32px;\n",
              "  }\n",
              "\n",
              "  .colab-df-quickchart:hover {\n",
              "    background-color: var(--hover-bg-color);\n",
              "    box-shadow: 0 1px 2px rgba(60, 64, 67, 0.3), 0 1px 3px 1px rgba(60, 64, 67, 0.15);\n",
              "    fill: var(--button-hover-fill-color);\n",
              "  }\n",
              "\n",
              "  .colab-df-quickchart-complete:disabled,\n",
              "  .colab-df-quickchart-complete:disabled:hover {\n",
              "    background-color: var(--disabled-bg-color);\n",
              "    fill: var(--disabled-fill-color);\n",
              "    box-shadow: none;\n",
              "  }\n",
              "\n",
              "  .colab-df-spinner {\n",
              "    border: 2px solid var(--fill-color);\n",
              "    border-color: transparent;\n",
              "    border-bottom-color: var(--fill-color);\n",
              "    animation:\n",
              "      spin 1s steps(1) infinite;\n",
              "  }\n",
              "\n",
              "  @keyframes spin {\n",
              "    0% {\n",
              "      border-color: transparent;\n",
              "      border-bottom-color: var(--fill-color);\n",
              "      border-left-color: var(--fill-color);\n",
              "    }\n",
              "    20% {\n",
              "      border-color: transparent;\n",
              "      border-left-color: var(--fill-color);\n",
              "      border-top-color: var(--fill-color);\n",
              "    }\n",
              "    30% {\n",
              "      border-color: transparent;\n",
              "      border-left-color: var(--fill-color);\n",
              "      border-top-color: var(--fill-color);\n",
              "      border-right-color: var(--fill-color);\n",
              "    }\n",
              "    40% {\n",
              "      border-color: transparent;\n",
              "      border-right-color: var(--fill-color);\n",
              "      border-top-color: var(--fill-color);\n",
              "    }\n",
              "    60% {\n",
              "      border-color: transparent;\n",
              "      border-right-color: var(--fill-color);\n",
              "    }\n",
              "    80% {\n",
              "      border-color: transparent;\n",
              "      border-right-color: var(--fill-color);\n",
              "      border-bottom-color: var(--fill-color);\n",
              "    }\n",
              "    90% {\n",
              "      border-color: transparent;\n",
              "      border-bottom-color: var(--fill-color);\n",
              "    }\n",
              "  }\n",
              "</style>\n",
              "\n",
              "  <script>\n",
              "    async function quickchart(key) {\n",
              "      const quickchartButtonEl =\n",
              "        document.querySelector('#' + key + ' button');\n",
              "      quickchartButtonEl.disabled = true;  // To prevent multiple clicks.\n",
              "      quickchartButtonEl.classList.add('colab-df-spinner');\n",
              "      try {\n",
              "        const charts = await google.colab.kernel.invokeFunction(\n",
              "            'suggestCharts', [key], {});\n",
              "      } catch (error) {\n",
              "        console.error('Error during call to suggestCharts:', error);\n",
              "      }\n",
              "      quickchartButtonEl.classList.remove('colab-df-spinner');\n",
              "      quickchartButtonEl.classList.add('colab-df-quickchart-complete');\n",
              "    }\n",
              "    (() => {\n",
              "      let quickchartButtonEl =\n",
              "        document.querySelector('#df-1be05752-24ad-4ee7-a440-9cda46bed156 button');\n",
              "      quickchartButtonEl.style.display =\n",
              "        google.colab.kernel.accessAllowed ? 'block' : 'none';\n",
              "    })();\n",
              "  </script>\n",
              "</div>\n",
              "\n",
              "    </div>\n",
              "  </div>\n"
            ],
            "application/vnd.google.colaboratory.intrinsic+json": {
              "type": "dataframe",
              "variable_name": "comment_df"
            }
          },
          "metadata": {},
          "execution_count": 27
        }
      ]
    },
    {
      "cell_type": "code",
      "source": [
        "total_sell_year = pd.DataFrame(comment_df[comment_df['is_buyer'] == True].groupby('year')['month'].count())\n",
        "total_sell_year"
      ],
      "metadata": {
        "id": "GhgoOHrZ1qy3"
      },
      "execution_count": null,
      "outputs": []
    },
    {
      "cell_type": "code",
      "source": [
        "plt.figure(figsize=(10,5))\n",
        "sns.barplot(x=total_sell_year.index,y=total_sell_year['month'])"
      ],
      "metadata": {
        "colab": {
          "base_uri": "https://localhost:8080/",
          "height": 497
        },
        "outputId": "f7c88214-f51a-4b34-817b-9ddd17e7f384",
        "id": "vbcnOFCw1qy3"
      },
      "execution_count": null,
      "outputs": [
        {
          "output_type": "execute_result",
          "data": {
            "text/plain": [
              "<Axes: xlabel='year', ylabel='month'>"
            ]
          },
          "metadata": {},
          "execution_count": 29
        },
        {
          "output_type": "display_data",
          "data": {
            "text/plain": [
              "<Figure size 1000x500 with 1 Axes>"
            ],
            "image/png": "[encoded data removed]"
          },
          "metadata": {}
        }
      ]
    },
    {
      "cell_type": "code",
      "source": [
        "total_sell_year_month = pd.DataFrame(comment_df[comment_df['is_buyer'] == True].groupby(['year','month'])['id'].count())"
      ],
      "metadata": {
        "id": "jS_Nkj2O1qy4"
      },
      "execution_count": null,
      "outputs": []
    },
    {
      "cell_type": "code",
      "source": [
        "total_sell_year_month.reset_index('year',inplace=True)"
      ],
      "metadata": {
        "id": "toOdGvmf1qy5"
      },
      "execution_count": null,
      "outputs": []
    },
    {
      "cell_type": "code",
      "source": [
        "filter_1402 = total_sell_year_month[total_sell_year_month['year'] == '1402']\n",
        "filter_1402"
      ],
      "metadata": {
        "colab": {
          "base_uri": "https://localhost:8080/",
          "height": 300
        },
        "outputId": "e8323c14-de08-4e66-fcf8-f061dba4f8d3",
        "id": "-4bzoHSm1qy5"
      },
      "execution_count": null,
      "outputs": [
        {
          "output_type": "execute_result",
          "data": {
            "text/plain": [
              "          year      id\n",
              "month                 \n",
              "اردیبهشت  1402  222320\n",
              "تیر       1402  293232\n",
              "خرداد     1402  291197\n",
              "شهریور    1402  305241\n",
              "فروردین   1402  223834\n",
              "مرداد     1402  261729\n",
              "مهر       1402  209950"
            ],
            "text/html": [
              "\n",
              "  <div id=\"df-22592867-ea02-4cdb-9b7e-8aef53a0df71\" class=\"colab-df-container\">\n",
              "    <div>\n",
              "<style scoped>\n",
              "    .dataframe tbody tr th:only-of-type {\n",
              "        vertical-align: middle;\n",
              "    }\n",
              "\n",
              "    .dataframe tbody tr th {\n",
              "        vertical-align: top;\n",
              "    }\n",
              "\n",
              "    .dataframe thead th {\n",
              "        text-align: right;\n",
              "    }\n",
              "</style>\n",
              "<table border=\"1\" class=\"dataframe\">\n",
              "  <thead>\n",
              "    <tr style=\"text-align: right;\">\n",
              "      <th></th>\n",
              "      <th>year</th>\n",
              "      <th>id</th>\n",
              "    </tr>\n",
              "    <tr>\n",
              "      <th>month</th>\n",
              "      <th></th>\n",
              "      <th></th>\n",
              "    </tr>\n",
              "  </thead>\n",
              "  <tbody>\n",
              "    <tr>\n",
              "      <th>اردیبهشت</th>\n",
              "      <td>1402</td>\n",
              "      <td>222320</td>\n",
              "    </tr>\n",
              "    <tr>\n",
              "      <th>تیر</th>\n",
              "      <td>1402</td>\n",
              "      <td>293232</td>\n",
              "    </tr>\n",
              "    <tr>\n",
              "      <th>خرداد</th>\n",
              "      <td>1402</td>\n",
              "      <td>291197</td>\n",
              "    </tr>\n",
              "    <tr>\n",
              "      <th>شهریور</th>\n",
              "      <td>1402</td>\n",
              "      <td>305241</td>\n",
              "    </tr>\n",
              "    <tr>\n",
              "      <th>فروردین</th>\n",
              "      <td>1402</td>\n",
              "      <td>223834</td>\n",
              "    </tr>\n",
              "    <tr>\n",
              "      <th>مرداد</th>\n",
              "      <td>1402</td>\n",
              "      <td>261729</td>\n",
              "    </tr>\n",
              "    <tr>\n",
              "      <th>مهر</th>\n",
              "      <td>1402</td>\n",
              "      <td>209950</td>\n",
              "    </tr>\n",
              "  </tbody>\n",
              "</table>\n",
              "</div>\n",
              "    <div class=\"colab-df-buttons\">\n",
              "\n",
              "  <div class=\"colab-df-container\">\n",
              "    <button class=\"colab-df-convert\" onclick=\"convertToInteractive('df-22592867-ea02-4cdb-9b7e-8aef53a0df71')\"\n",
              "            title=\"Convert this dataframe to an interactive table.\"\n",
              "            style=\"display:none;\">\n",
              "\n",
              "  <svg xmlns=\"http://www.w3.org/2000/svg\" height=\"24px\" viewBox=\"0 -960 960 960\">\n",
              "    <path d=\"M120-120v-720h720v720H120Zm60-500h600v-160H180v160Zm220 220h160v-160H400v160Zm0 220h160v-160H400v160ZM180-400h160v-160H180v160Zm440 0h160v-160H620v160ZM180-180h160v-160H180v160Zm440 0h160v-160H620v160Z\"/>\n",
              "  </svg>\n",
              "    </button>\n",
              "\n",
              "  <style>\n",
              "    .colab-df-container {\n",
              "      display:flex;\n",
              "      gap: 12px;\n",
              "    }\n",
              "\n",
              "    .colab-df-convert {\n",
              "      background-color: #E8F0FE;\n",
              "      border: none;\n",
              "      border-radius: 50%;\n",
              "      cursor: pointer;\n",
              "      display: none;\n",
              "      fill: #1967D2;\n",
              "      height: 32px;\n",
              "      padding: 0 0 0 0;\n",
              "      width: 32px;\n",
              "    }\n",
              "\n",
              "    .colab-df-convert:hover {\n",
              "      background-color: #E2EBFA;\n",
              "      box-shadow: 0px 1px 2px rgba(60, 64, 67, 0.3), 0px 1px 3px 1px rgba(60, 64, 67, 0.15);\n",
              "      fill: #174EA6;\n",
              "    }\n",
              "\n",
              "    .colab-df-buttons div {\n",
              "      margin-bottom: 4px;\n",
              "    }\n",
              "\n",
              "    [theme=dark] .colab-df-convert {\n",
              "      background-color: #3B4455;\n",
              "      fill: #D2E3FC;\n",
              "    }\n",
              "\n",
              "    [theme=dark] .colab-df-convert:hover {\n",
              "      background-color: #434B5C;\n",
              "      box-shadow: 0px 1px 3px 1px rgba(0, 0, 0, 0.15);\n",
              "      filter: drop-shadow(0px 1px 2px rgba(0, 0, 0, 0.3));\n",
              "      fill: #FFFFFF;\n",
              "    }\n",
              "  </style>\n",
              "\n",
              "    <script>\n",
              "      const buttonEl =\n",
              "        document.querySelector('#df-22592867-ea02-4cdb-9b7e-8aef53a0df71 button.colab-df-convert');\n",
              "      buttonEl.style.display =\n",
              "        google.colab.kernel.accessAllowed ? 'block' : 'none';\n",
              "\n",
              "      async function convertToInteractive(key) {\n",
              "        const element = document.querySelector('#df-22592867-ea02-4cdb-9b7e-8aef53a0df71');\n",
              "        const dataTable =\n",
              "          await google.colab.kernel.invokeFunction('convertToInteractive',\n",
              "                                                    [key], {});\n",
              "        if (!dataTable) return;\n",
              "\n",
              "        const docLinkHtml = 'Like what you see? Visit the ' +\n",
              "          '<a target=\"_blank\" href=https://colab.research.google.com/notebooks/data_table.ipynb>data table notebook</a>'\n",
              "          + ' to learn more about interactive tables.';\n",
              "        element.innerHTML = '';\n",
              "        dataTable['output_type'] = 'display_data';\n",
              "        await google.colab.output.renderOutput(dataTable, element);\n",
              "        const docLink = document.createElement('div');\n",
              "        docLink.innerHTML = docLinkHtml;\n",
              "        element.appendChild(docLink);\n",
              "      }\n",
              "    </script>\n",
              "  </div>\n",
              "\n",
              "\n",
              "<div id=\"df-d2769ccb-6ac6-4e76-8ff6-d83a30030d8e\">\n",
              "  <button class=\"colab-df-quickchart\" onclick=\"quickchart('df-d2769ccb-6ac6-4e76-8ff6-d83a30030d8e')\"\n",
              "            title=\"Suggest charts\"\n",
              "            style=\"display:none;\">\n",
              "\n",
              "<svg xmlns=\"http://www.w3.org/2000/svg\" height=\"24px\"viewBox=\"0 0 24 24\"\n",
              "     width=\"24px\">\n",
              "    <g>\n",
              "        <path d=\"M19 3H5c-1.1 0-2 .9-2 2v14c0 1.1.9 2 2 2h14c1.1 0 2-.9 2-2V5c0-1.1-.9-2-2-2zM9 17H7v-7h2v7zm4 0h-2V7h2v10zm4 0h-2v-4h2v4z\"/>\n",
              "    </g>\n",
              "</svg>\n",
              "  </button>\n",
              "\n",
              "<style>\n",
              "  .colab-df-quickchart {\n",
              "      --bg-color: #E8F0FE;\n",
              "      --fill-color: #1967D2;\n",
              "      --hover-bg-color: #E2EBFA;\n",
              "      --hover-fill-color: #174EA6;\n",
              "      --disabled-fill-color: #AAA;\n",
              "      --disabled-bg-color: #DDD;\n",
              "  }\n",
              "\n",
              "  [theme=dark] .colab-df-quickchart {\n",
              "      --bg-color: #3B4455;\n",
              "      --fill-color: #D2E3FC;\n",
              "      --hover-bg-color: #434B5C;\n",
              "      --hover-fill-color: #FFFFFF;\n",
              "      --disabled-bg-color: #3B4455;\n",
              "      --disabled-fill-color: #666;\n",
              "  }\n",
              "\n",
              "  .colab-df-quickchart {\n",
              "    background-color: var(--bg-color);\n",
              "    border: none;\n",
              "    border-radius: 50%;\n",
              "    cursor: pointer;\n",
              "    display: none;\n",
              "    fill: var(--fill-color);\n",
              "    height: 32px;\n",
              "    padding: 0;\n",
              "    width: 32px;\n",
              "  }\n",
              "\n",
              "  .colab-df-quickchart:hover {\n",
              "    background-color: var(--hover-bg-color);\n",
              "    box-shadow: 0 1px 2px rgba(60, 64, 67, 0.3), 0 1px 3px 1px rgba(60, 64, 67, 0.15);\n",
              "    fill: var(--button-hover-fill-color);\n",
              "  }\n",
              "\n",
              "  .colab-df-quickchart-complete:disabled,\n",
              "  .colab-df-quickchart-complete:disabled:hover {\n",
              "    background-color: var(--disabled-bg-color);\n",
              "    fill: var(--disabled-fill-color);\n",
              "    box-shadow: none;\n",
              "  }\n",
              "\n",
              "  .colab-df-spinner {\n",
              "    border: 2px solid var(--fill-color);\n",
              "    border-color: transparent;\n",
              "    border-bottom-color: var(--fill-color);\n",
              "    animation:\n",
              "      spin 1s steps(1) infinite;\n",
              "  }\n",
              "\n",
              "  @keyframes spin {\n",
              "    0% {\n",
              "      border-color: transparent;\n",
              "      border-bottom-color: var(--fill-color);\n",
              "      border-left-color: var(--fill-color);\n",
              "    }\n",
              "    20% {\n",
              "      border-color: transparent;\n",
              "      border-left-color: var(--fill-color);\n",
              "      border-top-color: var(--fill-color);\n",
              "    }\n",
              "    30% {\n",
              "      border-color: transparent;\n",
              "      border-left-color: var(--fill-color);\n",
              "      border-top-color: var(--fill-color);\n",
              "      border-right-color: var(--fill-color);\n",
              "    }\n",
              "    40% {\n",
              "      border-color: transparent;\n",
              "      border-right-color: var(--fill-color);\n",
              "      border-top-color: var(--fill-color);\n",
              "    }\n",
              "    60% {\n",
              "      border-color: transparent;\n",
              "      border-right-color: var(--fill-color);\n",
              "    }\n",
              "    80% {\n",
              "      border-color: transparent;\n",
              "      border-right-color: var(--fill-color);\n",
              "      border-bottom-color: var(--fill-color);\n",
              "    }\n",
              "    90% {\n",
              "      border-color: transparent;\n",
              "      border-bottom-color: var(--fill-color);\n",
              "    }\n",
              "  }\n",
              "</style>\n",
              "\n",
              "  <script>\n",
              "    async function quickchart(key) {\n",
              "      const quickchartButtonEl =\n",
              "        document.querySelector('#' + key + ' button');\n",
              "      quickchartButtonEl.disabled = true;  // To prevent multiple clicks.\n",
              "      quickchartButtonEl.classList.add('colab-df-spinner');\n",
              "      try {\n",
              "        const charts = await google.colab.kernel.invokeFunction(\n",
              "            'suggestCharts', [key], {});\n",
              "      } catch (error) {\n",
              "        console.error('Error during call to suggestCharts:', error);\n",
              "      }\n",
              "      quickchartButtonEl.classList.remove('colab-df-spinner');\n",
              "      quickchartButtonEl.classList.add('colab-df-quickchart-complete');\n",
              "    }\n",
              "    (() => {\n",
              "      let quickchartButtonEl =\n",
              "        document.querySelector('#df-d2769ccb-6ac6-4e76-8ff6-d83a30030d8e button');\n",
              "      quickchartButtonEl.style.display =\n",
              "        google.colab.kernel.accessAllowed ? 'block' : 'none';\n",
              "    })();\n",
              "  </script>\n",
              "</div>\n",
              "\n",
              "  <div id=\"id_ebe00021-59d3-4e95-a2af-98e011e89bdc\">\n",
              "    <style>\n",
              "      .colab-df-generate {\n",
              "        background-color: #E8F0FE;\n",
              "        border: none;\n",
              "        border-radius: 50%;\n",
              "        cursor: pointer;\n",
              "        display: none;\n",
              "        fill: #1967D2;\n",
              "        height: 32px;\n",
              "        padding: 0 0 0 0;\n",
              "        width: 32px;\n",
              "      }\n",
              "\n",
              "      .colab-df-generate:hover {\n",
              "        background-color: #E2EBFA;\n",
              "        box-shadow: 0px 1px 2px rgba(60, 64, 67, 0.3), 0px 1px 3px 1px rgba(60, 64, 67, 0.15);\n",
              "        fill: #174EA6;\n",
              "      }\n",
              "\n",
              "      [theme=dark] .colab-df-generate {\n",
              "        background-color: #3B4455;\n",
              "        fill: #D2E3FC;\n",
              "      }\n",
              "\n",
              "      [theme=dark] .colab-df-generate:hover {\n",
              "        background-color: #434B5C;\n",
              "        box-shadow: 0px 1px 3px 1px rgba(0, 0, 0, 0.15);\n",
              "        filter: drop-shadow(0px 1px 2px rgba(0, 0, 0, 0.3));\n",
              "        fill: #FFFFFF;\n",
              "      }\n",
              "    </style>\n",
              "    <button class=\"colab-df-generate\" onclick=\"generateWithVariable('filter_1402')\"\n",
              "            title=\"Generate code using this dataframe.\"\n",
              "            style=\"display:none;\">\n",
              "\n",
              "  <svg xmlns=\"http://www.w3.org/2000/svg\" height=\"24px\"viewBox=\"0 0 24 24\"\n",
              "       width=\"24px\">\n",
              "    <path d=\"M7,19H8.4L18.45,9,17,7.55,7,17.6ZM5,21V16.75L18.45,3.32a2,2,0,0,1,2.83,0l1.4,1.43a1.91,1.91,0,0,1,.58,1.4,1.91,1.91,0,0,1-.58,1.4L9.25,21ZM18.45,9,17,7.55Zm-12,3A5.31,5.31,0,0,0,4.9,8.1,5.31,5.31,0,0,0,1,6.5,5.31,5.31,0,0,0,4.9,4.9,5.31,5.31,0,0,0,6.5,1,5.31,5.31,0,0,0,8.1,4.9,5.31,5.31,0,0,0,12,6.5,5.46,5.46,0,0,0,6.5,12Z\"/>\n",
              "  </svg>\n",
              "    </button>\n",
              "    <script>\n",
              "      (() => {\n",
              "      const buttonEl =\n",
              "        document.querySelector('#id_ebe00021-59d3-4e95-a2af-98e011e89bdc button.colab-df-generate');\n",
              "      buttonEl.style.display =\n",
              "        google.colab.kernel.accessAllowed ? 'block' : 'none';\n",
              "\n",
              "      buttonEl.onclick = () => {\n",
              "        google.colab.notebook.generateWithVariable('filter_1402');\n",
              "      }\n",
              "      })();\n",
              "    </script>\n",
              "  </div>\n",
              "\n",
              "    </div>\n",
              "  </div>\n"
            ],
            "application/vnd.google.colaboratory.intrinsic+json": {
              "type": "dataframe",
              "variable_name": "filter_1402",
              "summary": "{\n  \"name\": \"filter_1402\",\n  \"rows\": 7,\n  \"fields\": [\n    {\n      \"column\": \"month\",\n      \"properties\": {\n        \"dtype\": \"string\",\n        \"num_unique_values\": 7,\n        \"samples\": [\n          \"\\u0627\\u0631\\u062f\\u06cc\\u0628\\u0647\\u0634\\u062a\",\n          \"\\u062a\\u06cc\\u0631\",\n          \"\\u0645\\u0631\\u062f\\u0627\\u062f\"\n        ],\n        \"semantic_type\": \"\",\n        \"description\": \"\"\n      }\n    },\n    {\n      \"column\": \"year\",\n      \"properties\": {\n        \"dtype\": \"category\",\n        \"num_unique_values\": 1,\n        \"samples\": [\n          \"1402\"\n        ],\n        \"semantic_type\": \"\",\n        \"description\": \"\"\n      }\n    },\n    {\n      \"column\": \"id\",\n      \"properties\": {\n        \"dtype\": \"number\",\n        \"std\": 39449,\n        \"min\": 209950,\n        \"max\": 305241,\n        \"num_unique_values\": 7,\n        \"samples\": [\n          222320\n        ],\n        \"semantic_type\": \"\",\n        \"description\": \"\"\n      }\n    }\n  ]\n}"
            }
          },
          "metadata": {},
          "execution_count": 44
        }
      ]
    },
    {
      "cell_type": "code",
      "source": [
        "! pip install arabic-reshaper\n",
        "! pip install python-bidi"
      ],
      "metadata": {
        "colab": {
          "base_uri": "https://localhost:8080/"
        },
        "outputId": "82787d6f-7280-4d56-b36a-c9f8795d5add",
        "id": "aZqYVDc81qy6"
      },
      "execution_count": null,
      "outputs": [
        {
          "output_type": "stream",
          "name": "stdout",
          "text": [
            "Requirement already satisfied: arabic-reshaper in /usr/local/lib/python3.10/dist-packages (3.0.0)\n",
            "Requirement already satisfied: python-bidi in /usr/local/lib/python3.10/dist-packages (0.6.3)\n"
          ]
        }
      ]
    },
    {
      "cell_type": "code",
      "source": [
        "from bidi.algorithm import get_display\n",
        "from arabic_reshaper import reshape"
      ],
      "metadata": {
        "id": "KsF6yNO11qy6"
      },
      "execution_count": null,
      "outputs": []
    },
    {
      "cell_type": "code",
      "source": [
        "month_name = filter_1402.index.to_list()\n",
        "persian_labels = [get_display(reshape(label)) for label in month_name]"
      ],
      "metadata": {
        "id": "k-vghb_w1qy7"
      },
      "execution_count": null,
      "outputs": []
    },
    {
      "cell_type": "code",
      "source": [
        "sns.barplot(x=persian_labels,y=filter_1402['id'])\n",
        "plt.title('Number of Sale in 1402')\n",
        "plt.xlabel('Month')\n",
        "plt.ylabel('Number of Sale')\n",
        "plt.show()"
      ],
      "metadata": {
        "colab": {
          "base_uri": "https://localhost:8080/",
          "height": 472
        },
        "outputId": "6e9a93b2-3e77-447d-ac0f-086c4b4fc336",
        "id": "rgQrzuBJ1qy8"
      },
      "execution_count": null,
      "outputs": [
        {
          "output_type": "display_data",
          "data": {
            "text/plain": [
              "<Figure size 640x480 with 1 Axes>"
            ],
            "image/png": "[encoded data removed]"
          },
          "metadata": {}
        }
      ]
    },
    {
      "cell_type": "markdown",
      "source": [
        "**How many products were recommended?**"
      ],
      "metadata": {
        "id": "tQpoOQrrs_ow"
      }
    },
    {
      "cell_type": "code",
      "source": [
        "# How many products are recommended?\n",
        "recommended = comment_df['recommendation_status'].value_counts()\n",
        "recommended"
      ],
      "metadata": {
        "colab": {
          "base_uri": "https://localhost:8080/",
          "height": 210
        },
        "id": "oXpHwax4oVc-",
        "outputId": "bb8a0a79-a7b1-4f4e-e91f-5b8d6c38e32c"
      },
      "execution_count": null,
      "outputs": [
        {
          "output_type": "execute_result",
          "data": {
            "text/plain": [
              "recommendation_status\n",
              "recommended        4162417\n",
              "no_idea             594078\n",
              "not_recommended     504867\n",
              "Name: count, dtype: int64"
            ],
            "text/html": [
              "<div>\n",
              "<style scoped>\n",
              "    .dataframe tbody tr th:only-of-type {\n",
              "        vertical-align: middle;\n",
              "    }\n",
              "\n",
              "    .dataframe tbody tr th {\n",
              "        vertical-align: top;\n",
              "    }\n",
              "\n",
              "    .dataframe thead th {\n",
              "        text-align: right;\n",
              "    }\n",
              "</style>\n",
              "<table border=\"1\" class=\"dataframe\">\n",
              "  <thead>\n",
              "    <tr style=\"text-align: right;\">\n",
              "      <th></th>\n",
              "      <th>count</th>\n",
              "    </tr>\n",
              "    <tr>\n",
              "      <th>recommendation_status</th>\n",
              "      <th></th>\n",
              "    </tr>\n",
              "  </thead>\n",
              "  <tbody>\n",
              "    <tr>\n",
              "      <th>recommended</th>\n",
              "      <td>4162417</td>\n",
              "    </tr>\n",
              "    <tr>\n",
              "      <th>no_idea</th>\n",
              "      <td>594078</td>\n",
              "    </tr>\n",
              "    <tr>\n",
              "      <th>not_recommended</th>\n",
              "      <td>504867</td>\n",
              "    </tr>\n",
              "  </tbody>\n",
              "</table>\n",
              "</div><br><label><b>dtype:</b> int64</label>"
            ]
          },
          "metadata": {},
          "execution_count": 28
        }
      ]
    },
    {
      "cell_type": "code",
      "source": [
        "sns.barplot(x=recommended.index,y=recommended.values)\n",
        "plt.title('Number of Recommended Products')\n",
        "plt.xlabel('Recommendation Status')\n",
        "plt.ylabel('Count')\n",
        "plt.show()"
      ],
      "metadata": {
        "colab": {
          "base_uri": "https://localhost:8080/",
          "height": 472
        },
        "id": "CckGpDGwpj_m",
        "outputId": "01ff4cde-5c6a-4d67-e3f1-16f9dcba82fc"
      },
      "execution_count": null,
      "outputs": [
        {
          "output_type": "display_data",
          "data": {
            "text/plain": [
              "<Figure size 640x480 with 1 Axes>"
            ],
            "image/png": "[encoded data removed]"
          },
          "metadata": {}
        }
      ]
    },
    {
      "cell_type": "markdown",
      "source": [
        "**Recommended** has a large gap with **no_idea** and **not_recommended**"
      ],
      "metadata": {
        "id": "E76liSd71w89"
      }
    },
    {
      "cell_type": "markdown",
      "source": [
        "**Step 2**:\n",
        "- <font color='blue'>**Cheking null values**</font>\n",
        "- <font color='blue'>**Cheking outliers**</font>\n",
        "- <font color='blue'>**Checking noisy data**</font>\n",
        "- <font color='blue'>**Analyzing important and unimportant features**</font>\n"
      ],
      "metadata": {
        "id": "mVtI2JyC2Xw9"
      }
    },
    {
      "cell_type": "markdown",
      "metadata": {
        "id": "ENomleUxSvi0"
      },
      "source": [
        "Let's go to check how many missing values there are in the dataset.\n"
      ]
    },
    {
      "cell_type": "code",
      "execution_count": null,
      "metadata": {
        "colab": {
          "base_uri": "https://localhost:8080/",
          "height": 554
        },
        "id": "Q9NO4ynTPffL",
        "outputId": "d198479c-e696-4d38-e1eb-ec87ea00ca01"
      },
      "outputs": [
        {
          "data": {
            "text/html": [
              "<div>\n",
              "<style scoped>\n",
              "    .dataframe tbody tr th:only-of-type {\n",
              "        vertical-align: middle;\n",
              "    }\n",
              "\n",
              "    .dataframe tbody tr th {\n",
              "        vertical-align: top;\n",
              "    }\n",
              "\n",
              "    .dataframe thead th {\n",
              "        text-align: right;\n",
              "    }\n",
              "</style>\n",
              "<table border=\"1\" class=\"dataframe\">\n",
              "  <thead>\n",
              "    <tr style=\"text-align: right;\">\n",
              "      <th></th>\n",
              "      <th>0</th>\n",
              "    </tr>\n",
              "  </thead>\n",
              "  <tbody>\n",
              "    <tr>\n",
              "      <th>id</th>\n",
              "      <td>0</td>\n",
              "    </tr>\n",
              "    <tr>\n",
              "      <th>title</th>\n",
              "      <td>2865062</td>\n",
              "    </tr>\n",
              "    <tr>\n",
              "      <th>body</th>\n",
              "      <td>637</td>\n",
              "    </tr>\n",
              "    <tr>\n",
              "      <th>created_at</th>\n",
              "      <td>0</td>\n",
              "    </tr>\n",
              "    <tr>\n",
              "      <th>rate</th>\n",
              "      <td>0</td>\n",
              "    </tr>\n",
              "    <tr>\n",
              "      <th>recommendation_status</th>\n",
              "      <td>894426</td>\n",
              "    </tr>\n",
              "    <tr>\n",
              "      <th>is_buyer</th>\n",
              "      <td>0</td>\n",
              "    </tr>\n",
              "    <tr>\n",
              "      <th>product_id</th>\n",
              "      <td>0</td>\n",
              "    </tr>\n",
              "    <tr>\n",
              "      <th>advantages</th>\n",
              "      <td>5448084</td>\n",
              "    </tr>\n",
              "    <tr>\n",
              "      <th>disadvantages</th>\n",
              "      <td>5744017</td>\n",
              "    </tr>\n",
              "    <tr>\n",
              "      <th>likes</th>\n",
              "      <td>0</td>\n",
              "    </tr>\n",
              "    <tr>\n",
              "      <th>dislikes</th>\n",
              "      <td>0</td>\n",
              "    </tr>\n",
              "    <tr>\n",
              "      <th>seller_title</th>\n",
              "      <td>302181</td>\n",
              "    </tr>\n",
              "    <tr>\n",
              "      <th>seller_code</th>\n",
              "      <td>302181</td>\n",
              "    </tr>\n",
              "    <tr>\n",
              "      <th>true_to_size_rate</th>\n",
              "      <td>6065516</td>\n",
              "    </tr>\n",
              "  </tbody>\n",
              "</table>\n",
              "</div><br><label><b>dtype:</b> int64</label>"
            ],
            "text/plain": [
              "id                             0\n",
              "title                    2865062\n",
              "body                         637\n",
              "created_at                     0\n",
              "rate                           0\n",
              "recommendation_status     894426\n",
              "is_buyer                       0\n",
              "product_id                     0\n",
              "advantages               5448084\n",
              "disadvantages            5744017\n",
              "likes                          0\n",
              "dislikes                       0\n",
              "seller_title              302181\n",
              "seller_code               302181\n",
              "true_to_size_rate        6065516\n",
              "dtype: int64"
            ]
          },
          "execution_count": 11,
          "metadata": {},
          "output_type": "execute_result"
        }
      ],
      "source": [
        "comment_df.isnull().sum()"
      ]
    },
    {
      "cell_type": "markdown",
      "metadata": {
        "id": "Be8D3EttS-X9"
      },
      "source": [
        "As we can see many columns have **null values**\n",
        "\n",
        "<font color='blue'>What can we do?</font>\n",
        "- We can fill null values in some ways like median, mean, mode for numerical columns\n",
        "- We can check on the internet to fill the null values if possible\n",
        "- We can drop some columns that are not important for our analysis\n",
        "\n",
        "and so on.\n",
        "\n",
        "\n",
        "\n",
        "There are many usefull methods to fill null values <font color='red'>**but**</font> in our analysis it's better to drop unimportant columns.\n",
        "\n",
        "<font color='blue'>**Let's do that:**</font>"
      ]
    },
    {
      "cell_type": "markdown",
      "metadata": {
        "id": "LWCgM4YvVLV-"
      },
      "source": [
        "Before remove some columns, Let's check how many percentages of null values ​​are there in the advantages and disadvantages columns:"
      ]
    },
    {
      "cell_type": "code",
      "execution_count": null,
      "metadata": {
        "colab": {
          "base_uri": "https://localhost:8080/"
        },
        "id": "QOdsIstCVKhi",
        "outputId": "c821db3d-df11-4c09-8fa4-4ee38ba21a8b"
      },
      "outputs": [
        {
          "name": "stdout",
          "output_type": "stream",
          "text": [
            "The percentage of null values for advantages column: 88.5%\n",
            "The percentage of null values for disadvantages column: 93.3%\n"
          ]
        }
      ],
      "source": [
        "# For advantages column\n",
        "null_values_adv = comment_df['advantages'].isnull().sum()\n",
        "size_adv = comment_df.shape[0]\n",
        "print(f'The percentage of null values for advantages column: {round((null_values_adv / size_adv) * 100,2)}%')\n",
        "\n",
        "# For disadvantages column\n",
        "null_values_dis = comment_df['disadvantages'].isnull().sum()\n",
        "size_dis = comment_df.shape[0]\n",
        "print(f'The percentage of null values for disadvantages column: {round((null_values_dis / size_dis) * 100,2)}%')"
      ]
    },
    {
      "cell_type": "markdown",
      "metadata": {
        "id": "XxZ6xJTNWFK0"
      },
      "source": [
        "Ooops 😯\n",
        "\n",
        "There are so many null values in these columns thus there should be dropped."
      ]
    },
    {
      "cell_type": "markdown",
      "metadata": {
        "id": "FOn7B2zyWlQm"
      },
      "source": [
        "But before removing the columns for curiosity, let's check which stores had the highest number of rates:"
      ]
    },
    {
      "cell_type": "code",
      "execution_count": null,
      "metadata": {
        "colab": {
          "base_uri": "https://localhost:8080/",
          "height": 429
        },
        "id": "8UBWa1vEW0T1",
        "outputId": "71bd34e9-583d-4feb-8d7a-802c99dd5096"
      },
      "outputs": [
        {
          "data": {
            "text/html": [
              "<div>\n",
              "<style scoped>\n",
              "    .dataframe tbody tr th:only-of-type {\n",
              "        vertical-align: middle;\n",
              "    }\n",
              "\n",
              "    .dataframe tbody tr th {\n",
              "        vertical-align: top;\n",
              "    }\n",
              "\n",
              "    .dataframe thead th {\n",
              "        text-align: right;\n",
              "    }\n",
              "</style>\n",
              "<table border=\"1\" class=\"dataframe\">\n",
              "  <thead>\n",
              "    <tr style=\"text-align: right;\">\n",
              "      <th></th>\n",
              "      <th>rate</th>\n",
              "    </tr>\n",
              "    <tr>\n",
              "      <th>seller_title</th>\n",
              "      <th></th>\n",
              "    </tr>\n",
              "  </thead>\n",
              "  <tbody>\n",
              "    <tr>\n",
              "      <th>مهرگل</th>\n",
              "      <td>423</td>\n",
              "    </tr>\n",
              "    <tr>\n",
              "      <th>آذر کالا</th>\n",
              "      <td>316</td>\n",
              "    </tr>\n",
              "    <tr>\n",
              "      <th>دریم کالا</th>\n",
              "      <td>262</td>\n",
              "    </tr>\n",
              "    <tr>\n",
              "      <th>آرامد حدیث</th>\n",
              "      <td>228</td>\n",
              "    </tr>\n",
              "    <tr>\n",
              "      <th>فروشگاه بانو</th>\n",
              "      <td>171</td>\n",
              "    </tr>\n",
              "    <tr>\n",
              "      <th>آذیموس</th>\n",
              "      <td>133</td>\n",
              "    </tr>\n",
              "    <tr>\n",
              "      <th>کنکاش</th>\n",
              "      <td>61</td>\n",
              "    </tr>\n",
              "    <tr>\n",
              "      <th>آمیتیس</th>\n",
              "      <td>57</td>\n",
              "    </tr>\n",
              "    <tr>\n",
              "      <th>ارزان کده نازنین</th>\n",
              "      <td>27</td>\n",
              "    </tr>\n",
              "    <tr>\n",
              "      <th>لیدیز بیوتی</th>\n",
              "      <td>26</td>\n",
              "    </tr>\n",
              "  </tbody>\n",
              "</table>\n",
              "</div><br><label><b>dtype:</b> int64</label>"
            ],
            "text/plain": [
              "seller_title\n",
              " مهرگل               423\n",
              "آذر کالا             316\n",
              " دریم کالا           262\n",
              "آرامد حدیث           228\n",
              "  فروشگاه بانو       171\n",
              "آذیموس               133\n",
              " کنکاش                61\n",
              " آمیتیس               57\n",
              " ارزان کده نازنین     27\n",
              " لیدیز بیوتی          26\n",
              "Name: rate, dtype: int64"
            ]
          },
          "execution_count": 18,
          "metadata": {},
          "output_type": "execute_result"
        }
      ],
      "source": [
        "seller_most_rate = comment_df.groupby('seller_title')['rate'].count()[:10]\n",
        "seller_most_rate.sort_values(ascending=False)"
      ]
    },
    {
      "cell_type": "markdown",
      "metadata": {
        "id": "HRXGP42qW8Pf"
      },
      "source": [
        "Good.\n",
        "\n",
        "In <font color='blue'>is_buyer</font> column there are 2 boolean:\n",
        "- <font color='green'>**True**</font>, It means that person buy the product.\n",
        "- <font color='red'>**False**</font>, It means that person doesn't buy the product.\n",
        "\n",
        "Check how many of people weather buy product or not."
      ]
    },
    {
      "cell_type": "code",
      "execution_count": null,
      "metadata": {
        "colab": {
          "base_uri": "https://localhost:8080/"
        },
        "id": "cpFSaO34X7wd",
        "outputId": "ffcbfcba-82a6-40e3-ca1f-9d35f0fd44e0"
      },
      "outputs": [
        {
          "name": "stdout",
          "output_type": "stream",
          "text": [
            "Percentage of people weather buy product: 95.09%\n",
            "Percentage of people weather not buy product: 4.91%\n"
          ]
        }
      ],
      "source": [
        "# What percentage of people bought the product?\n",
        "count_buyer = round((comment_df['is_buyer'].value_counts()[0] / comment_df.shape[0]) * 100,2)\n",
        "count_not_buyer = round((comment_df['is_buyer'].value_counts()[1] / comment_df.shape[0]) * 100,2)\n",
        "print(f'Percentage of people weather buy product: {count_buyer}%')\n",
        "print(f'Percentage of people weather not buy product: {count_not_buyer}%')"
      ]
    },
    {
      "cell_type": "code",
      "execution_count": null,
      "metadata": {
        "colab": {
          "base_uri": "https://localhost:8080/",
          "height": 430
        },
        "id": "rVNvCK7tZawh",
        "outputId": "a2c2d8f5-c208-4084-a66d-bcb903795a55"
      },
      "outputs": [
        {
          "data": {
            "image/png": "[encoded data removed]",
            "text/plain": [
              "<Figure size 640x480 with 1 Axes>"
            ]
          },
          "metadata": {},
          "output_type": "display_data"
        }
      ],
      "source": [
        "# plot count_buyer and count_not_buyer\n",
        "sns.barplot(x=['buyer','not buyer'], y=[count_buyer,count_not_buyer])\n",
        "plt.show()"
      ]
    },
    {
      "cell_type": "markdown",
      "metadata": {
        "id": "cnVAwRoNZNOW"
      },
      "source": [
        "It's better to remove cases that didn't buy product"
      ]
    },
    {
      "cell_type": "markdown",
      "metadata": {
        "id": "tdHYgJBbaaFP"
      },
      "source": [
        "How about <font color='blue'>**recommendation_status**</font> column?\n",
        "\n",
        "Let's go to analyze:"
      ]
    },
    {
      "cell_type": "code",
      "execution_count": null,
      "metadata": {
        "id": "puEsGXHRapeU"
      },
      "outputs": [],
      "source": [
        "# How many products are recommended?\n",
        "recommended = comment_df['recommendation_status'].value_counts()"
      ]
    },
    {
      "cell_type": "code",
      "execution_count": null,
      "metadata": {
        "colab": {
          "base_uri": "https://localhost:8080/"
        },
        "id": "TjyJjvDualfn",
        "outputId": "77777dc6-4604-41b2-ca0e-91a06afad511"
      },
      "outputs": [
        {
          "name": "stdout",
          "output_type": "stream",
          "text": [
            "Rate of recommended products: 79.1%\n",
            "Rate of not recommended products: 9.6%\n",
            "Rate of no idea products: 11.3%\n"
          ]
        }
      ],
      "source": [
        "# How many percentage of products were recommended by poeple?\n",
        "rate_recommended = round((recommended['recommended'] / recommended.sum()) * 100,1)\n",
        "rate_not_recommended = round((recommended['not_recommended'] / recommended.sum()) * 100,1)\n",
        "rate_noidea = round((recommended['no_idea'] / recommended.sum()) * 100,1)\n",
        "\n",
        "print(f'Rate of recommended products: {rate_recommended}%')\n",
        "print(f'Rate of not recommended products: {rate_not_recommended}%')\n",
        "print(f'Rate of no idea products: {rate_noidea}%')"
      ]
    },
    {
      "cell_type": "markdown",
      "metadata": {
        "id": "k6CESlIra218"
      },
      "source": [
        "Ummm 🤔\n",
        "\n",
        "That's cool."
      ]
    },
    {
      "cell_type": "markdown",
      "metadata": {
        "id": "APHIA6_fbG9n"
      },
      "source": [
        "How about <font color='red'>**noisy**</font> and <font color='orange'>**outliers**</font> data points?\n",
        "\n",
        "The <font color='blue'>**rate**</font> and <font color='blue'>**body**</font> columns are the **most important** columns in my analysis, but before working with these columns, it is better to check to see how many percentages or how much data noise or outliers there are."
      ]
    },
    {
      "cell_type": "code",
      "execution_count": null,
      "metadata": {
        "colab": {
          "base_uri": "https://localhost:8080/"
        },
        "id": "vSGkHb-Tai5q",
        "outputId": "67b5faaa-a6da-45f0-ba3a-50ee2b995dbc"
      },
      "outputs": [
        {
          "data": {
            "text/plain": [
              "array([1.00e+00, 0.00e+00, 3.00e+00, 5.00e+00, 2.00e+00, 4.00e+00,\n",
              "       4.25e+00, 4.50e+00, 3.75e+00, 3.25e+00, 2.75e+00, 5.00e-01,\n",
              "       4.75e+00, 3.50e+00, 4.60e+00, 1.50e+00, 2.00e-01, 2.50e+00,\n",
              "       4.40e+00, 1.80e+00, 2.65e+00, 2.25e+00, 3.40e+00, 4.80e+00,\n",
              "       4.65e+00, 3.80e+00, 4.20e+00, 2.70e+00, 2.60e+00, 3.85e+00,\n",
              "       3.60e+00, 1.70e+00, 4.30e+00, 2.15e+00, 4.85e+00, 1.90e+00,\n",
              "       4.70e+00, 3.30e+00, 2.80e+00, 1.40e+00, 2.40e+00, 3.35e+00,\n",
              "       4.35e+00, 3.70e+00, 2.90e+00, 1.20e+00, 1.25e+00, 4.45e+00,\n",
              "       3.20e+00, 1.60e+00, 2.20e+00, 4.33e+00, 1.33e+00, 4.00e-01,\n",
              "       8.00e-01, 4.67e+00, 1.50e-01, 1.75e+00, 4.10e+00, 2.50e-01,\n",
              "       3.10e+00, 3.90e+00, 1.00e-01, 2.67e+00, 3.67e+00, 3.33e+00,\n",
              "       2.33e+00, 1.67e+00, 7.50e-01, 1.30e+00, 4.90e+00, 2.30e+00,\n",
              "       3.55e+00, 4.15e+00, 3.45e+00, 1.45e+00, 4.05e+00, 3.00e-01,\n",
              "       4.55e+00, 3.65e+00, 2.10e+00, 1.85e+00, 3.05e+00, 8.50e-01,\n",
              "       7.00e-01, 3.95e+00, 2.45e+00, 1.55e+00, 2.05e+00, 2.95e+00,\n",
              "       1.95e+00, 1.15e+00, 2.85e+00, 3.15e+00, 2.35e+00, 2.55e+00,\n",
              "       1.35e+00, 5.00e-02, 1.10e+00, 6.00e-01, 2.21e+00, 9.00e-01,\n",
              "       4.64e+00, 3.36e+00, 3.27e+00, 2.64e+00, 4.27e+00, 4.73e+00,\n",
              "       5.50e-01, 4.50e-01, 1.05e+00, 1.65e+00, 2.14e+00, 3.30e-01,\n",
              "       9.50e-01, 2.27e+00, 3.64e+00, 4.21e+00, 4.79e+00, 4.57e+00,\n",
              "       3.93e+00, 6.70e-01, 3.50e-01, 3.73e+00, 4.36e+00, 4.09e+00,\n",
              "       4.29e+00, 2.79e+00, 6.50e-01, 4.71e+00, 3.79e+00, 1.86e+00,\n",
              "       2.73e+00, 1.64e+00, 4.56e+00, 1.36e+00, 7.90e-01, 2.71e+00,\n",
              "       3.21e+00, 2.43e+00, 2.93e+00, 3.43e+00, 1.71e+00, 7.10e-01,\n",
              "       3.86e+00, 3.71e+00, 2.29e+00, 3.57e+00, 2.36e+00, 1.27e+00,\n",
              "       1.29e+00, 1.57e+00, 1.92e+00, 1.21e+00, 1.93e+00, 4.43e+00,\n",
              "       3.14e+00, 2.07e+00, 3.38e+00, 4.14e+00, 2.90e-01, 1.73e+00,\n",
              "       2.57e+00, 1.79e+00, 3.29e+00, 3.09e+00, 1.91e+00, 2.70e-01,\n",
              "       6.40e-01, 3.07e+00, 4.88e+00, 4.63e+00, 4.38e+00, 3.63e+00,\n",
              "       4.13e+00, 3.88e+00, 5.70e-01, 2.50e+03])"
            ]
          },
          "execution_count": 12,
          "metadata": {},
          "output_type": "execute_result"
        }
      ],
      "source": [
        "# How many unique data are there in rate column\n",
        "comment_df['rate'].unique()"
      ]
    },
    {
      "cell_type": "code",
      "execution_count": null,
      "metadata": {
        "colab": {
          "base_uri": "https://localhost:8080/",
          "height": 81
        },
        "id": "ix4sGY7ZoImb",
        "outputId": "b08889a3-7a94-4916-b1f8-84d6e007cccc"
      },
      "outputs": [
        {
          "data": {
            "application/vnd.google.colaboratory.intrinsic+json": {
              "summary": "{\n  \"name\": \"comment_df['rate']\",\n  \"rows\": 1,\n  \"fields\": [\n    {\n      \"column\": \"count\",\n      \"properties\": {\n        \"dtype\": \"number\",\n        \"std\": null,\n        \"min\": 6156289.0,\n        \"max\": 6156289.0,\n        \"num_unique_values\": 1,\n        \"samples\": [\n          6156289.0\n        ],\n        \"semantic_type\": \"\",\n        \"description\": \"\"\n      }\n    },\n    {\n      \"column\": \"mean\",\n      \"properties\": {\n        \"dtype\": \"number\",\n        \"std\": null,\n        \"min\": 3.6482859397926273,\n        \"max\": 3.6482859397926273,\n        \"num_unique_values\": 1,\n        \"samples\": [\n          3.6482859397926273\n        ],\n        \"semantic_type\": \"\",\n        \"description\": \"\"\n      }\n    },\n    {\n      \"column\": \"std\",\n      \"properties\": {\n        \"dtype\": \"number\",\n        \"std\": null,\n        \"min\": 1.861854188089927,\n        \"max\": 1.861854188089927,\n        \"num_unique_values\": 1,\n        \"samples\": [\n          1.861854188089927\n        ],\n        \"semantic_type\": \"\",\n        \"description\": \"\"\n      }\n    },\n    {\n      \"column\": \"min\",\n      \"properties\": {\n        \"dtype\": \"number\",\n        \"std\": null,\n        \"min\": 0.0,\n        \"max\": 0.0,\n        \"num_unique_values\": 1,\n        \"samples\": [\n          0.0\n        ],\n        \"semantic_type\": \"\",\n        \"description\": \"\"\n      }\n    },\n    {\n      \"column\": \"25%\",\n      \"properties\": {\n        \"dtype\": \"number\",\n        \"std\": null,\n        \"min\": 3.0,\n        \"max\": 3.0,\n        \"num_unique_values\": 1,\n        \"samples\": [\n          3.0\n        ],\n        \"semantic_type\": \"\",\n        \"description\": \"\"\n      }\n    },\n    {\n      \"column\": \"50%\",\n      \"properties\": {\n        \"dtype\": \"number\",\n        \"std\": null,\n        \"min\": 4.0,\n        \"max\": 4.0,\n        \"num_unique_values\": 1,\n        \"samples\": [\n          4.0\n        ],\n        \"semantic_type\": \"\",\n        \"description\": \"\"\n      }\n    },\n    {\n      \"column\": \"75%\",\n      \"properties\": {\n        \"dtype\": \"number\",\n        \"std\": null,\n        \"min\": 5.0,\n        \"max\": 5.0,\n        \"num_unique_values\": 1,\n        \"samples\": [\n          5.0\n        ],\n        \"semantic_type\": \"\",\n        \"description\": \"\"\n      }\n    },\n    {\n      \"column\": \"max\",\n      \"properties\": {\n        \"dtype\": \"number\",\n        \"std\": null,\n        \"min\": 2500.0,\n        \"max\": 2500.0,\n        \"num_unique_values\": 1,\n        \"samples\": [\n          2500.0\n        ],\n        \"semantic_type\": \"\",\n        \"description\": \"\"\n      }\n    }\n  ]\n}",
              "type": "dataframe"
            },
            "text/html": [
              "\n",
              "  <div id=\"df-71e7973e-c17b-4fde-a328-d7140008fb40\" class=\"colab-df-container\">\n",
              "    <div>\n",
              "<style scoped>\n",
              "    .dataframe tbody tr th:only-of-type {\n",
              "        vertical-align: middle;\n",
              "    }\n",
              "\n",
              "    .dataframe tbody tr th {\n",
              "        vertical-align: top;\n",
              "    }\n",
              "\n",
              "    .dataframe thead th {\n",
              "        text-align: right;\n",
              "    }\n",
              "</style>\n",
              "<table border=\"1\" class=\"dataframe\">\n",
              "  <thead>\n",
              "    <tr style=\"text-align: right;\">\n",
              "      <th></th>\n",
              "      <th>count</th>\n",
              "      <th>mean</th>\n",
              "      <th>std</th>\n",
              "      <th>min</th>\n",
              "      <th>25%</th>\n",
              "      <th>50%</th>\n",
              "      <th>75%</th>\n",
              "      <th>max</th>\n",
              "    </tr>\n",
              "  </thead>\n",
              "  <tbody>\n",
              "    <tr>\n",
              "      <th>rate</th>\n",
              "      <td>6156289.0</td>\n",
              "      <td>3.648286</td>\n",
              "      <td>1.861854</td>\n",
              "      <td>0.0</td>\n",
              "      <td>3.0</td>\n",
              "      <td>4.0</td>\n",
              "      <td>5.0</td>\n",
              "      <td>2500.0</td>\n",
              "    </tr>\n",
              "  </tbody>\n",
              "</table>\n",
              "</div>\n",
              "    <div class=\"colab-df-buttons\">\n",
              "\n",
              "  <div class=\"colab-df-container\">\n",
              "    <button class=\"colab-df-convert\" onclick=\"convertToInteractive('df-71e7973e-c17b-4fde-a328-d7140008fb40')\"\n",
              "            title=\"Convert this dataframe to an interactive table.\"\n",
              "            style=\"display:none;\">\n",
              "\n",
              "  <svg xmlns=\"http://www.w3.org/2000/svg\" height=\"24px\" viewBox=\"0 -960 960 960\">\n",
              "    <path d=\"M120-120v-720h720v720H120Zm60-500h600v-160H180v160Zm220 220h160v-160H400v160Zm0 220h160v-160H400v160ZM180-400h160v-160H180v160Zm440 0h160v-160H620v160ZM180-180h160v-160H180v160Zm440 0h160v-160H620v160Z\"/>\n",
              "  </svg>\n",
              "    </button>\n",
              "\n",
              "  <style>\n",
              "    .colab-df-container {\n",
              "      display:flex;\n",
              "      gap: 12px;\n",
              "    }\n",
              "\n",
              "    .colab-df-convert {\n",
              "      background-color: #E8F0FE;\n",
              "      border: none;\n",
              "      border-radius: 50%;\n",
              "      cursor: pointer;\n",
              "      display: none;\n",
              "      fill: #1967D2;\n",
              "      height: 32px;\n",
              "      padding: 0 0 0 0;\n",
              "      width: 32px;\n",
              "    }\n",
              "\n",
              "    .colab-df-convert:hover {\n",
              "      background-color: #E2EBFA;\n",
              "      box-shadow: 0px 1px 2px rgba(60, 64, 67, 0.3), 0px 1px 3px 1px rgba(60, 64, 67, 0.15);\n",
              "      fill: #174EA6;\n",
              "    }\n",
              "\n",
              "    .colab-df-buttons div {\n",
              "      margin-bottom: 4px;\n",
              "    }\n",
              "\n",
              "    [theme=dark] .colab-df-convert {\n",
              "      background-color: #3B4455;\n",
              "      fill: #D2E3FC;\n",
              "    }\n",
              "\n",
              "    [theme=dark] .colab-df-convert:hover {\n",
              "      background-color: #434B5C;\n",
              "      box-shadow: 0px 1px 3px 1px rgba(0, 0, 0, 0.15);\n",
              "      filter: drop-shadow(0px 1px 2px rgba(0, 0, 0, 0.3));\n",
              "      fill: #FFFFFF;\n",
              "    }\n",
              "  </style>\n",
              "\n",
              "    <script>\n",
              "      const buttonEl =\n",
              "        document.querySelector('#df-71e7973e-c17b-4fde-a328-d7140008fb40 button.colab-df-convert');\n",
              "      buttonEl.style.display =\n",
              "        google.colab.kernel.accessAllowed ? 'block' : 'none';\n",
              "\n",
              "      async function convertToInteractive(key) {\n",
              "        const element = document.querySelector('#df-71e7973e-c17b-4fde-a328-d7140008fb40');\n",
              "        const dataTable =\n",
              "          await google.colab.kernel.invokeFunction('convertToInteractive',\n",
              "                                                    [key], {});\n",
              "        if (!dataTable) return;\n",
              "\n",
              "        const docLinkHtml = 'Like what you see? Visit the ' +\n",
              "          '<a target=\"_blank\" href=https://colab.research.google.com/notebooks/data_table.ipynb>data table notebook</a>'\n",
              "          + ' to learn more about interactive tables.';\n",
              "        element.innerHTML = '';\n",
              "        dataTable['output_type'] = 'display_data';\n",
              "        await google.colab.output.renderOutput(dataTable, element);\n",
              "        const docLink = document.createElement('div');\n",
              "        docLink.innerHTML = docLinkHtml;\n",
              "        element.appendChild(docLink);\n",
              "      }\n",
              "    </script>\n",
              "  </div>\n",
              "\n",
              "\n",
              "    </div>\n",
              "  </div>\n"
            ],
            "text/plain": [
              "          count      mean       std  min  25%  50%  75%     max\n",
              "rate  6156289.0  3.648286  1.861854  0.0  3.0  4.0  5.0  2500.0"
            ]
          },
          "execution_count": 22,
          "metadata": {},
          "output_type": "execute_result"
        }
      ],
      "source": [
        "# describe rate column and stack\n",
        "comment_df['rate'].describe().to_frame().T"
      ]
    },
    {
      "cell_type": "markdown",
      "metadata": {
        "id": "jEu8BhMspMlP"
      },
      "source": [
        "So, It seems there is a outlier. max is **2500** and it doesn't make sense because the range of rate is between 0 to 5.\n",
        "\n",
        "Let's check it"
      ]
    },
    {
      "cell_type": "code",
      "execution_count": null,
      "metadata": {
        "colab": {
          "base_uri": "https://localhost:8080/",
          "height": 135
        },
        "id": "XH9Y2PorpcMV",
        "outputId": "ecc6286f-4844-4520-a310-2ee144ed5cba"
      },
      "outputs": [
        {
          "data": {
            "application/vnd.google.colaboratory.intrinsic+json": {
              "repr_error": "0",
              "type": "dataframe"
            },
            "text/html": [
              "\n",
              "  <div id=\"df-0398098d-f3c8-4817-9d31-2b64d29d4900\" class=\"colab-df-container\">\n",
              "    <div>\n",
              "<style scoped>\n",
              "    .dataframe tbody tr th:only-of-type {\n",
              "        vertical-align: middle;\n",
              "    }\n",
              "\n",
              "    .dataframe tbody tr th {\n",
              "        vertical-align: top;\n",
              "    }\n",
              "\n",
              "    .dataframe thead th {\n",
              "        text-align: right;\n",
              "    }\n",
              "</style>\n",
              "<table border=\"1\" class=\"dataframe\">\n",
              "  <thead>\n",
              "    <tr style=\"text-align: right;\">\n",
              "      <th></th>\n",
              "      <th>id</th>\n",
              "      <th>title</th>\n",
              "      <th>body</th>\n",
              "      <th>created_at</th>\n",
              "      <th>rate</th>\n",
              "      <th>recommendation_status</th>\n",
              "      <th>is_buyer</th>\n",
              "      <th>product_id</th>\n",
              "      <th>advantages</th>\n",
              "      <th>disadvantages</th>\n",
              "      <th>likes</th>\n",
              "      <th>dislikes</th>\n",
              "      <th>seller_title</th>\n",
              "      <th>seller_code</th>\n",
              "      <th>true_to_size_rate</th>\n",
              "    </tr>\n",
              "  </thead>\n",
              "  <tbody>\n",
              "    <tr>\n",
              "      <th>4369260</th>\n",
              "      <td>38631814</td>\n",
              "      <td>زیبا</td>\n",
              "      <td>کوچک و با کیفیت</td>\n",
              "      <td>9 شهریور 1401</td>\n",
              "      <td>2500.0</td>\n",
              "      <td>recommended</td>\n",
              "      <td>True</td>\n",
              "      <td>5095301</td>\n",
              "      <td>NaN</td>\n",
              "      <td>NaN</td>\n",
              "      <td>0</td>\n",
              "      <td>0</td>\n",
              "      <td>مستر راد</td>\n",
              "      <td>A4Z54</td>\n",
              "      <td>NaN</td>\n",
              "    </tr>\n",
              "  </tbody>\n",
              "</table>\n",
              "</div>\n",
              "    <div class=\"colab-df-buttons\">\n",
              "\n",
              "  <div class=\"colab-df-container\">\n",
              "    <button class=\"colab-df-convert\" onclick=\"convertToInteractive('df-0398098d-f3c8-4817-9d31-2b64d29d4900')\"\n",
              "            title=\"Convert this dataframe to an interactive table.\"\n",
              "            style=\"display:none;\">\n",
              "\n",
              "  <svg xmlns=\"http://www.w3.org/2000/svg\" height=\"24px\" viewBox=\"0 -960 960 960\">\n",
              "    <path d=\"M120-120v-720h720v720H120Zm60-500h600v-160H180v160Zm220 220h160v-160H400v160Zm0 220h160v-160H400v160ZM180-400h160v-160H180v160Zm440 0h160v-160H620v160ZM180-180h160v-160H180v160Zm440 0h160v-160H620v160Z\"/>\n",
              "  </svg>\n",
              "    </button>\n",
              "\n",
              "  <style>\n",
              "    .colab-df-container {\n",
              "      display:flex;\n",
              "      gap: 12px;\n",
              "    }\n",
              "\n",
              "    .colab-df-convert {\n",
              "      background-color: #E8F0FE;\n",
              "      border: none;\n",
              "      border-radius: 50%;\n",
              "      cursor: pointer;\n",
              "      display: none;\n",
              "      fill: #1967D2;\n",
              "      height: 32px;\n",
              "      padding: 0 0 0 0;\n",
              "      width: 32px;\n",
              "    }\n",
              "\n",
              "    .colab-df-convert:hover {\n",
              "      background-color: #E2EBFA;\n",
              "      box-shadow: 0px 1px 2px rgba(60, 64, 67, 0.3), 0px 1px 3px 1px rgba(60, 64, 67, 0.15);\n",
              "      fill: #174EA6;\n",
              "    }\n",
              "\n",
              "    .colab-df-buttons div {\n",
              "      margin-bottom: 4px;\n",
              "    }\n",
              "\n",
              "    [theme=dark] .colab-df-convert {\n",
              "      background-color: #3B4455;\n",
              "      fill: #D2E3FC;\n",
              "    }\n",
              "\n",
              "    [theme=dark] .colab-df-convert:hover {\n",
              "      background-color: #434B5C;\n",
              "      box-shadow: 0px 1px 3px 1px rgba(0, 0, 0, 0.15);\n",
              "      filter: drop-shadow(0px 1px 2px rgba(0, 0, 0, 0.3));\n",
              "      fill: #FFFFFF;\n",
              "    }\n",
              "  </style>\n",
              "\n",
              "    <script>\n",
              "      const buttonEl =\n",
              "        document.querySelector('#df-0398098d-f3c8-4817-9d31-2b64d29d4900 button.colab-df-convert');\n",
              "      buttonEl.style.display =\n",
              "        google.colab.kernel.accessAllowed ? 'block' : 'none';\n",
              "\n",
              "      async function convertToInteractive(key) {\n",
              "        const element = document.querySelector('#df-0398098d-f3c8-4817-9d31-2b64d29d4900');\n",
              "        const dataTable =\n",
              "          await google.colab.kernel.invokeFunction('convertToInteractive',\n",
              "                                                    [key], {});\n",
              "        if (!dataTable) return;\n",
              "\n",
              "        const docLinkHtml = 'Like what you see? Visit the ' +\n",
              "          '<a target=\"_blank\" href=https://colab.research.google.com/notebooks/data_table.ipynb>data table notebook</a>'\n",
              "          + ' to learn more about interactive tables.';\n",
              "        element.innerHTML = '';\n",
              "        dataTable['output_type'] = 'display_data';\n",
              "        await google.colab.output.renderOutput(dataTable, element);\n",
              "        const docLink = document.createElement('div');\n",
              "        docLink.innerHTML = docLinkHtml;\n",
              "        element.appendChild(docLink);\n",
              "      }\n",
              "    </script>\n",
              "  </div>\n",
              "\n",
              "\n",
              "    </div>\n",
              "  </div>\n"
            ],
            "text/plain": [
              "               id title             body     created_at    rate  \\\n",
              "4369260  38631814  زیبا  کوچک و با کیفیت  9 شهریور 1401  2500.0   \n",
              "\n",
              "        recommendation_status  is_buyer  product_id advantages disadvantages  \\\n",
              "4369260           recommended      True     5095301        NaN           NaN   \n",
              "\n",
              "         likes  dislikes seller_title seller_code true_to_size_rate  \n",
              "4369260      0         0     مستر راد       A4Z54               NaN  "
            ]
          },
          "execution_count": 13,
          "metadata": {},
          "output_type": "execute_result"
        }
      ],
      "source": [
        "# check if there are cases with rate bigger than 5\n",
        "comment_df[comment_df['rate'] > 5]"
      ]
    },
    {
      "cell_type": "markdown",
      "metadata": {
        "id": "QGdsXVzlprqN"
      },
      "source": [
        "Excellent!\n",
        "\n",
        "so it should be removed.\n"
      ]
    },
    {
      "cell_type": "code",
      "execution_count": null,
      "metadata": {
        "id": "KxMpsU7ip1r5"
      },
      "outputs": [],
      "source": [
        "# Remove outlier\n",
        "outlier_index = comment_df[(comment_df['rate'] < 0) | (comment_df['rate'] > 5)].index\n",
        "comment_df.drop(outlier_index,inplace=True)"
      ]
    },
    {
      "cell_type": "code",
      "execution_count": null,
      "metadata": {
        "colab": {
          "base_uri": "https://localhost:8080/",
          "height": 81
        },
        "id": "wDGqbdwSp5Nx",
        "outputId": "64f8195f-7bbe-44e8-cc51-16412b5d4651"
      },
      "outputs": [
        {
          "data": {
            "application/vnd.google.colaboratory.intrinsic+json": {
              "summary": "{\n  \"name\": \"comment_df['rate']\",\n  \"rows\": 1,\n  \"fields\": [\n    {\n      \"column\": \"count\",\n      \"properties\": {\n        \"dtype\": \"number\",\n        \"std\": null,\n        \"min\": 6156288.0,\n        \"max\": 6156288.0,\n        \"num_unique_values\": 1,\n        \"samples\": [\n          6156288.0\n        ],\n        \"semantic_type\": \"\",\n        \"description\": \"\"\n      }\n    },\n    {\n      \"column\": \"mean\",\n      \"properties\": {\n        \"dtype\": \"number\",\n        \"std\": null,\n        \"min\": 3.647880443540004,\n        \"max\": 3.647880443540004,\n        \"num_unique_values\": 1,\n        \"samples\": [\n          3.647880443540004\n        ],\n        \"semantic_type\": \"\",\n        \"description\": \"\"\n      }\n    },\n    {\n      \"column\": \"std\",\n      \"properties\": {\n        \"dtype\": \"number\",\n        \"std\": null,\n        \"min\": 1.5666014128616053,\n        \"max\": 1.5666014128616053,\n        \"num_unique_values\": 1,\n        \"samples\": [\n          1.5666014128616053\n        ],\n        \"semantic_type\": \"\",\n        \"description\": \"\"\n      }\n    },\n    {\n      \"column\": \"min\",\n      \"properties\": {\n        \"dtype\": \"number\",\n        \"std\": null,\n        \"min\": 0.0,\n        \"max\": 0.0,\n        \"num_unique_values\": 1,\n        \"samples\": [\n          0.0\n        ],\n        \"semantic_type\": \"\",\n        \"description\": \"\"\n      }\n    },\n    {\n      \"column\": \"25%\",\n      \"properties\": {\n        \"dtype\": \"number\",\n        \"std\": null,\n        \"min\": 3.0,\n        \"max\": 3.0,\n        \"num_unique_values\": 1,\n        \"samples\": [\n          3.0\n        ],\n        \"semantic_type\": \"\",\n        \"description\": \"\"\n      }\n    },\n    {\n      \"column\": \"50%\",\n      \"properties\": {\n        \"dtype\": \"number\",\n        \"std\": null,\n        \"min\": 4.0,\n        \"max\": 4.0,\n        \"num_unique_values\": 1,\n        \"samples\": [\n          4.0\n        ],\n        \"semantic_type\": \"\",\n        \"description\": \"\"\n      }\n    },\n    {\n      \"column\": \"75%\",\n      \"properties\": {\n        \"dtype\": \"number\",\n        \"std\": null,\n        \"min\": 5.0,\n        \"max\": 5.0,\n        \"num_unique_values\": 1,\n        \"samples\": [\n          5.0\n        ],\n        \"semantic_type\": \"\",\n        \"description\": \"\"\n      }\n    },\n    {\n      \"column\": \"max\",\n      \"properties\": {\n        \"dtype\": \"number\",\n        \"std\": null,\n        \"min\": 5.0,\n        \"max\": 5.0,\n        \"num_unique_values\": 1,\n        \"samples\": [\n          5.0\n        ],\n        \"semantic_type\": \"\",\n        \"description\": \"\"\n      }\n    }\n  ]\n}",
              "type": "dataframe"
            },
            "text/html": [
              "\n",
              "  <div id=\"df-dc275043-5a25-4091-86e8-6a7fd6b655c8\" class=\"colab-df-container\">\n",
              "    <div>\n",
              "<style scoped>\n",
              "    .dataframe tbody tr th:only-of-type {\n",
              "        vertical-align: middle;\n",
              "    }\n",
              "\n",
              "    .dataframe tbody tr th {\n",
              "        vertical-align: top;\n",
              "    }\n",
              "\n",
              "    .dataframe thead th {\n",
              "        text-align: right;\n",
              "    }\n",
              "</style>\n",
              "<table border=\"1\" class=\"dataframe\">\n",
              "  <thead>\n",
              "    <tr style=\"text-align: right;\">\n",
              "      <th></th>\n",
              "      <th>count</th>\n",
              "      <th>mean</th>\n",
              "      <th>std</th>\n",
              "      <th>min</th>\n",
              "      <th>25%</th>\n",
              "      <th>50%</th>\n",
              "      <th>75%</th>\n",
              "      <th>max</th>\n",
              "    </tr>\n",
              "  </thead>\n",
              "  <tbody>\n",
              "    <tr>\n",
              "      <th>rate</th>\n",
              "      <td>6156288.0</td>\n",
              "      <td>3.64788</td>\n",
              "      <td>1.566601</td>\n",
              "      <td>0.0</td>\n",
              "      <td>3.0</td>\n",
              "      <td>4.0</td>\n",
              "      <td>5.0</td>\n",
              "      <td>5.0</td>\n",
              "    </tr>\n",
              "  </tbody>\n",
              "</table>\n",
              "</div>\n",
              "    <div class=\"colab-df-buttons\">\n",
              "\n",
              "  <div class=\"colab-df-container\">\n",
              "    <button class=\"colab-df-convert\" onclick=\"convertToInteractive('df-dc275043-5a25-4091-86e8-6a7fd6b655c8')\"\n",
              "            title=\"Convert this dataframe to an interactive table.\"\n",
              "            style=\"display:none;\">\n",
              "\n",
              "  <svg xmlns=\"http://www.w3.org/2000/svg\" height=\"24px\" viewBox=\"0 -960 960 960\">\n",
              "    <path d=\"M120-120v-720h720v720H120Zm60-500h600v-160H180v160Zm220 220h160v-160H400v160Zm0 220h160v-160H400v160ZM180-400h160v-160H180v160Zm440 0h160v-160H620v160ZM180-180h160v-160H180v160Zm440 0h160v-160H620v160Z\"/>\n",
              "  </svg>\n",
              "    </button>\n",
              "\n",
              "  <style>\n",
              "    .colab-df-container {\n",
              "      display:flex;\n",
              "      gap: 12px;\n",
              "    }\n",
              "\n",
              "    .colab-df-convert {\n",
              "      background-color: #E8F0FE;\n",
              "      border: none;\n",
              "      border-radius: 50%;\n",
              "      cursor: pointer;\n",
              "      display: none;\n",
              "      fill: #1967D2;\n",
              "      height: 32px;\n",
              "      padding: 0 0 0 0;\n",
              "      width: 32px;\n",
              "    }\n",
              "\n",
              "    .colab-df-convert:hover {\n",
              "      background-color: #E2EBFA;\n",
              "      box-shadow: 0px 1px 2px rgba(60, 64, 67, 0.3), 0px 1px 3px 1px rgba(60, 64, 67, 0.15);\n",
              "      fill: #174EA6;\n",
              "    }\n",
              "\n",
              "    .colab-df-buttons div {\n",
              "      margin-bottom: 4px;\n",
              "    }\n",
              "\n",
              "    [theme=dark] .colab-df-convert {\n",
              "      background-color: #3B4455;\n",
              "      fill: #D2E3FC;\n",
              "    }\n",
              "\n",
              "    [theme=dark] .colab-df-convert:hover {\n",
              "      background-color: #434B5C;\n",
              "      box-shadow: 0px 1px 3px 1px rgba(0, 0, 0, 0.15);\n",
              "      filter: drop-shadow(0px 1px 2px rgba(0, 0, 0, 0.3));\n",
              "      fill: #FFFFFF;\n",
              "    }\n",
              "  </style>\n",
              "\n",
              "    <script>\n",
              "      const buttonEl =\n",
              "        document.querySelector('#df-dc275043-5a25-4091-86e8-6a7fd6b655c8 button.colab-df-convert');\n",
              "      buttonEl.style.display =\n",
              "        google.colab.kernel.accessAllowed ? 'block' : 'none';\n",
              "\n",
              "      async function convertToInteractive(key) {\n",
              "        const element = document.querySelector('#df-dc275043-5a25-4091-86e8-6a7fd6b655c8');\n",
              "        const dataTable =\n",
              "          await google.colab.kernel.invokeFunction('convertToInteractive',\n",
              "                                                    [key], {});\n",
              "        if (!dataTable) return;\n",
              "\n",
              "        const docLinkHtml = 'Like what you see? Visit the ' +\n",
              "          '<a target=\"_blank\" href=https://colab.research.google.com/notebooks/data_table.ipynb>data table notebook</a>'\n",
              "          + ' to learn more about interactive tables.';\n",
              "        element.innerHTML = '';\n",
              "        dataTable['output_type'] = 'display_data';\n",
              "        await google.colab.output.renderOutput(dataTable, element);\n",
              "        const docLink = document.createElement('div');\n",
              "        docLink.innerHTML = docLinkHtml;\n",
              "        element.appendChild(docLink);\n",
              "      }\n",
              "    </script>\n",
              "  </div>\n",
              "\n",
              "\n",
              "    </div>\n",
              "  </div>\n"
            ],
            "text/plain": [
              "          count     mean       std  min  25%  50%  75%  max\n",
              "rate  6156288.0  3.64788  1.566601  0.0  3.0  4.0  5.0  5.0"
            ]
          },
          "execution_count": 9,
          "metadata": {},
          "output_type": "execute_result"
        }
      ],
      "source": [
        "comment_df['rate'].describe().to_frame().T"
      ]
    },
    {
      "cell_type": "markdown",
      "metadata": {
        "id": "IAeTtukdRA-u"
      },
      "source": [
        "What about **length** of each text?\n",
        "\n",
        "- Are there some text too long?\n",
        "- How about short text?\n",
        "\n",
        "Let's check it"
      ]
    },
    {
      "cell_type": "code",
      "execution_count": null,
      "metadata": {
        "colab": {
          "base_uri": "https://localhost:8080/"
        },
        "id": "1rtC3i4AK7-J",
        "outputId": "b5002224-c68b-444e-93da-5b66d4807afd"
      },
      "outputs": [
        {
          "output_type": "execute_result",
          "data": {
            "text/plain": [
              "4000"
            ]
          },
          "metadata": {},
          "execution_count": 14
        }
      ],
      "source": [
        "# # get the max size of text in body column\n",
        "max_size = comment_df['body'].apply(lambda x: len(x)).max()\n",
        "max_size"
      ]
    },
    {
      "cell_type": "code",
      "execution_count": null,
      "metadata": {
        "colab": {
          "base_uri": "https://localhost:8080/"
        },
        "id": "0kEYmkbSUCb1",
        "outputId": "846f7e99-d761-4441-a7cf-e0c45160a809"
      },
      "outputs": [
        {
          "output_type": "execute_result",
          "data": {
            "text/plain": [
              "1"
            ]
          },
          "metadata": {},
          "execution_count": 7
        }
      ],
      "source": [
        "min_size = comment_df['body'].apply(lambda x: len(x)).min()\n",
        "min_size"
      ]
    },
    {
      "cell_type": "markdown",
      "source": [
        "As can be seen, the maximum text has the most characters (**4000**)"
      ],
      "metadata": {
        "id": "mn_zSTEy3Umy"
      }
    },
    {
      "cell_type": "code",
      "source": [
        "# Check how many texts length are more than 100\n",
        "comment_df['length'] = comment_df['body'].apply(lambda x: len(x.split()))\n",
        "# get percentage of data that are more than 100\n",
        "more_than_100 = round((comment_df[comment_df['length'] > 100].shape[0] / comment_df.shape[0]) * 100,2)\n",
        "print(f'The percentage of data that is more than 100: {more_than_100}')"
      ],
      "metadata": {
        "colab": {
          "base_uri": "https://localhost:8080/"
        },
        "id": "sCrDjAUIsYKt",
        "outputId": "72c8d3e0-9fd7-4d34-fc60-9274c9178a44"
      },
      "execution_count": null,
      "outputs": [
        {
          "output_type": "stream",
          "name": "stdout",
          "text": [
            "The percentage of data that is more than 100: 0.25\n"
          ]
        }
      ]
    },
    {
      "cell_type": "markdown",
      "source": [
        "Only <font color='blue'>**0.25**</font> of data has the text with more than **100** length, So, We <font color='red'>**drop**</font> them"
      ],
      "metadata": {
        "id": "A-Wlye5k3fWX"
      }
    },
    {
      "cell_type": "code",
      "source": [
        "# Remove from dataset\n",
        "more_than_100_index = comment_df[comment_df['length'] > 100].index\n",
        "comment_df.drop(more_than_100_index,inplace=True)"
      ],
      "metadata": {
        "id": "afv5AtJ7s90y"
      },
      "execution_count": null,
      "outputs": []
    },
    {
      "cell_type": "code",
      "source": [
        "comment_df.shape"
      ],
      "metadata": {
        "colab": {
          "base_uri": "https://localhost:8080/"
        },
        "id": "K8FLYaKytpLr",
        "outputId": "a4e6686d-4820-43a8-a067-60bde737e492"
      },
      "execution_count": null,
      "outputs": [
        {
          "output_type": "execute_result",
          "data": {
            "text/plain": [
              "(6140731, 16)"
            ]
          },
          "metadata": {},
          "execution_count": 16
        }
      ]
    },
    {
      "cell_type": "markdown",
      "metadata": {
        "id": "3JxSr5E4p8Ow"
      },
      "source": [
        "Great.\n",
        "\n",
        "Now check how many data are <font color='red'>**noisy**</font>"
      ]
    },
    {
      "cell_type": "markdown",
      "metadata": {
        "id": "oDXG5CXrqGbX"
      },
      "source": [
        "We have three status for recommendation of products but we dont know if there are some recommendation with low or high rate.\n",
        "\n",
        "e.g:\n",
        "Someone suggests a product but he/she gives a low rate or vice versa"
      ]
    },
    {
      "cell_type": "code",
      "execution_count": null,
      "metadata": {
        "colab": {
          "base_uri": "https://localhost:8080/"
        },
        "id": "foUUmhlXqETP",
        "outputId": "15295cb0-677d-4415-baa1-036d150fecd6"
      },
      "outputs": [
        {
          "data": {
            "text/plain": [
              "954741"
            ]
          },
          "execution_count": 9,
          "metadata": {},
          "output_type": "execute_result"
        }
      ],
      "source": [
        "# Check noisy data\n",
        "# How many are there products with rate under 3 but it recommended\n",
        "comment_df[(comment_df['rate'] < 4) & (comment_df['recommendation_status'] == 'recommended')].shape[0]"
      ]
    },
    {
      "cell_type": "code",
      "execution_count": null,
      "metadata": {
        "colab": {
          "base_uri": "https://localhost:8080/"
        },
        "id": "e_zyT0qIq5w0",
        "outputId": "4e51f276-b475-418b-e2f4-d7d8f33bd5e5"
      },
      "outputs": [
        {
          "data": {
            "text/plain": [
              "6659"
            ]
          },
          "execution_count": 10,
          "metadata": {},
          "output_type": "execute_result"
        }
      ],
      "source": [
        "comment_df[(comment_df['rate'] > 4) & (comment_df['recommendation_status'] == 'not_recommended')].shape[0]"
      ]
    },
    {
      "cell_type": "code",
      "execution_count": null,
      "metadata": {
        "id": "2KM5pKHCsTnj"
      },
      "outputs": [],
      "source": [
        "# Remove noisy data\n",
        "noisy_index = comment_df[(comment_df['rate'] < 4) & (comment_df['recommendation_status'] == 'recommended')].index\n",
        "comment_df.drop(noisy_index,inplace=True)"
      ]
    },
    {
      "cell_type": "code",
      "execution_count": null,
      "metadata": {
        "id": "zZ1uhYaAsbY7"
      },
      "outputs": [],
      "source": [
        "# For less bigger than 3\n",
        "noisy_index = comment_df[(comment_df['rate'] >= 4) & (comment_df['recommendation_status'] == 'not_recommended')].index\n",
        "comment_df.drop(noisy_index,inplace=True)"
      ]
    },
    {
      "cell_type": "markdown",
      "metadata": {
        "id": "3sVIw9ccssA7"
      },
      "source": [
        "Let's drop missign value in body column"
      ]
    },
    {
      "cell_type": "code",
      "execution_count": null,
      "metadata": {
        "id": "h3MZifnOsvQu"
      },
      "outputs": [],
      "source": [
        "# drop missing value in body column\n",
        "comment_df.dropna(subset=['body'],inplace=True)"
      ]
    },
    {
      "cell_type": "code",
      "execution_count": null,
      "metadata": {
        "colab": {
          "base_uri": "https://localhost:8080/",
          "height": 490
        },
        "id": "vq1yl1mnq-lA",
        "outputId": "995cfaa6-b22c-428a-cd06-4dedb900238a"
      },
      "outputs": [
        {
          "output_type": "execute_result",
          "data": {
            "text/plain": [
              "rate\n",
              "0.00    20460\n",
              "0.05       10\n",
              "0.10       17\n",
              "0.15       75\n",
              "0.20       33\n",
              "        ...  \n",
              "4.75      179\n",
              "4.80      109\n",
              "4.85       18\n",
              "4.90        5\n",
              "5.00    14696\n",
              "Name: id, Length: 136, dtype: int64"
            ],
            "text/html": [
              "<div>\n",
              "<style scoped>\n",
              "    .dataframe tbody tr th:only-of-type {\n",
              "        vertical-align: middle;\n",
              "    }\n",
              "\n",
              "    .dataframe tbody tr th {\n",
              "        vertical-align: top;\n",
              "    }\n",
              "\n",
              "    .dataframe thead th {\n",
              "        text-align: right;\n",
              "    }\n",
              "</style>\n",
              "<table border=\"1\" class=\"dataframe\">\n",
              "  <thead>\n",
              "    <tr style=\"text-align: right;\">\n",
              "      <th></th>\n",
              "      <th>id</th>\n",
              "    </tr>\n",
              "    <tr>\n",
              "      <th>rate</th>\n",
              "      <th></th>\n",
              "    </tr>\n",
              "  </thead>\n",
              "  <tbody>\n",
              "    <tr>\n",
              "      <th>0.00</th>\n",
              "      <td>20460</td>\n",
              "    </tr>\n",
              "    <tr>\n",
              "      <th>0.05</th>\n",
              "      <td>10</td>\n",
              "    </tr>\n",
              "    <tr>\n",
              "      <th>0.10</th>\n",
              "      <td>17</td>\n",
              "    </tr>\n",
              "    <tr>\n",
              "      <th>0.15</th>\n",
              "      <td>75</td>\n",
              "    </tr>\n",
              "    <tr>\n",
              "      <th>0.20</th>\n",
              "      <td>33</td>\n",
              "    </tr>\n",
              "    <tr>\n",
              "      <th>...</th>\n",
              "      <td>...</td>\n",
              "    </tr>\n",
              "    <tr>\n",
              "      <th>4.75</th>\n",
              "      <td>179</td>\n",
              "    </tr>\n",
              "    <tr>\n",
              "      <th>4.80</th>\n",
              "      <td>109</td>\n",
              "    </tr>\n",
              "    <tr>\n",
              "      <th>4.85</th>\n",
              "      <td>18</td>\n",
              "    </tr>\n",
              "    <tr>\n",
              "      <th>4.90</th>\n",
              "      <td>5</td>\n",
              "    </tr>\n",
              "    <tr>\n",
              "      <th>5.00</th>\n",
              "      <td>14696</td>\n",
              "    </tr>\n",
              "  </tbody>\n",
              "</table>\n",
              "<p>136 rows × 1 columns</p>\n",
              "</div><br><label><b>dtype:</b> int64</label>"
            ]
          },
          "metadata": {},
          "execution_count": 28
        }
      ],
      "source": [
        "# Check the no_idea in recommendation_status with groupby in rate columns\n",
        "comment_df[comment_df['recommendation_status'] == 'no_idea'].groupby('rate')['id'].count()"
      ]
    },
    {
      "cell_type": "code",
      "execution_count": null,
      "metadata": {
        "colab": {
          "base_uri": "https://localhost:8080/"
        },
        "id": "rJuXo-KStwIM",
        "outputId": "51a6e941-153d-4366-e580-9131754fb06d"
      },
      "outputs": [
        {
          "output_type": "execute_result",
          "data": {
            "text/plain": [
              "['کیفیت چاپ  خوب بود. اما چسب ها فاسد بودند ',\n",
              " 'با سلام، با توجه به قیمت پایین آن ارش خرید دارد. ولی برای اینکه این نظر تایید شود مجبورم با آتیش کم نقد رو وارد کنم اینکه یک کالا سفارش میدی، یک کالای دیگر مشابه با کیفیت پایینتر یا قیمت پایینتر برات می\\u200cفرستن. حالا مشتری یا برگشت میده یا حال و حوصله و وقتش رو نداره برگشت بزنه در هر صورت دی جی کالا ضرری نکرده فقط یه تیر تو تاریکی انداخته که بیشتر مواقع میگیره!!!!!\\r\\nکلی برای همه کالاها گفتم، مواظب باشید و گزارش کنید.',\n",
              " 'به آدامس مو نمیخوره بیشتر شبیه واکس موعه',\n",
              " 'این برند لاک پاکن خیلی باکیفیته ولی متاسفانه بجای پد لاک پاکن برای من دستمال مرطوب آرایش فرستاده بودن و ارزش مرجوعی هم نداشت. ',\n",
              " 'شابلون نیست و فقط برچسب هست و یک بار مصرف ولی در کل خوبه']"
            ]
          },
          "metadata": {},
          "execution_count": 12
        }
      ],
      "source": [
        "comment_df[comment_df['recommendation_status']=='no_idea']['body'].to_list()[:5]"
      ]
    },
    {
      "cell_type": "code",
      "execution_count": null,
      "metadata": {
        "id": "FtWCQCMJrdpq"
      },
      "outputs": [],
      "source": [
        "# # For no_idea if rate is less than 4 map to not_recommended else map to recommended\n",
        "# comment_df.loc[(comment_df['recommendation_status'] == 'no_idea') & (comment_df['rate'] < 4), 'recommendation_status'] = 'not_recommended'\n",
        "# comment_df.loc[(comment_df['recommendation_status'] == 'no_idea') & (comment_df['rate'] >= 4), 'recommendation_status'] = 'recommended'"
      ]
    },
    {
      "cell_type": "markdown",
      "source": [
        "> <font color='red'>**Note:**</font>\n",
        "- A lot of analysis was done for the no_idea column. But why was it removed?\n",
        "As we can see later, we classified the comments based on positive and negative labels, but we did not include neutral because there was a lot of overlap between its words with positive and negative labels.\n",
        "For example, the sentence:\n",
        "  - **This phone has a very good camera, <font color='red'>but</font> its body is terrible.**\n",
        "\n",
        "- The words good and terrible appear in the positive and negative labels, respectively, and the only distinguishing feature of the example is the word \"but\". Now we checked what are the most frequent words in the neutral label? We found that \"but\" and \"that\" have the highest number, and the next words included words that overlapped in the other two labels.\n",
        "Also, when we took its accuracy on logistic models, XGBoost, etc., it gave us a very low accuracy of about 50, which is why we removed all the rows related to no_idea."
      ],
      "metadata": {
        "id": "_Hu1S_1s4IHq"
      }
    },
    {
      "cell_type": "markdown",
      "metadata": {
        "id": "l6E0WsoktlPk"
      },
      "source": [
        "Now it's time to remove unnecessary columns:"
      ]
    },
    {
      "cell_type": "code",
      "execution_count": null,
      "metadata": {
        "id": "fgHdQoVVUjdy"
      },
      "outputs": [],
      "source": [
        "# Drop unimportant columns\n",
        "comment_df.drop(columns=['title','created_at','product_id','advantages','disadvantages',\n",
        "                         'likes','dislikes','seller_title','seller_code','true_to_size_rate'], inplace=True)"
      ]
    },
    {
      "cell_type": "code",
      "execution_count": null,
      "metadata": {
        "colab": {
          "base_uri": "https://localhost:8080/",
          "height": 206
        },
        "id": "1gp9OgIDPsUA",
        "outputId": "1ff798d3-f4a2-4fdb-c5cb-199a15dc50ae"
      },
      "outputs": [
        {
          "data": {
            "application/vnd.google.colaboratory.intrinsic+json": {
              "type": "dataframe",
              "variable_name": "comment_df"
            },
            "text/html": [
              "\n",
              "  <div id=\"df-4f992129-b7f5-406f-9bad-9442747c3bda\" class=\"colab-df-container\">\n",
              "    <div>\n",
              "<style scoped>\n",
              "    .dataframe tbody tr th:only-of-type {\n",
              "        vertical-align: middle;\n",
              "    }\n",
              "\n",
              "    .dataframe tbody tr th {\n",
              "        vertical-align: top;\n",
              "    }\n",
              "\n",
              "    .dataframe thead th {\n",
              "        text-align: right;\n",
              "    }\n",
              "</style>\n",
              "<table border=\"1\" class=\"dataframe\">\n",
              "  <thead>\n",
              "    <tr style=\"text-align: right;\">\n",
              "      <th></th>\n",
              "      <th>id</th>\n",
              "      <th>body</th>\n",
              "      <th>rate</th>\n",
              "      <th>recommendation_status</th>\n",
              "      <th>is_buyer</th>\n",
              "    </tr>\n",
              "  </thead>\n",
              "  <tbody>\n",
              "    <tr>\n",
              "      <th>0</th>\n",
              "      <td>53672599</td>\n",
              "      <td>به درد نمیخوره</td>\n",
              "      <td>1.0</td>\n",
              "      <td>not_recommended</td>\n",
              "      <td>True</td>\n",
              "    </tr>\n",
              "    <tr>\n",
              "      <th>5</th>\n",
              "      <td>53266157</td>\n",
              "      <td>قبلا هم استفاده کردم اگه بلد باشین کار کردن با...</td>\n",
              "      <td>5.0</td>\n",
              "      <td>recommended</td>\n",
              "      <td>True</td>\n",
              "    </tr>\n",
              "    <tr>\n",
              "      <th>6</th>\n",
              "      <td>46206235</td>\n",
              "      <td>خوبه</td>\n",
              "      <td>2.0</td>\n",
              "      <td>NaN</td>\n",
              "      <td>True</td>\n",
              "    </tr>\n",
              "    <tr>\n",
              "      <th>7</th>\n",
              "      <td>40597171</td>\n",
              "      <td>خیلی به کارتون میاد قیمتشم مناسبه</td>\n",
              "      <td>5.0</td>\n",
              "      <td>recommended</td>\n",
              "      <td>True</td>\n",
              "    </tr>\n",
              "    <tr>\n",
              "      <th>8</th>\n",
              "      <td>46198656</td>\n",
              "      <td>دقیقا مطابق عکس بود</td>\n",
              "      <td>5.0</td>\n",
              "      <td>recommended</td>\n",
              "      <td>True</td>\n",
              "    </tr>\n",
              "  </tbody>\n",
              "</table>\n",
              "</div>\n",
              "    <div class=\"colab-df-buttons\">\n",
              "\n",
              "  <div class=\"colab-df-container\">\n",
              "    <button class=\"colab-df-convert\" onclick=\"convertToInteractive('df-4f992129-b7f5-406f-9bad-9442747c3bda')\"\n",
              "            title=\"Convert this dataframe to an interactive table.\"\n",
              "            style=\"display:none;\">\n",
              "\n",
              "  <svg xmlns=\"http://www.w3.org/2000/svg\" height=\"24px\" viewBox=\"0 -960 960 960\">\n",
              "    <path d=\"M120-120v-720h720v720H120Zm60-500h600v-160H180v160Zm220 220h160v-160H400v160Zm0 220h160v-160H400v160ZM180-400h160v-160H180v160Zm440 0h160v-160H620v160ZM180-180h160v-160H180v160Zm440 0h160v-160H620v160Z\"/>\n",
              "  </svg>\n",
              "    </button>\n",
              "\n",
              "  <style>\n",
              "    .colab-df-container {\n",
              "      display:flex;\n",
              "      gap: 12px;\n",
              "    }\n",
              "\n",
              "    .colab-df-convert {\n",
              "      background-color: #E8F0FE;\n",
              "      border: none;\n",
              "      border-radius: 50%;\n",
              "      cursor: pointer;\n",
              "      display: none;\n",
              "      fill: #1967D2;\n",
              "      height: 32px;\n",
              "      padding: 0 0 0 0;\n",
              "      width: 32px;\n",
              "    }\n",
              "\n",
              "    .colab-df-convert:hover {\n",
              "      background-color: #E2EBFA;\n",
              "      box-shadow: 0px 1px 2px rgba(60, 64, 67, 0.3), 0px 1px 3px 1px rgba(60, 64, 67, 0.15);\n",
              "      fill: #174EA6;\n",
              "    }\n",
              "\n",
              "    .colab-df-buttons div {\n",
              "      margin-bottom: 4px;\n",
              "    }\n",
              "\n",
              "    [theme=dark] .colab-df-convert {\n",
              "      background-color: #3B4455;\n",
              "      fill: #D2E3FC;\n",
              "    }\n",
              "\n",
              "    [theme=dark] .colab-df-convert:hover {\n",
              "      background-color: #434B5C;\n",
              "      box-shadow: 0px 1px 3px 1px rgba(0, 0, 0, 0.15);\n",
              "      filter: drop-shadow(0px 1px 2px rgba(0, 0, 0, 0.3));\n",
              "      fill: #FFFFFF;\n",
              "    }\n",
              "  </style>\n",
              "\n",
              "    <script>\n",
              "      const buttonEl =\n",
              "        document.querySelector('#df-4f992129-b7f5-406f-9bad-9442747c3bda button.colab-df-convert');\n",
              "      buttonEl.style.display =\n",
              "        google.colab.kernel.accessAllowed ? 'block' : 'none';\n",
              "\n",
              "      async function convertToInteractive(key) {\n",
              "        const element = document.querySelector('#df-4f992129-b7f5-406f-9bad-9442747c3bda');\n",
              "        const dataTable =\n",
              "          await google.colab.kernel.invokeFunction('convertToInteractive',\n",
              "                                                    [key], {});\n",
              "        if (!dataTable) return;\n",
              "\n",
              "        const docLinkHtml = 'Like what you see? Visit the ' +\n",
              "          '<a target=\"_blank\" href=https://colab.research.google.com/notebooks/data_table.ipynb>data table notebook</a>'\n",
              "          + ' to learn more about interactive tables.';\n",
              "        element.innerHTML = '';\n",
              "        dataTable['output_type'] = 'display_data';\n",
              "        await google.colab.output.renderOutput(dataTable, element);\n",
              "        const docLink = document.createElement('div');\n",
              "        docLink.innerHTML = docLinkHtml;\n",
              "        element.appendChild(docLink);\n",
              "      }\n",
              "    </script>\n",
              "  </div>\n",
              "\n",
              "\n",
              "<div id=\"df-28492e7c-4c99-476f-85ff-8fcbe526214e\">\n",
              "  <button class=\"colab-df-quickchart\" onclick=\"quickchart('df-28492e7c-4c99-476f-85ff-8fcbe526214e')\"\n",
              "            title=\"Suggest charts\"\n",
              "            style=\"display:none;\">\n",
              "\n",
              "<svg xmlns=\"http://www.w3.org/2000/svg\" height=\"24px\"viewBox=\"0 0 24 24\"\n",
              "     width=\"24px\">\n",
              "    <g>\n",
              "        <path d=\"M19 3H5c-1.1 0-2 .9-2 2v14c0 1.1.9 2 2 2h14c1.1 0 2-.9 2-2V5c0-1.1-.9-2-2-2zM9 17H7v-7h2v7zm4 0h-2V7h2v10zm4 0h-2v-4h2v4z\"/>\n",
              "    </g>\n",
              "</svg>\n",
              "  </button>\n",
              "\n",
              "<style>\n",
              "  .colab-df-quickchart {\n",
              "      --bg-color: #E8F0FE;\n",
              "      --fill-color: #1967D2;\n",
              "      --hover-bg-color: #E2EBFA;\n",
              "      --hover-fill-color: #174EA6;\n",
              "      --disabled-fill-color: #AAA;\n",
              "      --disabled-bg-color: #DDD;\n",
              "  }\n",
              "\n",
              "  [theme=dark] .colab-df-quickchart {\n",
              "      --bg-color: #3B4455;\n",
              "      --fill-color: #D2E3FC;\n",
              "      --hover-bg-color: #434B5C;\n",
              "      --hover-fill-color: #FFFFFF;\n",
              "      --disabled-bg-color: #3B4455;\n",
              "      --disabled-fill-color: #666;\n",
              "  }\n",
              "\n",
              "  .colab-df-quickchart {\n",
              "    background-color: var(--bg-color);\n",
              "    border: none;\n",
              "    border-radius: 50%;\n",
              "    cursor: pointer;\n",
              "    display: none;\n",
              "    fill: var(--fill-color);\n",
              "    height: 32px;\n",
              "    padding: 0;\n",
              "    width: 32px;\n",
              "  }\n",
              "\n",
              "  .colab-df-quickchart:hover {\n",
              "    background-color: var(--hover-bg-color);\n",
              "    box-shadow: 0 1px 2px rgba(60, 64, 67, 0.3), 0 1px 3px 1px rgba(60, 64, 67, 0.15);\n",
              "    fill: var(--button-hover-fill-color);\n",
              "  }\n",
              "\n",
              "  .colab-df-quickchart-complete:disabled,\n",
              "  .colab-df-quickchart-complete:disabled:hover {\n",
              "    background-color: var(--disabled-bg-color);\n",
              "    fill: var(--disabled-fill-color);\n",
              "    box-shadow: none;\n",
              "  }\n",
              "\n",
              "  .colab-df-spinner {\n",
              "    border: 2px solid var(--fill-color);\n",
              "    border-color: transparent;\n",
              "    border-bottom-color: var(--fill-color);\n",
              "    animation:\n",
              "      spin 1s steps(1) infinite;\n",
              "  }\n",
              "\n",
              "  @keyframes spin {\n",
              "    0% {\n",
              "      border-color: transparent;\n",
              "      border-bottom-color: var(--fill-color);\n",
              "      border-left-color: var(--fill-color);\n",
              "    }\n",
              "    20% {\n",
              "      border-color: transparent;\n",
              "      border-left-color: var(--fill-color);\n",
              "      border-top-color: var(--fill-color);\n",
              "    }\n",
              "    30% {\n",
              "      border-color: transparent;\n",
              "      border-left-color: var(--fill-color);\n",
              "      border-top-color: var(--fill-color);\n",
              "      border-right-color: var(--fill-color);\n",
              "    }\n",
              "    40% {\n",
              "      border-color: transparent;\n",
              "      border-right-color: var(--fill-color);\n",
              "      border-top-color: var(--fill-color);\n",
              "    }\n",
              "    60% {\n",
              "      border-color: transparent;\n",
              "      border-right-color: var(--fill-color);\n",
              "    }\n",
              "    80% {\n",
              "      border-color: transparent;\n",
              "      border-right-color: var(--fill-color);\n",
              "      border-bottom-color: var(--fill-color);\n",
              "    }\n",
              "    90% {\n",
              "      border-color: transparent;\n",
              "      border-bottom-color: var(--fill-color);\n",
              "    }\n",
              "  }\n",
              "</style>\n",
              "\n",
              "  <script>\n",
              "    async function quickchart(key) {\n",
              "      const quickchartButtonEl =\n",
              "        document.querySelector('#' + key + ' button');\n",
              "      quickchartButtonEl.disabled = true;  // To prevent multiple clicks.\n",
              "      quickchartButtonEl.classList.add('colab-df-spinner');\n",
              "      try {\n",
              "        const charts = await google.colab.kernel.invokeFunction(\n",
              "            'suggestCharts', [key], {});\n",
              "      } catch (error) {\n",
              "        console.error('Error during call to suggestCharts:', error);\n",
              "      }\n",
              "      quickchartButtonEl.classList.remove('colab-df-spinner');\n",
              "      quickchartButtonEl.classList.add('colab-df-quickchart-complete');\n",
              "    }\n",
              "    (() => {\n",
              "      let quickchartButtonEl =\n",
              "        document.querySelector('#df-28492e7c-4c99-476f-85ff-8fcbe526214e button');\n",
              "      quickchartButtonEl.style.display =\n",
              "        google.colab.kernel.accessAllowed ? 'block' : 'none';\n",
              "    })();\n",
              "  </script>\n",
              "</div>\n",
              "\n",
              "    </div>\n",
              "  </div>\n"
            ],
            "text/plain": [
              "         id                                               body  rate  \\\n",
              "0  53672599                                    به درد نمیخوره    1.0   \n",
              "5  53266157  قبلا هم استفاده کردم اگه بلد باشین کار کردن با...   5.0   \n",
              "6  46206235                                               خوبه   2.0   \n",
              "7  40597171                  خیلی به کارتون میاد قیمتشم مناسبه   5.0   \n",
              "8  46198656                                دقیقا مطابق عکس بود   5.0   \n",
              "\n",
              "  recommendation_status  is_buyer  \n",
              "0       not_recommended      True  \n",
              "5           recommended      True  \n",
              "6                   NaN      True  \n",
              "7           recommended      True  \n",
              "8           recommended      True  "
            ]
          },
          "execution_count": 26,
          "metadata": {},
          "output_type": "execute_result"
        }
      ],
      "source": [
        "comment_df.head()"
      ]
    },
    {
      "cell_type": "code",
      "execution_count": null,
      "metadata": {
        "colab": {
          "base_uri": "https://localhost:8080/",
          "height": 178
        },
        "id": "m3NCRmyqn6rF",
        "outputId": "55fe684a-4938-49a0-b372-081b69057454"
      },
      "outputs": [
        {
          "output_type": "execute_result",
          "data": {
            "text/plain": [
              "is_buyer\n",
              "True     4875758\n",
              "False     299316\n",
              "Name: count, dtype: int64"
            ],
            "text/html": [
              "<div>\n",
              "<style scoped>\n",
              "    .dataframe tbody tr th:only-of-type {\n",
              "        vertical-align: middle;\n",
              "    }\n",
              "\n",
              "    .dataframe tbody tr th {\n",
              "        vertical-align: top;\n",
              "    }\n",
              "\n",
              "    .dataframe thead th {\n",
              "        text-align: right;\n",
              "    }\n",
              "</style>\n",
              "<table border=\"1\" class=\"dataframe\">\n",
              "  <thead>\n",
              "    <tr style=\"text-align: right;\">\n",
              "      <th></th>\n",
              "      <th>count</th>\n",
              "    </tr>\n",
              "    <tr>\n",
              "      <th>is_buyer</th>\n",
              "      <th></th>\n",
              "    </tr>\n",
              "  </thead>\n",
              "  <tbody>\n",
              "    <tr>\n",
              "      <th>True</th>\n",
              "      <td>4875758</td>\n",
              "    </tr>\n",
              "    <tr>\n",
              "      <th>False</th>\n",
              "      <td>299316</td>\n",
              "    </tr>\n",
              "  </tbody>\n",
              "</table>\n",
              "</div><br><label><b>dtype:</b> int64</label>"
            ]
          },
          "metadata": {},
          "execution_count": 21
        }
      ],
      "source": [
        "# How many people are not buyer\n",
        "comment_df['is_buyer'].value_counts()"
      ]
    },
    {
      "cell_type": "markdown",
      "source": [
        "We only get focused on people how bought product."
      ],
      "metadata": {
        "id": "zFx5isJS53zl"
      }
    },
    {
      "cell_type": "code",
      "execution_count": null,
      "metadata": {
        "id": "eTCkGHYoucqs"
      },
      "outputs": [],
      "source": [
        "# Let's remove people who are not buyer in dataset\n",
        "not_buyer_index = comment_df[comment_df['is_buyer'] == False].index\n",
        "comment_df.drop(not_buyer_index,inplace=True)"
      ]
    },
    {
      "cell_type": "markdown",
      "source": [
        "The one thing we need to is droping null values on **recommendation_status** column"
      ],
      "metadata": {
        "id": "7J8oMawM5-Yl"
      }
    },
    {
      "cell_type": "code",
      "execution_count": null,
      "metadata": {
        "id": "c0MoRTWEurbX"
      },
      "outputs": [],
      "source": [
        "# drop null values in recommendation_status\n",
        "comment_df.dropna(subset=['recommendation_status'],inplace=True)"
      ]
    },
    {
      "cell_type": "code",
      "execution_count": null,
      "metadata": {
        "colab": {
          "base_uri": "https://localhost:8080/",
          "height": 241
        },
        "id": "_d_HIL1iu4mL",
        "outputId": "4ca931f1-2d57-46ee-c05a-ef09de4a519f"
      },
      "outputs": [
        {
          "output_type": "execute_result",
          "data": {
            "text/plain": [
              "id                       0\n",
              "body                     0\n",
              "rate                     0\n",
              "recommendation_status    0\n",
              "is_buyer                 0\n",
              "dtype: int64"
            ],
            "text/html": [
              "<div>\n",
              "<style scoped>\n",
              "    .dataframe tbody tr th:only-of-type {\n",
              "        vertical-align: middle;\n",
              "    }\n",
              "\n",
              "    .dataframe tbody tr th {\n",
              "        vertical-align: top;\n",
              "    }\n",
              "\n",
              "    .dataframe thead th {\n",
              "        text-align: right;\n",
              "    }\n",
              "</style>\n",
              "<table border=\"1\" class=\"dataframe\">\n",
              "  <thead>\n",
              "    <tr style=\"text-align: right;\">\n",
              "      <th></th>\n",
              "      <th>0</th>\n",
              "    </tr>\n",
              "  </thead>\n",
              "  <tbody>\n",
              "    <tr>\n",
              "      <th>id</th>\n",
              "      <td>0</td>\n",
              "    </tr>\n",
              "    <tr>\n",
              "      <th>body</th>\n",
              "      <td>0</td>\n",
              "    </tr>\n",
              "    <tr>\n",
              "      <th>rate</th>\n",
              "      <td>0</td>\n",
              "    </tr>\n",
              "    <tr>\n",
              "      <th>recommendation_status</th>\n",
              "      <td>0</td>\n",
              "    </tr>\n",
              "    <tr>\n",
              "      <th>is_buyer</th>\n",
              "      <td>0</td>\n",
              "    </tr>\n",
              "  </tbody>\n",
              "</table>\n",
              "</div><br><label><b>dtype:</b> int64</label>"
            ]
          },
          "metadata": {},
          "execution_count": 19
        }
      ],
      "source": [
        "comment_df.isnull().sum()"
      ]
    },
    {
      "cell_type": "code",
      "execution_count": null,
      "metadata": {
        "id": "VHbitE07u7zh"
      },
      "outputs": [],
      "source": [
        "# Remove no_idea rows from dataset\n",
        "comment_df.drop(comment_df[comment_df['recommendation_status'] == 'no_idea'].index,inplace=True)"
      ]
    },
    {
      "cell_type": "code",
      "execution_count": null,
      "metadata": {
        "id": "cnC5FlL9vTx3"
      },
      "outputs": [],
      "source": [
        "# Drop id, recommendation_status and is_buyer\n",
        "comment_df.drop(columns=['id','recommendation_status','is_buyer'],inplace=True)"
      ]
    },
    {
      "cell_type": "code",
      "execution_count": null,
      "metadata": {
        "colab": {
          "base_uri": "https://localhost:8080/"
        },
        "id": "wYCKBJxdvlUM",
        "outputId": "2d6ca33c-6320-4fb3-f13b-516b6cbab61a"
      },
      "outputs": [
        {
          "data": {
            "text/plain": [
              "(3699307, 2)"
            ]
          },
          "execution_count": 31,
          "metadata": {},
          "output_type": "execute_result"
        }
      ],
      "source": [
        "comment_df.shape"
      ]
    },
    {
      "cell_type": "markdown",
      "source": [
        "**Step 3**:\n",
        "- <font color='blue'>**Check if there are english texts or not**</font>\n"
      ],
      "metadata": {
        "id": "5M-WjYVO6MJV"
      }
    },
    {
      "cell_type": "code",
      "execution_count": null,
      "metadata": {
        "colab": {
          "base_uri": "https://localhost:8080/",
          "height": 424
        },
        "id": "FUdt9IEugiOU",
        "outputId": "23d4a20c-b3c4-479a-cace-c796795f63c4"
      },
      "outputs": [
        {
          "output_type": "execute_result",
          "data": {
            "text/plain": [
              "                                                      body  rate  length  \\\n",
              "101      به درد نخور بود و با ماژیک روش نوشته بود OPI\\n...   1.0      21   \n",
              "532      حتما زیر آرایشتون اوا مرطوب کننده و ضدآفتاب بز...   5.0      98   \n",
              "541      من رنگ های دیگه این برند لاک رو هم دارم هم مان...   5.0      31   \n",
              "670      سلام. اولش خیلی خوشم اومده بود ازش خیلی خیلی ب...   1.0      95   \n",
              "692      برندش همون بود ولی normal hold فرستادن که چسبن...   2.5      11   \n",
              "...                                                    ...   ...     ...   \n",
              "6156222                               برای ps واجبه داشتنش   5.0       4   \n",
              "6156241  اول مدل Ep0011روسفارش دادم که گرون ترهم بود ول...   4.0      35   \n",
              "6156246  هرکی ps5داره این محصول رو لازم داره \\r\\nاینها ...   5.0      40   \n",
              "6156267  سلام\\r\\nبار اول از کافه سرگرمی خرید کردم که جن...   4.0      99   \n",
              "6156282  چون هیچ کابلی استفاده نمیشه، نه پورت تایپ سی د...   5.0      26   \n",
              "\n",
              "         contains_english  \n",
              "101                  True  \n",
              "532                  True  \n",
              "541                  True  \n",
              "670                  True  \n",
              "692                  True  \n",
              "...                   ...  \n",
              "6156222              True  \n",
              "6156241              True  \n",
              "6156246              True  \n",
              "6156267              True  \n",
              "6156282              True  \n",
              "\n",
              "[21983 rows x 4 columns]"
            ],
            "text/html": [
              "\n",
              "  <div id=\"df-2dfb7a3a-05e9-40f1-9e8f-a9f9cf0f7e8c\" class=\"colab-df-container\">\n",
              "    <div>\n",
              "<style scoped>\n",
              "    .dataframe tbody tr th:only-of-type {\n",
              "        vertical-align: middle;\n",
              "    }\n",
              "\n",
              "    .dataframe tbody tr th {\n",
              "        vertical-align: top;\n",
              "    }\n",
              "\n",
              "    .dataframe thead th {\n",
              "        text-align: right;\n",
              "    }\n",
              "</style>\n",
              "<table border=\"1\" class=\"dataframe\">\n",
              "  <thead>\n",
              "    <tr style=\"text-align: right;\">\n",
              "      <th></th>\n",
              "      <th>body</th>\n",
              "      <th>rate</th>\n",
              "      <th>length</th>\n",
              "      <th>contains_english</th>\n",
              "    </tr>\n",
              "  </thead>\n",
              "  <tbody>\n",
              "    <tr>\n",
              "      <th>101</th>\n",
              "      <td>به درد نخور بود و با ماژیک روش نوشته بود OPI\\n...</td>\n",
              "      <td>1.0</td>\n",
              "      <td>21</td>\n",
              "      <td>True</td>\n",
              "    </tr>\n",
              "    <tr>\n",
              "      <th>532</th>\n",
              "      <td>حتما زیر آرایشتون اوا مرطوب کننده و ضدآفتاب بز...</td>\n",
              "      <td>5.0</td>\n",
              "      <td>98</td>\n",
              "      <td>True</td>\n",
              "    </tr>\n",
              "    <tr>\n",
              "      <th>541</th>\n",
              "      <td>من رنگ های دیگه این برند لاک رو هم دارم هم مان...</td>\n",
              "      <td>5.0</td>\n",
              "      <td>31</td>\n",
              "      <td>True</td>\n",
              "    </tr>\n",
              "    <tr>\n",
              "      <th>670</th>\n",
              "      <td>سلام. اولش خیلی خوشم اومده بود ازش خیلی خیلی ب...</td>\n",
              "      <td>1.0</td>\n",
              "      <td>95</td>\n",
              "      <td>True</td>\n",
              "    </tr>\n",
              "    <tr>\n",
              "      <th>692</th>\n",
              "      <td>برندش همون بود ولی normal hold فرستادن که چسبن...</td>\n",
              "      <td>2.5</td>\n",
              "      <td>11</td>\n",
              "      <td>True</td>\n",
              "    </tr>\n",
              "    <tr>\n",
              "      <th>...</th>\n",
              "      <td>...</td>\n",
              "      <td>...</td>\n",
              "      <td>...</td>\n",
              "      <td>...</td>\n",
              "    </tr>\n",
              "    <tr>\n",
              "      <th>6156222</th>\n",
              "      <td>برای ps واجبه داشتنش</td>\n",
              "      <td>5.0</td>\n",
              "      <td>4</td>\n",
              "      <td>True</td>\n",
              "    </tr>\n",
              "    <tr>\n",
              "      <th>6156241</th>\n",
              "      <td>اول مدل Ep0011روسفارش دادم که گرون ترهم بود ول...</td>\n",
              "      <td>4.0</td>\n",
              "      <td>35</td>\n",
              "      <td>True</td>\n",
              "    </tr>\n",
              "    <tr>\n",
              "      <th>6156246</th>\n",
              "      <td>هرکی ps5داره این محصول رو لازم داره \\r\\nاینها ...</td>\n",
              "      <td>5.0</td>\n",
              "      <td>40</td>\n",
              "      <td>True</td>\n",
              "    </tr>\n",
              "    <tr>\n",
              "      <th>6156267</th>\n",
              "      <td>سلام\\r\\nبار اول از کافه سرگرمی خرید کردم که جن...</td>\n",
              "      <td>4.0</td>\n",
              "      <td>99</td>\n",
              "      <td>True</td>\n",
              "    </tr>\n",
              "    <tr>\n",
              "      <th>6156282</th>\n",
              "      <td>چون هیچ کابلی استفاده نمیشه، نه پورت تایپ سی د...</td>\n",
              "      <td>5.0</td>\n",
              "      <td>26</td>\n",
              "      <td>True</td>\n",
              "    </tr>\n",
              "  </tbody>\n",
              "</table>\n",
              "<p>21983 rows × 4 columns</p>\n",
              "</div>\n",
              "    <div class=\"colab-df-buttons\">\n",
              "\n",
              "  <div class=\"colab-df-container\">\n",
              "    <button class=\"colab-df-convert\" onclick=\"convertToInteractive('df-2dfb7a3a-05e9-40f1-9e8f-a9f9cf0f7e8c')\"\n",
              "            title=\"Convert this dataframe to an interactive table.\"\n",
              "            style=\"display:none;\">\n",
              "\n",
              "  <svg xmlns=\"http://www.w3.org/2000/svg\" height=\"24px\" viewBox=\"0 -960 960 960\">\n",
              "    <path d=\"M120-120v-720h720v720H120Zm60-500h600v-160H180v160Zm220 220h160v-160H400v160Zm0 220h160v-160H400v160ZM180-400h160v-160H180v160Zm440 0h160v-160H620v160ZM180-180h160v-160H180v160Zm440 0h160v-160H620v160Z\"/>\n",
              "  </svg>\n",
              "    </button>\n",
              "\n",
              "  <style>\n",
              "    .colab-df-container {\n",
              "      display:flex;\n",
              "      gap: 12px;\n",
              "    }\n",
              "\n",
              "    .colab-df-convert {\n",
              "      background-color: #E8F0FE;\n",
              "      border: none;\n",
              "      border-radius: 50%;\n",
              "      cursor: pointer;\n",
              "      display: none;\n",
              "      fill: #1967D2;\n",
              "      height: 32px;\n",
              "      padding: 0 0 0 0;\n",
              "      width: 32px;\n",
              "    }\n",
              "\n",
              "    .colab-df-convert:hover {\n",
              "      background-color: #E2EBFA;\n",
              "      box-shadow: 0px 1px 2px rgba(60, 64, 67, 0.3), 0px 1px 3px 1px rgba(60, 64, 67, 0.15);\n",
              "      fill: #174EA6;\n",
              "    }\n",
              "\n",
              "    .colab-df-buttons div {\n",
              "      margin-bottom: 4px;\n",
              "    }\n",
              "\n",
              "    [theme=dark] .colab-df-convert {\n",
              "      background-color: #3B4455;\n",
              "      fill: #D2E3FC;\n",
              "    }\n",
              "\n",
              "    [theme=dark] .colab-df-convert:hover {\n",
              "      background-color: #434B5C;\n",
              "      box-shadow: 0px 1px 3px 1px rgba(0, 0, 0, 0.15);\n",
              "      filter: drop-shadow(0px 1px 2px rgba(0, 0, 0, 0.3));\n",
              "      fill: #FFFFFF;\n",
              "    }\n",
              "  </style>\n",
              "\n",
              "    <script>\n",
              "      const buttonEl =\n",
              "        document.querySelector('#df-2dfb7a3a-05e9-40f1-9e8f-a9f9cf0f7e8c button.colab-df-convert');\n",
              "      buttonEl.style.display =\n",
              "        google.colab.kernel.accessAllowed ? 'block' : 'none';\n",
              "\n",
              "      async function convertToInteractive(key) {\n",
              "        const element = document.querySelector('#df-2dfb7a3a-05e9-40f1-9e8f-a9f9cf0f7e8c');\n",
              "        const dataTable =\n",
              "          await google.colab.kernel.invokeFunction('convertToInteractive',\n",
              "                                                    [key], {});\n",
              "        if (!dataTable) return;\n",
              "\n",
              "        const docLinkHtml = 'Like what you see? Visit the ' +\n",
              "          '<a target=\"_blank\" href=https://colab.research.google.com/notebooks/data_table.ipynb>data table notebook</a>'\n",
              "          + ' to learn more about interactive tables.';\n",
              "        element.innerHTML = '';\n",
              "        dataTable['output_type'] = 'display_data';\n",
              "        await google.colab.output.renderOutput(dataTable, element);\n",
              "        const docLink = document.createElement('div');\n",
              "        docLink.innerHTML = docLinkHtml;\n",
              "        element.appendChild(docLink);\n",
              "      }\n",
              "    </script>\n",
              "  </div>\n",
              "\n",
              "\n",
              "<div id=\"df-901087fe-ef4f-4258-ad2e-237f62e350b6\">\n",
              "  <button class=\"colab-df-quickchart\" onclick=\"quickchart('df-901087fe-ef4f-4258-ad2e-237f62e350b6')\"\n",
              "            title=\"Suggest charts\"\n",
              "            style=\"display:none;\">\n",
              "\n",
              "<svg xmlns=\"http://www.w3.org/2000/svg\" height=\"24px\"viewBox=\"0 0 24 24\"\n",
              "     width=\"24px\">\n",
              "    <g>\n",
              "        <path d=\"M19 3H5c-1.1 0-2 .9-2 2v14c0 1.1.9 2 2 2h14c1.1 0 2-.9 2-2V5c0-1.1-.9-2-2-2zM9 17H7v-7h2v7zm4 0h-2V7h2v10zm4 0h-2v-4h2v4z\"/>\n",
              "    </g>\n",
              "</svg>\n",
              "  </button>\n",
              "\n",
              "<style>\n",
              "  .colab-df-quickchart {\n",
              "      --bg-color: #E8F0FE;\n",
              "      --fill-color: #1967D2;\n",
              "      --hover-bg-color: #E2EBFA;\n",
              "      --hover-fill-color: #174EA6;\n",
              "      --disabled-fill-color: #AAA;\n",
              "      --disabled-bg-color: #DDD;\n",
              "  }\n",
              "\n",
              "  [theme=dark] .colab-df-quickchart {\n",
              "      --bg-color: #3B4455;\n",
              "      --fill-color: #D2E3FC;\n",
              "      --hover-bg-color: #434B5C;\n",
              "      --hover-fill-color: #FFFFFF;\n",
              "      --disabled-bg-color: #3B4455;\n",
              "      --disabled-fill-color: #666;\n",
              "  }\n",
              "\n",
              "  .colab-df-quickchart {\n",
              "    background-color: var(--bg-color);\n",
              "    border: none;\n",
              "    border-radius: 50%;\n",
              "    cursor: pointer;\n",
              "    display: none;\n",
              "    fill: var(--fill-color);\n",
              "    height: 32px;\n",
              "    padding: 0;\n",
              "    width: 32px;\n",
              "  }\n",
              "\n",
              "  .colab-df-quickchart:hover {\n",
              "    background-color: var(--hover-bg-color);\n",
              "    box-shadow: 0 1px 2px rgba(60, 64, 67, 0.3), 0 1px 3px 1px rgba(60, 64, 67, 0.15);\n",
              "    fill: var(--button-hover-fill-color);\n",
              "  }\n",
              "\n",
              "  .colab-df-quickchart-complete:disabled,\n",
              "  .colab-df-quickchart-complete:disabled:hover {\n",
              "    background-color: var(--disabled-bg-color);\n",
              "    fill: var(--disabled-fill-color);\n",
              "    box-shadow: none;\n",
              "  }\n",
              "\n",
              "  .colab-df-spinner {\n",
              "    border: 2px solid var(--fill-color);\n",
              "    border-color: transparent;\n",
              "    border-bottom-color: var(--fill-color);\n",
              "    animation:\n",
              "      spin 1s steps(1) infinite;\n",
              "  }\n",
              "\n",
              "  @keyframes spin {\n",
              "    0% {\n",
              "      border-color: transparent;\n",
              "      border-bottom-color: var(--fill-color);\n",
              "      border-left-color: var(--fill-color);\n",
              "    }\n",
              "    20% {\n",
              "      border-color: transparent;\n",
              "      border-left-color: var(--fill-color);\n",
              "      border-top-color: var(--fill-color);\n",
              "    }\n",
              "    30% {\n",
              "      border-color: transparent;\n",
              "      border-left-color: var(--fill-color);\n",
              "      border-top-color: var(--fill-color);\n",
              "      border-right-color: var(--fill-color);\n",
              "    }\n",
              "    40% {\n",
              "      border-color: transparent;\n",
              "      border-right-color: var(--fill-color);\n",
              "      border-top-color: var(--fill-color);\n",
              "    }\n",
              "    60% {\n",
              "      border-color: transparent;\n",
              "      border-right-color: var(--fill-color);\n",
              "    }\n",
              "    80% {\n",
              "      border-color: transparent;\n",
              "      border-right-color: var(--fill-color);\n",
              "      border-bottom-color: var(--fill-color);\n",
              "    }\n",
              "    90% {\n",
              "      border-color: transparent;\n",
              "      border-bottom-color: var(--fill-color);\n",
              "    }\n",
              "  }\n",
              "</style>\n",
              "\n",
              "  <script>\n",
              "    async function quickchart(key) {\n",
              "      const quickchartButtonEl =\n",
              "        document.querySelector('#' + key + ' button');\n",
              "      quickchartButtonEl.disabled = true;  // To prevent multiple clicks.\n",
              "      quickchartButtonEl.classList.add('colab-df-spinner');\n",
              "      try {\n",
              "        const charts = await google.colab.kernel.invokeFunction(\n",
              "            'suggestCharts', [key], {});\n",
              "      } catch (error) {\n",
              "        console.error('Error during call to suggestCharts:', error);\n",
              "      }\n",
              "      quickchartButtonEl.classList.remove('colab-df-spinner');\n",
              "      quickchartButtonEl.classList.add('colab-df-quickchart-complete');\n",
              "    }\n",
              "    (() => {\n",
              "      let quickchartButtonEl =\n",
              "        document.querySelector('#df-901087fe-ef4f-4258-ad2e-237f62e350b6 button');\n",
              "      quickchartButtonEl.style.display =\n",
              "        google.colab.kernel.accessAllowed ? 'block' : 'none';\n",
              "    })();\n",
              "  </script>\n",
              "</div>\n",
              "\n",
              "    </div>\n",
              "  </div>\n"
            ],
            "application/vnd.google.colaboratory.intrinsic+json": {
              "type": "dataframe",
              "summary": "{\n  \"name\": \"comment_df[comment_df['contains_english']]\",\n  \"rows\": 21983,\n  \"fields\": [\n    {\n      \"column\": \"body\",\n      \"properties\": {\n        \"dtype\": \"string\",\n        \"num_unique_values\": 20873,\n        \"samples\": [\n          \"\\u0645\\u0648\\u0632\\u0646 \\u0641\\u0648\\u0642 \\u0627\\u0644\\u0639\\u0627\\u062f\\u0647 \\u0632\\u06cc\\u0628\\u0627\\u06cc\\u06cc \\u0647\\u0633\\u062a\\u060c\\u062e\\u06cc\\u0644\\u06cc \\u0642\\u062f\\u0631\\u062a\\u0645\\u0646\\u062f \\u0646\\u06cc\\u0633\\u062a \\u0648\\u0644\\u06cc \\u0646\\u0645\\u06cc\\u0634\\u0647 \\u06af\\u0641\\u062a \\u0639\\u06cc\\u0628 \\u062f\\u0633\\u062a\\u06af\\u0627\\u0647.\\u0631\\u0648\\u06cc \\u0647\\u0645 \\u0631\\u0641\\u062a\\u0647 \\u062e\\u0648\\u0628 \\u0648 \\u06a9\\u0627\\u0631 \\u0631\\u0627\\u0647 \\u0628\\u0646\\u062f\\u0627\\u0632\\u0647\\u060c\\u06a9\\u06cc\\u0641\\u06cc\\u062a\\u0634 \\u0641\\u0639\\u0644\\u0627 \\u062e\\u0648\\u0628\\u0647 \\u0648\\u0644\\u06cc \\u0628\\u0627 \\u06af\\u0630\\u0634\\u062a \\u0632\\u0645\\u0627\\u0646 \\u062f\\u0648\\u0627\\u0645\\u0634 \\u0645\\u0634\\u062e\\u0635 \\u0645\\u06cc\\u0634\\u0647\\u060c\\u0645\\u0646 \\u062a\\u0627 \\u0627\\u0644\\u0627\\u0646 \\u0686\\u0646\\u062f\\u06cc\\u0646 \\u062f\\u0633\\u062a\\u06af\\u0627\\u0647 \\u0645\\u0648\\u0632\\u0646 \\u06af\\u0631\\u0641\\u062a\\u0645 \\u06a9\\u0647 \\u0647\\u06cc\\u0686\\u06a9\\u062f\\u0648\\u0645\\u0634 \\u062e\\u0648\\u0628 \\u0646\\u0628\\u0648\\u062f \\u0645\\u0627\\u0631\\u06a9 \\u062c\\u06cc\\u0645\\u06cc\\u060c\\u0631\\u0648\\u0632\\u06cc\\u0627 \\u0648....\\u0648\\u0644\\u06cc \\u0627\\u06cc\\u0646 \\u06cc\\u06a9\\u06cc \\u0648\\u0627\\u0642\\u0639\\u0627 \\u0628\\u0647 \\u062f\\u0644\\u0645 \\u0646\\u0634\\u0633\\u062a \\u0648 \\u0627\\u0645\\u06cc\\u062f\\u0648\\u0627\\u0631\\u0645 \\u062e\\u0648\\u0628 \\u0628\\u0645\\u0648\\u0646\\u0647 \\u0648 \\u0632\\u0648\\u062f \\u062e\\u0631\\u0627\\u0628 \\u0646\\u0634\\u0647....\\u0686\\u0646\\u062f \\u0645\\u0627\\u0647 \\u0628\\u0639\\u062f&gt;\\u0686\\u0646\\u062f \\u0645\\u0627\\u0647 \\u067e\\u06cc\\u0634 \\u06a9\\u0647 \\u062a\\u0627\\u0632\\u0647 \\u062e\\u0631\\u06cc\\u062f\\u0645 \\u06a9\\u0627\\u0645\\u0646\\u062a \\u06af\\u0630\\u0627\\u0634\\u062a\\u0645 \\u0648 \\u06a9\\u0627\\u0645\\u0644\\u0627 \\u0631\\u0627\\u0636\\u06cc \\u0628\\u0648\\u062f\\u0645 \\u0648 \\u0627\\u0644\\u0627\\u0646 \\u0628\\u0627\\u06cc\\u062f \\u0628\\u06af\\u0645 \\u062a\\u06cc\\u063a\\u0647 \\u0627\\u0634 \\u06a9\\u064f\\u0646\\u062f \\u0634\\u062f\\u0647 \\u0645\\u062a\\u0627\\u0633\\u0641\\u0627\\u0646\\u0647 \\u0648 \\u0627\\u0635\\u0644\\u0627 \\u0646\\u0645\\u06cc\\u0632\\u0646\\u0647 \\u0628\\u0627\\u062a\\u0631\\u06cc \\u0628\\u0627 \\u06a9\\u06cc\\u0641\\u06cc\\u062a \\u0622\\u0644\\u06a9\\u0627\\u0644\\u06cc\\u0646 \\u0634\\u06cc\\u0627\\u0626\\u0648\\u0645\\u06cc \\u0647\\u0645 \\u0627\\u0646\\u062f\\u0627\\u062e\\u062a\\u0645 \\u0631\\u0648\\u0634 \\u0646\\u0645\\u06cc\\u0632\\u0646\\u0647!!!!\\u06a9\\u0627\\u0645\\u0646\\u062a \\u062c\\u062f\\u06cc\\u062f \\u0631\\u0627 \\u062f\\u0631 \\u0627\\u062f\\u0627\\u0645\\u0647 \\u0642\\u0628\\u0644\\u06cc \\u0646\\u0648\\u0634\\u062a\\u0645 \\u06a9\\u0647 \\u0645\\u062a\\u0648\\u062c\\u0647 \\u0628\\u0634\\u06cc\\u062f\",\n          \"\\u0628\\u0631\\u0646\\u062f onwer \\u06a9\\u0631\\u0647 \\u0627\\u06cc \\u0647\\u0633\\u062a \\u0648 \\u0645\\u062d\\u0635\\u0648\\u0644\\u0627\\u062a\\u0634 \\u0628\\u062f\\u0648\\u0646 \\u0631\\u0642\\u06cc\\u0628\\u0646.\",\n          \"\\u0628\\u0627 \\u0627\\u062d\\u062a\\u0631\\u0627\\u0645 \\u0628\\u0647 \\u062f\\u06cc\\u062c\\u06cc\\u06a9\\u0627\\u0644\\u0627 \\u0648 \\u0641\\u0631\\u0648\\u0634\\u0646\\u062f\\u0647 \\u0645\\u062d\\u062a\\u0631\\u0645 \\u060c\\r\\n\\u0627\\u0648\\u0644\\u0627 \\u0627\\u0648\\u0646 \\u0686\\u06cc\\u0632\\u06cc \\u06a9\\u0647 \\u062a\\u0648 \\u0639\\u06a9\\u0633 \\u0645\\u0648\\u062c\\u0648\\u062f\\u0647 \\u0628\\u0627 \\u0686\\u06cc\\u0632\\u06cc \\u06a9\\u0647 \\u0647\\u0633\\u062a \\u0628\\u0633\\u06cc\\u0627\\u0631 \\u0645\\u062a\\u0641\\u0627\\u0648\\u062a\\u0647 \\r\\n\\u0645\\u0646 5x\\u0633\\u0641\\u0627\\u0631\\u0634 \\u062f\\u0627\\u062f\\u0645 \\u0648 \\u0647\\u0645\\u0648\\u0646 \\u0633\\u0627\\u06cc\\u0632 \\u0627\\u0631\\u0633\\u0627\\u0644 \\u0634\\u062f\\u0647 \\u0648\\u0644\\u06cc \\u0627\\u0646\\u0642\\u062f\\u0631 \\u06a9\\u0648\\u0686\\u06a9 \\u0647\\u0633\\u062a \\u06a9\\u0647 \\u062a\\u0646 \\u0628\\u0631\\u0627\\u062f\\u0631 14\\u0633\\u0627\\u0644\\u0645 \\u0631\\u0641\\u062a \\r\\n\\u0648 \\u06a9\\u06cc\\u0641\\u06cc\\u062a \\u0628\\u0633\\u06cc\\u0627\\u0631 \\u067e\\u0627\\u06cc\\u06cc\\u0646 \\u0648 \\u062f\\u0648\\u062e\\u062a \\u0636\\u0639\\u06cc\\u0641 \\u0648 \\u062c\\u06cc\\u0628 \\u0639\\u0642\\u0628\\u0634 \\u062f\\u0631\\u0632\\u0634 \\u0628\\u0627\\u0632 \\u0634\\u062f\\u0647 \\r\\n\\u0645\\u06cc\\u062f\\u0648\\u0646\\u0645 \\u0642\\u06cc\\u0645\\u062a\\u0634 \\u067e\\u0627\\u06cc\\u06cc\\u0646\\u0647 \\u0648\\u0644\\u06cc \\u0648\\u0627\\u0642\\u0639\\u0627 \\u0627\\u0631\\u0632\\u0634 \\u0627\\u0648\\u0646 \\u0642\\u06cc\\u0645\\u062a \\u0646\\u062f\\u0627\\u0631\\u0647 \\r\\n\\u0645\\u0646 \\u0645\\u0631\\u062c\\u0648\\u0639 \\u06a9\\u0631\\u062f\\u0645 \\u060c \\u0633\\u067e\\u0627\\u0633 \\u0627\\u0632 \\u062f\\u06cc \\u062c\\u06cc \\u06a9\\u0627\\u0644\\u0627\"\n        ],\n        \"semantic_type\": \"\",\n        \"description\": \"\"\n      }\n    },\n    {\n      \"column\": \"rate\",\n      \"properties\": {\n        \"dtype\": \"number\",\n        \"std\": 1.5706471550744894,\n        \"min\": 0.0,\n        \"max\": 5.0,\n        \"num_unique_values\": 89,\n        \"samples\": [\n          3.45,\n          2.7,\n          4.65\n        ],\n        \"semantic_type\": \"\",\n        \"description\": \"\"\n      }\n    },\n    {\n      \"column\": \"length\",\n      \"properties\": {\n        \"dtype\": \"number\",\n        \"std\": 21,\n        \"min\": 1,\n        \"max\": 100,\n        \"num_unique_values\": 100,\n        \"samples\": [\n          93,\n          3,\n          63\n        ],\n        \"semantic_type\": \"\",\n        \"description\": \"\"\n      }\n    },\n    {\n      \"column\": \"contains_english\",\n      \"properties\": {\n        \"dtype\": \"boolean\",\n        \"num_unique_values\": 1,\n        \"samples\": [\n          true\n        ],\n        \"semantic_type\": \"\",\n        \"description\": \"\"\n      }\n    }\n  ]\n}"
            }
          },
          "metadata": {},
          "execution_count": 24
        }
      ],
      "source": [
        "# Extract persian commnets\n",
        "import re\n",
        "pattern = re.compile(r'[a-zA-Z]')\n",
        "comment_df['contains_english'] = comment_df['body'].apply(lambda x: bool(pattern.search(x)))\n",
        "comment_df[comment_df['contains_english']]"
      ]
    },
    {
      "cell_type": "markdown",
      "source": [
        "We filter the data only on **Persian** text"
      ],
      "metadata": {
        "id": "1Ogd-kEM6ckc"
      }
    },
    {
      "cell_type": "code",
      "execution_count": null,
      "metadata": {
        "colab": {
          "base_uri": "https://localhost:8080/",
          "height": 424
        },
        "id": "v98asjMBg7iU",
        "outputId": "ca438755-7d2f-48e4-fd1b-c450db2d3e1e"
      },
      "outputs": [
        {
          "output_type": "execute_result",
          "data": {
            "text/plain": [
              "                                                      body  rate  length\n",
              "0                                          به درد نمیخوره    1.0       3\n",
              "5        قبلا هم استفاده کردم اگه بلد باشین کار کردن با...   5.0      19\n",
              "7                        خیلی به کارتون میاد قیمتشم مناسبه   5.0       6\n",
              "8                                      دقیقا مطابق عکس بود   5.0       4\n",
              "9                     برا حالت دادن با اسپری یا پودر عالیه   5.0       8\n",
              "...                                                    ...   ...     ...\n",
              "6156281  من نمیدونم هیچوقت هیچی تو ایران ارزون نمیشه،ام...   4.0      21\n",
              "6156284  سلام .خوده مارک پلی استیشنه .ممنون از فروشنده ...   5.0      12\n",
              "6156285                                              عالیه   5.0       1\n",
              "6156286                                   با کیفیت و عالی    5.0       4\n",
              "6156288                         عااااالی،تو خریدش شک نکنید   5.0       4\n",
              "\n",
              "[3669746 rows x 3 columns]"
            ],
            "text/html": [
              "\n",
              "  <div id=\"df-dfb3f4f2-7bd6-49a5-9f25-115dacc5dd45\" class=\"colab-df-container\">\n",
              "    <div>\n",
              "<style scoped>\n",
              "    .dataframe tbody tr th:only-of-type {\n",
              "        vertical-align: middle;\n",
              "    }\n",
              "\n",
              "    .dataframe tbody tr th {\n",
              "        vertical-align: top;\n",
              "    }\n",
              "\n",
              "    .dataframe thead th {\n",
              "        text-align: right;\n",
              "    }\n",
              "</style>\n",
              "<table border=\"1\" class=\"dataframe\">\n",
              "  <thead>\n",
              "    <tr style=\"text-align: right;\">\n",
              "      <th></th>\n",
              "      <th>body</th>\n",
              "      <th>rate</th>\n",
              "      <th>length</th>\n",
              "    </tr>\n",
              "  </thead>\n",
              "  <tbody>\n",
              "    <tr>\n",
              "      <th>0</th>\n",
              "      <td>به درد نمیخوره</td>\n",
              "      <td>1.0</td>\n",
              "      <td>3</td>\n",
              "    </tr>\n",
              "    <tr>\n",
              "      <th>5</th>\n",
              "      <td>قبلا هم استفاده کردم اگه بلد باشین کار کردن با...</td>\n",
              "      <td>5.0</td>\n",
              "      <td>19</td>\n",
              "    </tr>\n",
              "    <tr>\n",
              "      <th>7</th>\n",
              "      <td>خیلی به کارتون میاد قیمتشم مناسبه</td>\n",
              "      <td>5.0</td>\n",
              "      <td>6</td>\n",
              "    </tr>\n",
              "    <tr>\n",
              "      <th>8</th>\n",
              "      <td>دقیقا مطابق عکس بود</td>\n",
              "      <td>5.0</td>\n",
              "      <td>4</td>\n",
              "    </tr>\n",
              "    <tr>\n",
              "      <th>9</th>\n",
              "      <td>برا حالت دادن با اسپری یا پودر عالیه</td>\n",
              "      <td>5.0</td>\n",
              "      <td>8</td>\n",
              "    </tr>\n",
              "    <tr>\n",
              "      <th>...</th>\n",
              "      <td>...</td>\n",
              "      <td>...</td>\n",
              "      <td>...</td>\n",
              "    </tr>\n",
              "    <tr>\n",
              "      <th>6156281</th>\n",
              "      <td>من نمیدونم هیچوقت هیچی تو ایران ارزون نمیشه،ام...</td>\n",
              "      <td>4.0</td>\n",
              "      <td>21</td>\n",
              "    </tr>\n",
              "    <tr>\n",
              "      <th>6156284</th>\n",
              "      <td>سلام .خوده مارک پلی استیشنه .ممنون از فروشنده ...</td>\n",
              "      <td>5.0</td>\n",
              "      <td>12</td>\n",
              "    </tr>\n",
              "    <tr>\n",
              "      <th>6156285</th>\n",
              "      <td>عالیه</td>\n",
              "      <td>5.0</td>\n",
              "      <td>1</td>\n",
              "    </tr>\n",
              "    <tr>\n",
              "      <th>6156286</th>\n",
              "      <td>با کیفیت و عالی</td>\n",
              "      <td>5.0</td>\n",
              "      <td>4</td>\n",
              "    </tr>\n",
              "    <tr>\n",
              "      <th>6156288</th>\n",
              "      <td>عااااالی،تو خریدش شک نکنید</td>\n",
              "      <td>5.0</td>\n",
              "      <td>4</td>\n",
              "    </tr>\n",
              "  </tbody>\n",
              "</table>\n",
              "<p>3669746 rows × 3 columns</p>\n",
              "</div>\n",
              "    <div class=\"colab-df-buttons\">\n",
              "\n",
              "  <div class=\"colab-df-container\">\n",
              "    <button class=\"colab-df-convert\" onclick=\"convertToInteractive('df-dfb3f4f2-7bd6-49a5-9f25-115dacc5dd45')\"\n",
              "            title=\"Convert this dataframe to an interactive table.\"\n",
              "            style=\"display:none;\">\n",
              "\n",
              "  <svg xmlns=\"http://www.w3.org/2000/svg\" height=\"24px\" viewBox=\"0 -960 960 960\">\n",
              "    <path d=\"M120-120v-720h720v720H120Zm60-500h600v-160H180v160Zm220 220h160v-160H400v160Zm0 220h160v-160H400v160ZM180-400h160v-160H180v160Zm440 0h160v-160H620v160ZM180-180h160v-160H180v160Zm440 0h160v-160H620v160Z\"/>\n",
              "  </svg>\n",
              "    </button>\n",
              "\n",
              "  <style>\n",
              "    .colab-df-container {\n",
              "      display:flex;\n",
              "      gap: 12px;\n",
              "    }\n",
              "\n",
              "    .colab-df-convert {\n",
              "      background-color: #E8F0FE;\n",
              "      border: none;\n",
              "      border-radius: 50%;\n",
              "      cursor: pointer;\n",
              "      display: none;\n",
              "      fill: #1967D2;\n",
              "      height: 32px;\n",
              "      padding: 0 0 0 0;\n",
              "      width: 32px;\n",
              "    }\n",
              "\n",
              "    .colab-df-convert:hover {\n",
              "      background-color: #E2EBFA;\n",
              "      box-shadow: 0px 1px 2px rgba(60, 64, 67, 0.3), 0px 1px 3px 1px rgba(60, 64, 67, 0.15);\n",
              "      fill: #174EA6;\n",
              "    }\n",
              "\n",
              "    .colab-df-buttons div {\n",
              "      margin-bottom: 4px;\n",
              "    }\n",
              "\n",
              "    [theme=dark] .colab-df-convert {\n",
              "      background-color: #3B4455;\n",
              "      fill: #D2E3FC;\n",
              "    }\n",
              "\n",
              "    [theme=dark] .colab-df-convert:hover {\n",
              "      background-color: #434B5C;\n",
              "      box-shadow: 0px 1px 3px 1px rgba(0, 0, 0, 0.15);\n",
              "      filter: drop-shadow(0px 1px 2px rgba(0, 0, 0, 0.3));\n",
              "      fill: #FFFFFF;\n",
              "    }\n",
              "  </style>\n",
              "\n",
              "    <script>\n",
              "      const buttonEl =\n",
              "        document.querySelector('#df-dfb3f4f2-7bd6-49a5-9f25-115dacc5dd45 button.colab-df-convert');\n",
              "      buttonEl.style.display =\n",
              "        google.colab.kernel.accessAllowed ? 'block' : 'none';\n",
              "\n",
              "      async function convertToInteractive(key) {\n",
              "        const element = document.querySelector('#df-dfb3f4f2-7bd6-49a5-9f25-115dacc5dd45');\n",
              "        const dataTable =\n",
              "          await google.colab.kernel.invokeFunction('convertToInteractive',\n",
              "                                                    [key], {});\n",
              "        if (!dataTable) return;\n",
              "\n",
              "        const docLinkHtml = 'Like what you see? Visit the ' +\n",
              "          '<a target=\"_blank\" href=https://colab.research.google.com/notebooks/data_table.ipynb>data table notebook</a>'\n",
              "          + ' to learn more about interactive tables.';\n",
              "        element.innerHTML = '';\n",
              "        dataTable['output_type'] = 'display_data';\n",
              "        await google.colab.output.renderOutput(dataTable, element);\n",
              "        const docLink = document.createElement('div');\n",
              "        docLink.innerHTML = docLinkHtml;\n",
              "        element.appendChild(docLink);\n",
              "      }\n",
              "    </script>\n",
              "  </div>\n",
              "\n",
              "\n",
              "<div id=\"df-3fbd07aa-1a9b-41a6-9a07-b3c60110bad1\">\n",
              "  <button class=\"colab-df-quickchart\" onclick=\"quickchart('df-3fbd07aa-1a9b-41a6-9a07-b3c60110bad1')\"\n",
              "            title=\"Suggest charts\"\n",
              "            style=\"display:none;\">\n",
              "\n",
              "<svg xmlns=\"http://www.w3.org/2000/svg\" height=\"24px\"viewBox=\"0 0 24 24\"\n",
              "     width=\"24px\">\n",
              "    <g>\n",
              "        <path d=\"M19 3H5c-1.1 0-2 .9-2 2v14c0 1.1.9 2 2 2h14c1.1 0 2-.9 2-2V5c0-1.1-.9-2-2-2zM9 17H7v-7h2v7zm4 0h-2V7h2v10zm4 0h-2v-4h2v4z\"/>\n",
              "    </g>\n",
              "</svg>\n",
              "  </button>\n",
              "\n",
              "<style>\n",
              "  .colab-df-quickchart {\n",
              "      --bg-color: #E8F0FE;\n",
              "      --fill-color: #1967D2;\n",
              "      --hover-bg-color: #E2EBFA;\n",
              "      --hover-fill-color: #174EA6;\n",
              "      --disabled-fill-color: #AAA;\n",
              "      --disabled-bg-color: #DDD;\n",
              "  }\n",
              "\n",
              "  [theme=dark] .colab-df-quickchart {\n",
              "      --bg-color: #3B4455;\n",
              "      --fill-color: #D2E3FC;\n",
              "      --hover-bg-color: #434B5C;\n",
              "      --hover-fill-color: #FFFFFF;\n",
              "      --disabled-bg-color: #3B4455;\n",
              "      --disabled-fill-color: #666;\n",
              "  }\n",
              "\n",
              "  .colab-df-quickchart {\n",
              "    background-color: var(--bg-color);\n",
              "    border: none;\n",
              "    border-radius: 50%;\n",
              "    cursor: pointer;\n",
              "    display: none;\n",
              "    fill: var(--fill-color);\n",
              "    height: 32px;\n",
              "    padding: 0;\n",
              "    width: 32px;\n",
              "  }\n",
              "\n",
              "  .colab-df-quickchart:hover {\n",
              "    background-color: var(--hover-bg-color);\n",
              "    box-shadow: 0 1px 2px rgba(60, 64, 67, 0.3), 0 1px 3px 1px rgba(60, 64, 67, 0.15);\n",
              "    fill: var(--button-hover-fill-color);\n",
              "  }\n",
              "\n",
              "  .colab-df-quickchart-complete:disabled,\n",
              "  .colab-df-quickchart-complete:disabled:hover {\n",
              "    background-color: var(--disabled-bg-color);\n",
              "    fill: var(--disabled-fill-color);\n",
              "    box-shadow: none;\n",
              "  }\n",
              "\n",
              "  .colab-df-spinner {\n",
              "    border: 2px solid var(--fill-color);\n",
              "    border-color: transparent;\n",
              "    border-bottom-color: var(--fill-color);\n",
              "    animation:\n",
              "      spin 1s steps(1) infinite;\n",
              "  }\n",
              "\n",
              "  @keyframes spin {\n",
              "    0% {\n",
              "      border-color: transparent;\n",
              "      border-bottom-color: var(--fill-color);\n",
              "      border-left-color: var(--fill-color);\n",
              "    }\n",
              "    20% {\n",
              "      border-color: transparent;\n",
              "      border-left-color: var(--fill-color);\n",
              "      border-top-color: var(--fill-color);\n",
              "    }\n",
              "    30% {\n",
              "      border-color: transparent;\n",
              "      border-left-color: var(--fill-color);\n",
              "      border-top-color: var(--fill-color);\n",
              "      border-right-color: var(--fill-color);\n",
              "    }\n",
              "    40% {\n",
              "      border-color: transparent;\n",
              "      border-right-color: var(--fill-color);\n",
              "      border-top-color: var(--fill-color);\n",
              "    }\n",
              "    60% {\n",
              "      border-color: transparent;\n",
              "      border-right-color: var(--fill-color);\n",
              "    }\n",
              "    80% {\n",
              "      border-color: transparent;\n",
              "      border-right-color: var(--fill-color);\n",
              "      border-bottom-color: var(--fill-color);\n",
              "    }\n",
              "    90% {\n",
              "      border-color: transparent;\n",
              "      border-bottom-color: var(--fill-color);\n",
              "    }\n",
              "  }\n",
              "</style>\n",
              "\n",
              "  <script>\n",
              "    async function quickchart(key) {\n",
              "      const quickchartButtonEl =\n",
              "        document.querySelector('#' + key + ' button');\n",
              "      quickchartButtonEl.disabled = true;  // To prevent multiple clicks.\n",
              "      quickchartButtonEl.classList.add('colab-df-spinner');\n",
              "      try {\n",
              "        const charts = await google.colab.kernel.invokeFunction(\n",
              "            'suggestCharts', [key], {});\n",
              "      } catch (error) {\n",
              "        console.error('Error during call to suggestCharts:', error);\n",
              "      }\n",
              "      quickchartButtonEl.classList.remove('colab-df-spinner');\n",
              "      quickchartButtonEl.classList.add('colab-df-quickchart-complete');\n",
              "    }\n",
              "    (() => {\n",
              "      let quickchartButtonEl =\n",
              "        document.querySelector('#df-3fbd07aa-1a9b-41a6-9a07-b3c60110bad1 button');\n",
              "      quickchartButtonEl.style.display =\n",
              "        google.colab.kernel.accessAllowed ? 'block' : 'none';\n",
              "    })();\n",
              "  </script>\n",
              "</div>\n",
              "\n",
              "  <div id=\"id_b114cc5f-2466-4f30-a646-e543e6280a35\">\n",
              "    <style>\n",
              "      .colab-df-generate {\n",
              "        background-color: #E8F0FE;\n",
              "        border: none;\n",
              "        border-radius: 50%;\n",
              "        cursor: pointer;\n",
              "        display: none;\n",
              "        fill: #1967D2;\n",
              "        height: 32px;\n",
              "        padding: 0 0 0 0;\n",
              "        width: 32px;\n",
              "      }\n",
              "\n",
              "      .colab-df-generate:hover {\n",
              "        background-color: #E2EBFA;\n",
              "        box-shadow: 0px 1px 2px rgba(60, 64, 67, 0.3), 0px 1px 3px 1px rgba(60, 64, 67, 0.15);\n",
              "        fill: #174EA6;\n",
              "      }\n",
              "\n",
              "      [theme=dark] .colab-df-generate {\n",
              "        background-color: #3B4455;\n",
              "        fill: #D2E3FC;\n",
              "      }\n",
              "\n",
              "      [theme=dark] .colab-df-generate:hover {\n",
              "        background-color: #434B5C;\n",
              "        box-shadow: 0px 1px 3px 1px rgba(0, 0, 0, 0.15);\n",
              "        filter: drop-shadow(0px 1px 2px rgba(0, 0, 0, 0.3));\n",
              "        fill: #FFFFFF;\n",
              "      }\n",
              "    </style>\n",
              "    <button class=\"colab-df-generate\" onclick=\"generateWithVariable('comment_df')\"\n",
              "            title=\"Generate code using this dataframe.\"\n",
              "            style=\"display:none;\">\n",
              "\n",
              "  <svg xmlns=\"http://www.w3.org/2000/svg\" height=\"24px\"viewBox=\"0 0 24 24\"\n",
              "       width=\"24px\">\n",
              "    <path d=\"M7,19H8.4L18.45,9,17,7.55,7,17.6ZM5,21V16.75L18.45,3.32a2,2,0,0,1,2.83,0l1.4,1.43a1.91,1.91,0,0,1,.58,1.4,1.91,1.91,0,0,1-.58,1.4L9.25,21ZM18.45,9,17,7.55Zm-12,3A5.31,5.31,0,0,0,4.9,8.1,5.31,5.31,0,0,0,1,6.5,5.31,5.31,0,0,0,4.9,4.9,5.31,5.31,0,0,0,6.5,1,5.31,5.31,0,0,0,8.1,4.9,5.31,5.31,0,0,0,12,6.5,5.46,5.46,0,0,0,6.5,12Z\"/>\n",
              "  </svg>\n",
              "    </button>\n",
              "    <script>\n",
              "      (() => {\n",
              "      const buttonEl =\n",
              "        document.querySelector('#id_b114cc5f-2466-4f30-a646-e543e6280a35 button.colab-df-generate');\n",
              "      buttonEl.style.display =\n",
              "        google.colab.kernel.accessAllowed ? 'block' : 'none';\n",
              "\n",
              "      buttonEl.onclick = () => {\n",
              "        google.colab.notebook.generateWithVariable('comment_df');\n",
              "      }\n",
              "      })();\n",
              "    </script>\n",
              "  </div>\n",
              "\n",
              "    </div>\n",
              "  </div>\n"
            ],
            "application/vnd.google.colaboratory.intrinsic+json": {
              "type": "dataframe",
              "variable_name": "comment_df"
            }
          },
          "metadata": {},
          "execution_count": 25
        }
      ],
      "source": [
        "comment_df = comment_df[comment_df['contains_english'] == False]\n",
        "comment_df = comment_df.drop('contains_english',axis=1)\n",
        "comment_df"
      ]
    },
    {
      "cell_type": "markdown",
      "source": [
        "**Step 4**:\n",
        "- <font color='blue'>**Is dataset balance or imbalance?**</font>\n",
        "- <font color='blue'>**Getting sample from dataset**</font>\n",
        "- <font color='blue'>**Text length distribution**</font>\n",
        "\n"
      ],
      "metadata": {
        "id": "pvKSSpxN6qns"
      }
    },
    {
      "cell_type": "code",
      "execution_count": null,
      "metadata": {
        "colab": {
          "base_uri": "https://localhost:8080/"
        },
        "id": "U1ZJRoN4vrBU",
        "outputId": "3ea7001e-65d7-43b5-be41-ac80d22b8f3d"
      },
      "outputs": [
        {
          "output_type": "stream",
          "name": "stdout",
          "text": [
            "There are 86.81% cases that gave rate more or equal than four\n",
            "There are 13.19% cases that gave rate less then four\n"
          ]
        }
      ],
      "source": [
        "# Percentage of rate is bigger than 4\n",
        "more_than_4 = round((comment_df[comment_df['rate'] >= 4].shape[0] / comment_df.shape[0]) * 100,2)\n",
        "print(f\"There are {more_than_4}% cases that gave rate more or equal than four\")\n",
        "# Less than 4\n",
        "less_than_4 = round((comment_df[comment_df['rate'] < 4].shape[0] / comment_df.shape[0]) * 100,2)\n",
        "print(f\"There are {less_than_4}% cases that gave rate less then four\")"
      ]
    },
    {
      "cell_type": "markdown",
      "metadata": {
        "id": "OTFN2nLBwocA"
      },
      "source": [
        "The dataset is imbalanced so it's better to get sample equally"
      ]
    },
    {
      "cell_type": "code",
      "execution_count": null,
      "metadata": {
        "id": "QCajfTL8wgUc"
      },
      "outputs": [],
      "source": [
        "# Get 50000 sample from rate more than or equal 4\n",
        "more_than_4_sample = comment_df[comment_df['rate'] >= 4].sample(50000)\n",
        "# Get 50000 sample from rate less than 4\n",
        "less_than_4_sample = comment_df[comment_df['rate'] < 4].sample(50000)\n",
        "# Merge them\n",
        "merge_data = pd.concat([more_than_4_sample,less_than_4_sample])\n",
        "copy_merge_data = merge_data.copy()"
      ]
    },
    {
      "cell_type": "code",
      "source": [
        "# plot distribtion for length column\n",
        "sns.histplot(merge_data['length'], bins=20, kde=True)\n",
        "plt.title('Distribution of length')\n",
        "plt.xlabel('Length')\n",
        "plt.ylabel('Frequency')\n",
        "plt.show()"
      ],
      "metadata": {
        "colab": {
          "base_uri": "https://localhost:8080/",
          "height": 472
        },
        "id": "-ozaI-p-4989",
        "outputId": "80f4520f-2c9a-4c31-8cee-1a39b7ca5a80"
      },
      "execution_count": null,
      "outputs": [
        {
          "output_type": "display_data",
          "data": {
            "text/plain": [
              "<Figure size 640x480 with 1 Axes>"
            ],
            "image/png": "[encoded data removed]"
          },
          "metadata": {}
        }
      ]
    },
    {
      "cell_type": "markdown",
      "source": [
        "As the characteristic of the data distribution is **right skewed**"
      ],
      "metadata": {
        "id": "tHRTg7ka7YAQ"
      }
    },
    {
      "cell_type": "code",
      "execution_count": null,
      "metadata": {
        "colab": {
          "base_uri": "https://localhost:8080/"
        },
        "id": "jFGXq7dBxM24",
        "outputId": "de0624f8-cbd5-469e-f204-5ee17ba2b838"
      },
      "outputs": [
        {
          "data": {
            "text/plain": [
              "(100000, 2)"
            ]
          },
          "execution_count": 47,
          "metadata": {},
          "output_type": "execute_result"
        }
      ],
      "source": [
        "merge_data.shape"
      ]
    },
    {
      "cell_type": "markdown",
      "source": [
        "What about the distribtion of **rate** column?"
      ],
      "metadata": {
        "id": "5jLswkl37kNT"
      }
    },
    {
      "cell_type": "code",
      "execution_count": null,
      "metadata": {
        "colab": {
          "base_uri": "https://localhost:8080/",
          "height": 452
        },
        "id": "qSP1-IfOxa-H",
        "outputId": "f1b4d5fc-8297-4f44-a685-e17d44c3ff64"
      },
      "outputs": [
        {
          "output_type": "display_data",
          "data": {
            "text/plain": [
              "<Figure size 640x480 with 1 Axes>"
            ],
            "image/png": "[encoded data removed]"
          },
          "metadata": {}
        }
      ],
      "source": [
        "merge_data['rate'].plot(kind='hist', bins=20, title='rate')\n",
        "plt.gca().spines[['top', 'right',]].set_visible(False)"
      ]
    },
    {
      "cell_type": "markdown",
      "source": [
        "Cool 👍"
      ],
      "metadata": {
        "id": "Liyh-nKt7pXJ"
      }
    },
    {
      "cell_type": "markdown",
      "source": [
        "**Step 5**:\n",
        "- <font color='blue'>**Label each text based on rete**</font>\n",
        "\n",
        "\n"
      ],
      "metadata": {
        "id": "On40HSUL71Vu"
      }
    },
    {
      "cell_type": "markdown",
      "source": [
        "Label <font color='green'>**positive**</font> if rate is more than equal **4**\n",
        "else <font color='red'>**negative**</font>"
      ],
      "metadata": {
        "id": "YReNK1WQ8Caj"
      }
    },
    {
      "cell_type": "code",
      "execution_count": null,
      "metadata": {
        "id": "yjeZosk8xOBr"
      },
      "outputs": [],
      "source": [
        "# create \"label\" column\n",
        "# map rate to positive if more or equal than 4 else negative\n",
        "merge_data['label'] = merge_data['rate'].apply(lambda x: 'positive' if x >= 4 else 'negative')"
      ]
    },
    {
      "cell_type": "code",
      "execution_count": null,
      "metadata": {
        "colab": {
          "base_uri": "https://localhost:8080/",
          "height": 206
        },
        "id": "VHQKy8EcyRsH",
        "outputId": "7aa98e98-eac7-49f6-ce1f-f4c913478057"
      },
      "outputs": [
        {
          "output_type": "execute_result",
          "data": {
            "text/plain": [
              "                                                      body  rate  length  \\\n",
              "3180198                                          راضی بودم   5.0       2   \n",
              "111100   عالیه حتماً بخرید قیمت مناسب کیفیت عالی راحت و...   5.0      10   \n",
              "996814                                           کیفیت خوب   4.0       2   \n",
              "4229636                    عالی برای مسلط شدن به نرم افزار   5.0       7   \n",
              "2474193                      خوب بود همون رنگ که میخواستم    5.0       6   \n",
              "\n",
              "            label  \n",
              "3180198  positive  \n",
              "111100   positive  \n",
              "996814   positive  \n",
              "4229636  positive  \n",
              "2474193  positive  "
            ],
            "text/html": [
              "\n",
              "  <div id=\"df-cfee79a0-8f79-4361-af5a-9047c4925f05\" class=\"colab-df-container\">\n",
              "    <div>\n",
              "<style scoped>\n",
              "    .dataframe tbody tr th:only-of-type {\n",
              "        vertical-align: middle;\n",
              "    }\n",
              "\n",
              "    .dataframe tbody tr th {\n",
              "        vertical-align: top;\n",
              "    }\n",
              "\n",
              "    .dataframe thead th {\n",
              "        text-align: right;\n",
              "    }\n",
              "</style>\n",
              "<table border=\"1\" class=\"dataframe\">\n",
              "  <thead>\n",
              "    <tr style=\"text-align: right;\">\n",
              "      <th></th>\n",
              "      <th>body</th>\n",
              "      <th>rate</th>\n",
              "      <th>length</th>\n",
              "      <th>label</th>\n",
              "    </tr>\n",
              "  </thead>\n",
              "  <tbody>\n",
              "    <tr>\n",
              "      <th>3180198</th>\n",
              "      <td>راضی بودم</td>\n",
              "      <td>5.0</td>\n",
              "      <td>2</td>\n",
              "      <td>positive</td>\n",
              "    </tr>\n",
              "    <tr>\n",
              "      <th>111100</th>\n",
              "      <td>عالیه حتماً بخرید قیمت مناسب کیفیت عالی راحت و...</td>\n",
              "      <td>5.0</td>\n",
              "      <td>10</td>\n",
              "      <td>positive</td>\n",
              "    </tr>\n",
              "    <tr>\n",
              "      <th>996814</th>\n",
              "      <td>کیفیت خوب</td>\n",
              "      <td>4.0</td>\n",
              "      <td>2</td>\n",
              "      <td>positive</td>\n",
              "    </tr>\n",
              "    <tr>\n",
              "      <th>4229636</th>\n",
              "      <td>عالی برای مسلط شدن به نرم افزار</td>\n",
              "      <td>5.0</td>\n",
              "      <td>7</td>\n",
              "      <td>positive</td>\n",
              "    </tr>\n",
              "    <tr>\n",
              "      <th>2474193</th>\n",
              "      <td>خوب بود همون رنگ که میخواستم</td>\n",
              "      <td>5.0</td>\n",
              "      <td>6</td>\n",
              "      <td>positive</td>\n",
              "    </tr>\n",
              "  </tbody>\n",
              "</table>\n",
              "</div>\n",
              "    <div class=\"colab-df-buttons\">\n",
              "\n",
              "  <div class=\"colab-df-container\">\n",
              "    <button class=\"colab-df-convert\" onclick=\"convertToInteractive('df-cfee79a0-8f79-4361-af5a-9047c4925f05')\"\n",
              "            title=\"Convert this dataframe to an interactive table.\"\n",
              "            style=\"display:none;\">\n",
              "\n",
              "  <svg xmlns=\"http://www.w3.org/2000/svg\" height=\"24px\" viewBox=\"0 -960 960 960\">\n",
              "    <path d=\"M120-120v-720h720v720H120Zm60-500h600v-160H180v160Zm220 220h160v-160H400v160Zm0 220h160v-160H400v160ZM180-400h160v-160H180v160Zm440 0h160v-160H620v160ZM180-180h160v-160H180v160Zm440 0h160v-160H620v160Z\"/>\n",
              "  </svg>\n",
              "    </button>\n",
              "\n",
              "  <style>\n",
              "    .colab-df-container {\n",
              "      display:flex;\n",
              "      gap: 12px;\n",
              "    }\n",
              "\n",
              "    .colab-df-convert {\n",
              "      background-color: #E8F0FE;\n",
              "      border: none;\n",
              "      border-radius: 50%;\n",
              "      cursor: pointer;\n",
              "      display: none;\n",
              "      fill: #1967D2;\n",
              "      height: 32px;\n",
              "      padding: 0 0 0 0;\n",
              "      width: 32px;\n",
              "    }\n",
              "\n",
              "    .colab-df-convert:hover {\n",
              "      background-color: #E2EBFA;\n",
              "      box-shadow: 0px 1px 2px rgba(60, 64, 67, 0.3), 0px 1px 3px 1px rgba(60, 64, 67, 0.15);\n",
              "      fill: #174EA6;\n",
              "    }\n",
              "\n",
              "    .colab-df-buttons div {\n",
              "      margin-bottom: 4px;\n",
              "    }\n",
              "\n",
              "    [theme=dark] .colab-df-convert {\n",
              "      background-color: #3B4455;\n",
              "      fill: #D2E3FC;\n",
              "    }\n",
              "\n",
              "    [theme=dark] .colab-df-convert:hover {\n",
              "      background-color: #434B5C;\n",
              "      box-shadow: 0px 1px 3px 1px rgba(0, 0, 0, 0.15);\n",
              "      filter: drop-shadow(0px 1px 2px rgba(0, 0, 0, 0.3));\n",
              "      fill: #FFFFFF;\n",
              "    }\n",
              "  </style>\n",
              "\n",
              "    <script>\n",
              "      const buttonEl =\n",
              "        document.querySelector('#df-cfee79a0-8f79-4361-af5a-9047c4925f05 button.colab-df-convert');\n",
              "      buttonEl.style.display =\n",
              "        google.colab.kernel.accessAllowed ? 'block' : 'none';\n",
              "\n",
              "      async function convertToInteractive(key) {\n",
              "        const element = document.querySelector('#df-cfee79a0-8f79-4361-af5a-9047c4925f05');\n",
              "        const dataTable =\n",
              "          await google.colab.kernel.invokeFunction('convertToInteractive',\n",
              "                                                    [key], {});\n",
              "        if (!dataTable) return;\n",
              "\n",
              "        const docLinkHtml = 'Like what you see? Visit the ' +\n",
              "          '<a target=\"_blank\" href=https://colab.research.google.com/notebooks/data_table.ipynb>data table notebook</a>'\n",
              "          + ' to learn more about interactive tables.';\n",
              "        element.innerHTML = '';\n",
              "        dataTable['output_type'] = 'display_data';\n",
              "        await google.colab.output.renderOutput(dataTable, element);\n",
              "        const docLink = document.createElement('div');\n",
              "        docLink.innerHTML = docLinkHtml;\n",
              "        element.appendChild(docLink);\n",
              "      }\n",
              "    </script>\n",
              "  </div>\n",
              "\n",
              "\n",
              "<div id=\"df-0a3658dd-80c9-44ea-9359-d6aa10e4503f\">\n",
              "  <button class=\"colab-df-quickchart\" onclick=\"quickchart('df-0a3658dd-80c9-44ea-9359-d6aa10e4503f')\"\n",
              "            title=\"Suggest charts\"\n",
              "            style=\"display:none;\">\n",
              "\n",
              "<svg xmlns=\"http://www.w3.org/2000/svg\" height=\"24px\"viewBox=\"0 0 24 24\"\n",
              "     width=\"24px\">\n",
              "    <g>\n",
              "        <path d=\"M19 3H5c-1.1 0-2 .9-2 2v14c0 1.1.9 2 2 2h14c1.1 0 2-.9 2-2V5c0-1.1-.9-2-2-2zM9 17H7v-7h2v7zm4 0h-2V7h2v10zm4 0h-2v-4h2v4z\"/>\n",
              "    </g>\n",
              "</svg>\n",
              "  </button>\n",
              "\n",
              "<style>\n",
              "  .colab-df-quickchart {\n",
              "      --bg-color: #E8F0FE;\n",
              "      --fill-color: #1967D2;\n",
              "      --hover-bg-color: #E2EBFA;\n",
              "      --hover-fill-color: #174EA6;\n",
              "      --disabled-fill-color: #AAA;\n",
              "      --disabled-bg-color: #DDD;\n",
              "  }\n",
              "\n",
              "  [theme=dark] .colab-df-quickchart {\n",
              "      --bg-color: #3B4455;\n",
              "      --fill-color: #D2E3FC;\n",
              "      --hover-bg-color: #434B5C;\n",
              "      --hover-fill-color: #FFFFFF;\n",
              "      --disabled-bg-color: #3B4455;\n",
              "      --disabled-fill-color: #666;\n",
              "  }\n",
              "\n",
              "  .colab-df-quickchart {\n",
              "    background-color: var(--bg-color);\n",
              "    border: none;\n",
              "    border-radius: 50%;\n",
              "    cursor: pointer;\n",
              "    display: none;\n",
              "    fill: var(--fill-color);\n",
              "    height: 32px;\n",
              "    padding: 0;\n",
              "    width: 32px;\n",
              "  }\n",
              "\n",
              "  .colab-df-quickchart:hover {\n",
              "    background-color: var(--hover-bg-color);\n",
              "    box-shadow: 0 1px 2px rgba(60, 64, 67, 0.3), 0 1px 3px 1px rgba(60, 64, 67, 0.15);\n",
              "    fill: var(--button-hover-fill-color);\n",
              "  }\n",
              "\n",
              "  .colab-df-quickchart-complete:disabled,\n",
              "  .colab-df-quickchart-complete:disabled:hover {\n",
              "    background-color: var(--disabled-bg-color);\n",
              "    fill: var(--disabled-fill-color);\n",
              "    box-shadow: none;\n",
              "  }\n",
              "\n",
              "  .colab-df-spinner {\n",
              "    border: 2px solid var(--fill-color);\n",
              "    border-color: transparent;\n",
              "    border-bottom-color: var(--fill-color);\n",
              "    animation:\n",
              "      spin 1s steps(1) infinite;\n",
              "  }\n",
              "\n",
              "  @keyframes spin {\n",
              "    0% {\n",
              "      border-color: transparent;\n",
              "      border-bottom-color: var(--fill-color);\n",
              "      border-left-color: var(--fill-color);\n",
              "    }\n",
              "    20% {\n",
              "      border-color: transparent;\n",
              "      border-left-color: var(--fill-color);\n",
              "      border-top-color: var(--fill-color);\n",
              "    }\n",
              "    30% {\n",
              "      border-color: transparent;\n",
              "      border-left-color: var(--fill-color);\n",
              "      border-top-color: var(--fill-color);\n",
              "      border-right-color: var(--fill-color);\n",
              "    }\n",
              "    40% {\n",
              "      border-color: transparent;\n",
              "      border-right-color: var(--fill-color);\n",
              "      border-top-color: var(--fill-color);\n",
              "    }\n",
              "    60% {\n",
              "      border-color: transparent;\n",
              "      border-right-color: var(--fill-color);\n",
              "    }\n",
              "    80% {\n",
              "      border-color: transparent;\n",
              "      border-right-color: var(--fill-color);\n",
              "      border-bottom-color: var(--fill-color);\n",
              "    }\n",
              "    90% {\n",
              "      border-color: transparent;\n",
              "      border-bottom-color: var(--fill-color);\n",
              "    }\n",
              "  }\n",
              "</style>\n",
              "\n",
              "  <script>\n",
              "    async function quickchart(key) {\n",
              "      const quickchartButtonEl =\n",
              "        document.querySelector('#' + key + ' button');\n",
              "      quickchartButtonEl.disabled = true;  // To prevent multiple clicks.\n",
              "      quickchartButtonEl.classList.add('colab-df-spinner');\n",
              "      try {\n",
              "        const charts = await google.colab.kernel.invokeFunction(\n",
              "            'suggestCharts', [key], {});\n",
              "      } catch (error) {\n",
              "        console.error('Error during call to suggestCharts:', error);\n",
              "      }\n",
              "      quickchartButtonEl.classList.remove('colab-df-spinner');\n",
              "      quickchartButtonEl.classList.add('colab-df-quickchart-complete');\n",
              "    }\n",
              "    (() => {\n",
              "      let quickchartButtonEl =\n",
              "        document.querySelector('#df-0a3658dd-80c9-44ea-9359-d6aa10e4503f button');\n",
              "      quickchartButtonEl.style.display =\n",
              "        google.colab.kernel.accessAllowed ? 'block' : 'none';\n",
              "    })();\n",
              "  </script>\n",
              "</div>\n",
              "\n",
              "    </div>\n",
              "  </div>\n"
            ],
            "application/vnd.google.colaboratory.intrinsic+json": {
              "type": "dataframe",
              "variable_name": "merge_data",
              "summary": "{\n  \"name\": \"merge_data\",\n  \"rows\": 100000,\n  \"fields\": [\n    {\n      \"column\": \"body\",\n      \"properties\": {\n        \"dtype\": \"string\",\n        \"num_unique_values\": 86206,\n        \"samples\": [\n          \"\\u0628\\u0647 \\u0646\\u0638\\u0631 \\u0645\\u06cc\\u0648\\u0645\\u062f \\u062d\\u062c\\u0645 \\u062f\\u0627\\u0634\\u062a\\u0647 \\u0628\\u0627\\u0634\\u062f \\u062a\\u0648\\u06cc \\u0639\\u06a9\\u0633 \\u0648\\u0644\\u06cc \\u062f\\u0631 \\u0648\\u0627\\u0642\\u0639 \\u0627\\u06cc\\u0646\\u062c\\u0648\\u0631\\u06cc \\u0646\\u0628\\u0648\\u062f \\u0648 \\u06a9\\u0627\\u0645\\u0644\\u0627 \\u06cc\\u0647 \\u06a9\\u0641\\u06cc \\u0645\\u0639\\u0645\\u0648\\u0644\\u06cc\\u0647\",\n          \"\\u062e\\u0648\\u0628 \\u0628\\u0648\\u062f \\u0631\\u0627\\u0636\\u06cc \\u0628\\u0648\\u062f\\u0645 \\u062e\\u0631\\u06cc\\u062f\\u0634 \\u0636\\u0631\\u0631\\u06cc \\u0646\\u062f\\u0627\\u0631\\u0647\",\n          \"\\u062a\\u0647\\u06cc\\u0647 \\u06a9\\u0631\\u062f\\u0645 \\u0648 \\u0647\\u06cc\\u0686 \\u06af\\u0648\\u0627\\u0647\\u06cc \\u062a\\u0627\\u06cc\\u06cc\\u062f\\u06cc \\u0627\\u0632 \\u0633\\u0645\\u062a \\u0646\\u0647\\u0627\\u062f\\u0647\\u0627\\u06cc \\u0645\\u0631\\u0628\\u0648\\u0637\\u0647 \\u0647\\u0645\\u0631\\u0627\\u0647 \\u0639\\u06cc\\u0646\\u06a9 \\u0646\\u0628\\u0648\\u062f \\u0628\\u0647 \\u0639\\u0646\\u0648\\u0627\\u0646 \\u0645\\u062b\\u0627\\u0644 \\u06cc\\u06a9 \\u0628\\u0631\\u06af \\u06a9\\u0627\\u063a\\u0630 \\u06a9\\u0647 \\u0645\\u0647\\u0631 \\u062a\\u0627\\u06cc\\u06cc\\u062f \\u06af\\u0648\\u0627\\u0647\\u06cc \\u0627\\u0633\\u062a\\u0627\\u0646\\u062f\\u0627\\u0631\\u062f \\u062f\\u0627\\u0634\\u062a\\u0647 \\u0628\\u0627\\u0634\\u062f, \\u0628\\u0646\\u062f\\u0647 \\u0645\\u062a\\u062e\\u0635\\u0635 \\u0646\\u06cc\\u0633\\u062a\\u0645 \\u0648\\u0644\\u06cc \\u06a9\\u06cc\\u0641\\u06cc\\u062a \\u0639\\u06cc\\u0646\\u06a9 \\u0647\\u0645\\u0627\\u0646\\u0646\\u062f \\u067e\\u0644\\u0627\\u0633\\u062a\\u06cc\\u06a9 \\u0647\\u0627\\u06cc \\u0628\\u0627\\u0632\\u06cc\\u0627\\u0641\\u062a \\u0634\\u062f\\u0647 \\u0628\\u0631\\u0627\\u06cc \\u0633\\u0627\\u062e\\u062a \\u06a9\\u0627\\u0644\\u0627\\u0647\\u0627\\u06cc\\u06cc \\u0628\\u0648\\u062f \\u06a9\\u0647 \\u0645\\u0635\\u0631\\u0641 \\u0628\\u0647\\u062f\\u0627\\u0634\\u062a\\u06cc \\u0648 \\u0627\\u06cc\\u0645\\u0646\\u06cc \\u0646\\u062f\\u0627\\u0631\\u0646\\u062f \\u0647\\u0645\\u0627\\u0646\\u0646\\u062f \\u067e\\u0644\\u0627\\u0633\\u062a\\u06cc\\u06a9 \\u0632\\u0628\\u0627\\u0644\\u0647 \\u0648 \\u063a\\u06cc\\u0631\\u0647 ...\"\n        ],\n        \"semantic_type\": \"\",\n        \"description\": \"\"\n      }\n    },\n    {\n      \"column\": \"rate\",\n      \"properties\": {\n        \"dtype\": \"number\",\n        \"std\": 1.7647520472575207,\n        \"min\": 0.0,\n        \"max\": 5.0,\n        \"num_unique_values\": 108,\n        \"samples\": [\n          0.6,\n          4.25,\n          4.6\n        ],\n        \"semantic_type\": \"\",\n        \"description\": \"\"\n      }\n    },\n    {\n      \"column\": \"length\",\n      \"properties\": {\n        \"dtype\": \"number\",\n        \"std\": 12,\n        \"min\": 1,\n        \"max\": 100,\n        \"num_unique_values\": 100,\n        \"samples\": [\n          67,\n          58,\n          52\n        ],\n        \"semantic_type\": \"\",\n        \"description\": \"\"\n      }\n    },\n    {\n      \"column\": \"label\",\n      \"properties\": {\n        \"dtype\": \"category\",\n        \"num_unique_values\": 2,\n        \"samples\": [\n          \"negative\",\n          \"positive\"\n        ],\n        \"semantic_type\": \"\",\n        \"description\": \"\"\n      }\n    }\n  ]\n}"
            }
          },
          "metadata": {},
          "execution_count": 23
        }
      ],
      "source": [
        "merge_data.head()"
      ]
    },
    {
      "cell_type": "code",
      "execution_count": null,
      "metadata": {
        "id": "oaMg9dXxfTor"
      },
      "outputs": [],
      "source": [
        "# Drop rate\n",
        "merge_data.drop(columns=['rate'],inplace=True)"
      ]
    },
    {
      "cell_type": "code",
      "execution_count": null,
      "metadata": {
        "colab": {
          "base_uri": "https://localhost:8080/",
          "height": 178
        },
        "id": "iOA5IItHyTQ8",
        "outputId": "7d8df8af-a5ac-4289-f953-2bd2a4618e14"
      },
      "outputs": [
        {
          "output_type": "execute_result",
          "data": {
            "text/plain": [
              "label\n",
              "positive    50000\n",
              "negative    50000\n",
              "Name: count, dtype: int64"
            ],
            "text/html": [
              "<div>\n",
              "<style scoped>\n",
              "    .dataframe tbody tr th:only-of-type {\n",
              "        vertical-align: middle;\n",
              "    }\n",
              "\n",
              "    .dataframe tbody tr th {\n",
              "        vertical-align: top;\n",
              "    }\n",
              "\n",
              "    .dataframe thead th {\n",
              "        text-align: right;\n",
              "    }\n",
              "</style>\n",
              "<table border=\"1\" class=\"dataframe\">\n",
              "  <thead>\n",
              "    <tr style=\"text-align: right;\">\n",
              "      <th></th>\n",
              "      <th>count</th>\n",
              "    </tr>\n",
              "    <tr>\n",
              "      <th>label</th>\n",
              "      <th></th>\n",
              "    </tr>\n",
              "  </thead>\n",
              "  <tbody>\n",
              "    <tr>\n",
              "      <th>positive</th>\n",
              "      <td>50000</td>\n",
              "    </tr>\n",
              "    <tr>\n",
              "      <th>negative</th>\n",
              "      <td>50000</td>\n",
              "    </tr>\n",
              "  </tbody>\n",
              "</table>\n",
              "</div><br><label><b>dtype:</b> int64</label>"
            ]
          },
          "metadata": {},
          "execution_count": 29
        }
      ],
      "source": [
        "# Check how many positive label are there\n",
        "merge_data['label'].value_counts()"
      ]
    },
    {
      "cell_type": "markdown",
      "metadata": {
        "id": "0nqC6bWaylbg"
      },
      "source": [
        "Great⚡\n",
        "\n",
        "Now it's time to classify our dataset"
      ]
    },
    {
      "cell_type": "markdown",
      "metadata": {
        "id": "_UnJDJ-NzJvT"
      },
      "source": [
        "# **Pre-Process**"
      ]
    },
    {
      "cell_type": "markdown",
      "source": [
        "**Step 1**:\n",
        "- <font color='blue'>**Do pre processing**</font>\n",
        "- <font color='blue'>**Plot the most common words**</font>"
      ],
      "metadata": {
        "id": "BY1eFI3Q9BtN"
      }
    },
    {
      "cell_type": "markdown",
      "source": [
        "First we **Normalize** texts"
      ],
      "metadata": {
        "id": "h66T5CHN9W8l"
      }
    },
    {
      "cell_type": "code",
      "execution_count": null,
      "metadata": {
        "id": "1irFVQ_kzgCd"
      },
      "outputs": [],
      "source": [
        "# Let's normolize body column\n",
        "normalizer = Normalizer()\n",
        "merge_data['body'] = merge_data['body'].apply(lambda x: normalizer.normalize(x))\n",
        "copy_merge_data['body'] = copy_merge_data['body'].apply(lambda x: normalizer.normalize(x))"
      ]
    },
    {
      "cell_type": "code",
      "execution_count": null,
      "metadata": {
        "colab": {
          "base_uri": "https://localhost:8080/"
        },
        "id": "N9FX895nz94Z",
        "outputId": "4e83177d-98a9-41d9-a212-dff7a8eb6e24"
      },
      "outputs": [
        {
          "name": "stdout",
          "output_type": "stream",
          "text": [
            "Text before being normalized: سلام    دنیا\n",
            "Text after being normalized: سلام دنیا\n"
          ]
        }
      ],
      "source": [
        "# Give example\n",
        "text= \"سلام    دنیا\"\n",
        "print(f'Text before being normalized: {text}')\n",
        "print(f'Text after being normalized: {normalizer.normalize(text)}')"
      ]
    },
    {
      "cell_type": "markdown",
      "source": [
        "Are there any **punctuation**?\n",
        "\n",
        "- Remove them"
      ],
      "metadata": {
        "id": "vwJFxXxf9dLm"
      }
    },
    {
      "cell_type": "code",
      "execution_count": null,
      "metadata": {
        "id": "4ZBOT-GY7lMB"
      },
      "outputs": [],
      "source": [
        "# Remove punctuation\n",
        "merge_data['body'] = merge_data['body'].apply(lambda x: re.sub(r'[^\\w\\s]', '', x))\n",
        "copy_merge_data['body'] = copy_merge_data['body'].apply(lambda x: re.sub(r'[^\\w\\s]', '', x))"
      ]
    },
    {
      "cell_type": "markdown",
      "source": [
        "It's time to toknize texts"
      ],
      "metadata": {
        "id": "r9YZqUdz9mPz"
      }
    },
    {
      "cell_type": "code",
      "execution_count": null,
      "metadata": {
        "id": "lHjFddj6zmv8"
      },
      "outputs": [],
      "source": [
        "# Tokenize\n",
        "tokenizer = WordTokenizer(replace_numbers=True, replace_ids=True)\n",
        "merge_data['tokenizer'] = merge_data['body'].astype(str).apply(lambda x: tokenizer.tokenize(x))"
      ]
    },
    {
      "cell_type": "code",
      "execution_count": null,
      "metadata": {
        "colab": {
          "base_uri": "https://localhost:8080/"
        },
        "id": "IPN07miS0QAa",
        "outputId": "7a7347e4-0dd9-446d-a911-f05cb8afa03f"
      },
      "outputs": [
        {
          "name": "stdout",
          "output_type": "stream",
          "text": [
            "Text before being tokenized: سلام چطوری؟\n",
            "Text after being tokenized: ['سلام', 'چطوری', '؟']\n"
          ]
        }
      ],
      "source": [
        "# Example\n",
        "text = \"سلام چطوری؟\"\n",
        "print(f'Text before being tokenized: {text}')\n",
        "print(f'Text after being tokenized: {tokenizer.tokenize(text)}')"
      ]
    },
    {
      "cell_type": "code",
      "execution_count": null,
      "metadata": {
        "id": "FV8BjZED0UF-"
      },
      "outputs": [],
      "source": [
        "# # Stemmer\n",
        "# stemmer = Stemmer()\n",
        "# merge_data['body'] = merge_data['body'].apply(lambda x: [stemmer.stem(word) for word in x])"
      ]
    },
    {
      "cell_type": "code",
      "execution_count": null,
      "metadata": {
        "colab": {
          "base_uri": "https://localhost:8080/"
        },
        "id": "pJ3BH-zT0YaE",
        "outputId": "8428160d-d7d9-4728-82e0-23bb1aee36b8"
      },
      "outputs": [
        {
          "name": "stdout",
          "output_type": "stream",
          "text": [
            "Text before being stemmed: کتاب‌هایی\n",
            "Text after being stemmed: کتاب\n"
          ]
        }
      ],
      "source": [
        "# Example\n",
        "text = \"کتاب‌هایی\"\n",
        "print(f'Text before being stemmed: {text}')\n",
        "print(f'Text after being stemmed: {stemmer.stem(text)}')"
      ]
    },
    {
      "cell_type": "markdown",
      "source": [
        "To find the roots of words and better understand them for the model, we perform a Lemmatizer."
      ],
      "metadata": {
        "id": "A-zFlFUe9r5L"
      }
    },
    {
      "cell_type": "code",
      "execution_count": null,
      "metadata": {
        "id": "YIiJa3RX0aPV"
      },
      "outputs": [],
      "source": [
        "# Lemmetizer\n",
        "lemmatizer = Lemmatizer()\n",
        "merge_data['tokenizer'] = merge_data['tokenizer'].apply(lambda x: [lemmatizer.lemmatize(word) for word in x])"
      ]
    },
    {
      "cell_type": "code",
      "execution_count": null,
      "metadata": {
        "colab": {
          "base_uri": "https://localhost:8080/"
        },
        "id": "c6XJfDR90uX3",
        "outputId": "5e9ae1c1-bde9-453e-8b71-b0b4bd42697f"
      },
      "outputs": [
        {
          "name": "stdout",
          "output_type": "stream",
          "text": [
            "Text before being lemmatized: می‌روم\n",
            "Text after being lemmatized: رفت#رو\n"
          ]
        }
      ],
      "source": [
        "# Example\n",
        "text = \"می‌روم\"\n",
        "print(f'Text before being lemmatized: {text}')\n",
        "print(f'Text after being lemmatized: {lemmatizer.lemmatize(text)}')"
      ]
    },
    {
      "cell_type": "markdown",
      "source": [
        "See all **Stopwrods** in **Persian**"
      ],
      "metadata": {
        "id": "arc7-9As969W"
      }
    },
    {
      "cell_type": "code",
      "execution_count": null,
      "metadata": {
        "colab": {
          "base_uri": "https://localhost:8080/"
        },
        "id": "mX3mUbck0yn7",
        "outputId": "fc19988b-e652-4fcf-edaf-c560d116567b"
      },
      "outputs": [
        {
          "output_type": "stream",
          "name": "stdout",
          "text": [
            "['آخرین', 'آقای', 'آمد', 'آمده', 'آمده_است', 'آن', 'آنان', 'آنجا', 'آنها', 'آنچه', 'آنکه', 'آورد', 'آوری', 'آیا', 'ابتدا', 'اثر', 'اجرا', 'اخیر', 'از', 'است', 'اش', 'اغلب', 'افراد', 'افرادی', 'افزود', 'البته', 'اما', 'امر', 'امکان', 'اند', 'او', 'اول', 'اولین', 'اکنون', 'اگر', 'ایشان', 'این', 'اینجا', 'اینکه', 'با', 'بار', 'باره', 'باز', 'باشد', 'باشند', 'باعث', 'بالا', 'باید', 'بخش', 'بخشی', 'بدون', 'بر', 'برابر', 'براساس', 'برای', 'برخی', 'برداری', 'بروز', 'بزرگ', 'بسیار', 'بسیاری', 'بعد', 'بعضی', 'بلکه', 'بنابراین', 'بندی', 'به', 'بهتر', 'بهترین', 'بود', 'بودن', 'بودند', 'بوده', 'بوده_است', 'بی', 'بیان', 'بیرون', 'بیش', 'بیشتر', 'بیشتری', 'بین', 'تا', 'تاکنون', 'تبدیل', 'تحت', 'ترتیب', 'تعداد', 'تعیین', 'تغییر', 'تمام', 'تمامی', 'تنها', 'تهیه', 'تو', 'جا', 'جاری', 'جای', 'جایی', 'جدی', 'جدید', 'جریان', 'جز', 'جمع', 'جمعی', 'حال', 'حالا', 'حالی', 'حتی', 'حد', 'حداقل', 'حدود', 'حل', 'خاص', 'خاطرنشان', 'خصوص', 'خطر', 'خواهد_بود', 'خواهد_شد', 'خواهد_کرد', 'خوب', 'خوبی', 'خود', 'خودش', 'خویش', 'خیلی', 'داد', 'دادن', 'دادند', 'داده', 'داده_است', 'دار', 'دارای', 'دارد', 'دارند', 'داریم', 'داشت', 'داشتن', 'داشتند', 'داشته', 'داشته_است', 'داشته_باشد', 'داشته_باشند', 'دانست', 'در', 'درباره', 'درون', 'دسته', 'دهد', 'دهند', 'دهه', 'دو', 'دوباره', 'دور', 'دوم', 'دچار', 'دیگر', 'دیگران', 'دیگری', 'را', 'راه', 'رسید', 'رسیدن', 'رشد', 'رفت', 'رو', 'روبه', 'روش', 'روند', 'روی', 'ریزی', 'زاده', 'زیاد', 'زیادی', 'زیر', 'زیرا', 'ساز', 'سازی', 'ساله', 'سالهای', 'سال\\u200cهای', 'سایر', 'سبب', 'سراسر', 'سعی', 'سمت', 'سه', 'سهم', 'سوم', 'سوی', 'سپس', 'سی', 'شامل', 'شان', 'شاید', 'شخصی', 'شد', 'شدن', 'شدند', 'شده', 'شده_است', 'شده_اند', 'شده_بود', 'شروع', 'شش', 'شما', 'شمار', 'شود', 'شوند', 'صرف', 'ضمن', 'طبق', 'طرف', 'طور', 'طول', 'طی', 'ع', 'عالی', 'عدم', 'علاوه', 'علت', 'علیه', 'عهده', 'عین', 'غیر', 'فرد', 'فردی', 'فقط', 'فوق', 'فکر', 'قابل', 'قبل', 'لازم', 'لحاظ', 'لذا', 'ما', 'مانند', 'متاسفانه', 'متر', 'متفاوت', 'مثل', 'محسوب', 'مدت', 'مربوط', 'مشخص', 'ممکن', 'من', 'مناسب', 'منظور', 'مهم', 'مواجه', 'موجب', 'مورد', 'می', 'میان', 'می\\u200cآید', 'می\\u200cباشد', 'می\\u200cتوان', 'می\\u200cتواند', 'می\\u200cتوانند', 'می\\u200cدهد', 'می\\u200cدهند', 'می\\u200cرسد', 'می\\u200cرود', 'می\\u200cشد', 'می\\u200cشود', 'می\\u200cشوند', 'می\\u200cکرد', 'می\\u200cکردند', 'می\\u200cکند', 'می\\u200cکنم', 'می\\u200cکنند', 'می\\u200cکنیم', 'می\\u200cگوید', 'می\\u200cگویند', 'می\\u200cگیرد', 'می\\u200cیابد', 'ناشی', 'نباید', 'نبود', 'نحوه', 'نخست', 'نخستین', 'ندارد', 'ندارند', 'نزدیک', 'نسبت', 'نشست', 'نظر', 'نظیر', 'نمی\\u200cشود', 'نه', 'نوع', 'نوعی', 'نیاز', 'نیز', 'نیست', 'نیستند', 'نیمه', 'هایی', 'هر', 'هستند', 'هستیم', 'هم', 'همان', 'همه', 'همواره', 'همچنان', 'همچنین', 'همچون', 'همیشه', 'همین', 'هنوز', 'هنگام', 'هیچ', 'و', 'وارد', 'وجود', 'وقتی', 'ولی', 'وگو', 'وی', 'ویژه', 'پخش', 'پر', 'پس', 'پشت', 'پنج', 'پی', 'پیدا', 'پیش', 'چرا', 'چند', 'چنین', 'چه', 'چهار', 'چهارم', 'چون', 'چگونه', 'چیز', 'چیزی', 'کافی', 'کامل', 'کاملا', 'کدام', 'کرد', 'کردم', 'کردن', 'کردند', 'کرده', 'کرده_است', 'کرده_اند', 'کرده_بود', 'کسانی', 'کسی', 'کل', 'کلی', 'کم', 'کمی', 'کنار', 'کند', 'کنم', 'کنند', 'کننده', 'کنندگان', 'کنید', 'کنیم', 'که', 'کوچک', 'گاه', 'گذاری', 'گردد', 'گرفت', 'گرفته', 'گرفته_است', 'گروهی', 'گفت', 'گفته', 'گونه', 'گیرد', 'گیری', 'یا', 'یابد', 'یافت', 'یافته', 'یافته_است', 'یعنی', 'یک', 'یکدیگر', 'یکی']\n"
          ]
        }
      ],
      "source": [
        "# Print all stopwords in Persian\n",
        "stopwords = stopwords_list()\n",
        "print(stopwords)"
      ]
    },
    {
      "cell_type": "code",
      "execution_count": null,
      "metadata": {
        "id": "26KtQmrk04oH"
      },
      "outputs": [],
      "source": [
        "# get frequency of stopwords in body column\n",
        "stopwords_freq = {}\n",
        "for text in merge_data['tokenizer']:\n",
        "    for word in text:\n",
        "        if word in stopwords:\n",
        "            if word in stopwords_freq:\n",
        "                stopwords_freq[word] += 1\n",
        "            else:\n",
        "                stopwords_freq[word] = 1"
      ]
    },
    {
      "cell_type": "code",
      "execution_count": null,
      "metadata": {
        "colab": {
          "base_uri": "https://localhost:8080/"
        },
        "id": "5plBSqBZ1NVZ",
        "outputId": "8521ca5a-87a8-461c-b10d-9677664acafe"
      },
      "outputs": [
        {
          "data": {
            "text/plain": [
              "[('و', 41981),\n",
              " ('خوب', 19283),\n",
              " ('به', 17821),\n",
              " ('از', 15919),\n",
              " ('که', 13548),\n",
              " ('من', 12085),\n",
              " ('با', 10636),\n",
              " ('رو', 10486),\n",
              " ('این', 8977),\n",
              " ('در', 6115)]"
            ]
          },
          "execution_count": 50,
          "metadata": {},
          "output_type": "execute_result"
        }
      ],
      "source": [
        "# sort stopwrods_freq\n",
        "stopwords_freq = sorted(stopwords_freq.items(), key=lambda x: x[1], reverse=True)\n",
        "stopwords_freq[:10]"
      ]
    },
    {
      "cell_type": "markdown",
      "source": [
        "> <font color='red'>**Note:**</font>\n",
        "- We should remove some words from stopwrods because they are important words to analyze if a text is **positive** or **negative**"
      ],
      "metadata": {
        "id": "A5V4yOXs-ANS"
      }
    },
    {
      "cell_type": "code",
      "execution_count": null,
      "metadata": {
        "id": "PPxgLgFpCaiT"
      },
      "outputs": [],
      "source": [
        "# Remove عالی و خوب from stopwords\n",
        "stopwords.remove('عالی')\n",
        "stopwords.remove('خوب')\n"
      ]
    },
    {
      "cell_type": "markdown",
      "source": [
        "**Earlier we make a copy from our sample to chech the most common words**\n",
        "\n",
        "Here we Check it:"
      ],
      "metadata": {
        "id": "F9Vls5KO-Wjf"
      }
    },
    {
      "cell_type": "code",
      "source": [
        "# Split body column\n",
        "copy_merge_data['body'] = copy_merge_data['body'].apply(lambda x: x.split())"
      ],
      "metadata": {
        "id": "7VsXz62B9yUA"
      },
      "execution_count": null,
      "outputs": []
    },
    {
      "cell_type": "code",
      "source": [
        "# Remove stopwords in body\n",
        "copy_merge_data['body'] = copy_merge_data['body'].apply(lambda x: [word for word in x if word not in stopwords])"
      ],
      "metadata": {
        "id": "eoRnAVkZ91hH"
      },
      "execution_count": null,
      "outputs": []
    },
    {
      "cell_type": "code",
      "source": [
        "all_words = []\n",
        "for text in copy_merge_data['body']:  # Iterate through each list in 'body'\n",
        "    all_words.extend(text)  # Extend all_words with the words from the current list\n",
        "all_words = ' '.join(all_words).split()  # Now join the flattened list\n",
        "word_freq = Counter(all_words)\n",
        "most_common_words = word_freq.most_common(20)"
      ],
      "metadata": {
        "id": "oTY5aDe37d_i"
      },
      "execution_count": null,
      "outputs": []
    },
    {
      "cell_type": "code",
      "source": [
        "most_common_words_list = list(zip(most_common_words['word'], most_common_words['frequency']))\n",
        "\n",
        "# Fix x-axis in persian\n",
        "most_common_words_persian = [(get_display(reshape(word)), freq) for word, freq in most_common_words_list]\n",
        "\n",
        "# Update the DataFrame with the reshaped words\n",
        "most_common_words['word'] = [word for word, _ in most_common_words_persian]"
      ],
      "metadata": {
        "id": "M_Y_qC1K-g8O"
      },
      "execution_count": null,
      "outputs": []
    },
    {
      "cell_type": "code",
      "source": [
        "# plot most common words\n",
        "most_common_words = pd.DataFrame(most_common_words, columns=['word', 'frequency'])\n",
        "plt.figure(figsize=(12, 6))\n",
        "# Use color for each bar\n",
        "colors = sns.color_palette('pastel', n_colors=len(most_common_words))\n",
        "sns.barplot(x='word', y='frequency', data=most_common_words, palette=colors)\n",
        "plt.xlabel('Word')\n",
        "plt.ylabel('Frequency')\n",
        "plt.title('Most Common Words')\n",
        "plt.show()"
      ],
      "metadata": {
        "colab": {
          "base_uri": "https://localhost:8080/",
          "height": 566
        },
        "id": "FCC14eDR7v_v",
        "outputId": "bc5e5985-7b46-4336-88a9-c19a55174bfd"
      },
      "execution_count": null,
      "outputs": [
        {
          "output_type": "display_data",
          "data": {
            "text/plain": [
              "<Figure size 1200x600 with 1 Axes>"
            ],
            "image/png": "[encoded data removed]"
          },
          "metadata": {}
        }
      ]
    },
    {
      "cell_type": "markdown",
      "source": [
        "It seems good.\n",
        "\n",
        "Some words that are important for our analysis have the most frequent"
      ],
      "metadata": {
        "id": "cHjC9ZP2-mhm"
      }
    },
    {
      "cell_type": "code",
      "execution_count": null,
      "metadata": {
        "id": "iYpvL_Dd1QpJ"
      },
      "outputs": [],
      "source": [
        "# Stopwords\n",
        "merge_data['tokenizer'] = merge_data['tokenizer'].apply(lambda x: [word for word in x if word not in stopwords])"
      ]
    },
    {
      "cell_type": "markdown",
      "source": [
        "There are some unusal symbol thus we remove"
      ],
      "metadata": {
        "id": "HyvPfoUV-2Oj"
      }
    },
    {
      "cell_type": "code",
      "execution_count": null,
      "metadata": {
        "id": "AykyDksRCGUi"
      },
      "outputs": [],
      "source": [
        "# replce \\u200c, \\u2066◉,\\u2060‿,\\u2060◉,\\u2069 to ''\n",
        "merge_data['tokenizer'] = merge_data['tokenizer'].apply(lambda x: [word.replace('\\u200c', '') for word in x])\n",
        "merge_data['tokenizer'] = merge_data['tokenizer'].apply(lambda x: [word.replace('\\u2066◉', '') for word in x])\n",
        "merge_data['tokenizer'] = merge_data['tokenizer'].apply(lambda x: [word.replace('\\u2060‿', '') for word in x])\n",
        "merge_data['tokenizer'] = merge_data['tokenizer'].apply(lambda x: [word.replace('\\u2060◉', '') for word in x])\n",
        "merge_data['tokenizer'] = merge_data['tokenizer'].apply(lambda x: [word.replace('\\u2069', '') for word in x])"
      ]
    },
    {
      "cell_type": "code",
      "execution_count": null,
      "metadata": {
        "colab": {
          "base_uri": "https://localhost:8080/",
          "height": 206
        },
        "id": "fewjrHLJDHN7",
        "outputId": "990b4e2e-8cbd-423a-fa24-36a910ce26c3"
      },
      "outputs": [
        {
          "output_type": "execute_result",
          "data": {
            "text/plain": [
              "                                                      body  length     label  \\\n",
              "3180198                                          راضی بودم       2  positive   \n",
              "111100   عالیه حتما بخرید قیمت مناسب کیفیت عالی راحت و ...      10  positive   \n",
              "996814                                           کیفیت خوب       2  positive   \n",
              "4229636                     عالی برای مسلط شدن به نرمافزار       7  positive   \n",
              "2474193                       خوب بود همون رنگ که میخواستم       6  positive   \n",
              "\n",
              "                                                 tokenizer  \n",
              "3180198                                    [راضی, بود#است]  \n",
              "111100   [عالیه, حتما, خرید#خر, قیمت, کیفیت, عالی, راحت...  \n",
              "996814                                        [کیفیت, خوب]  \n",
              "4229636                             [عالی, مسلط, نرمافزار]  \n",
              "2474193                [خوب, بود#است, همون, رنگ, میخواستم]  "
            ],
            "text/html": [
              "\n",
              "  <div id=\"df-cd35593b-39d3-4807-8cb9-4bfd704a79ea\" class=\"colab-df-container\">\n",
              "    <div>\n",
              "<style scoped>\n",
              "    .dataframe tbody tr th:only-of-type {\n",
              "        vertical-align: middle;\n",
              "    }\n",
              "\n",
              "    .dataframe tbody tr th {\n",
              "        vertical-align: top;\n",
              "    }\n",
              "\n",
              "    .dataframe thead th {\n",
              "        text-align: right;\n",
              "    }\n",
              "</style>\n",
              "<table border=\"1\" class=\"dataframe\">\n",
              "  <thead>\n",
              "    <tr style=\"text-align: right;\">\n",
              "      <th></th>\n",
              "      <th>body</th>\n",
              "      <th>length</th>\n",
              "      <th>label</th>\n",
              "      <th>tokenizer</th>\n",
              "    </tr>\n",
              "  </thead>\n",
              "  <tbody>\n",
              "    <tr>\n",
              "      <th>3180198</th>\n",
              "      <td>راضی بودم</td>\n",
              "      <td>2</td>\n",
              "      <td>positive</td>\n",
              "      <td>[راضی, بود#است]</td>\n",
              "    </tr>\n",
              "    <tr>\n",
              "      <th>111100</th>\n",
              "      <td>عالیه حتما بخرید قیمت مناسب کیفیت عالی راحت و ...</td>\n",
              "      <td>10</td>\n",
              "      <td>positive</td>\n",
              "      <td>[عالیه, حتما, خرید#خر, قیمت, کیفیت, عالی, راحت...</td>\n",
              "    </tr>\n",
              "    <tr>\n",
              "      <th>996814</th>\n",
              "      <td>کیفیت خوب</td>\n",
              "      <td>2</td>\n",
              "      <td>positive</td>\n",
              "      <td>[کیفیت, خوب]</td>\n",
              "    </tr>\n",
              "    <tr>\n",
              "      <th>4229636</th>\n",
              "      <td>عالی برای مسلط شدن به نرمافزار</td>\n",
              "      <td>7</td>\n",
              "      <td>positive</td>\n",
              "      <td>[عالی, مسلط, نرمافزار]</td>\n",
              "    </tr>\n",
              "    <tr>\n",
              "      <th>2474193</th>\n",
              "      <td>خوب بود همون رنگ که میخواستم</td>\n",
              "      <td>6</td>\n",
              "      <td>positive</td>\n",
              "      <td>[خوب, بود#است, همون, رنگ, میخواستم]</td>\n",
              "    </tr>\n",
              "  </tbody>\n",
              "</table>\n",
              "</div>\n",
              "    <div class=\"colab-df-buttons\">\n",
              "\n",
              "  <div class=\"colab-df-container\">\n",
              "    <button class=\"colab-df-convert\" onclick=\"convertToInteractive('df-cd35593b-39d3-4807-8cb9-4bfd704a79ea')\"\n",
              "            title=\"Convert this dataframe to an interactive table.\"\n",
              "            style=\"display:none;\">\n",
              "\n",
              "  <svg xmlns=\"http://www.w3.org/2000/svg\" height=\"24px\" viewBox=\"0 -960 960 960\">\n",
              "    <path d=\"M120-120v-720h720v720H120Zm60-500h600v-160H180v160Zm220 220h160v-160H400v160Zm0 220h160v-160H400v160ZM180-400h160v-160H180v160Zm440 0h160v-160H620v160ZM180-180h160v-160H180v160Zm440 0h160v-160H620v160Z\"/>\n",
              "  </svg>\n",
              "    </button>\n",
              "\n",
              "  <style>\n",
              "    .colab-df-container {\n",
              "      display:flex;\n",
              "      gap: 12px;\n",
              "    }\n",
              "\n",
              "    .colab-df-convert {\n",
              "      background-color: #E8F0FE;\n",
              "      border: none;\n",
              "      border-radius: 50%;\n",
              "      cursor: pointer;\n",
              "      display: none;\n",
              "      fill: #1967D2;\n",
              "      height: 32px;\n",
              "      padding: 0 0 0 0;\n",
              "      width: 32px;\n",
              "    }\n",
              "\n",
              "    .colab-df-convert:hover {\n",
              "      background-color: #E2EBFA;\n",
              "      box-shadow: 0px 1px 2px rgba(60, 64, 67, 0.3), 0px 1px 3px 1px rgba(60, 64, 67, 0.15);\n",
              "      fill: #174EA6;\n",
              "    }\n",
              "\n",
              "    .colab-df-buttons div {\n",
              "      margin-bottom: 4px;\n",
              "    }\n",
              "\n",
              "    [theme=dark] .colab-df-convert {\n",
              "      background-color: #3B4455;\n",
              "      fill: #D2E3FC;\n",
              "    }\n",
              "\n",
              "    [theme=dark] .colab-df-convert:hover {\n",
              "      background-color: #434B5C;\n",
              "      box-shadow: 0px 1px 3px 1px rgba(0, 0, 0, 0.15);\n",
              "      filter: drop-shadow(0px 1px 2px rgba(0, 0, 0, 0.3));\n",
              "      fill: #FFFFFF;\n",
              "    }\n",
              "  </style>\n",
              "\n",
              "    <script>\n",
              "      const buttonEl =\n",
              "        document.querySelector('#df-cd35593b-39d3-4807-8cb9-4bfd704a79ea button.colab-df-convert');\n",
              "      buttonEl.style.display =\n",
              "        google.colab.kernel.accessAllowed ? 'block' : 'none';\n",
              "\n",
              "      async function convertToInteractive(key) {\n",
              "        const element = document.querySelector('#df-cd35593b-39d3-4807-8cb9-4bfd704a79ea');\n",
              "        const dataTable =\n",
              "          await google.colab.kernel.invokeFunction('convertToInteractive',\n",
              "                                                    [key], {});\n",
              "        if (!dataTable) return;\n",
              "\n",
              "        const docLinkHtml = 'Like what you see? Visit the ' +\n",
              "          '<a target=\"_blank\" href=https://colab.research.google.com/notebooks/data_table.ipynb>data table notebook</a>'\n",
              "          + ' to learn more about interactive tables.';\n",
              "        element.innerHTML = '';\n",
              "        dataTable['output_type'] = 'display_data';\n",
              "        await google.colab.output.renderOutput(dataTable, element);\n",
              "        const docLink = document.createElement('div');\n",
              "        docLink.innerHTML = docLinkHtml;\n",
              "        element.appendChild(docLink);\n",
              "      }\n",
              "    </script>\n",
              "  </div>\n",
              "\n",
              "\n",
              "<div id=\"df-0e11028f-9f9e-4931-be6b-6c80de286e99\">\n",
              "  <button class=\"colab-df-quickchart\" onclick=\"quickchart('df-0e11028f-9f9e-4931-be6b-6c80de286e99')\"\n",
              "            title=\"Suggest charts\"\n",
              "            style=\"display:none;\">\n",
              "\n",
              "<svg xmlns=\"http://www.w3.org/2000/svg\" height=\"24px\"viewBox=\"0 0 24 24\"\n",
              "     width=\"24px\">\n",
              "    <g>\n",
              "        <path d=\"M19 3H5c-1.1 0-2 .9-2 2v14c0 1.1.9 2 2 2h14c1.1 0 2-.9 2-2V5c0-1.1-.9-2-2-2zM9 17H7v-7h2v7zm4 0h-2V7h2v10zm4 0h-2v-4h2v4z\"/>\n",
              "    </g>\n",
              "</svg>\n",
              "  </button>\n",
              "\n",
              "<style>\n",
              "  .colab-df-quickchart {\n",
              "      --bg-color: #E8F0FE;\n",
              "      --fill-color: #1967D2;\n",
              "      --hover-bg-color: #E2EBFA;\n",
              "      --hover-fill-color: #174EA6;\n",
              "      --disabled-fill-color: #AAA;\n",
              "      --disabled-bg-color: #DDD;\n",
              "  }\n",
              "\n",
              "  [theme=dark] .colab-df-quickchart {\n",
              "      --bg-color: #3B4455;\n",
              "      --fill-color: #D2E3FC;\n",
              "      --hover-bg-color: #434B5C;\n",
              "      --hover-fill-color: #FFFFFF;\n",
              "      --disabled-bg-color: #3B4455;\n",
              "      --disabled-fill-color: #666;\n",
              "  }\n",
              "\n",
              "  .colab-df-quickchart {\n",
              "    background-color: var(--bg-color);\n",
              "    border: none;\n",
              "    border-radius: 50%;\n",
              "    cursor: pointer;\n",
              "    display: none;\n",
              "    fill: var(--fill-color);\n",
              "    height: 32px;\n",
              "    padding: 0;\n",
              "    width: 32px;\n",
              "  }\n",
              "\n",
              "  .colab-df-quickchart:hover {\n",
              "    background-color: var(--hover-bg-color);\n",
              "    box-shadow: 0 1px 2px rgba(60, 64, 67, 0.3), 0 1px 3px 1px rgba(60, 64, 67, 0.15);\n",
              "    fill: var(--button-hover-fill-color);\n",
              "  }\n",
              "\n",
              "  .colab-df-quickchart-complete:disabled,\n",
              "  .colab-df-quickchart-complete:disabled:hover {\n",
              "    background-color: var(--disabled-bg-color);\n",
              "    fill: var(--disabled-fill-color);\n",
              "    box-shadow: none;\n",
              "  }\n",
              "\n",
              "  .colab-df-spinner {\n",
              "    border: 2px solid var(--fill-color);\n",
              "    border-color: transparent;\n",
              "    border-bottom-color: var(--fill-color);\n",
              "    animation:\n",
              "      spin 1s steps(1) infinite;\n",
              "  }\n",
              "\n",
              "  @keyframes spin {\n",
              "    0% {\n",
              "      border-color: transparent;\n",
              "      border-bottom-color: var(--fill-color);\n",
              "      border-left-color: var(--fill-color);\n",
              "    }\n",
              "    20% {\n",
              "      border-color: transparent;\n",
              "      border-left-color: var(--fill-color);\n",
              "      border-top-color: var(--fill-color);\n",
              "    }\n",
              "    30% {\n",
              "      border-color: transparent;\n",
              "      border-left-color: var(--fill-color);\n",
              "      border-top-color: var(--fill-color);\n",
              "      border-right-color: var(--fill-color);\n",
              "    }\n",
              "    40% {\n",
              "      border-color: transparent;\n",
              "      border-right-color: var(--fill-color);\n",
              "      border-top-color: var(--fill-color);\n",
              "    }\n",
              "    60% {\n",
              "      border-color: transparent;\n",
              "      border-right-color: var(--fill-color);\n",
              "    }\n",
              "    80% {\n",
              "      border-color: transparent;\n",
              "      border-right-color: var(--fill-color);\n",
              "      border-bottom-color: var(--fill-color);\n",
              "    }\n",
              "    90% {\n",
              "      border-color: transparent;\n",
              "      border-bottom-color: var(--fill-color);\n",
              "    }\n",
              "  }\n",
              "</style>\n",
              "\n",
              "  <script>\n",
              "    async function quickchart(key) {\n",
              "      const quickchartButtonEl =\n",
              "        document.querySelector('#' + key + ' button');\n",
              "      quickchartButtonEl.disabled = true;  // To prevent multiple clicks.\n",
              "      quickchartButtonEl.classList.add('colab-df-spinner');\n",
              "      try {\n",
              "        const charts = await google.colab.kernel.invokeFunction(\n",
              "            'suggestCharts', [key], {});\n",
              "      } catch (error) {\n",
              "        console.error('Error during call to suggestCharts:', error);\n",
              "      }\n",
              "      quickchartButtonEl.classList.remove('colab-df-spinner');\n",
              "      quickchartButtonEl.classList.add('colab-df-quickchart-complete');\n",
              "    }\n",
              "    (() => {\n",
              "      let quickchartButtonEl =\n",
              "        document.querySelector('#df-0e11028f-9f9e-4931-be6b-6c80de286e99 button');\n",
              "      quickchartButtonEl.style.display =\n",
              "        google.colab.kernel.accessAllowed ? 'block' : 'none';\n",
              "    })();\n",
              "  </script>\n",
              "</div>\n",
              "\n",
              "    </div>\n",
              "  </div>\n"
            ],
            "application/vnd.google.colaboratory.intrinsic+json": {
              "type": "dataframe",
              "variable_name": "merge_data",
              "summary": "{\n  \"name\": \"merge_data\",\n  \"rows\": 100000,\n  \"fields\": [\n    {\n      \"column\": \"body\",\n      \"properties\": {\n        \"dtype\": \"string\",\n        \"num_unique_values\": 83412,\n        \"samples\": [\n          \"\\u06a9\\u0644\\u0627 \\u0645\\u062d\\u0635\\u0648\\u0644\\u0627\\u062a \\u067e\\u0631\\u06cc\\u0645 \\u062e\\u0648\\u0628\\u0646\",\n          \"\\u0628\\u0633\\u062a\\u0647 \\u0628\\u0646\\u062f\\u06cc \\u0634\\u062f\\u0647 \\u0628\\u0648\\u062f \\u0645\\u0646 \\u06a9\\u0647 \\u0639\\u0627\\u0634\\u0642 \\u062f\\u06cc\\u062c\\u06cc \\u06a9\\u0627\\u0644\\u0627\\u0647\\u0633\\u062a\\u0645\",\n          \"\\u0628\\u0647 \\u062f\\u0631\\u062f \\u0646\\u0645\\u06cc\\u062e\\u0648\\u0631\\u0647 \\u06a9\\u0647\\n\\u0627\\u06cc\\u0646\\u0647\\u0645\\u0647 \\u06af\\u0641\\u062a\\u0646 \\u062e\\u0648\\u0628\\u0647 \\u062e\\u0648\\u0628\\u0647 \\u0627\\u06cc\\u0646 \\u0628\\u0648\\u062f\\n\\u062f\\u0648 \\u062a\\u06cc\\u063a\\u0647 \\u0627\\u0633\\u062a \\u0628\\u0627 \\u0627\\u06cc\\u0646 \\u0642\\u06cc\\u0645\\u062a \\u0645\\u06cc\\u062a\\u0648\\u0646\\u0633\\u062a\\u0645 \\u0628\\u0647\\u062a\\u0631\\u0627\\u0632\\u0627\\u06cc\\u0646\\u0648 \\u0628\\u062e\\u0631\\u0645\"\n        ],\n        \"semantic_type\": \"\",\n        \"description\": \"\"\n      }\n    },\n    {\n      \"column\": \"length\",\n      \"properties\": {\n        \"dtype\": \"number\",\n        \"std\": 12,\n        \"min\": 1,\n        \"max\": 100,\n        \"num_unique_values\": 100,\n        \"samples\": [\n          67,\n          58,\n          52\n        ],\n        \"semantic_type\": \"\",\n        \"description\": \"\"\n      }\n    },\n    {\n      \"column\": \"label\",\n      \"properties\": {\n        \"dtype\": \"category\",\n        \"num_unique_values\": 2,\n        \"samples\": [\n          \"negative\",\n          \"positive\"\n        ],\n        \"semantic_type\": \"\",\n        \"description\": \"\"\n      }\n    },\n    {\n      \"column\": \"tokenizer\",\n      \"properties\": {\n        \"dtype\": \"object\",\n        \"semantic_type\": \"\",\n        \"description\": \"\"\n      }\n    }\n  ]\n}"
            }
          },
          "metadata": {},
          "execution_count": 35
        }
      ],
      "source": [
        "merge_data.head()"
      ]
    },
    {
      "cell_type": "markdown",
      "metadata": {
        "id": "_g_kuPb8LwoB"
      },
      "source": [
        "Before split data let's check how many rows in body are empty:"
      ]
    },
    {
      "cell_type": "code",
      "execution_count": null,
      "metadata": {
        "colab": {
          "base_uri": "https://localhost:8080/"
        },
        "id": "iYyb7y0NLs04",
        "outputId": "3e61f7cd-9114-4d10-e703-77a733db665f"
      },
      "outputs": [
        {
          "output_type": "execute_result",
          "data": {
            "text/plain": [
              "110"
            ]
          },
          "metadata": {},
          "execution_count": 40
        }
      ],
      "source": [
        "empty_rows = merge_data[merge_data['tokenizer'].apply(lambda x: len(x)) == 0]\n",
        "empty_rows.shape[0]"
      ]
    },
    {
      "cell_type": "code",
      "execution_count": null,
      "metadata": {
        "id": "-2MFM3g9L5L5"
      },
      "outputs": [],
      "source": [
        "# Remove empty rows\n",
        "merge_data.drop(empty_rows.index,inplace=True)"
      ]
    },
    {
      "cell_type": "markdown",
      "source": [
        "There are also some <font color='purple'>**emojies**</font> in dataset.\n",
        "They are should be removed"
      ],
      "metadata": {
        "id": "wmAiJ1Bf_DzB"
      }
    },
    {
      "cell_type": "code",
      "execution_count": null,
      "metadata": {
        "id": "WQJnPNs3979K"
      },
      "outputs": [],
      "source": [
        "# Remove emojis\n",
        "def remove_emojis(text):\n",
        "    # Check if the input is a string or bytes-like object\n",
        "    if isinstance(text, (str, bytes)):\n",
        "        emoji_pattern = re.compile(\"[\\U0001F600-\\U0001F64F\\U0001F300-\\U0001F5FF\\U0001F680-\\U0001F6FF\\U0001F700-\\U0001F77F\\U0001F780-\\U0001F8FF\\U0001F900-\\U0001F9FF\\U0001FA00-\\U0001FAFF\\U00002700-\\U000027BF]+\", flags=re.UNICODE)\n",
        "        return emoji_pattern.sub(r'', text)\n",
        "    # If not, try converting it to a string or return the original input\n",
        "    # This handles cases where the input might be a list or another type\n",
        "    else:\n",
        "        try:\n",
        "            return remove_emojis(str(text))\n",
        "        except TypeError:\n",
        "            return text\n",
        "\n",
        "# Apply the function to each element of the Series using .apply()\n",
        "tokenized = tokenized.apply(remove_emojis)"
      ]
    },
    {
      "cell_type": "code",
      "execution_count": null,
      "metadata": {
        "id": "zMzoivQnJVUE"
      },
      "outputs": [],
      "source": [
        "# import re\n",
        "\n",
        "# # Remove emojis\n",
        "# def remove_emojis(text):\n",
        "#     emoji_pattern = re.compile(\"[\\U0001F600-\\U0001F64F\\U0001F300-\\U0001F5FF\\U0001F680-\\U0001F6FF\\U0001F700-\\U0001F77F\\U0001F780-\\U0001F8FF\\U0001F900-\\U0001F9FF\\U0001FA00-\\U0001FAFF\\U00002700-\\U000027BF]+\", flags=re.UNICODE)\n",
        "#     return emoji_pattern.sub(r'', text)\n",
        "# # Apply the function to each element of the Series using .apply()\n",
        "# tokenized = tokenized.apply(remove_emojis)"
      ]
    },
    {
      "cell_type": "markdown",
      "metadata": {
        "id": "12TK--EAEXVP"
      },
      "source": [
        "# **Train Machine Learing Algorithms**"
      ]
    },
    {
      "cell_type": "markdown",
      "source": [
        "Identify target and other column"
      ],
      "metadata": {
        "id": "1M53MvKk_Vai"
      }
    },
    {
      "cell_type": "code",
      "execution_count": null,
      "metadata": {
        "id": "a2MN4z5lDZdI"
      },
      "outputs": [],
      "source": [
        "tokenized = merge_data['tokenizer']\n",
        "label = merge_data['label']"
      ]
    },
    {
      "cell_type": "code",
      "execution_count": null,
      "metadata": {
        "id": "tML8f7baDkx9"
      },
      "outputs": [],
      "source": [
        "tokenized = tokenized.apply(lambda x: ' '.join(x))"
      ]
    },
    {
      "cell_type": "code",
      "execution_count": null,
      "metadata": {
        "id": "5_hjcM9UEdMJ"
      },
      "outputs": [],
      "source": [
        "# Split data to train and test\n",
        "X_train, X_test, y_train, y_test = train_test_split(tokenized, label, test_size=0.2, random_state=42)"
      ]
    },
    {
      "cell_type": "markdown",
      "source": [
        "The vectorizer will ignore words that appear in fewer than **1%** of the documents and those that appear in more than **98%** of the documents.\n",
        "\n",
        "This helps filter out rare and overly common words, focusing on more relevant terms."
      ],
      "metadata": {
        "id": "LMa3jev__a95"
      }
    },
    {
      "cell_type": "code",
      "execution_count": null,
      "metadata": {
        "id": "rSgJ-XDgIvLO"
      },
      "outputs": [],
      "source": [
        "# Create conter vectorize and set vocab size\n",
        "count_vectorizer = CountVectorizer(min_df=0.01,max_df=0.98)\n",
        "X_train_count = count_vectorizer.fit_transform(X_train)\n",
        "X_test_count = count_vectorizer.transform(X_test)\n"
      ]
    },
    {
      "cell_type": "markdown",
      "source": [
        "**How many models will be used?**\n",
        "\n",
        "- **We analyze 4 models on our sample dataset**\n",
        "  - <font color='blue'>**Logistic Regression**</font>\n",
        "  - <font color='blue'>**Naive Bayse**</font>\n",
        "  - <font color='blue'>**XGBoost**</font>\n",
        "  - <font color='blue'>**KNN**</font>"
      ],
      "metadata": {
        "id": "P9hO7U0H_zu2"
      }
    },
    {
      "cell_type": "markdown",
      "source": [
        "Let's go to do that:"
      ],
      "metadata": {
        "id": "ASZcm5VwAOJs"
      }
    },
    {
      "cell_type": "code",
      "execution_count": null,
      "metadata": {
        "colab": {
          "base_uri": "https://localhost:8080/"
        },
        "id": "c8N1ZR4gPWDh",
        "outputId": "cc874ecf-82ab-465b-aa3e-4e9207f14b36"
      },
      "outputs": [
        {
          "name": "stdout",
          "output_type": "stream",
          "text": [
            "              precision    recall  f1-score   support\n",
            "\n",
            "    negative       0.80      0.87      0.83      9925\n",
            "    positive       0.86      0.79      0.82     10052\n",
            "\n",
            "    accuracy                           0.83     19977\n",
            "   macro avg       0.83      0.83      0.83     19977\n",
            "weighted avg       0.83      0.83      0.83     19977\n",
            "\n"
          ]
        }
      ],
      "source": [
        "# Train logistic regression\n",
        "lr = LogisticRegression()\n",
        "lr.fit(X_train_count, y_train)\n",
        "\n",
        "# Predict\n",
        "y_pred = lr.predict(X_test_count)\n",
        "\n",
        "# Evaluate\n",
        "print(classification_report(y_test, y_pred))"
      ]
    },
    {
      "cell_type": "code",
      "execution_count": null,
      "metadata": {
        "colab": {
          "base_uri": "https://localhost:8080/",
          "height": 449
        },
        "id": "tnva46v-PmPn",
        "outputId": "ca04a64a-0bc5-4af7-fcd0-3aea0d981f39"
      },
      "outputs": [
        {
          "data": {
            "image/png": "[encoded data removed]",
            "text/plain": [
              "<Figure size 640x480 with 2 Axes>"
            ]
          },
          "metadata": {},
          "output_type": "display_data"
        }
      ],
      "source": [
        "# plot confusion matrix with positive and negative labels\n",
        "cm = confusion_matrix(y_test, y_pred)\n",
        "sns.heatmap(cm, annot=True, fmt='d', cmap='Blues', xticklabels=['negative', 'positive'], yticklabels=['negative', 'positive'])\n",
        "plt.xlabel('Predicted')\n",
        "plt.ylabel('True')\n",
        "plt.show()"
      ]
    },
    {
      "cell_type": "code",
      "execution_count": null,
      "metadata": {
        "colab": {
          "base_uri": "https://localhost:8080/"
        },
        "id": "lhvYeNbTP10e",
        "outputId": "bc967530-3e18-458e-d34a-4ffe60b3cd62"
      },
      "outputs": [
        {
          "name": "stdout",
          "output_type": "stream",
          "text": [
            "              precision    recall  f1-score   support\n",
            "\n",
            "    negative       0.81      0.84      0.82      9925\n",
            "    positive       0.84      0.80      0.82     10052\n",
            "\n",
            "    accuracy                           0.82     19977\n",
            "   macro avg       0.82      0.82      0.82     19977\n",
            "weighted avg       0.82      0.82      0.82     19977\n",
            "\n"
          ]
        }
      ],
      "source": [
        "# Using naive bayes\n",
        "nb = MultinomialNB()\n",
        "nb.fit(X_train_count, y_train)\n",
        "\n",
        "# Predict\n",
        "y_pred = nb.predict(X_test_count)\n",
        "\n",
        "# Evaluate\n",
        "print(classification_report(y_test, y_pred))"
      ]
    },
    {
      "cell_type": "code",
      "execution_count": null,
      "metadata": {
        "colab": {
          "base_uri": "https://localhost:8080/",
          "height": 449
        },
        "id": "xBrnLorNP7yb",
        "outputId": "2d467874-3044-4f8e-f419-7528ae239bf9"
      },
      "outputs": [
        {
          "data": {
            "image/png": "[encoded data removed]",
            "text/plain": [
              "<Figure size 640x480 with 2 Axes>"
            ]
          },
          "metadata": {},
          "output_type": "display_data"
        }
      ],
      "source": [
        "# Plot confusion matrix\n",
        "cm = confusion_matrix(y_test, y_pred)\n",
        "sns.heatmap(cm, annot=True, fmt='d', cmap='Reds', xticklabels=['negative', 'positive'], yticklabels=['negative', 'positive'])\n",
        "plt.xlabel('Predicted')\n",
        "plt.ylabel('True')\n",
        "plt.show()"
      ]
    },
    {
      "cell_type": "code",
      "execution_count": null,
      "metadata": {
        "colab": {
          "base_uri": "https://localhost:8080/"
        },
        "id": "kRad9iR5QIv4",
        "outputId": "ff13d6f7-5908-46e2-afa8-b02f19389ade"
      },
      "outputs": [
        {
          "name": "stdout",
          "output_type": "stream",
          "text": [
            "              precision    recall  f1-score   support\n",
            "\n",
            "    negative       0.80      0.88      0.84      9925\n",
            "    positive       0.87      0.79      0.83     10052\n",
            "\n",
            "    accuracy                           0.83     19977\n",
            "   macro avg       0.84      0.83      0.83     19977\n",
            "weighted avg       0.84      0.83      0.83     19977\n",
            "\n"
          ]
        }
      ],
      "source": [
        "from sklearn.preprocessing import LabelEncoder\n",
        "\n",
        "# Initialize LabelEncoder\n",
        "le = LabelEncoder()\n",
        "\n",
        "# Fit and transform the target variable\n",
        "y_train_encoded = le.fit_transform(y_train)\n",
        "\n",
        "# Initialize XGBClassifier\n",
        "xgb = XGBClassifier()\n",
        "\n",
        "# Fit the model using the encoded target variable\n",
        "xgb.fit(X_train_count, y_train_encoded)\n",
        "\n",
        "# Predict\n",
        "y_pred = xgb.predict(X_test_count)\n",
        "\n",
        "# Inverse transform the predictions to get original labels\n",
        "y_pred = le.inverse_transform(y_pred)\n",
        "\n",
        "# Evaluate\n",
        "print(classification_report(y_test, y_pred))"
      ]
    },
    {
      "cell_type": "code",
      "execution_count": null,
      "metadata": {
        "colab": {
          "base_uri": "https://localhost:8080/",
          "height": 449
        },
        "id": "BcOl4T6TRSRg",
        "outputId": "18188728-3d20-4b92-ddf5-72d763a96955"
      },
      "outputs": [
        {
          "data": {
            "image/png": "[encoded data removed]",
            "text/plain": [
              "<Figure size 640x480 with 2 Axes>"
            ]
          },
          "metadata": {},
          "output_type": "display_data"
        }
      ],
      "source": [
        "# plot confusion matrix\n",
        "cm = confusion_matrix(y_test, y_pred)\n",
        "sns.heatmap(cm, annot=True, fmt='d', cmap='Greens', xticklabels=['negative', 'positive'], yticklabels=['negative', 'positive'])\n",
        "plt.xlabel('Predicted')\n",
        "plt.ylabel('True')\n",
        "plt.show()"
      ]
    },
    {
      "cell_type": "code",
      "execution_count": null,
      "metadata": {
        "colab": {
          "base_uri": "https://localhost:8080/"
        },
        "id": "copmFs71mM8l",
        "outputId": "f1f88339-0532-4efa-d0ea-5a7eb892d253"
      },
      "outputs": [
        {
          "name": "stdout",
          "output_type": "stream",
          "text": [
            "              precision    recall  f1-score   support\n",
            "\n",
            "    negative       0.82      0.76      0.79      9925\n",
            "    positive       0.78      0.84      0.81     10052\n",
            "\n",
            "    accuracy                           0.80     19977\n",
            "   macro avg       0.80      0.80      0.80     19977\n",
            "weighted avg       0.80      0.80      0.80     19977\n",
            "\n"
          ]
        }
      ],
      "source": [
        "# Using knn\n",
        "from sklearn.neighbors import KNeighborsClassifier\n",
        "knn = KNeighborsClassifier(n_neighbors=5)\n",
        "knn.fit(X_train_count, y_train)\n",
        "\n",
        "# Predict\n",
        "y_pred = knn.predict(X_test_count)\n",
        "\n",
        "# Evaluate\n",
        "print(classification_report(y_test, y_pred))"
      ]
    },
    {
      "cell_type": "code",
      "execution_count": null,
      "metadata": {
        "colab": {
          "base_uri": "https://localhost:8080/",
          "height": 449
        },
        "id": "z1XL7IZ0m8ol",
        "outputId": "df040339-7983-4c51-9121-64546bb8d0ce"
      },
      "outputs": [
        {
          "data": {
            "image/png": "[encoded data removed]",
            "text/plain": [
              "<Figure size 640x480 with 2 Axes>"
            ]
          },
          "metadata": {},
          "output_type": "display_data"
        }
      ],
      "source": [
        "# plot confusion matrix\n",
        "cm = confusion_matrix(y_test, y_pred)\n",
        "sns.heatmap(cm, annot=True, fmt='d', cmap='Purples', xticklabels=['negative', 'positive'], yticklabels=['negative', 'positive'])\n",
        "plt.xlabel('Predicted')\n",
        "plt.ylabel('True')\n",
        "plt.show()"
      ]
    },
    {
      "cell_type": "markdown",
      "source": [
        "Two models have more **accuracy** than others:\n",
        "- **Logistic regression**\n",
        "- **XGBoost**"
      ],
      "metadata": {
        "id": "YzHvawhFAYeu"
      }
    },
    {
      "cell_type": "markdown",
      "metadata": {
        "id": "cgHES5fPXVq4"
      },
      "source": [
        "# **Word2vec**"
      ]
    },
    {
      "cell_type": "markdown",
      "source": [
        "Tokenizing each document into a list of lowercase words"
      ],
      "metadata": {
        "id": "C2K_9bkyA35g"
      }
    },
    {
      "cell_type": "code",
      "execution_count": null,
      "metadata": {
        "id": "CAPpEddnQK1T"
      },
      "outputs": [],
      "source": [
        "from gensim.models import Word2Vec\n",
        "from gensim.utils import simple_preprocess\n",
        "X_train_tokens = [simple_preprocess(doc) for doc in X_train]\n",
        "X_test_tokens = [simple_preprocess(doc) for doc in X_test]"
      ]
    },
    {
      "cell_type": "markdown",
      "source": [
        "Initializes a Word2Vec model with a vector size of 100, a context window of 5, and uses 4 worker threads, training on tokenized sentences from"
      ],
      "metadata": {
        "id": "ZyBXK6KEA-Yp"
      }
    },
    {
      "cell_type": "code",
      "execution_count": null,
      "metadata": {
        "id": "p9j1uem4oA3p"
      },
      "outputs": [],
      "source": [
        "# Implement wrod2vec\n",
        "w2v_model = Word2Vec(sentences=X_train_tokens, vector_size=100, window=5, min_count=1, workers=4)"
      ]
    },
    {
      "cell_type": "code",
      "execution_count": null,
      "metadata": {
        "id": "yNCpfJWToJQ6"
      },
      "outputs": [],
      "source": [
        "# Define a function to get avgrage word2vec\n",
        "def get_average_word2vec(tokens, model, vector_size):\n",
        "    vectors = [model.wv[word] for word in tokens if word in model.wv]\n",
        "    if len(vectors) == 0:\n",
        "        return np.zeros(vector_size)\n",
        "    return np.mean(vectors, axis=0)"
      ]
    },
    {
      "cell_type": "markdown",
      "source": [
        "Containing the average Word2Vec vectors for each document"
      ],
      "metadata": {
        "id": "Ag8skr9YBK2d"
      }
    },
    {
      "cell_type": "code",
      "execution_count": null,
      "metadata": {
        "id": "x_7eCiESojAt"
      },
      "outputs": [],
      "source": [
        "X_train_w2v = np.array([get_average_word2vec(doc, w2v_model, 100) for doc in X_train_tokens])\n",
        "X_test_w2v = np.array([get_average_word2vec(doc, w2v_model, 100) for doc in X_test_tokens])"
      ]
    },
    {
      "cell_type": "markdown",
      "source": [
        "Do the same way from **machine learning** part"
      ],
      "metadata": {
        "id": "hcPm9VU-BRNE"
      }
    },
    {
      "cell_type": "code",
      "execution_count": null,
      "metadata": {
        "colab": {
          "base_uri": "https://localhost:8080/"
        },
        "id": "GsEkSMdjoozK",
        "outputId": "87959a42-0f0d-4761-9b8f-5a76f9485a83"
      },
      "outputs": [
        {
          "name": "stdout",
          "output_type": "stream",
          "text": [
            "              precision    recall  f1-score   support\n",
            "\n",
            "    negative       0.86      0.88      0.87      9925\n",
            "    positive       0.88      0.86      0.87     10052\n",
            "\n",
            "    accuracy                           0.87     19977\n",
            "   macro avg       0.87      0.87      0.87     19977\n",
            "weighted avg       0.87      0.87      0.87     19977\n",
            "\n"
          ]
        }
      ],
      "source": [
        "# Using logisitc regression\n",
        "lr = LogisticRegression()\n",
        "lr.fit(X_train_w2v, y_train)\n",
        "\n",
        "# Predict\n",
        "y_pred = lr.predict(X_test_w2v)\n",
        "\n",
        "# Evaluate\n",
        "print(classification_report(y_test, y_pred))"
      ]
    },
    {
      "cell_type": "code",
      "execution_count": null,
      "metadata": {
        "colab": {
          "base_uri": "https://localhost:8080/",
          "height": 449
        },
        "id": "7iz7AiRupkJC",
        "outputId": "9820991c-0f98-43b8-df1e-00395a7f3be6"
      },
      "outputs": [
        {
          "data": {
            "image/png": "[encoded data removed]",
            "text/plain": [
              "<Figure size 640x480 with 2 Axes>"
            ]
          },
          "metadata": {},
          "output_type": "display_data"
        }
      ],
      "source": [
        "# confusion matrix\n",
        "cm = confusion_matrix(y_test, y_pred)\n",
        "sns.heatmap(cm, annot=True, fmt='d', cmap='Blues', xticklabels=['negative', 'positive'], yticklabels=['negative', 'positive'])\n",
        "plt.xlabel('Predicted')\n",
        "plt.ylabel('True')\n",
        "plt.show()"
      ]
    },
    {
      "cell_type": "code",
      "execution_count": null,
      "metadata": {
        "colab": {
          "base_uri": "https://localhost:8080/"
        },
        "id": "toZxMZDypoPF",
        "outputId": "5f708768-1bdd-4835-a6cf-fecb38ffc2dc"
      },
      "outputs": [
        {
          "name": "stdout",
          "output_type": "stream",
          "text": [
            "              precision    recall  f1-score   support\n",
            "\n",
            "    negative       0.76      0.91      0.83      9925\n",
            "    positive       0.89      0.71      0.79     10052\n",
            "\n",
            "    accuracy                           0.81     19977\n",
            "   macro avg       0.83      0.81      0.81     19977\n",
            "weighted avg       0.83      0.81      0.81     19977\n",
            "\n"
          ]
        }
      ],
      "source": [
        "from sklearn.preprocessing import MinMaxScaler\n",
        "\n",
        "# Scale the data to the range [0, 1]\n",
        "scaler = MinMaxScaler()\n",
        "X_train_w2v_scaled = scaler.fit_transform(X_train_w2v)\n",
        "X_test_w2v_scaled = scaler.transform(X_test_w2v)\n",
        "\n",
        "# Using naive bayes\n",
        "nb = MultinomialNB()\n",
        "nb.fit(X_train_w2v_scaled, y_train) # Use scaled data here\n",
        "\n",
        "# Predict\n",
        "y_pred = nb.predict(X_test_w2v_scaled) # Use scaled data here\n",
        "\n",
        "# Evaluate\n",
        "print(classification_report(y_test, y_pred))"
      ]
    },
    {
      "cell_type": "code",
      "execution_count": null,
      "metadata": {
        "colab": {
          "base_uri": "https://localhost:8080/",
          "height": 452
        },
        "id": "-ob7NPtCqEW8",
        "outputId": "419efc80-643b-4395-df60-453ab9225b4f"
      },
      "outputs": [
        {
          "data": {
            "image/png": "[encoded data removed]",
            "text/plain": [
              "<Figure size 640x480 with 2 Axes>"
            ]
          },
          "metadata": {},
          "output_type": "display_data"
        }
      ],
      "source": [
        "# Plot confustion matrix\n",
        "cm = confusion_matrix(y_test, y_pred)\n",
        "sns.heatmap(cm, annot=True, fmt='d', cmap='Reds', xticklabels=['negative', 'positive'], yticklabels=['negative', 'positive'])\n",
        "plt.xlabel('Predicted')\n",
        "plt.ylabel('True')\n",
        "plt.show()"
      ]
    },
    {
      "cell_type": "code",
      "execution_count": null,
      "metadata": {
        "colab": {
          "base_uri": "https://localhost:8080/"
        },
        "id": "wUwf35Woqh1k",
        "outputId": "85111ecd-9483-4683-8434-7765f5865758"
      },
      "outputs": [
        {
          "name": "stdout",
          "output_type": "stream",
          "text": [
            "              precision    recall  f1-score   support\n",
            "\n",
            "    negative       0.87      0.88      0.88      9925\n",
            "    positive       0.88      0.87      0.88     10052\n",
            "\n",
            "    accuracy                           0.88     19977\n",
            "   macro avg       0.88      0.88      0.88     19977\n",
            "weighted avg       0.88      0.88      0.88     19977\n",
            "\n"
          ]
        }
      ],
      "source": [
        "# Using XGBoost\n",
        "le = LabelEncoder()\n",
        "y_train_encoded = le.fit_transform(y_train)\n",
        "\n",
        "xgb = XGBClassifier()\n",
        "xgb.fit(X_train_w2v, y_train_encoded)\n",
        "\n",
        "# Predict\n",
        "y_pred_encoded = xgb.predict(X_test_w2v) # Get encoded predictions\n",
        "\n",
        "# Decode predictions back to original labels\n",
        "y_pred = le.inverse_transform(y_pred_encoded)\n",
        "\n",
        "# Evaluate\n",
        "print(classification_report(y_test, y_pred))"
      ]
    },
    {
      "cell_type": "code",
      "execution_count": null,
      "metadata": {
        "colab": {
          "base_uri": "https://localhost:8080/",
          "height": 449
        },
        "id": "otr2niwRqlSR",
        "outputId": "dad3dd8e-3417-4488-b39e-1ea5fbb79950"
      },
      "outputs": [
        {
          "data": {
            "image/png": "[encoded data removed]",
            "text/plain": [
              "<Figure size 640x480 with 2 Axes>"
            ]
          },
          "metadata": {},
          "output_type": "display_data"
        }
      ],
      "source": [
        "# Plot confusion matrix\n",
        "cm = confusion_matrix(y_test, y_pred)\n",
        "sns.heatmap(cm, annot=True, fmt='d', cmap='Greens', xticklabels=['negative', 'positive'], yticklabels=['negative', 'positive'])\n",
        "plt.xlabel('Predicted')\n",
        "plt.ylabel('True')\n",
        "plt.show()"
      ]
    },
    {
      "cell_type": "code",
      "execution_count": null,
      "metadata": {
        "colab": {
          "base_uri": "https://localhost:8080/"
        },
        "id": "pZBVBFxvrhrK",
        "outputId": "bf3b6b46-fa7c-423e-f646-a6200e25dceb"
      },
      "outputs": [
        {
          "name": "stderr",
          "output_type": "stream",
          "text": [
            "Exception ignored on calling ctypes callback function: <function ThreadpoolController._find_libraries_with_dl_iterate_phdr.<locals>.match_library_callback at 0x7c748c3444c0>\n",
            "Traceback (most recent call last):\n",
            "  File \"/usr/local/lib/python3.10/dist-packages/threadpoolctl.py\", line 1005, in match_library_callback\n",
            "    self._make_controller_from_path(filepath)\n",
            "  File \"/usr/local/lib/python3.10/dist-packages/threadpoolctl.py\", line 1175, in _make_controller_from_path\n",
            "    lib_controller = controller_class(\n",
            "  File \"/usr/local/lib/python3.10/dist-packages/threadpoolctl.py\", line 114, in __init__\n",
            "    self.dynlib = ctypes.CDLL(filepath, mode=_RTLD_NOLOAD)\n",
            "  File \"/usr/lib/python3.10/ctypes/__init__.py\", line 374, in __init__\n",
            "    self._handle = _dlopen(self._name, mode)\n",
            "OSError: /usr/local/lib/python3.10/dist-packages/numpy.libs/libopenblas64_p-r0-0cf96a72.3.23.dev.so: cannot open shared object file: No such file or directory\n"
          ]
        },
        {
          "name": "stdout",
          "output_type": "stream",
          "text": [
            "              precision    recall  f1-score   support\n",
            "\n",
            "    negative       0.83      0.87      0.85      9925\n",
            "    positive       0.87      0.83      0.85     10052\n",
            "\n",
            "    accuracy                           0.85     19977\n",
            "   macro avg       0.85      0.85      0.85     19977\n",
            "weighted avg       0.85      0.85      0.85     19977\n",
            "\n"
          ]
        }
      ],
      "source": [
        "# Using knn\n",
        "knn = KNeighborsClassifier(n_neighbors=5)\n",
        "knn.fit(X_train_w2v, y_train)\n",
        "\n",
        "# Predict\n",
        "y_pred = knn.predict(X_test_w2v)\n",
        "\n",
        "# Evaluate\n",
        "print(classification_report(y_test, y_pred))"
      ]
    },
    {
      "cell_type": "code",
      "execution_count": null,
      "metadata": {
        "colab": {
          "base_uri": "https://localhost:8080/",
          "height": 449
        },
        "id": "0pz5jBUSrmqk",
        "outputId": "4b517f08-b91d-4207-aa74-5a6668307528"
      },
      "outputs": [
        {
          "data": {
            "image/png": "[encoded data removed]",
            "text/plain": [
              "<Figure size 640x480 with 2 Axes>"
            ]
          },
          "metadata": {},
          "output_type": "display_data"
        }
      ],
      "source": [
        "# Plot confustion matrix\n",
        "cm = confusion_matrix(y_test, y_pred)\n",
        "sns.heatmap(cm, annot=True, fmt='d', cmap='Purples', xticklabels=['negative', 'positive'], yticklabels=['negative', 'positive'])\n",
        "plt.xlabel('Predicted')\n",
        "plt.ylabel('True')\n",
        "plt.show()"
      ]
    },
    {
      "cell_type": "markdown",
      "source": [
        "This time, <font color='darkgreen'>**XGBoost**</font> has the highest **accuracy**."
      ],
      "metadata": {
        "id": "7kXv7Gz1BnQs"
      }
    },
    {
      "cell_type": "markdown",
      "metadata": {
        "id": "kjOEZkahuM1D"
      },
      "source": [
        "# **LSTM**"
      ]
    },
    {
      "cell_type": "markdown",
      "source": [
        "Using **FastText** to get **embeddings**"
      ],
      "metadata": {
        "id": "pujH-Mt-CC4E"
      }
    },
    {
      "cell_type": "code",
      "execution_count": null,
      "metadata": {
        "colab": {
          "base_uri": "https://localhost:8080/",
          "height": 86,
          "referenced_widgets": [
            "364638c10d7444dc99ca4e1ab817d353",
            "e84097b7c19248989a47c84ae0f789be",
            "8acf5c9e77c845599c6a1623a1c386e8",
            "f905ca7794f24673a0e1708066ecd721",
            "71ebae6895bf4961a77ff45dba062e5d",
            "1854587decf1416294acd87fef627ff8",
            "eb8104a46de14dbfac5a3b272f00c8cd",
            "18fcb9339b3a4173bd46b8d64c8aaf50",
            "c6f1cefd9fc54b6bbc9e227e4a9fb207",
            "bab8f411d06e443eb77ba272086c08ce",
            "4a0df10abd8949b7964f8ff54b709d5d"
          ]
        },
        "id": "_5A8gJ0pvc0D",
        "outputId": "93473f05-d720-4c05-ffd9-0d4fc5fb4842"
      },
      "outputs": [
        {
          "data": {
            "application/vnd.jupyter.widget-view+json": {
              "model_id": "364638c10d7444dc99ca4e1ab817d353",
              "version_major": 2,
              "version_minor": 0
            },
            "text/plain": [
              "model.bin:   0%|          | 0.00/7.25G [00:00<?, ?B/s]"
            ]
          },
          "metadata": {},
          "output_type": "display_data"
        },
        {
          "name": "stderr",
          "output_type": "stream",
          "text": [
            "Warning : `load_model` does not return WordVectorModel or SupervisedModel any more, but a `FastText` object which is very similar.\n"
          ]
        }
      ],
      "source": [
        "fast_model = fasttext.load_model(hf_hub_download(\"facebook/fasttext-fa-vectors\", \"model.bin\"))"
      ]
    },
    {
      "cell_type": "markdown",
      "source": [
        "count word occurrences in tokenized texts"
      ],
      "metadata": {
        "id": "3q75C2CyC-Gv"
      }
    },
    {
      "cell_type": "code",
      "execution_count": null,
      "metadata": {
        "id": "36rPvyCncFJR"
      },
      "outputs": [],
      "source": [
        "counter = Counter(word for text in merge_data['tokenizer'] for word in text)\n",
        "limited = counter.most_common(10000)"
      ]
    },
    {
      "cell_type": "markdown",
      "source": [
        "Create a vocabulary dictionary from tokenized texts, mapping words to unique integers while filtering by frequency and limiting the size to a specified maximum.\n",
        "\n",
        "It adds special tokens for padding and unknown words, returning the resulting dictionary."
      ],
      "metadata": {
        "id": "5yfMqu48C6dW"
      }
    },
    {
      "cell_type": "code",
      "execution_count": null,
      "metadata": {
        "colab": {
          "base_uri": "https://localhost:8080/"
        },
        "id": "cI_gQWqESQG6",
        "outputId": "badfc097-b42d-4ee7-916e-0b89c371ed49"
      },
      "outputs": [
        {
          "name": "stdout",
          "output_type": "stream",
          "text": [
            "Vocab size: 10000\n"
          ]
        }
      ],
      "source": [
        "# build vocab dictinary\n",
        "def build_vocab(tokenized_texts, max_vocab_size=10000, min_freq=1):\n",
        "    \"\"\"\n",
        "    Build a vocabulary mapping with a maximum size.\n",
        "    :param tokenized_texts: List of tokenized texts\n",
        "    :param max_vocab_size: Maximum vocabulary size (including special tokens)\n",
        "    :param min_freq: Minimum frequency for words to be included\n",
        "    :return: A dictionary mapping words to unique integers\n",
        "    \"\"\"\n",
        "    # Calculate word frequencies\n",
        "    word_freq = Counter(word for text in tokenized_texts for word in text)\n",
        "\n",
        "    # Filter by min_freq and sort by frequency (descending) and alphabetically (ascending)\n",
        "    sorted_vocab = sorted(\n",
        "        [(word, freq) for word, freq in word_freq.items() if freq >= min_freq],\n",
        "        key=lambda x: (-x[1], x[0])  # Sort by frequency (desc), then alphabetically\n",
        "    )\n",
        "\n",
        "    # Limit the vocabulary size\n",
        "    limited_vocab = sorted_vocab[: max_vocab_size - 2]  # Reserve space for <PAD> and <UNK>\n",
        "\n",
        "    # Add special tokens\n",
        "    vocab = {\"<PAD>\": 0, \"<UNK>\": 1}\n",
        "    for word, _ in limited_vocab:\n",
        "        vocab[word] = len(vocab)\n",
        "\n",
        "    return vocab\n",
        "\n",
        "vocab = build_vocab(merge_data['tokenizer'])\n",
        "print(f'Vocab size: {len(vocab)}')"
      ]
    },
    {
      "cell_type": "markdown",
      "source": [
        "Convert tokenized texts into sequences of integers based on a provided vocabulary, replacing unknown words with the <font color='red'>**Unknown**</font> token."
      ],
      "metadata": {
        "id": "UCG163tFDVBO"
      }
    },
    {
      "cell_type": "code",
      "execution_count": null,
      "metadata": {
        "colab": {
          "base_uri": "https://localhost:8080/",
          "height": 241
        },
        "id": "Vnk5pn2ac92A",
        "outputId": "3622a770-8adb-45b8-d36a-0098cf3add2e"
      },
      "outputs": [
        {
          "data": {
            "application/vnd.google.colaboratory.intrinsic+json": {
              "summary": "{\n  \"name\": \"merge_data\",\n  \"rows\": 99898,\n  \"fields\": [\n    {\n      \"column\": \"body\",\n      \"properties\": {\n        \"dtype\": \"string\",\n        \"num_unique_values\": 83515,\n        \"samples\": [\n          \"\\u0645\\u0627\\u0645 \\u062e\\u0648\\u0628\\u06cc\\u0647 \\u0641\\u0642\\u0637 \\u0642\\u06cc\\u0645\\u062a\\u0634 \\u0628\\u0627\\u0644\\u0627\\u0633\\u062a\",\n          \"\\u062c\\u0645\\u0639 \\u0648 \\u0645\\u0686\\u0627\\u0644\\u0647 \\u0645\\u06cc\\u0634\\u0648\\u062f \\u0628\\u06cc\\u0645\\u0635\\u0631\\u0641 \\u0648 \\u0628\\u06cc\\u06a9\\u06cc\\u0641\\u06cc\\u062a\",\n          \"\\u0627\\u0632 \\u06a9\\u062a\\u0627\\u0628\\u0647\\u0627\\u06cc \\u062e\\u0648\\u0627\\u0646\\u062f\\u0646\\u06cc \\u062c\\u0644\\u0627\\u0644 \\u0622\\u0644 \\u0627\\u062d\\u0645\\u062f\"\n        ],\n        \"semantic_type\": \"\",\n        \"description\": \"\"\n      }\n    },\n    {\n      \"column\": \"label\",\n      \"properties\": {\n        \"dtype\": \"category\",\n        \"num_unique_values\": 2,\n        \"samples\": [\n          \"negative\",\n          \"positive\"\n        ],\n        \"semantic_type\": \"\",\n        \"description\": \"\"\n      }\n    },\n    {\n      \"column\": \"tokenizer\",\n      \"properties\": {\n        \"dtype\": \"object\",\n        \"semantic_type\": \"\",\n        \"description\": \"\"\n      }\n    },\n    {\n      \"column\": \"sequence\",\n      \"properties\": {\n        \"dtype\": \"object\",\n        \"semantic_type\": \"\",\n        \"description\": \"\"\n      }\n    }\n  ]\n}",
              "type": "dataframe",
              "variable_name": "merge_data"
            },
            "text/html": [
              "\n",
              "  <div id=\"df-13b83884-8b2d-49e0-9998-52a097849701\" class=\"colab-df-container\">\n",
              "    <div>\n",
              "<style scoped>\n",
              "    .dataframe tbody tr th:only-of-type {\n",
              "        vertical-align: middle;\n",
              "    }\n",
              "\n",
              "    .dataframe tbody tr th {\n",
              "        vertical-align: top;\n",
              "    }\n",
              "\n",
              "    .dataframe thead th {\n",
              "        text-align: right;\n",
              "    }\n",
              "</style>\n",
              "<table border=\"1\" class=\"dataframe\">\n",
              "  <thead>\n",
              "    <tr style=\"text-align: right;\">\n",
              "      <th></th>\n",
              "      <th>body</th>\n",
              "      <th>label</th>\n",
              "      <th>tokenizer</th>\n",
              "      <th>sequence</th>\n",
              "    </tr>\n",
              "  </thead>\n",
              "  <tbody>\n",
              "    <tr>\n",
              "      <th>3203087</th>\n",
              "      <td>بار چندمی هست که خرید میکنم \\nپوست رو نرم میکن...</td>\n",
              "      <td>positive</td>\n",
              "      <td>[چندم, هست, خرید, میکنم, پوست, نرم, میکنه, بوی...</td>\n",
              "      <td>[2643, 15, 26, 22, 58, 104, 40, 41, 12, 402, 5...</td>\n",
              "    </tr>\n",
              "    <tr>\n",
              "      <th>1589334</th>\n",
              "      <td>عالی بود</td>\n",
              "      <td>positive</td>\n",
              "      <td>[عالی, بود#است]</td>\n",
              "      <td>[9, 2]</td>\n",
              "    </tr>\n",
              "    <tr>\n",
              "      <th>5222279</th>\n",
              "      <td>امروز بدستم رسید برای زمستان خوبه ولی برچسبش و...</td>\n",
              "      <td>positive</td>\n",
              "      <td>[امروز, بدستید#بدست, زمستان, خوبه, برچسب, کرد#...</td>\n",
              "      <td>[530, 406, 2988, 8, 291, 4, 766, 293]</td>\n",
              "    </tr>\n",
              "    <tr>\n",
              "      <th>4048314</th>\n",
              "      <td>شامپو خوبیه</td>\n",
              "      <td>positive</td>\n",
              "      <td>[شامپو, خوبیه]</td>\n",
              "      <td>[163, 67]</td>\n",
              "    </tr>\n",
              "    <tr>\n",
              "      <th>493564</th>\n",
              "      <td>خیلی عالیه</td>\n",
              "      <td>positive</td>\n",
              "      <td>[عالیه]</td>\n",
              "      <td>[34]</td>\n",
              "    </tr>\n",
              "  </tbody>\n",
              "</table>\n",
              "</div>\n",
              "    <div class=\"colab-df-buttons\">\n",
              "\n",
              "  <div class=\"colab-df-container\">\n",
              "    <button class=\"colab-df-convert\" onclick=\"convertToInteractive('df-13b83884-8b2d-49e0-9998-52a097849701')\"\n",
              "            title=\"Convert this dataframe to an interactive table.\"\n",
              "            style=\"display:none;\">\n",
              "\n",
              "  <svg xmlns=\"http://www.w3.org/2000/svg\" height=\"24px\" viewBox=\"0 -960 960 960\">\n",
              "    <path d=\"M120-120v-720h720v720H120Zm60-500h600v-160H180v160Zm220 220h160v-160H400v160Zm0 220h160v-160H400v160ZM180-400h160v-160H180v160Zm440 0h160v-160H620v160ZM180-180h160v-160H180v160Zm440 0h160v-160H620v160Z\"/>\n",
              "  </svg>\n",
              "    </button>\n",
              "\n",
              "  <style>\n",
              "    .colab-df-container {\n",
              "      display:flex;\n",
              "      gap: 12px;\n",
              "    }\n",
              "\n",
              "    .colab-df-convert {\n",
              "      background-color: #E8F0FE;\n",
              "      border: none;\n",
              "      border-radius: 50%;\n",
              "      cursor: pointer;\n",
              "      display: none;\n",
              "      fill: #1967D2;\n",
              "      height: 32px;\n",
              "      padding: 0 0 0 0;\n",
              "      width: 32px;\n",
              "    }\n",
              "\n",
              "    .colab-df-convert:hover {\n",
              "      background-color: #E2EBFA;\n",
              "      box-shadow: 0px 1px 2px rgba(60, 64, 67, 0.3), 0px 1px 3px 1px rgba(60, 64, 67, 0.15);\n",
              "      fill: #174EA6;\n",
              "    }\n",
              "\n",
              "    .colab-df-buttons div {\n",
              "      margin-bottom: 4px;\n",
              "    }\n",
              "\n",
              "    [theme=dark] .colab-df-convert {\n",
              "      background-color: #3B4455;\n",
              "      fill: #D2E3FC;\n",
              "    }\n",
              "\n",
              "    [theme=dark] .colab-df-convert:hover {\n",
              "      background-color: #434B5C;\n",
              "      box-shadow: 0px 1px 3px 1px rgba(0, 0, 0, 0.15);\n",
              "      filter: drop-shadow(0px 1px 2px rgba(0, 0, 0, 0.3));\n",
              "      fill: #FFFFFF;\n",
              "    }\n",
              "  </style>\n",
              "\n",
              "    <script>\n",
              "      const buttonEl =\n",
              "        document.querySelector('#df-13b83884-8b2d-49e0-9998-52a097849701 button.colab-df-convert');\n",
              "      buttonEl.style.display =\n",
              "        google.colab.kernel.accessAllowed ? 'block' : 'none';\n",
              "\n",
              "      async function convertToInteractive(key) {\n",
              "        const element = document.querySelector('#df-13b83884-8b2d-49e0-9998-52a097849701');\n",
              "        const dataTable =\n",
              "          await google.colab.kernel.invokeFunction('convertToInteractive',\n",
              "                                                    [key], {});\n",
              "        if (!dataTable) return;\n",
              "\n",
              "        const docLinkHtml = 'Like what you see? Visit the ' +\n",
              "          '<a target=\"_blank\" href=https://colab.research.google.com/notebooks/data_table.ipynb>data table notebook</a>'\n",
              "          + ' to learn more about interactive tables.';\n",
              "        element.innerHTML = '';\n",
              "        dataTable['output_type'] = 'display_data';\n",
              "        await google.colab.output.renderOutput(dataTable, element);\n",
              "        const docLink = document.createElement('div');\n",
              "        docLink.innerHTML = docLinkHtml;\n",
              "        element.appendChild(docLink);\n",
              "      }\n",
              "    </script>\n",
              "  </div>\n",
              "\n",
              "\n",
              "<div id=\"df-0455edba-b827-4058-a047-5f1f9b01c28c\">\n",
              "  <button class=\"colab-df-quickchart\" onclick=\"quickchart('df-0455edba-b827-4058-a047-5f1f9b01c28c')\"\n",
              "            title=\"Suggest charts\"\n",
              "            style=\"display:none;\">\n",
              "\n",
              "<svg xmlns=\"http://www.w3.org/2000/svg\" height=\"24px\"viewBox=\"0 0 24 24\"\n",
              "     width=\"24px\">\n",
              "    <g>\n",
              "        <path d=\"M19 3H5c-1.1 0-2 .9-2 2v14c0 1.1.9 2 2 2h14c1.1 0 2-.9 2-2V5c0-1.1-.9-2-2-2zM9 17H7v-7h2v7zm4 0h-2V7h2v10zm4 0h-2v-4h2v4z\"/>\n",
              "    </g>\n",
              "</svg>\n",
              "  </button>\n",
              "\n",
              "<style>\n",
              "  .colab-df-quickchart {\n",
              "      --bg-color: #E8F0FE;\n",
              "      --fill-color: #1967D2;\n",
              "      --hover-bg-color: #E2EBFA;\n",
              "      --hover-fill-color: #174EA6;\n",
              "      --disabled-fill-color: #AAA;\n",
              "      --disabled-bg-color: #DDD;\n",
              "  }\n",
              "\n",
              "  [theme=dark] .colab-df-quickchart {\n",
              "      --bg-color: #3B4455;\n",
              "      --fill-color: #D2E3FC;\n",
              "      --hover-bg-color: #434B5C;\n",
              "      --hover-fill-color: #FFFFFF;\n",
              "      --disabled-bg-color: #3B4455;\n",
              "      --disabled-fill-color: #666;\n",
              "  }\n",
              "\n",
              "  .colab-df-quickchart {\n",
              "    background-color: var(--bg-color);\n",
              "    border: none;\n",
              "    border-radius: 50%;\n",
              "    cursor: pointer;\n",
              "    display: none;\n",
              "    fill: var(--fill-color);\n",
              "    height: 32px;\n",
              "    padding: 0;\n",
              "    width: 32px;\n",
              "  }\n",
              "\n",
              "  .colab-df-quickchart:hover {\n",
              "    background-color: var(--hover-bg-color);\n",
              "    box-shadow: 0 1px 2px rgba(60, 64, 67, 0.3), 0 1px 3px 1px rgba(60, 64, 67, 0.15);\n",
              "    fill: var(--button-hover-fill-color);\n",
              "  }\n",
              "\n",
              "  .colab-df-quickchart-complete:disabled,\n",
              "  .colab-df-quickchart-complete:disabled:hover {\n",
              "    background-color: var(--disabled-bg-color);\n",
              "    fill: var(--disabled-fill-color);\n",
              "    box-shadow: none;\n",
              "  }\n",
              "\n",
              "  .colab-df-spinner {\n",
              "    border: 2px solid var(--fill-color);\n",
              "    border-color: transparent;\n",
              "    border-bottom-color: var(--fill-color);\n",
              "    animation:\n",
              "      spin 1s steps(1) infinite;\n",
              "  }\n",
              "\n",
              "  @keyframes spin {\n",
              "    0% {\n",
              "      border-color: transparent;\n",
              "      border-bottom-color: var(--fill-color);\n",
              "      border-left-color: var(--fill-color);\n",
              "    }\n",
              "    20% {\n",
              "      border-color: transparent;\n",
              "      border-left-color: var(--fill-color);\n",
              "      border-top-color: var(--fill-color);\n",
              "    }\n",
              "    30% {\n",
              "      border-color: transparent;\n",
              "      border-left-color: var(--fill-color);\n",
              "      border-top-color: var(--fill-color);\n",
              "      border-right-color: var(--fill-color);\n",
              "    }\n",
              "    40% {\n",
              "      border-color: transparent;\n",
              "      border-right-color: var(--fill-color);\n",
              "      border-top-color: var(--fill-color);\n",
              "    }\n",
              "    60% {\n",
              "      border-color: transparent;\n",
              "      border-right-color: var(--fill-color);\n",
              "    }\n",
              "    80% {\n",
              "      border-color: transparent;\n",
              "      border-right-color: var(--fill-color);\n",
              "      border-bottom-color: var(--fill-color);\n",
              "    }\n",
              "    90% {\n",
              "      border-color: transparent;\n",
              "      border-bottom-color: var(--fill-color);\n",
              "    }\n",
              "  }\n",
              "</style>\n",
              "\n",
              "  <script>\n",
              "    async function quickchart(key) {\n",
              "      const quickchartButtonEl =\n",
              "        document.querySelector('#' + key + ' button');\n",
              "      quickchartButtonEl.disabled = true;  // To prevent multiple clicks.\n",
              "      quickchartButtonEl.classList.add('colab-df-spinner');\n",
              "      try {\n",
              "        const charts = await google.colab.kernel.invokeFunction(\n",
              "            'suggestCharts', [key], {});\n",
              "      } catch (error) {\n",
              "        console.error('Error during call to suggestCharts:', error);\n",
              "      }\n",
              "      quickchartButtonEl.classList.remove('colab-df-spinner');\n",
              "      quickchartButtonEl.classList.add('colab-df-quickchart-complete');\n",
              "    }\n",
              "    (() => {\n",
              "      let quickchartButtonEl =\n",
              "        document.querySelector('#df-0455edba-b827-4058-a047-5f1f9b01c28c button');\n",
              "      quickchartButtonEl.style.display =\n",
              "        google.colab.kernel.accessAllowed ? 'block' : 'none';\n",
              "    })();\n",
              "  </script>\n",
              "</div>\n",
              "\n",
              "    </div>\n",
              "  </div>\n"
            ],
            "text/plain": [
              "                                                      body     label  \\\n",
              "3203087  بار چندمی هست که خرید میکنم \\nپوست رو نرم میکن...  positive   \n",
              "1589334                                           عالی بود  positive   \n",
              "5222279  امروز بدستم رسید برای زمستان خوبه ولی برچسبش و...  positive   \n",
              "4048314                                        شامپو خوبیه  positive   \n",
              "493564                                          خیلی عالیه  positive   \n",
              "\n",
              "                                                 tokenizer  \\\n",
              "3203087  [چندم, هست, خرید, میکنم, پوست, نرم, میکنه, بوی...   \n",
              "1589334                                    [عالی, بود#است]   \n",
              "5222279  [امروز, بدستید#بدست, زمستان, خوبه, برچسب, کرد#...   \n",
              "4048314                                     [شامپو, خوبیه]   \n",
              "493564                                             [عالیه]   \n",
              "\n",
              "                                                  sequence  \n",
              "3203087  [2643, 15, 26, 22, 58, 104, 40, 41, 12, 402, 5...  \n",
              "1589334                                             [9, 2]  \n",
              "5222279              [530, 406, 2988, 8, 291, 4, 766, 293]  \n",
              "4048314                                          [163, 67]  \n",
              "493564                                                [34]  "
            ]
          },
          "execution_count": 42,
          "metadata": {},
          "output_type": "execute_result"
        }
      ],
      "source": [
        "# Text to sequence\n",
        "\n",
        "def text_to_sequence(texts, vocab):\n",
        "    sequences = []\n",
        "    for text in texts:\n",
        "        sequence = [vocab.get(word, vocab['<UNK>']) for word in text]\n",
        "        sequences.append(sequence)\n",
        "    return sequences\n",
        "\n",
        "merge_data['sequence'] =  text_to_sequence(merge_data['tokenizer'], vocab)\n",
        "merge_data.head()"
      ]
    },
    {
      "cell_type": "markdown",
      "source": [
        "It's time to create **Dataset** we want"
      ],
      "metadata": {
        "id": "AcW8diWEDmWi"
      }
    },
    {
      "cell_type": "code",
      "execution_count": null,
      "metadata": {
        "id": "sMp1GwMziMV9"
      },
      "outputs": [],
      "source": [
        "\n",
        "# Create Sentiment dataset\n",
        "class SentimentDataset(Dataset):\n",
        "  def __init__(self, data, vocab, label_col='labels', tokens_col='tokenizer', max_len=128):\n",
        "    self.data = data\n",
        "    self.vocab = vocab\n",
        "    self.label_col = label_col\n",
        "    self.tokens_col = tokens_col\n",
        "    self.max_len = max_len\n",
        "  def __len__(self):\n",
        "    return len(self.data)\n",
        "\n",
        "  def __getitem__(self, idx):\n",
        "    text = self.data.iloc[idx][self.tokens_col]\n",
        "    label = self.data.iloc[idx][self.label_col]\n",
        "\n",
        "    # Convert text to sequence\n",
        "    indices = [self.vocab.get(word, self.vocab['<UNK>']) for word in text]\n",
        "\n",
        "    return torch.tensor(indices, dtype=torch.long), torch.tensor(label, dtype=torch.long)\n",
        "\n",
        "# Use padding function\n",
        "def collate_fn(batch):\n",
        "    sequences, labels = zip(*batch)\n",
        "    padding_sequences = pad_sequence(\n",
        "        [torch.tensor(seq, dtype=torch.long) for seq in sequences],\n",
        "        batch_first=True,\n",
        "        padding_value=vocab['<PAD>']\n",
        "    )\n",
        "    return padding_sequences, torch.stack(labels)\n",
        "\n"
      ]
    },
    {
      "cell_type": "markdown",
      "source": [
        "Implement **BiLSTM**"
      ],
      "metadata": {
        "id": "evd9IougDreJ"
      }
    },
    {
      "cell_type": "code",
      "execution_count": null,
      "metadata": {
        "id": "XtHEjUnZ6f6Q"
      },
      "outputs": [],
      "source": [
        "# Create BiLSTM classifier\n",
        "\n",
        "class BiLSTM(nn.Module):\n",
        "  def __init__(self, vocab_size, embedding_dim, hidden_dim, output_dim, embedding_matrix=None):\n",
        "    super(BiLSTM, self).__init__()\n",
        "    # embedding layer with the specified vocab size and embedding dimension\n",
        "    self.embedding = nn.Embedding(vocab_size, embedding_dim)\n",
        "    if embedding_matrix is not None:\n",
        "       self.embedding.weight = nn.Parameter(embedding_matrix)\n",
        "       self.embedding.weight.requires_grad = False\n",
        "\n",
        "    self.lstm = nn.LSTM(embedding_dim, hidden_dim, bidirectional=True, batch_first=True)\n",
        "    # fully connected layer that transforms the concatenated hidden states of both LSTM directions\n",
        "    self.fc1 = nn.Linear(hidden_dim * 2, hidden_dim * 2)\n",
        "    self.fc2 = nn.Linear(hidden_dim * 2, output_dim)\n",
        "\n",
        "\n",
        "  def forward(self, x):\n",
        "    embedded = self.embedding(x)\n",
        "    # Get the outputs and hidden states from the LSTM\n",
        "    _, (hidden, cell) = self.lstm(embedded)\n",
        "    hidden = torch.cat((hidden[-2, :, :], hidden[-1, :, :]), dim=1)\n",
        "    hidden = self.fc1(hidden)\n",
        "    output = self.fc2(hidden)\n",
        "    return output\n",
        "\n"
      ]
    },
    {
      "cell_type": "markdown",
      "source": [
        "Create an embedding matrix from a vocabulary of words"
      ],
      "metadata": {
        "id": "0WWCcmsQEVy5"
      }
    },
    {
      "cell_type": "code",
      "execution_count": null,
      "metadata": {
        "id": "FENcIlKt9nbE"
      },
      "outputs": [],
      "source": [
        "EMBEDDING_SIZE = 300\n",
        "embedding_matrix = np.zeros((len(vocab), EMBEDDING_SIZE))\n",
        "for word, index in vocab.items():\n",
        "    if word in fast_model:\n",
        "        embedding_matrix[index] = fast_model.get_word_vector(word)\n",
        "\n",
        "embedding_matrix = torch.tensor(embedding_matrix, dtype=torch.float32)"
      ]
    },
    {
      "cell_type": "markdown",
      "source": [
        "Initializes a Bidirectional LSTM"
      ],
      "metadata": {
        "id": "TF3engpQEdv3"
      }
    },
    {
      "cell_type": "code",
      "execution_count": null,
      "metadata": {
        "id": "AjfbjqRvBFiQ"
      },
      "outputs": [],
      "source": [
        "model = BiLSTM(\n",
        "    vocab_size=len(vocab),\n",
        "    embedding_dim=EMBEDDING_SIZE,\n",
        "    hidden_dim=128,\n",
        "    output_dim=2,\n",
        "    embedding_matrix=embedding_matrix\n",
        ")\n",
        "\n",
        "\n",
        "# Difine Loss and optimizer\n",
        "criterion = nn.CrossEntropyLoss()\n",
        "optimizer = torch.optim.Adam(model.parameters(), lr=0.001)\n",
        "\n"
      ]
    },
    {
      "cell_type": "markdown",
      "source": [
        "To prevent error, we need to encode label positive and negative to integer"
      ],
      "metadata": {
        "id": "ysfG8UmwEfq8"
      }
    },
    {
      "cell_type": "code",
      "execution_count": null,
      "metadata": {
        "id": "g4X7DMbzDsZZ"
      },
      "outputs": [],
      "source": [
        "# Encode labels\n",
        "le = LabelEncoder()\n",
        "merge_data['label_encoded'] = le.fit_transform(merge_data['label'])"
      ]
    },
    {
      "cell_type": "code",
      "execution_count": null,
      "metadata": {
        "id": "CZfPQBPSSyiF"
      },
      "outputs": [],
      "source": [
        "# Splitting the dataset into train, validation, and test sets\n",
        "train_data, temp_data = train_test_split(merge_data, test_size=0.3, random_state=42)  # 70% train, 30% temp\n",
        "val_data, test_data = train_test_split(temp_data, test_size=0.5, random_state=42)  # 15% val, 15% test"
      ]
    },
    {
      "cell_type": "code",
      "execution_count": null,
      "metadata": {
        "id": "lj-5ObNSZYcB"
      },
      "outputs": [],
      "source": [
        "# Batch size\n",
        "batch_size = 64\n",
        "\n",
        "train_dataset = SentimentDataset(train_data, vocab, label_col='label_encoded', tokens_col='tokenizer')\n",
        "train_dataloader = DataLoader(train_dataset, batch_size=batch_size, shuffle=True, collate_fn=collate_fn)"
      ]
    },
    {
      "cell_type": "code",
      "execution_count": null,
      "metadata": {
        "id": "PevUjzxMVcJZ"
      },
      "outputs": [],
      "source": [
        "# Instance for validation and test data with sentimentdataset and dataloader\n",
        "val_dataset = SentimentDataset(val_data, vocab, label_col='label_encoded', tokens_col='tokenizer')\n",
        "val_dataloader = DataLoader(val_dataset, batch_size=64, shuffle=False, collate_fn=collate_fn)\n",
        "test_dataset = SentimentDataset(test_data, vocab, label_col='label_encoded', tokens_col='tokenizer')\n",
        "test_dataloader = DataLoader(test_dataset, batch_size=64, shuffle=False, collate_fn=collate_fn)"
      ]
    },
    {
      "cell_type": "markdown",
      "source": [
        "We train the model.\n",
        "\n",
        "In each epoch if we get better **loss** for validation set, we choose that model as a best"
      ],
      "metadata": {
        "id": "sXBssWxmE063"
      }
    },
    {
      "cell_type": "code",
      "execution_count": null,
      "metadata": {
        "colab": {
          "base_uri": "https://localhost:8080/"
        },
        "id": "hUtcTJZOZ6eM",
        "outputId": "51561c68-a20d-4273-820b-afec19416be6"
      },
      "outputs": [
        {
          "name": "stderr",
          "output_type": "stream",
          "text": [
            "100%|██████████| 1093/1093 [05:53<00:00,  3.09it/s]\n"
          ]
        },
        {
          "name": "stdout",
          "output_type": "stream",
          "text": [
            "Epoch [1/10], Training Loss: 0.2787\n",
            "Epoch [1/10], Validation Loss: 0.2731\n",
            "Epoch [1/10], Validation Accuracy: 0.8873\n",
            "Best model saved!\n"
          ]
        },
        {
          "name": "stderr",
          "output_type": "stream",
          "text": [
            "100%|██████████| 1093/1093 [06:05<00:00,  2.99it/s]\n"
          ]
        },
        {
          "name": "stdout",
          "output_type": "stream",
          "text": [
            "Epoch [2/10], Training Loss: 0.2599\n",
            "Epoch [2/10], Validation Loss: 0.2621\n",
            "Epoch [2/10], Validation Accuracy: 0.8919\n",
            "Best model saved!\n"
          ]
        },
        {
          "name": "stderr",
          "output_type": "stream",
          "text": [
            "100%|██████████| 1093/1093 [05:59<00:00,  3.04it/s]\n"
          ]
        },
        {
          "name": "stdout",
          "output_type": "stream",
          "text": [
            "Epoch [3/10], Training Loss: 0.2451\n",
            "Epoch [3/10], Validation Loss: 0.2579\n",
            "Epoch [3/10], Validation Accuracy: 0.8923\n",
            "Best model saved!\n"
          ]
        },
        {
          "name": "stderr",
          "output_type": "stream",
          "text": [
            "100%|██████████| 1093/1093 [05:47<00:00,  3.15it/s]\n"
          ]
        },
        {
          "name": "stdout",
          "output_type": "stream",
          "text": [
            "Epoch [4/10], Training Loss: 0.2344\n",
            "Epoch [4/10], Validation Loss: 0.2525\n",
            "Epoch [4/10], Validation Accuracy: 0.8963\n",
            "Best model saved!\n"
          ]
        },
        {
          "name": "stderr",
          "output_type": "stream",
          "text": [
            "100%|██████████| 1093/1093 [05:33<00:00,  3.28it/s]\n"
          ]
        },
        {
          "name": "stdout",
          "output_type": "stream",
          "text": [
            "Epoch [5/10], Training Loss: 0.2258\n",
            "Epoch [5/10], Validation Loss: 0.2538\n",
            "Epoch [5/10], Validation Accuracy: 0.8970\n"
          ]
        },
        {
          "name": "stderr",
          "output_type": "stream",
          "text": [
            "100%|██████████| 1093/1093 [05:33<00:00,  3.27it/s]\n"
          ]
        },
        {
          "name": "stdout",
          "output_type": "stream",
          "text": [
            "Epoch [6/10], Training Loss: 0.2163\n",
            "Epoch [6/10], Validation Loss: 0.2509\n",
            "Epoch [6/10], Validation Accuracy: 0.8965\n",
            "Best model saved!\n"
          ]
        },
        {
          "name": "stderr",
          "output_type": "stream",
          "text": [
            "100%|██████████| 1093/1093 [06:22<00:00,  2.85it/s]\n"
          ]
        },
        {
          "name": "stdout",
          "output_type": "stream",
          "text": [
            "Epoch [7/10], Training Loss: 0.2086\n",
            "Epoch [7/10], Validation Loss: 0.2572\n",
            "Epoch [7/10], Validation Accuracy: 0.9010\n"
          ]
        },
        {
          "name": "stderr",
          "output_type": "stream",
          "text": [
            "100%|██████████| 1093/1093 [05:38<00:00,  3.23it/s]\n"
          ]
        },
        {
          "name": "stdout",
          "output_type": "stream",
          "text": [
            "Epoch [8/10], Training Loss: 0.1986\n",
            "Epoch [8/10], Validation Loss: 0.2480\n",
            "Epoch [8/10], Validation Accuracy: 0.8979\n",
            "Best model saved!\n"
          ]
        },
        {
          "name": "stderr",
          "output_type": "stream",
          "text": [
            "100%|██████████| 1093/1093 [05:46<00:00,  3.15it/s]\n"
          ]
        },
        {
          "name": "stdout",
          "output_type": "stream",
          "text": [
            "Epoch [9/10], Training Loss: 0.1891\n",
            "Epoch [9/10], Validation Loss: 0.2569\n",
            "Epoch [9/10], Validation Accuracy: 0.8977\n"
          ]
        },
        {
          "name": "stderr",
          "output_type": "stream",
          "text": [
            "100%|██████████| 1093/1093 [05:46<00:00,  3.15it/s]\n"
          ]
        },
        {
          "name": "stdout",
          "output_type": "stream",
          "text": [
            "Epoch [10/10], Training Loss: 0.1785\n",
            "Epoch [10/10], Validation Loss: 0.2749\n",
            "Epoch [10/10], Validation Accuracy: 0.8965\n"
          ]
        }
      ],
      "source": [
        "# Training loop with validation\n",
        "best_val_loss = float('inf')  # Track the best validation loss\n",
        "num_epochs = 10\n",
        "for epoch in range(num_epochs):\n",
        "    # --- Training Phase ---\n",
        "    model.train()\n",
        "    total_loss = 0\n",
        "    for inputs, labels in tqdm(train_dataloader):  # Train DataLoader\n",
        "        # Forward pass\n",
        "        outputs = model(inputs)\n",
        "        loss = criterion(outputs, labels)\n",
        "\n",
        "        # Backward pass and optimization\n",
        "        optimizer.zero_grad()\n",
        "        loss.backward()\n",
        "        optimizer.step()\n",
        "\n",
        "        total_loss += loss.item()\n",
        "\n",
        "    # Average training loss for the epoch\n",
        "    avg_train_loss = total_loss / len(train_dataloader)\n",
        "    print(f'Epoch [{epoch+1}/{num_epochs}], Training Loss: {avg_train_loss:.4f}')\n",
        "\n",
        "    # --- Validation Phase ---\n",
        "    model.eval()\n",
        "    val_loss = 0\n",
        "    all_predictions = []\n",
        "    all_labels = []\n",
        "    with torch.no_grad():\n",
        "        for inputs, labels in val_dataloader:  # Validation DataLoader\n",
        "            outputs = model(inputs)\n",
        "            loss = criterion(outputs, labels)\n",
        "            val_loss += loss.item()\n",
        "\n",
        "            _, predicted = torch.max(outputs.data, 1)\n",
        "            all_predictions.extend(predicted.tolist())\n",
        "            all_labels.extend(labels.tolist())\n",
        "\n",
        "    # Average validation loss\n",
        "    avg_val_loss = val_loss / len(val_dataloader)\n",
        "    print(f'Epoch [{epoch+1}/{num_epochs}], Validation Loss: {avg_val_loss:.4f}')\n",
        "\n",
        "    # Compute validation metrics (e.g., accuracy)\n",
        "    val_accuracy = accuracy_score(all_labels, all_predictions)\n",
        "    print(f'Epoch [{epoch+1}/{num_epochs}], Validation Accuracy: {val_accuracy:.4f}')\n",
        "\n",
        "    # Save the best model based on validation loss\n",
        "    if avg_val_loss < best_val_loss:\n",
        "        best_val_loss = avg_val_loss\n",
        "        torch.save(model.state_dict(), 'best_model.pth')\n",
        "        print(\"Best model saved!\")\n",
        "\n"
      ]
    },
    {
      "cell_type": "code",
      "execution_count": null,
      "metadata": {
        "colab": {
          "base_uri": "https://localhost:8080/"
        },
        "id": "ERuH7nQcaJjL",
        "outputId": "da01c1bc-fe2d-4ffa-af2d-be7f8459ca4a"
      },
      "outputs": [
        {
          "data": {
            "text/plain": [
              "<All keys matched successfully>"
            ]
          },
          "execution_count": 65,
          "metadata": {},
          "output_type": "execute_result"
        }
      ],
      "source": [
        "model.load_state_dict(torch.load('best_model.pth'))"
      ]
    },
    {
      "cell_type": "code",
      "execution_count": null,
      "metadata": {
        "colab": {
          "base_uri": "https://localhost:8080/"
        },
        "id": "eQRR8CZ1aNFc",
        "outputId": "41436386-6910-4586-ba72-2350c1503a09"
      },
      "outputs": [
        {
          "name": "stdout",
          "output_type": "stream",
          "text": [
            "Test Accuracy: 0.8992258408969568\n"
          ]
        }
      ],
      "source": [
        "# Evaluate on test data\n",
        "model.eval()\n",
        "all_predictions = []\n",
        "all_labels = []\n",
        "\n",
        "with torch.no_grad():\n",
        "    for inputs, labels in test_dataloader:\n",
        "        outputs = model(inputs)\n",
        "        _, predicted = torch.max(outputs.data, 1)\n",
        "        all_predictions.extend(predicted.tolist())\n",
        "        all_labels.extend(labels.tolist())\n",
        "\n",
        "# Compute final test metrics\n",
        "print(\"Test Accuracy:\", accuracy_score(all_labels, all_predictions))"
      ]
    },
    {
      "cell_type": "code",
      "execution_count": null,
      "metadata": {
        "colab": {
          "base_uri": "https://localhost:8080/"
        },
        "id": "0ES3bCd2aQC_",
        "outputId": "80ada98c-ac4f-4c7b-9536-af36d8afab81"
      },
      "outputs": [
        {
          "name": "stdout",
          "output_type": "stream",
          "text": [
            "Classification Report:\n",
            "               precision    recall  f1-score   support\n",
            "\n",
            "           0       0.91      0.88      0.90      7452\n",
            "           1       0.89      0.91      0.90      7532\n",
            "\n",
            "    accuracy                           0.90     14984\n",
            "   macro avg       0.90      0.90      0.90     14984\n",
            "weighted avg       0.90      0.90      0.90     14984\n",
            "\n"
          ]
        }
      ],
      "source": [
        "print(\"Classification Report:\\n\", classification_report(all_labels, all_predictions))"
      ]
    },
    {
      "cell_type": "code",
      "execution_count": null,
      "metadata": {
        "colab": {
          "base_uri": "https://localhost:8080/",
          "height": 449
        },
        "id": "NmZ6ryM_JBLm",
        "outputId": "cf088616-e06d-46c8-f795-5387e79fe05d"
      },
      "outputs": [
        {
          "data": {
            "image/png": "[encoded data removed]",
            "text/plain": [
              "<Figure size 640x480 with 2 Axes>"
            ]
          },
          "metadata": {},
          "output_type": "display_data"
        }
      ],
      "source": [
        "# plot confustion matrix\n",
        "cm = confusion_matrix(all_labels, all_predictions)\n",
        "sns.heatmap(cm, annot=True, fmt='d', cmap='Oranges', xticklabels=['negative', 'positive'], yticklabels=['negative', 'positive'])\n",
        "plt.xlabel('Predicted')\n",
        "plt.ylabel('True')\n",
        "plt.show()"
      ]
    },
    {
      "cell_type": "markdown",
      "source": [
        "Great!!\n",
        "\n",
        "The accuracy is almost **90%**"
      ],
      "metadata": {
        "id": "zXqOOhM9FHf_"
      }
    },
    {
      "cell_type": "markdown",
      "source": [
        "We want to get some outputs that BiLSTM was predicted"
      ],
      "metadata": {
        "id": "RwgiWLa_FYHp"
      }
    },
    {
      "cell_type": "code",
      "execution_count": null,
      "metadata": {
        "id": "DAHdQ2Uc1II6"
      },
      "outputs": [],
      "source": [
        "# Convert predictions back to original label format\n",
        "all_predicted_labels = le.inverse_transform(all_predictions)\n",
        "all_true_labels = all_labels  # Assign the true labels from the test data\n",
        "all_true_labels = le.inverse_transform(all_true_labels)"
      ]
    },
    {
      "cell_type": "code",
      "execution_count": null,
      "metadata": {
        "id": "I5ufSyn01LXZ"
      },
      "outputs": [],
      "source": [
        "# Create a DataFrame to view instances, true labels, and predictions\n",
        "results_df = pd.DataFrame({'Text': test_data['body'],\n",
        "                            'True Label': all_true_labels,\n",
        "                            'Predicted Label': all_predicted_labels})\n",
        "# View specific examples based on conditions (e.g., incorrect predictions)\n",
        "incorrect_predictions = results_df[results_df['True Label'] != results_df['Predicted Label']]"
      ]
    },
    {
      "cell_type": "code",
      "execution_count": null,
      "metadata": {
        "colab": {
          "base_uri": "https://localhost:8080/"
        },
        "id": "rtJW5Gen1N5Y",
        "outputId": "7d36392d-5d76-44a8-9f09-28453936dcb7"
      },
      "outputs": [
        {
          "name": "stdout",
          "output_type": "stream",
          "text": [
            "Example 1:\n",
            "Text: دوسش داشتم \n",
            "بوی خوب و خاصی داره \n",
            "True Label: positive\n",
            "Predicted Label: positive\n",
            "--------------------\n",
            "Example 2:\n",
            "Text: من تیشرت ۳ ایکس لارج سفارش دادم اسمال رسید دستم هم ضایع شدم هم دعوام کردن\n",
            "True Label: negative\n",
            "Predicted Label: negative\n",
            "--------------------\n",
            "Example 3:\n",
            "Text: به شدت باعث خشکسه پوستم شد هرچی قبلش اب رسان استفاده کردم به هدر رفت\n",
            "پیش از این مدل رزشو استفاده میکردم اون خیلی بهتر بود این یکی پوستمو داغون کرد\n",
            "True Label: negative\n",
            "Predicted Label: negative\n",
            "--------------------\n",
            "Example 4:\n",
            "Text: تا حدودی خوب بود\n",
            "True Label: negative\n",
            "Predicted Label: positive\n",
            "--------------------\n",
            "Example 5:\n",
            "Text: بنظرم خوب بود\n",
            "True Label: positive\n",
            "Predicted Label: positive\n",
            "--------------------\n"
          ]
        }
      ],
      "source": [
        "# Print 5 random examples separately\n",
        "for i in range(5):\n",
        "    example = results_df.sample(1)  # Get one random sample\n",
        "    print(f\"Example {i+1}:\")\n",
        "    print(\"Text:\", example['Text'].values[0])\n",
        "    print(\"True Label:\", example['True Label'].values[0])\n",
        "    print(\"Predicted Label:\", example['Predicted Label'].values[0])\n",
        "    print(\"-\" * 20)  # Separator between examples"
      ]
    },
    {
      "cell_type": "markdown",
      "metadata": {
        "id": "B9bJ5pp1JVMJ"
      },
      "source": [
        "# **ParsBERT**"
      ]
    },
    {
      "cell_type": "markdown",
      "source": [
        "How about **Large Language Models**?\n",
        "\n",
        "We use **ParsBERT** because It's better on **Persian** task.\n",
        "\n",
        "Let's do it:"
      ],
      "metadata": {
        "id": "SB1bWlccFpAh"
      }
    },
    {
      "cell_type": "code",
      "execution_count": null,
      "metadata": {
        "id": "jYbaVrOLQYc8"
      },
      "outputs": [],
      "source": [
        "# implement parsbert\n",
        "\n",
        "MODEL_PATH = 'HooshvareLab/bert-fa-base-uncased'\n",
        "tokenizer = BertTokenizer.from_pretrained(MODEL_PATH)\n",
        "config = BertConfig.from_pretrained(MODEL_PATH)\n",
        "model = BertModel.from_pretrained(MODEL_PATH, config=config)\n",
        "\n"
      ]
    },
    {
      "cell_type": "markdown",
      "source": [
        "> <font color='red'>**Note:**</font>\n",
        "- **We ran different max_lengths and more samples for different text lengths, but unfortunately, since we didn't have access to the GPU and running it on the CPU crashed, we had to take smaller samples 😞**"
      ],
      "metadata": {
        "id": "cqclM6vqF5iw"
      }
    },
    {
      "cell_type": "markdown",
      "source": [
        "Get text that have length smaller equal than 16"
      ],
      "metadata": {
        "id": "JzZ5MQtdGXAX"
      }
    },
    {
      "cell_type": "code",
      "source": [
        "# Filter data that x.split() is less than 16 for body\n",
        "filter_data = merge_data[merge_data['body'].apply(lambda x: len(x.split()) <= 16)]\n",
        "filter_data.head()"
      ],
      "metadata": {
        "colab": {
          "base_uri": "https://localhost:8080/",
          "height": 206
        },
        "id": "a-YRa2pXzKUS",
        "outputId": "0e4d7667-9f9c-41e4-c287-80ff912cc96b"
      },
      "execution_count": null,
      "outputs": [
        {
          "output_type": "execute_result",
          "data": {
            "text/plain": [
              "                                                      body  length     label  \\\n",
              "3180198                                          راضی بودم       2  positive   \n",
              "111100   عالیه حتما بخرید قیمت مناسب کیفیت عالی راحت و ...      10  positive   \n",
              "996814                                           کیفیت خوب       2  positive   \n",
              "4229636                     عالی برای مسلط شدن به نرمافزار       7  positive   \n",
              "2474193                       خوب بود همون رنگ که میخواستم       6  positive   \n",
              "\n",
              "                                                 tokenizer  label_encoded  \n",
              "3180198                                    [راضی, بود#است]              1  \n",
              "111100   [عالیه, حتما, خرید#خر, قیمت, کیفیت, عالی, راحت...              1  \n",
              "996814                                        [کیفیت, خوب]              1  \n",
              "4229636                             [عالی, مسلط, نرمافزار]              1  \n",
              "2474193                [خوب, بود#است, همون, رنگ, میخواستم]              1  "
            ],
            "text/html": [
              "\n",
              "  <div id=\"df-d448317b-0b6e-4134-8707-09224b8e3dec\" class=\"colab-df-container\">\n",
              "    <div>\n",
              "<style scoped>\n",
              "    .dataframe tbody tr th:only-of-type {\n",
              "        vertical-align: middle;\n",
              "    }\n",
              "\n",
              "    .dataframe tbody tr th {\n",
              "        vertical-align: top;\n",
              "    }\n",
              "\n",
              "    .dataframe thead th {\n",
              "        text-align: right;\n",
              "    }\n",
              "</style>\n",
              "<table border=\"1\" class=\"dataframe\">\n",
              "  <thead>\n",
              "    <tr style=\"text-align: right;\">\n",
              "      <th></th>\n",
              "      <th>body</th>\n",
              "      <th>length</th>\n",
              "      <th>label</th>\n",
              "      <th>tokenizer</th>\n",
              "      <th>label_encoded</th>\n",
              "    </tr>\n",
              "  </thead>\n",
              "  <tbody>\n",
              "    <tr>\n",
              "      <th>3180198</th>\n",
              "      <td>راضی بودم</td>\n",
              "      <td>2</td>\n",
              "      <td>positive</td>\n",
              "      <td>[راضی, بود#است]</td>\n",
              "      <td>1</td>\n",
              "    </tr>\n",
              "    <tr>\n",
              "      <th>111100</th>\n",
              "      <td>عالیه حتما بخرید قیمت مناسب کیفیت عالی راحت و ...</td>\n",
              "      <td>10</td>\n",
              "      <td>positive</td>\n",
              "      <td>[عالیه, حتما, خرید#خر, قیمت, کیفیت, عالی, راحت...</td>\n",
              "      <td>1</td>\n",
              "    </tr>\n",
              "    <tr>\n",
              "      <th>996814</th>\n",
              "      <td>کیفیت خوب</td>\n",
              "      <td>2</td>\n",
              "      <td>positive</td>\n",
              "      <td>[کیفیت, خوب]</td>\n",
              "      <td>1</td>\n",
              "    </tr>\n",
              "    <tr>\n",
              "      <th>4229636</th>\n",
              "      <td>عالی برای مسلط شدن به نرمافزار</td>\n",
              "      <td>7</td>\n",
              "      <td>positive</td>\n",
              "      <td>[عالی, مسلط, نرمافزار]</td>\n",
              "      <td>1</td>\n",
              "    </tr>\n",
              "    <tr>\n",
              "      <th>2474193</th>\n",
              "      <td>خوب بود همون رنگ که میخواستم</td>\n",
              "      <td>6</td>\n",
              "      <td>positive</td>\n",
              "      <td>[خوب, بود#است, همون, رنگ, میخواستم]</td>\n",
              "      <td>1</td>\n",
              "    </tr>\n",
              "  </tbody>\n",
              "</table>\n",
              "</div>\n",
              "    <div class=\"colab-df-buttons\">\n",
              "\n",
              "  <div class=\"colab-df-container\">\n",
              "    <button class=\"colab-df-convert\" onclick=\"convertToInteractive('df-d448317b-0b6e-4134-8707-09224b8e3dec')\"\n",
              "            title=\"Convert this dataframe to an interactive table.\"\n",
              "            style=\"display:none;\">\n",
              "\n",
              "  <svg xmlns=\"http://www.w3.org/2000/svg\" height=\"24px\" viewBox=\"0 -960 960 960\">\n",
              "    <path d=\"M120-120v-720h720v720H120Zm60-500h600v-160H180v160Zm220 220h160v-160H400v160Zm0 220h160v-160H400v160ZM180-400h160v-160H180v160Zm440 0h160v-160H620v160ZM180-180h160v-160H180v160Zm440 0h160v-160H620v160Z\"/>\n",
              "  </svg>\n",
              "    </button>\n",
              "\n",
              "  <style>\n",
              "    .colab-df-container {\n",
              "      display:flex;\n",
              "      gap: 12px;\n",
              "    }\n",
              "\n",
              "    .colab-df-convert {\n",
              "      background-color: #E8F0FE;\n",
              "      border: none;\n",
              "      border-radius: 50%;\n",
              "      cursor: pointer;\n",
              "      display: none;\n",
              "      fill: #1967D2;\n",
              "      height: 32px;\n",
              "      padding: 0 0 0 0;\n",
              "      width: 32px;\n",
              "    }\n",
              "\n",
              "    .colab-df-convert:hover {\n",
              "      background-color: #E2EBFA;\n",
              "      box-shadow: 0px 1px 2px rgba(60, 64, 67, 0.3), 0px 1px 3px 1px rgba(60, 64, 67, 0.15);\n",
              "      fill: #174EA6;\n",
              "    }\n",
              "\n",
              "    .colab-df-buttons div {\n",
              "      margin-bottom: 4px;\n",
              "    }\n",
              "\n",
              "    [theme=dark] .colab-df-convert {\n",
              "      background-color: #3B4455;\n",
              "      fill: #D2E3FC;\n",
              "    }\n",
              "\n",
              "    [theme=dark] .colab-df-convert:hover {\n",
              "      background-color: #434B5C;\n",
              "      box-shadow: 0px 1px 3px 1px rgba(0, 0, 0, 0.15);\n",
              "      filter: drop-shadow(0px 1px 2px rgba(0, 0, 0, 0.3));\n",
              "      fill: #FFFFFF;\n",
              "    }\n",
              "  </style>\n",
              "\n",
              "    <script>\n",
              "      const buttonEl =\n",
              "        document.querySelector('#df-d448317b-0b6e-4134-8707-09224b8e3dec button.colab-df-convert');\n",
              "      buttonEl.style.display =\n",
              "        google.colab.kernel.accessAllowed ? 'block' : 'none';\n",
              "\n",
              "      async function convertToInteractive(key) {\n",
              "        const element = document.querySelector('#df-d448317b-0b6e-4134-8707-09224b8e3dec');\n",
              "        const dataTable =\n",
              "          await google.colab.kernel.invokeFunction('convertToInteractive',\n",
              "                                                    [key], {});\n",
              "        if (!dataTable) return;\n",
              "\n",
              "        const docLinkHtml = 'Like what you see? Visit the ' +\n",
              "          '<a target=\"_blank\" href=https://colab.research.google.com/notebooks/data_table.ipynb>data table notebook</a>'\n",
              "          + ' to learn more about interactive tables.';\n",
              "        element.innerHTML = '';\n",
              "        dataTable['output_type'] = 'display_data';\n",
              "        await google.colab.output.renderOutput(dataTable, element);\n",
              "        const docLink = document.createElement('div');\n",
              "        docLink.innerHTML = docLinkHtml;\n",
              "        element.appendChild(docLink);\n",
              "      }\n",
              "    </script>\n",
              "  </div>\n",
              "\n",
              "\n",
              "<div id=\"df-c5ba5b00-cbaa-43d9-92d8-66d975e4b3c1\">\n",
              "  <button class=\"colab-df-quickchart\" onclick=\"quickchart('df-c5ba5b00-cbaa-43d9-92d8-66d975e4b3c1')\"\n",
              "            title=\"Suggest charts\"\n",
              "            style=\"display:none;\">\n",
              "\n",
              "<svg xmlns=\"http://www.w3.org/2000/svg\" height=\"24px\"viewBox=\"0 0 24 24\"\n",
              "     width=\"24px\">\n",
              "    <g>\n",
              "        <path d=\"M19 3H5c-1.1 0-2 .9-2 2v14c0 1.1.9 2 2 2h14c1.1 0 2-.9 2-2V5c0-1.1-.9-2-2-2zM9 17H7v-7h2v7zm4 0h-2V7h2v10zm4 0h-2v-4h2v4z\"/>\n",
              "    </g>\n",
              "</svg>\n",
              "  </button>\n",
              "\n",
              "<style>\n",
              "  .colab-df-quickchart {\n",
              "      --bg-color: #E8F0FE;\n",
              "      --fill-color: #1967D2;\n",
              "      --hover-bg-color: #E2EBFA;\n",
              "      --hover-fill-color: #174EA6;\n",
              "      --disabled-fill-color: #AAA;\n",
              "      --disabled-bg-color: #DDD;\n",
              "  }\n",
              "\n",
              "  [theme=dark] .colab-df-quickchart {\n",
              "      --bg-color: #3B4455;\n",
              "      --fill-color: #D2E3FC;\n",
              "      --hover-bg-color: #434B5C;\n",
              "      --hover-fill-color: #FFFFFF;\n",
              "      --disabled-bg-color: #3B4455;\n",
              "      --disabled-fill-color: #666;\n",
              "  }\n",
              "\n",
              "  .colab-df-quickchart {\n",
              "    background-color: var(--bg-color);\n",
              "    border: none;\n",
              "    border-radius: 50%;\n",
              "    cursor: pointer;\n",
              "    display: none;\n",
              "    fill: var(--fill-color);\n",
              "    height: 32px;\n",
              "    padding: 0;\n",
              "    width: 32px;\n",
              "  }\n",
              "\n",
              "  .colab-df-quickchart:hover {\n",
              "    background-color: var(--hover-bg-color);\n",
              "    box-shadow: 0 1px 2px rgba(60, 64, 67, 0.3), 0 1px 3px 1px rgba(60, 64, 67, 0.15);\n",
              "    fill: var(--button-hover-fill-color);\n",
              "  }\n",
              "\n",
              "  .colab-df-quickchart-complete:disabled,\n",
              "  .colab-df-quickchart-complete:disabled:hover {\n",
              "    background-color: var(--disabled-bg-color);\n",
              "    fill: var(--disabled-fill-color);\n",
              "    box-shadow: none;\n",
              "  }\n",
              "\n",
              "  .colab-df-spinner {\n",
              "    border: 2px solid var(--fill-color);\n",
              "    border-color: transparent;\n",
              "    border-bottom-color: var(--fill-color);\n",
              "    animation:\n",
              "      spin 1s steps(1) infinite;\n",
              "  }\n",
              "\n",
              "  @keyframes spin {\n",
              "    0% {\n",
              "      border-color: transparent;\n",
              "      border-bottom-color: var(--fill-color);\n",
              "      border-left-color: var(--fill-color);\n",
              "    }\n",
              "    20% {\n",
              "      border-color: transparent;\n",
              "      border-left-color: var(--fill-color);\n",
              "      border-top-color: var(--fill-color);\n",
              "    }\n",
              "    30% {\n",
              "      border-color: transparent;\n",
              "      border-left-color: var(--fill-color);\n",
              "      border-top-color: var(--fill-color);\n",
              "      border-right-color: var(--fill-color);\n",
              "    }\n",
              "    40% {\n",
              "      border-color: transparent;\n",
              "      border-right-color: var(--fill-color);\n",
              "      border-top-color: var(--fill-color);\n",
              "    }\n",
              "    60% {\n",
              "      border-color: transparent;\n",
              "      border-right-color: var(--fill-color);\n",
              "    }\n",
              "    80% {\n",
              "      border-color: transparent;\n",
              "      border-right-color: var(--fill-color);\n",
              "      border-bottom-color: var(--fill-color);\n",
              "    }\n",
              "    90% {\n",
              "      border-color: transparent;\n",
              "      border-bottom-color: var(--fill-color);\n",
              "    }\n",
              "  }\n",
              "</style>\n",
              "\n",
              "  <script>\n",
              "    async function quickchart(key) {\n",
              "      const quickchartButtonEl =\n",
              "        document.querySelector('#' + key + ' button');\n",
              "      quickchartButtonEl.disabled = true;  // To prevent multiple clicks.\n",
              "      quickchartButtonEl.classList.add('colab-df-spinner');\n",
              "      try {\n",
              "        const charts = await google.colab.kernel.invokeFunction(\n",
              "            'suggestCharts', [key], {});\n",
              "      } catch (error) {\n",
              "        console.error('Error during call to suggestCharts:', error);\n",
              "      }\n",
              "      quickchartButtonEl.classList.remove('colab-df-spinner');\n",
              "      quickchartButtonEl.classList.add('colab-df-quickchart-complete');\n",
              "    }\n",
              "    (() => {\n",
              "      let quickchartButtonEl =\n",
              "        document.querySelector('#df-c5ba5b00-cbaa-43d9-92d8-66d975e4b3c1 button');\n",
              "      quickchartButtonEl.style.display =\n",
              "        google.colab.kernel.accessAllowed ? 'block' : 'none';\n",
              "    })();\n",
              "  </script>\n",
              "</div>\n",
              "\n",
              "    </div>\n",
              "  </div>\n"
            ],
            "application/vnd.google.colaboratory.intrinsic+json": {
              "type": "dataframe",
              "variable_name": "filter_data",
              "summary": "{\n  \"name\": \"filter_data\",\n  \"rows\": 79019,\n  \"fields\": [\n    {\n      \"column\": \"body\",\n      \"properties\": {\n        \"dtype\": \"string\",\n        \"num_unique_values\": 62529,\n        \"samples\": [\n          \"\\u062e\\u0648\\u062f\\u0634 \\u0635\\u0648\\u0631\\u062a\\u06cc \\u06a9\\u0644\\u0647 \\u0631\\u0648\\u0634 \\u0632\\u0631\\u062f \\u0627\\u06cc\\u0646 \\u0686\\u0647 \\u0686\\u06cc\\u0632 \\u0645\\u0633\\u062e\\u0631\\u0647\\u0627\\u06cc \\u0627\\u062e\\u0647 \\u0646\\u062e\\u0631\\u06cc\\u062f\",\n          \"\\u0645\\u062a\\u0627\\u0633\\u0641\\u0627\\u0646\\u0647 \\u0628\\u0633\\u062a\\u0647 \\u0628\\u0646\\u062f\\u06cc \\u06a9\\u0627\\u0645\\u0644\\u0627 \\u0628\\u0627\\u0632 \\u0634\\u062f\\u0647 \\u0628\\u0648\\u062f\\u06a9\\u0627\\u0644\\u0627 \\u0634\\u06a9\\u0633\\u062a\\u0647 \\u0627\\u0631\\u0633\\u0627\\u0644 \\u0634\\u062f\",\n          \"\\u062e\\u0637 \\u0648\\u0633\\u0637 \\u0646\\u062f\\u0627\\u0631\\u0647\"\n        ],\n        \"semantic_type\": \"\",\n        \"description\": \"\"\n      }\n    },\n    {\n      \"column\": \"length\",\n      \"properties\": {\n        \"dtype\": \"number\",\n        \"std\": 4,\n        \"min\": 1,\n        \"max\": 21,\n        \"num_unique_values\": 21,\n        \"samples\": [\n          2,\n          18,\n          15\n        ],\n        \"semantic_type\": \"\",\n        \"description\": \"\"\n      }\n    },\n    {\n      \"column\": \"label\",\n      \"properties\": {\n        \"dtype\": \"category\",\n        \"num_unique_values\": 2,\n        \"samples\": [\n          \"negative\",\n          \"positive\"\n        ],\n        \"semantic_type\": \"\",\n        \"description\": \"\"\n      }\n    },\n    {\n      \"column\": \"tokenizer\",\n      \"properties\": {\n        \"dtype\": \"object\",\n        \"semantic_type\": \"\",\n        \"description\": \"\"\n      }\n    },\n    {\n      \"column\": \"label_encoded\",\n      \"properties\": {\n        \"dtype\": \"number\",\n        \"std\": 0,\n        \"min\": 0,\n        \"max\": 1,\n        \"num_unique_values\": 2,\n        \"samples\": [\n          0,\n          1\n        ],\n        \"semantic_type\": \"\",\n        \"description\": \"\"\n      }\n    }\n  ]\n}"
            }
          },
          "metadata": {},
          "execution_count": 46
        }
      ]
    },
    {
      "cell_type": "markdown",
      "source": [
        "First get 1000 sample for each positive and negative"
      ],
      "metadata": {
        "id": "Ecq-qFPYGf4p"
      }
    },
    {
      "cell_type": "code",
      "source": [
        "# get 5000 sample data from positive and negative label\n",
        "positive_data = filter_data[filter_data['label'] == 'positive'].sample(1000)\n",
        "negative_data = filter_data[filter_data['label'] == 'negative'].sample(1000)\n",
        "\n",
        "# merge them\n",
        "sample_data = pd.concat([positive_data, negative_data])"
      ],
      "metadata": {
        "id": "JSdd7ykLzgWM"
      },
      "execution_count": null,
      "outputs": []
    },
    {
      "cell_type": "code",
      "source": [
        "sample_data['label'].value_counts()"
      ],
      "metadata": {
        "colab": {
          "base_uri": "https://localhost:8080/",
          "height": 178
        },
        "id": "J2oXbXbZuKTR",
        "outputId": "5b45988a-24e3-47af-8d6b-aa8b43799eee"
      },
      "execution_count": null,
      "outputs": [
        {
          "output_type": "execute_result",
          "data": {
            "text/plain": [
              "label\n",
              "positive    1000\n",
              "negative    1000\n",
              "Name: count, dtype: int64"
            ],
            "text/html": [
              "<div>\n",
              "<style scoped>\n",
              "    .dataframe tbody tr th:only-of-type {\n",
              "        vertical-align: middle;\n",
              "    }\n",
              "\n",
              "    .dataframe tbody tr th {\n",
              "        vertical-align: top;\n",
              "    }\n",
              "\n",
              "    .dataframe thead th {\n",
              "        text-align: right;\n",
              "    }\n",
              "</style>\n",
              "<table border=\"1\" class=\"dataframe\">\n",
              "  <thead>\n",
              "    <tr style=\"text-align: right;\">\n",
              "      <th></th>\n",
              "      <th>count</th>\n",
              "    </tr>\n",
              "    <tr>\n",
              "      <th>label</th>\n",
              "      <th></th>\n",
              "    </tr>\n",
              "  </thead>\n",
              "  <tbody>\n",
              "    <tr>\n",
              "      <th>positive</th>\n",
              "      <td>1000</td>\n",
              "    </tr>\n",
              "    <tr>\n",
              "      <th>negative</th>\n",
              "      <td>1000</td>\n",
              "    </tr>\n",
              "  </tbody>\n",
              "</table>\n",
              "</div><br><label><b>dtype:</b> int64</label>"
            ]
          },
          "metadata": {},
          "execution_count": 112
        }
      ]
    },
    {
      "cell_type": "code",
      "source": [
        "# Drop length column\n",
        "sample_data.drop(columns=['length'], inplace=True)"
      ],
      "metadata": {
        "id": "UtzeDTsLz3B3"
      },
      "execution_count": null,
      "outputs": []
    },
    {
      "cell_type": "code",
      "source": [
        "# Get the max lentgh from sample size\n",
        "max_length = sample_data['body'].apply(lambda x: len(x.split())).max()\n",
        "print(f'Max length: {max_length}')"
      ],
      "metadata": {
        "colab": {
          "base_uri": "https://localhost:8080/"
        },
        "id": "kcQG19JVzAqM",
        "outputId": "e5e32646-f633-47e2-98dd-eb7a3fef6d05"
      },
      "execution_count": null,
      "outputs": [
        {
          "output_type": "stream",
          "name": "stdout",
          "text": [
            "Max length: 16\n"
          ]
        }
      ]
    },
    {
      "cell_type": "code",
      "execution_count": null,
      "metadata": {
        "id": "JiiVOhVBYwbV"
      },
      "outputs": [],
      "source": [
        "# Splitting the dataset into train, validation, and test sets\n",
        "train_data, temp_data = train_test_split(sample_data, test_size=0.3, random_state=42)  # 70% train, 30% temp\n",
        "val_data, test_data = train_test_split(temp_data, test_size=0.5, random_state=42)  # 15% val, 15% test"
      ]
    },
    {
      "cell_type": "markdown",
      "source": [
        "Check for one text to see the model runs well"
      ],
      "metadata": {
        "id": "80GlnOkkGogA"
      }
    },
    {
      "cell_type": "code",
      "execution_count": null,
      "metadata": {
        "colab": {
          "base_uri": "https://localhost:8080/"
        },
        "id": "LTDqO1ttKKri",
        "outputId": "b41c7e07-1202-4034-fae1-c8bbbd6efdfd"
      },
      "outputs": [
        {
          "output_type": "stream",
          "name": "stdout",
          "text": [
            "Text: بسیار نازک\n",
            "Tokens: ['بسیار', 'نازک']\n",
            "Token IDs: [3177, 10866]\n"
          ]
        }
      ],
      "source": [
        "idx = np.random.randint(0, len(train_data))\n",
        "text = train_data.iloc[idx]['body']\n",
        "tokens = tokenizer.tokenize(text)\n",
        "token_ids = tokenizer.convert_tokens_to_ids(tokens)\n",
        "\n",
        "print(f'Text: {text}')\n",
        "print(f'Tokens: {tokens}')\n",
        "print(f'Token IDs: {token_ids}')"
      ]
    },
    {
      "cell_type": "markdown",
      "source": [
        "- Encodes a given text using a tokenizer\n",
        "- Preparing it for input into a model by adding special tokens\n",
        "- Truncating or padding to a maximum length of 16\n",
        "- Generating attention and token type masks"
      ],
      "metadata": {
        "id": "Iaj_S86-GuWf"
      }
    },
    {
      "cell_type": "code",
      "execution_count": null,
      "metadata": {
        "colab": {
          "base_uri": "https://localhost:8080/"
        },
        "id": "VnXSDN2rKwcf",
        "outputId": "8e5da526-7f9e-4883-f13e-51f4dab56747"
      },
      "outputs": [
        {
          "output_type": "stream",
          "name": "stdout",
          "text": [
            "input_ids: [[2, 3177, 10866, 4, 0, 0, 0, 0, 0, 0, 0, 0, 0, 0, 0, 0]]\n",
            "token_type_ids: [[0, 0, 0, 0, 0, 0, 0, 0, 0, 0, 0, 0, 0, 0, 0, 0]]\n",
            "attention_mask: [[1, 1, 1, 1, 0, 0, 0, 0, 0, 0, 0, 0, 0, 0, 0, 0]]\n"
          ]
        }
      ],
      "source": [
        "# Encoding\n",
        "\n",
        "encoding = tokenizer.encode_plus(\n",
        "    text,\n",
        "    add_special_tokens=True,\n",
        "    max_length=16,\n",
        "    return_token_type_ids=True,\n",
        "    padding='max_length',\n",
        "    truncation=True,\n",
        "    return_attention_mask=True,\n",
        "    return_tensors='pt'\n",
        ")\n",
        "\n",
        "for key, value in encoding.items():\n",
        "    print(f'{key}: {value.numpy().tolist()}')\n"
      ]
    },
    {
      "cell_type": "markdown",
      "source": [
        "**input_ids:**\n",
        "- Contains the token IDs representing the encoded input text.\n",
        "\n",
        "**token_type_ids:**\n",
        "- Indicates segment membership of tokens, useful for distinguishing between multiple sentences (0 for the first sentence, 1 for the second).\n",
        "\n",
        "**attention_mask:**\n",
        "- Specifies which tokens should be attended to by the model (1 for real tokens, 0 for padding).\n"
      ],
      "metadata": {
        "id": "pD9Gfgw0HRW5"
      }
    },
    {
      "cell_type": "markdown",
      "source": [
        "Create **Dataset**"
      ],
      "metadata": {
        "id": "RF3mBDsnHb9e"
      }
    },
    {
      "cell_type": "code",
      "execution_count": null,
      "metadata": {
        "id": "1waiEbK4LbIz"
      },
      "outputs": [],
      "source": [
        "# Digikala comments dataset\n",
        "class SentimentDigiKala(Dataset):\n",
        "  def __init__(self, data, tokenizer, max_length=16, label_col='label_encoded', text_col='body'):\n",
        "    self.data = data\n",
        "    self.label_col = label_col\n",
        "    self.text_col = text_col\n",
        "    self.tokenizer = tokenizer\n",
        "    self.max_length = max_length\n",
        "\n",
        "  def __len__(self):\n",
        "    return len(self.data)\n",
        "\n",
        "  def __getitem__(self, idx):\n",
        "    text = self.data.iloc[idx][self.text_col]\n",
        "    label = self.data.iloc[idx][self.label_col]\n",
        "\n",
        "    encoding = self.tokenizer.encode_plus(\n",
        "        text,\n",
        "        add_special_tokens=True,\n",
        "        max_length=self.max_length,\n",
        "        return_token_type_ids=True,\n",
        "        padding='max_length',\n",
        "        truncation=True,\n",
        "        return_attention_mask=True\n",
        "    )\n",
        "\n",
        "    inputs = {\n",
        "        'comment': text,\n",
        "        'input_ids': torch.tensor(encoding['input_ids'], dtype=torch.long),\n",
        "        'attention_mask': torch.tensor(encoding['attention_mask'], dtype=torch.long),\n",
        "        'token_type_ids': torch.tensor(encoding['token_type_ids'], dtype=torch.long),\n",
        "        }\n",
        "\n",
        "    inputs['label'] = torch.tensor(label, dtype=torch.long)\n",
        "\n",
        "    return label, inputs\n"
      ]
    },
    {
      "cell_type": "code",
      "execution_count": null,
      "metadata": {
        "id": "6EaaL84lNPbR"
      },
      "outputs": [],
      "source": [
        "train_dataset = SentimentDigiKala(train_data, tokenizer, label_col='label_encoded', text_col='body')\n",
        "val_dataset = SentimentDigiKala(val_data, tokenizer, label_col='label_encoded', text_col='body')\n",
        "test_dataset = SentimentDigiKala(test_data, tokenizer, label_col='label_encoded', text_col='body')"
      ]
    },
    {
      "cell_type": "code",
      "execution_count": null,
      "metadata": {
        "id": "Gl49-QAUNvvd"
      },
      "outputs": [],
      "source": [
        "train_data_loader = DataLoader(train_dataset, batch_size=64, shuffle=True,pin_memory=True)\n",
        "val_data_loader = DataLoader(val_dataset, batch_size=64, shuffle=False,pin_memory=True)\n",
        "test_data_loader = DataLoader(test_dataset, batch_size=64, shuffle=False,pin_memory=True)"
      ]
    },
    {
      "cell_type": "code",
      "execution_count": null,
      "metadata": {
        "id": "Q_l_X1w-Ny_-"
      },
      "outputs": [],
      "source": [
        "class SentimentModel(nn.Module):\n",
        "  def __init__(self, model_name, config):\n",
        "    super(SentimentModel, self).__init__()\n",
        "    self.bert = BertModel.from_pretrained(model_name, config=config)\n",
        "    self.dropout = nn.Dropout(config.hidden_dropout_prob)\n",
        "    self.classifier = nn.Linear(config.hidden_size, config.num_labels)\n",
        "\n",
        "  def forward(self, input_ids, attention_mask, token_type_ids):\n",
        "    # Get the hidden states from the BERT model\n",
        "    # Assuming your BERT model outputs a tuple/dictionary where the first element\n",
        "    # or the key 'last_hidden_state' contains the hidden states.\n",
        "    # Adapt this based on your specific BERT model output structure\n",
        "    outputs = self.bert(\n",
        "        input_ids = input_ids,\n",
        "        attention_mask = attention_mask,\n",
        "        token_type_ids = token_type_ids\n",
        "    ).last_hidden_state  # Access the 'last_hidden_state'\n",
        "    # OR\n",
        "    # outputs = self.bert(\n",
        "    #     input_ids = input_ids,\n",
        "    #     attention_mask = attention_mask,\n",
        "    #     token_type_ids = token_type_ids\n",
        "    # )[0]  # Access the first element (if it's a tuple)\n",
        "\n",
        "\n",
        "    # Apply dropout to the pooled output (the [CLS] token representation)\n",
        "    pooled_output = outputs[:, 0]  # Extract the [CLS] token representation\n",
        "    pooled_output = self.dropout(pooled_output)\n",
        "\n",
        "    # Pass the pooled output through the classifier\n",
        "    logits = self.classifier(pooled_output)\n",
        "    return logits"
      ]
    },
    {
      "cell_type": "code",
      "execution_count": null,
      "metadata": {
        "colab": {
          "base_uri": "https://localhost:8080/"
        },
        "id": "ALuwy7SgTPDs",
        "outputId": "784d27f1-bec4-497d-f522-edc046de4984"
      },
      "outputs": [
        {
          "output_type": "stream",
          "name": "stdout",
          "text": [
            "pt_model : <class '__main__.SentimentModel'>\n"
          ]
        }
      ],
      "source": [
        "config.num_labels = 2\n",
        "\n",
        "pt_model = SentimentModel(MODEL_PATH, config)\n",
        "print(f'pt_model : {type(pt_model)}')"
      ]
    },
    {
      "cell_type": "code",
      "execution_count": null,
      "metadata": {
        "id": "O30ga_eUTd0S"
      },
      "outputs": [],
      "source": [
        "criterion = nn.CrossEntropyLoss()\n",
        "optimizer = AdamW(pt_model.parameters(), lr=2e-5)"
      ]
    },
    {
      "cell_type": "code",
      "execution_count": null,
      "metadata": {
        "colab": {
          "base_uri": "https://localhost:8080/"
        },
        "id": "8aOLOHWlU8w3",
        "outputId": "80a37ffd-ce88-44d8-89cf-1da885a26108"
      },
      "outputs": [
        {
          "output_type": "stream",
          "name": "stderr",
          "text": [
            "100%|██████████| 22/22 [05:05<00:00, 13.88s/it]\n"
          ]
        },
        {
          "output_type": "stream",
          "name": "stdout",
          "text": [
            "Epoch 1/10, Training Loss: 0.0108\n",
            "Validation Loss: 0.4139, Accuracy: 0.9133\n",
            "Validation loss improved to 0.4139, saving model.\n"
          ]
        },
        {
          "output_type": "stream",
          "name": "stderr",
          "text": [
            "100%|██████████| 22/22 [04:54<00:00, 13.37s/it]\n"
          ]
        },
        {
          "output_type": "stream",
          "name": "stdout",
          "text": [
            "Epoch 2/10, Training Loss: 0.0069\n",
            "Validation Loss: 0.3986, Accuracy: 0.9133\n",
            "Validation loss improved to 0.3986, saving model.\n"
          ]
        },
        {
          "output_type": "stream",
          "name": "stderr",
          "text": [
            "100%|██████████| 22/22 [04:51<00:00, 13.25s/it]\n"
          ]
        },
        {
          "output_type": "stream",
          "name": "stdout",
          "text": [
            "Epoch 3/10, Training Loss: 0.0064\n",
            "Validation Loss: 0.4132, Accuracy: 0.9167\n",
            "No improvement in validation loss for 1 epoch(s).\n"
          ]
        },
        {
          "output_type": "stream",
          "name": "stderr",
          "text": [
            "100%|██████████| 22/22 [04:50<00:00, 13.22s/it]\n"
          ]
        },
        {
          "output_type": "stream",
          "name": "stdout",
          "text": [
            "Epoch 4/10, Training Loss: 0.0045\n",
            "Validation Loss: 0.3908, Accuracy: 0.9233\n",
            "Validation loss improved to 0.3908, saving model.\n"
          ]
        },
        {
          "output_type": "stream",
          "name": "stderr",
          "text": [
            "100%|██████████| 22/22 [04:51<00:00, 13.23s/it]\n"
          ]
        },
        {
          "output_type": "stream",
          "name": "stdout",
          "text": [
            "Epoch 5/10, Training Loss: 0.0050\n",
            "Validation Loss: 0.4787, Accuracy: 0.9200\n",
            "No improvement in validation loss for 1 epoch(s).\n"
          ]
        },
        {
          "output_type": "stream",
          "name": "stderr",
          "text": [
            "100%|██████████| 22/22 [04:57<00:00, 13.51s/it]\n"
          ]
        },
        {
          "output_type": "stream",
          "name": "stdout",
          "text": [
            "Epoch 6/10, Training Loss: 0.0101\n",
            "Validation Loss: 0.3921, Accuracy: 0.9167\n",
            "No improvement in validation loss for 2 epoch(s).\n",
            "Early stopping triggered. Stopping training.\n"
          ]
        }
      ],
      "source": [
        "# Define early stopping parameters\n",
        "early_stop_patience = 2  # Number of epochs to wait for improvement\n",
        "best_val_loss = float('inf')  # Initialize best validation loss\n",
        "no_improvement_epochs = 0  # Count epochs without improvement\n",
        "\n",
        "num_epochs = 10\n",
        "device = torch.device(\"cuda\" if torch.cuda.is_available() else \"cpu\")\n",
        "pt_model = pt_model.to(device)\n",
        "\n",
        "for epoch in range(num_epochs):\n",
        "    pt_model.train()\n",
        "    total_loss = 0\n",
        "\n",
        "    for batch in tqdm(train_data_loader):\n",
        "        # Assuming the batch is a list containing two elements:\n",
        "        labels = batch[0].to(device)  # Labels\n",
        "        input_ids = batch[1]['input_ids'].to(device)\n",
        "        attention_mask = batch[1]['attention_mask'].to(device)\n",
        "        token_type_ids = batch[1]['token_type_ids'].to(device)\n",
        "\n",
        "        outputs = pt_model(input_ids, attention_mask, token_type_ids)\n",
        "        loss = criterion(outputs, labels)\n",
        "\n",
        "        optimizer.zero_grad()\n",
        "        loss.backward()\n",
        "        optimizer.step()\n",
        "\n",
        "        total_loss += loss.item()\n",
        "\n",
        "    avg_loss = total_loss / len(train_data_loader)\n",
        "    print(f\"Epoch {epoch + 1}/{num_epochs}, Training Loss: {avg_loss:.4f}\")\n",
        "\n",
        "    # Validate the model\n",
        "    pt_model.eval()\n",
        "    val_loss = 0\n",
        "    correct = 0\n",
        "    total = 0\n",
        "\n",
        "    with torch.no_grad():\n",
        "        for batch in val_data_loader:\n",
        "            input_ids = batch[1]['input_ids'].to(device)\n",
        "            attention_mask = batch[1]['attention_mask'].to(device)\n",
        "            token_type_ids = batch[1]['token_type_ids'].to(device)\n",
        "            labels = batch[0].to(device)\n",
        "\n",
        "            outputs = pt_model(input_ids, attention_mask, token_type_ids)\n",
        "            loss = criterion(outputs, labels)\n",
        "            val_loss += loss.item()\n",
        "\n",
        "            _, preds = torch.max(outputs, dim=1)\n",
        "            correct += (preds == labels).sum().item()\n",
        "            total += labels.size(0)\n",
        "\n",
        "    val_loss /= len(val_data_loader)\n",
        "    val_accuracy = correct / total\n",
        "    print(f\"Validation Loss: {val_loss:.4f}, Accuracy: {val_accuracy:.4f}\")\n",
        "\n",
        "    # Early Stopping Check\n",
        "    if val_loss < best_val_loss:\n",
        "        best_val_loss = val_loss\n",
        "        no_improvement_epochs = 0  # Reset counter\n",
        "        print(f\"Validation loss improved to {val_loss:.4f}, saving model.\")\n",
        "        torch.save(pt_model.state_dict(), \"best_model.pth\")  # Save the best model\n",
        "    else:\n",
        "        no_improvement_epochs += 1\n",
        "        print(f\"No improvement in validation loss for {no_improvement_epochs} epoch(s).\")\n",
        "\n",
        "        if no_improvement_epochs >= early_stop_patience:\n",
        "            print(\"Early stopping triggered. Stopping training.\")\n",
        "            break\n"
      ]
    },
    {
      "cell_type": "code",
      "execution_count": null,
      "metadata": {
        "id": "1nY3SPIrV6XB"
      },
      "outputs": [],
      "source": [
        "# Evaluate model\n",
        "pt_model.eval()\n",
        "all_predictions = []\n",
        "all_labels = []\n",
        "\n",
        "with torch.no_grad():\n",
        "    for batch in test_data_loader:\n",
        "        # Assuming batch is a list, access elements using index\n",
        "        input_ids = batch[1]['input_ids'].to(device)  # Assuming input_ids is at index 1\n",
        "        attention_mask = batch[1]['attention_mask'].to(device)  # Assuming attention_mask is at index 1\n",
        "        token_type_ids = batch[1]['token_type_ids'].to(device)  # Assuming token_type_ids is at index 1\n",
        "        labels = batch[0].to(device) # Assuming labels is at index 0\n",
        "\n",
        "        outputs = pt_model(input_ids, attention_mask, token_type_ids)\n",
        "        _, preds = torch.max(outputs, dim=1)\n",
        "\n",
        "        all_predictions.extend(preds.cpu().numpy())\n",
        "        all_labels.extend(labels.cpu().numpy())"
      ]
    },
    {
      "cell_type": "code",
      "execution_count": null,
      "metadata": {
        "id": "UHYhLykbWN0p",
        "colab": {
          "base_uri": "https://localhost:8080/"
        },
        "outputId": "cc245832-8470-456d-ef3b-f70c74206636"
      },
      "outputs": [
        {
          "output_type": "stream",
          "name": "stdout",
          "text": [
            "Test Accuracy: 0.9200\n",
            "              precision    recall  f1-score   support\n",
            "\n",
            "           0       0.89      0.95      0.92       151\n",
            "           1       0.95      0.89      0.92       149\n",
            "\n",
            "    accuracy                           0.92       300\n",
            "   macro avg       0.92      0.92      0.92       300\n",
            "weighted avg       0.92      0.92      0.92       300\n",
            "\n"
          ]
        }
      ],
      "source": [
        "# Compute test accuracy and generate a classification report\n",
        "test_accuracy = accuracy_score(all_labels, all_predictions)\n",
        "print(f\"Test Accuracy: {test_accuracy:.4f}\")\n",
        "print(classification_report(all_labels, all_predictions))"
      ]
    },
    {
      "cell_type": "code",
      "source": [
        "# Confusion matrix\n",
        "cm = confusion_matrix(all_labels, all_predictions)\n",
        "sns.heatmap(cm, annot=True, fmt='d', cmap='Reds', xticklabels=['negative', 'positive'], yticklabels=['negative', 'positive'])\n",
        "plt.xlabel('Predicted')\n",
        "plt.ylabel('True')\n",
        "plt"
      ],
      "metadata": {
        "colab": {
          "base_uri": "https://localhost:8080/",
          "height": 466
        },
        "id": "wY8HxVTYoEM5",
        "outputId": "db5360a6-67d3-462d-93f5-94d86557b4f3"
      },
      "execution_count": null,
      "outputs": [
        {
          "output_type": "execute_result",
          "data": {
            "text/plain": [
              "<module 'matplotlib.pyplot' from '/usr/local/lib/python3.10/dist-packages/matplotlib/pyplot.py'>"
            ]
          },
          "metadata": {},
          "execution_count": 127
        },
        {
          "output_type": "display_data",
          "data": {
            "text/plain": [
              "<Figure size 640x480 with 2 Axes>"
            ],
            "image/png": "[encoded data removed]"
          },
          "metadata": {}
        }
      ]
    },
    {
      "cell_type": "markdown",
      "source": [
        "The accuracy is about **92%**\n",
        "\n",
        "We also tried to avoid overfitting."
      ],
      "metadata": {
        "id": "ISA7BGZEH7Xb"
      }
    },
    {
      "cell_type": "markdown",
      "source": [
        "#### **Let's do for 5000 samples**"
      ],
      "metadata": {
        "id": "H-Avue7rXu6-"
      }
    },
    {
      "cell_type": "code",
      "source": [
        "# Do for 5000 sample data\n",
        "positive_data_1 = filter_data[filter_data['label'] == 'positive'].sample(2500)\n",
        "negative_data_1 = filter_data[filter_data['label'] == 'negative'].sample(2500)"
      ],
      "metadata": {
        "id": "2yHLUaStoJIE"
      },
      "execution_count": null,
      "outputs": []
    },
    {
      "cell_type": "code",
      "source": [
        "sample_data_1 = pd.concat([positive_data_1, negative_data_1])"
      ],
      "metadata": {
        "id": "ok3fKNjWL6Lr"
      },
      "execution_count": null,
      "outputs": []
    },
    {
      "cell_type": "code",
      "source": [
        "# Drop length column\n",
        "sample_data_1.drop(columns=['length'], inplace=True)"
      ],
      "metadata": {
        "id": "EK_7UPc7MIve"
      },
      "execution_count": null,
      "outputs": []
    },
    {
      "cell_type": "code",
      "source": [
        "# Get the max lentgh from sample size\n",
        "max_length_1 = sample_data_1['body'].apply(lambda x: len(x.split())).max()\n",
        "print(f'Max length: {max_length_1}')"
      ],
      "metadata": {
        "colab": {
          "base_uri": "https://localhost:8080/"
        },
        "outputId": "a12cc126-4c50-461b-d4ca-e692a358637e",
        "id": "MncUwJcCMIvg"
      },
      "execution_count": null,
      "outputs": [
        {
          "output_type": "stream",
          "name": "stdout",
          "text": [
            "Max length: 16\n"
          ]
        }
      ]
    },
    {
      "cell_type": "code",
      "execution_count": null,
      "metadata": {
        "id": "ubyx_e98MIvh"
      },
      "outputs": [],
      "source": [
        "from sklearn.model_selection import train_test_split\n",
        "\n",
        "# Splitting the dataset into train, validation, and test sets\n",
        "train_data, temp_data = train_test_split(sample_data_1, test_size=0.3, random_state=42)  # 70% train, 30% temp\n",
        "val_data, test_data = train_test_split(temp_data, test_size=0.5, random_state=42)  # 15% val, 15% test"
      ]
    },
    {
      "cell_type": "code",
      "execution_count": null,
      "metadata": {
        "id": "s40QTsvJMB6J"
      },
      "outputs": [],
      "source": [
        "train_dataset = SentimentDigiKala(train_data, tokenizer, label_col='label_encoded', text_col='body')\n",
        "val_dataset = SentimentDigiKala(val_data, tokenizer, label_col='label_encoded', text_col='body')\n",
        "test_dataset = SentimentDigiKala(test_data, tokenizer, label_col='label_encoded', text_col='body')"
      ]
    },
    {
      "cell_type": "code",
      "execution_count": null,
      "metadata": {
        "id": "BbUvhZwqMB6K"
      },
      "outputs": [],
      "source": [
        "train_data_loader = DataLoader(train_dataset, batch_size=64, shuffle=True,pin_memory=True)\n",
        "val_data_loader = DataLoader(val_dataset, batch_size=64, shuffle=False,pin_memory=True)\n",
        "test_data_loader = DataLoader(test_dataset, batch_size=64, shuffle=False,pin_memory=True)"
      ]
    },
    {
      "cell_type": "code",
      "source": [
        "# Define early stopping parameters\n",
        "early_stop_patience = 2  # Number of epochs to wait for improvement\n",
        "best_val_loss = float('inf')  # Initialize best validation loss\n",
        "no_improvement_epochs = 0  # Count epochs without improvement\n",
        "\n",
        "num_epochs = 10\n",
        "device = torch.device(\"cuda\" if torch.cuda.is_available() else \"cpu\")\n",
        "pt_model = pt_model.to(device)\n",
        "\n",
        "for epoch in range(num_epochs):\n",
        "    pt_model.train()\n",
        "    total_loss = 0\n",
        "\n",
        "    for batch in tqdm(train_data_loader):\n",
        "        # Assuming the batch is a list containing two elements:\n",
        "        labels = batch[0].to(device)  # Labels\n",
        "        input_ids = batch[1]['input_ids'].to(device)\n",
        "        attention_mask = batch[1]['attention_mask'].to(device)\n",
        "        token_type_ids = batch[1]['token_type_ids'].to(device)\n",
        "\n",
        "        outputs = pt_model(input_ids, attention_mask, token_type_ids)\n",
        "        loss = criterion(outputs, labels)\n",
        "\n",
        "        optimizer.zero_grad()\n",
        "        loss.backward()\n",
        "        optimizer.step()\n",
        "\n",
        "        total_loss += loss.item()\n",
        "\n",
        "    avg_loss = total_loss / len(train_data_loader)\n",
        "    print(f\"Epoch {epoch + 1}/{num_epochs}, Training Loss: {avg_loss:.4f}\")\n",
        "\n",
        "    # Validate the model\n",
        "    pt_model.eval()\n",
        "    val_loss = 0\n",
        "    correct = 0\n",
        "    total = 0\n",
        "\n",
        "    with torch.no_grad():\n",
        "        for batch in val_data_loader:\n",
        "            input_ids = batch[1]['input_ids'].to(device)\n",
        "            attention_mask = batch[1]['attention_mask'].to(device)\n",
        "            token_type_ids = batch[1]['token_type_ids'].to(device)\n",
        "            labels = batch[0].to(device)\n",
        "\n",
        "            outputs = pt_model(input_ids, attention_mask, token_type_ids)\n",
        "            loss = criterion(outputs, labels)\n",
        "            val_loss += loss.item()\n",
        "\n",
        "            _, preds = torch.max(outputs, dim=1)\n",
        "            correct += (preds == labels).sum().item()\n",
        "            total += labels.size(0)\n",
        "\n",
        "    val_loss /= len(val_data_loader)\n",
        "    val_accuracy = correct / total\n",
        "    print(f\"Validation Loss: {val_loss:.4f}, Accuracy: {val_accuracy:.4f}\")\n",
        "\n",
        "    # Early Stopping Check\n",
        "    if val_loss < best_val_loss:\n",
        "        best_val_loss = val_loss\n",
        "        no_improvement_epochs = 0  # Reset counter\n",
        "        print(f\"Validation loss improved to {val_loss:.4f}, saving model.\")\n",
        "        torch.save(pt_model.state_dict(), \"best_model.pth\")  # Save the best model\n",
        "    else:\n",
        "        no_improvement_epochs += 1\n",
        "        print(f\"No improvement in validation loss for {no_improvement_epochs} epoch(s).\")\n",
        "\n",
        "        if no_improvement_epochs >= early_stop_patience:\n",
        "            print(\"Early stopping triggered. Stopping training.\")\n",
        "            break\n"
      ],
      "metadata": {
        "colab": {
          "base_uri": "https://localhost:8080/"
        },
        "id": "iT5yxG_pMQfp",
        "outputId": "098f4483-a2f7-480d-fe80-72b73dae6d98"
      },
      "execution_count": null,
      "outputs": [
        {
          "output_type": "stream",
          "name": "stderr",
          "text": [
            "100%|██████████| 55/55 [12:34<00:00, 13.73s/it]\n"
          ]
        },
        {
          "output_type": "stream",
          "name": "stdout",
          "text": [
            "Epoch 1/10, Training Loss: 0.3062\n",
            "Validation Loss: 0.1687, Accuracy: 0.9360\n",
            "Validation loss improved to 0.1687, saving model.\n"
          ]
        },
        {
          "output_type": "stream",
          "name": "stderr",
          "text": [
            "100%|██████████| 55/55 [12:15<00:00, 13.37s/it]\n"
          ]
        },
        {
          "output_type": "stream",
          "name": "stdout",
          "text": [
            "Epoch 2/10, Training Loss: 0.1292\n",
            "Validation Loss: 0.1809, Accuracy: 0.9387\n",
            "No improvement in validation loss for 1 epoch(s).\n"
          ]
        },
        {
          "output_type": "stream",
          "name": "stderr",
          "text": [
            "100%|██████████| 55/55 [12:20<00:00, 13.46s/it]\n"
          ]
        },
        {
          "output_type": "stream",
          "name": "stdout",
          "text": [
            "Epoch 3/10, Training Loss: 0.0732\n",
            "Validation Loss: 0.1985, Accuracy: 0.9413\n",
            "No improvement in validation loss for 2 epoch(s).\n",
            "Early stopping triggered. Stopping training.\n"
          ]
        }
      ]
    },
    {
      "cell_type": "code",
      "execution_count": null,
      "metadata": {
        "id": "xHMi6GvSXqOA"
      },
      "outputs": [],
      "source": [
        "# Evaluate model\n",
        "pt_model.eval()\n",
        "all_predictions = []\n",
        "all_labels = []\n",
        "\n",
        "with torch.no_grad():\n",
        "    for batch in test_data_loader:\n",
        "        # Assuming batch is a list, access elements using index\n",
        "        input_ids = batch[1]['input_ids'].to(device)  # Assuming input_ids is at index 1\n",
        "        attention_mask = batch[1]['attention_mask'].to(device)  # Assuming attention_mask is at index 1\n",
        "        token_type_ids = batch[1]['token_type_ids'].to(device)  # Assuming token_type_ids is at index 1\n",
        "        labels = batch[0].to(device) # Assuming labels is at index 0\n",
        "\n",
        "        outputs = pt_model(input_ids, attention_mask, token_type_ids)\n",
        "        _, preds = torch.max(outputs, dim=1)\n",
        "\n",
        "        all_predictions.extend(preds.cpu().numpy())\n",
        "        all_labels.extend(labels.cpu().numpy())"
      ]
    },
    {
      "cell_type": "code",
      "execution_count": null,
      "metadata": {
        "colab": {
          "base_uri": "https://localhost:8080/"
        },
        "outputId": "347adda6-8905-4997-8fc0-c7d5b1e8bb16",
        "id": "e9bgNCZyXqOB"
      },
      "outputs": [
        {
          "output_type": "stream",
          "name": "stdout",
          "text": [
            "Test Accuracy: 0.9293\n",
            "\n",
            "              precision    recall  f1-score   support\n",
            "\n",
            "           0       0.93      0.92      0.93       360\n",
            "           1       0.92      0.94      0.93       390\n",
            "\n",
            "    accuracy                           0.93       750\n",
            "   macro avg       0.93      0.93      0.93       750\n",
            "weighted avg       0.93      0.93      0.93       750\n",
            "\n"
          ]
        }
      ],
      "source": [
        "# Compute test accuracy and generate a classification report\n",
        "test_accuracy = accuracy_score(all_labels, all_predictions)\n",
        "print(f\"Test Accuracy: {test_accuracy:.4f}\\n\")\n",
        "print(classification_report(all_labels, all_predictions))"
      ]
    },
    {
      "cell_type": "code",
      "source": [
        "# Confusion matrix\n",
        "cm = confusion_matrix(all_labels, all_predictions)\n",
        "sns.heatmap(cm, annot=True, fmt='d', cmap='YlOrBr', xticklabels=['negative', 'positive'], yticklabels=['negative', 'positive'])\n",
        "plt.xlabel('Predicted')\n",
        "plt.ylabel('True')\n",
        "plt"
      ],
      "metadata": {
        "colab": {
          "base_uri": "https://localhost:8080/",
          "height": 466
        },
        "outputId": "7c25ac08-db2d-4dea-e936-e32a556a7e4b",
        "id": "mFc_ZWeVXqOC"
      },
      "execution_count": null,
      "outputs": [
        {
          "output_type": "execute_result",
          "data": {
            "text/plain": [
              "<module 'matplotlib.pyplot' from '/usr/local/lib/python3.10/dist-packages/matplotlib/pyplot.py'>"
            ]
          },
          "metadata": {},
          "execution_count": 71
        },
        {
          "output_type": "display_data",
          "data": {
            "text/plain": [
              "<Figure size 640x480 with 2 Axes>"
            ],
            "image/png": "[encoded data removed]"
          },
          "metadata": {}
        }
      ]
    },
    {
      "cell_type": "markdown",
      "source": [
        "For larger sample size, In this case 5000, An **accuracy** of <font color='blue'>**93%**</font> was obtained, which is the best value obtained."
      ],
      "metadata": {
        "id": "vmshttMbIX4Z"
      }
    }
  ],
  "metadata": {
    "colab": {
      "collapsed_sections": [
        "36VZpgXnI73o",
        "94x-mPiGSTcM",
        "_UnJDJ-NzJvT",
        "12TK--EAEXVP",
        "cgHES5fPXVq4",
        "kjOEZkahuM1D",
        "B9bJ5pp1JVMJ"
      ],
      "provenance": []
    },
    "kernelspec": {
      "display_name": "Python 3",
      "name": "python3"
    },
    "language_info": {
      "name": "python"
    },
    "widgets": {
      "application/vnd.jupyter.widget-state+json": {
        "1854587decf1416294acd87fef627ff8": {
          "model_module": "@jupyter-widgets/base",
          "model_module_version": "1.2.0",
          "model_name": "LayoutModel",
          "state": {
            "_model_module": "@jupyter-widgets/base",
            "_model_module_version": "1.2.0",
            "_model_name": "LayoutModel",
            "_view_count": null,
            "_view_module": "@jupyter-widgets/base",
            "_view_module_version": "1.2.0",
            "_view_name": "LayoutView",
            "align_content": null,
            "align_items": null,
            "align_self": null,
            "border": null,
            "bottom": null,
            "display": null,
            "flex": null,
            "flex_flow": null,
            "grid_area": null,
            "grid_auto_columns": null,
            "grid_auto_flow": null,
            "grid_auto_rows": null,
            "grid_column": null,
            "grid_gap": null,
            "grid_row": null,
            "grid_template_areas": null,
            "grid_template_columns": null,
            "grid_template_rows": null,
            "height": null,
            "justify_content": null,
            "justify_items": null,
            "left": null,
            "margin": null,
            "max_height": null,
            "max_width": null,
            "min_height": null,
            "min_width": null,
            "object_fit": null,
            "object_position": null,
            "order": null,
            "overflow": null,
            "overflow_x": null,
            "overflow_y": null,
            "padding": null,
            "right": null,
            "top": null,
            "visibility": null,
            "width": null
          }
        },
        "18fcb9339b3a4173bd46b8d64c8aaf50": {
          "model_module": "@jupyter-widgets/base",
          "model_module_version": "1.2.0",
          "model_name": "LayoutModel",
          "state": {
            "_model_module": "@jupyter-widgets/base",
            "_model_module_version": "1.2.0",
            "_model_name": "LayoutModel",
            "_view_count": null,
            "_view_module": "@jupyter-widgets/base",
            "_view_module_version": "1.2.0",
            "_view_name": "LayoutView",
            "align_content": null,
            "align_items": null,
            "align_self": null,
            "border": null,
            "bottom": null,
            "display": null,
            "flex": null,
            "flex_flow": null,
            "grid_area": null,
            "grid_auto_columns": null,
            "grid_auto_flow": null,
            "grid_auto_rows": null,
            "grid_column": null,
            "grid_gap": null,
            "grid_row": null,
            "grid_template_areas": null,
            "grid_template_columns": null,
            "grid_template_rows": null,
            "height": null,
            "justify_content": null,
            "justify_items": null,
            "left": null,
            "margin": null,
            "max_height": null,
            "max_width": null,
            "min_height": null,
            "min_width": null,
            "object_fit": null,
            "object_position": null,
            "order": null,
            "overflow": null,
            "overflow_x": null,
            "overflow_y": null,
            "padding": null,
            "right": null,
            "top": null,
            "visibility": null,
            "width": null
          }
        },
        "364638c10d7444dc99ca4e1ab817d353": {
          "model_module": "@jupyter-widgets/controls",
          "model_module_version": "1.5.0",
          "model_name": "HBoxModel",
          "state": {
            "_dom_classes": [],
            "_model_module": "@jupyter-widgets/controls",
            "_model_module_version": "1.5.0",
            "_model_name": "HBoxModel",
            "_view_count": null,
            "_view_module": "@jupyter-widgets/controls",
            "_view_module_version": "1.5.0",
            "_view_name": "HBoxView",
            "box_style": "",
            "children": [
              "IPY_MODEL_e84097b7c19248989a47c84ae0f789be",
              "IPY_MODEL_8acf5c9e77c845599c6a1623a1c386e8",
              "IPY_MODEL_f905ca7794f24673a0e1708066ecd721"
            ],
            "layout": "IPY_MODEL_71ebae6895bf4961a77ff45dba062e5d"
          }
        },
        "4a0df10abd8949b7964f8ff54b709d5d": {
          "model_module": "@jupyter-widgets/controls",
          "model_module_version": "1.5.0",
          "model_name": "DescriptionStyleModel",
          "state": {
            "_model_module": "@jupyter-widgets/controls",
            "_model_module_version": "1.5.0",
            "_model_name": "DescriptionStyleModel",
            "_view_count": null,
            "_view_module": "@jupyter-widgets/base",
            "_view_module_version": "1.2.0",
            "_view_name": "StyleView",
            "description_width": ""
          }
        },
        "71ebae6895bf4961a77ff45dba062e5d": {
          "model_module": "@jupyter-widgets/base",
          "model_module_version": "1.2.0",
          "model_name": "LayoutModel",
          "state": {
            "_model_module": "@jupyter-widgets/base",
            "_model_module_version": "1.2.0",
            "_model_name": "LayoutModel",
            "_view_count": null,
            "_view_module": "@jupyter-widgets/base",
            "_view_module_version": "1.2.0",
            "_view_name": "LayoutView",
            "align_content": null,
            "align_items": null,
            "align_self": null,
            "border": null,
            "bottom": null,
            "display": null,
            "flex": null,
            "flex_flow": null,
            "grid_area": null,
            "grid_auto_columns": null,
            "grid_auto_flow": null,
            "grid_auto_rows": null,
            "grid_column": null,
            "grid_gap": null,
            "grid_row": null,
            "grid_template_areas": null,
            "grid_template_columns": null,
            "grid_template_rows": null,
            "height": null,
            "justify_content": null,
            "justify_items": null,
            "left": null,
            "margin": null,
            "max_height": null,
            "max_width": null,
            "min_height": null,
            "min_width": null,
            "object_fit": null,
            "object_position": null,
            "order": null,
            "overflow": null,
            "overflow_x": null,
            "overflow_y": null,
            "padding": null,
            "right": null,
            "top": null,
            "visibility": null,
            "width": null
          }
        },
        "8acf5c9e77c845599c6a1623a1c386e8": {
          "model_module": "@jupyter-widgets/controls",
          "model_module_version": "1.5.0",
          "model_name": "FloatProgressModel",
          "state": {
            "_dom_classes": [],
            "_model_module": "@jupyter-widgets/controls",
            "_model_module_version": "1.5.0",
            "_model_name": "FloatProgressModel",
            "_view_count": null,
            "_view_module": "@jupyter-widgets/controls",
            "_view_module_version": "1.5.0",
            "_view_name": "ProgressView",
            "bar_style": "success",
            "description": "",
            "description_tooltip": null,
            "layout": "IPY_MODEL_18fcb9339b3a4173bd46b8d64c8aaf50",
            "max": 7247404229,
            "min": 0,
            "orientation": "horizontal",
            "style": "IPY_MODEL_c6f1cefd9fc54b6bbc9e227e4a9fb207",
            "value": 7247404229
          }
        },
        "bab8f411d06e443eb77ba272086c08ce": {
          "model_module": "@jupyter-widgets/base",
          "model_module_version": "1.2.0",
          "model_name": "LayoutModel",
          "state": {
            "_model_module": "@jupyter-widgets/base",
            "_model_module_version": "1.2.0",
            "_model_name": "LayoutModel",
            "_view_count": null,
            "_view_module": "@jupyter-widgets/base",
            "_view_module_version": "1.2.0",
            "_view_name": "LayoutView",
            "align_content": null,
            "align_items": null,
            "align_self": null,
            "border": null,
            "bottom": null,
            "display": null,
            "flex": null,
            "flex_flow": null,
            "grid_area": null,
            "grid_auto_columns": null,
            "grid_auto_flow": null,
            "grid_auto_rows": null,
            "grid_column": null,
            "grid_gap": null,
            "grid_row": null,
            "grid_template_areas": null,
            "grid_template_columns": null,
            "grid_template_rows": null,
            "height": null,
            "justify_content": null,
            "justify_items": null,
            "left": null,
            "margin": null,
            "max_height": null,
            "max_width": null,
            "min_height": null,
            "min_width": null,
            "object_fit": null,
            "object_position": null,
            "order": null,
            "overflow": null,
            "overflow_x": null,
            "overflow_y": null,
            "padding": null,
            "right": null,
            "top": null,
            "visibility": null,
            "width": null
          }
        },
        "c6f1cefd9fc54b6bbc9e227e4a9fb207": {
          "model_module": "@jupyter-widgets/controls",
          "model_module_version": "1.5.0",
          "model_name": "ProgressStyleModel",
          "state": {
            "_model_module": "@jupyter-widgets/controls",
            "_model_module_version": "1.5.0",
            "_model_name": "ProgressStyleModel",
            "_view_count": null,
            "_view_module": "@jupyter-widgets/base",
            "_view_module_version": "1.2.0",
            "_view_name": "StyleView",
            "bar_color": null,
            "description_width": ""
          }
        },
        "e84097b7c19248989a47c84ae0f789be": {
          "model_module": "@jupyter-widgets/controls",
          "model_module_version": "1.5.0",
          "model_name": "HTMLModel",
          "state": {
            "_dom_classes": [],
            "_model_module": "@jupyter-widgets/controls",
            "_model_module_version": "1.5.0",
            "_model_name": "HTMLModel",
            "_view_count": null,
            "_view_module": "@jupyter-widgets/controls",
            "_view_module_version": "1.5.0",
            "_view_name": "HTMLView",
            "description": "",
            "description_tooltip": null,
            "layout": "IPY_MODEL_1854587decf1416294acd87fef627ff8",
            "placeholder": "​",
            "style": "IPY_MODEL_eb8104a46de14dbfac5a3b272f00c8cd",
            "value": "model.bin: 100%"
          }
        },
        "eb8104a46de14dbfac5a3b272f00c8cd": {
          "model_module": "@jupyter-widgets/controls",
          "model_module_version": "1.5.0",
          "model_name": "DescriptionStyleModel",
          "state": {
            "_model_module": "@jupyter-widgets/controls",
            "_model_module_version": "1.5.0",
            "_model_name": "DescriptionStyleModel",
            "_view_count": null,
            "_view_module": "@jupyter-widgets/base",
            "_view_module_version": "1.2.0",
            "_view_name": "StyleView",
            "description_width": ""
          }
        },
        "f905ca7794f24673a0e1708066ecd721": {
          "model_module": "@jupyter-widgets/controls",
          "model_module_version": "1.5.0",
          "model_name": "HTMLModel",
          "state": {
            "_dom_classes": [],
            "_model_module": "@jupyter-widgets/controls",
            "_model_module_version": "1.5.0",
            "_model_name": "HTMLModel",
            "_view_count": null,
            "_view_module": "@jupyter-widgets/controls",
            "_view_module_version": "1.5.0",
            "_view_name": "HTMLView",
            "description": "",
            "description_tooltip": null,
            "layout": "IPY_MODEL_bab8f411d06e443eb77ba272086c08ce",
            "placeholder": "​",
            "style": "IPY_MODEL_4a0df10abd8949b7964f8ff54b709d5d",
            "value": " 7.25G/7.25G [02:50&lt;00:00, 48.9MB/s]"
          }
        }
      }
    }
  },
  "nbformat": 4,
  "nbformat_minor": 0
}